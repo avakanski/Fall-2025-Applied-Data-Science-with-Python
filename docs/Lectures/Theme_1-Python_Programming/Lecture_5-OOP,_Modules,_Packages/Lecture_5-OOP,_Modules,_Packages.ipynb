{
 "cells": [
  {
   "cell_type": "markdown",
   "metadata": {},
   "source": [
    "# Lecture 5 - Object-Oriented Programming, Modules, Packages"
   ]
  },
  {
   "cell_type": "markdown",
   "metadata": {},
   "source": [
    "[![View notebook on Github](https://img.shields.io/static/v1.svg?logo=github&label=Repo&message=View%20On%20Github&color=lightgrey)](https://github.com/avakanski/Fall-2024-Applied-Data-Science-with-Python/blob/main/docs/Lectures/Theme_1-Python_Programming/Lecture_5-OOP,_Modules,_Packages/Lecture_5-OOP,_Modules,_Packages.ipynb)\n",
    "[![Open In Collab](https://colab.research.google.com/assets/colab-badge.svg)](https://colab.research.google.com/github/avakanski/Fall-2024-Applied-Data-Science-with-Python/blob/main/docs/Lectures/Theme_1-Python_Programming/Lecture_5-OOP,_Modules,_Packages/Lecture_5-OOP,_Modules,_Packages.ipynb) "
   ]
  },
  {
   "cell_type": "markdown",
   "metadata": {},
   "source": [
    "<a id='top'></a>"
   ]
  },
  {
   "cell_type": "markdown",
   "metadata": {},
   "source": [
    "- [5.1 Object-Oriented Programming](#5.1-object-oriented-programming)\n",
    "    - [5.1.1 Defining a Class](#5.1.1-defining-a-class)\n",
    "    - [5.1.2 Attributes](#5.1.2-attributes)\n",
    "    - [5.1.3 Methods](#5.1.3-methods)\n",
    "    - [5.1.4 Inheritance](#5.1.4-inheritance)\n",
    "    - [5.1.5 Special Methods](#5.1.5-special-methods)\n",
    "    - [5.1.5 When to Use Classes](#5.1.6-when-to-use-classes)\n",
    "- [5.2 Modules Coding Basics](#5.2-modules-coding-basics)\n",
    "    - [5.2.1 The import Statement](#5.2.1-the-import-statement)\n",
    "    - [5.2.2 The from Statement](#5.2.2-the-from-statement)\n",
    "- [5.3 Packages Coding Basics](#5.3-packages-coding-basics)\n",
    "    - [5.3.1 Difference Between from and import with Packages](#5.3.1-difference-between-from-and-import-with-packages)\n",
    "- [Appendix 1: Additional OOP Info](#appendix-1:-additional-oop-info)\n",
    "- [Appendix 2: Modules and Packages Extras](#appendix-2:-modules-and-packages-extras)\n",
    "- [References](#references)"
   ]
  },
  {
   "cell_type": "markdown",
   "metadata": {},
   "source": [
    "## 5.1 Object-Oriented Programming<a id=\"5.1-object-oriented-programming\"/>"
   ]
  },
  {
   "cell_type": "markdown",
   "metadata": {},
   "source": [
    "**Object-oriented programming** (OOP) is a programming approach to structuring programs based on the concept of **objects**, which can contain *data* and *behaviors* in the form of *attributes* and *methods*, respectively. For instance, an object can represent a person with attributes like name, age, and address, and methods such as walking, talking, and running. Or, an object can represent an email message with attributes like a recipient list, subject, and body, and methods like adding attachments and sending.\n",
    "\n",
    "In OOP, computer programs are designed by defining objects that interact with one another. In Python, the main tool for OOP is Python **classes**. Classes are created using the `class` statement. Then, from classes we can construct object **instances**, which are specific objects created from a particular class. \n",
    "\n",
    "Besides OOP, other programming paradigms on which other languages are based include procedural, functional, and logic programming paradigms."
   ]
  },
  {
   "cell_type": "markdown",
   "metadata": {},
   "source": [
    "### 5.1.1 Defining a Class <a id=\"5.1.1-defining-a-class\"/>"
   ]
  },
  {
   "cell_type": "markdown",
   "metadata": {},
   "source": [
    "#### The `class` Statement\n",
    "\n",
    "Let's define a class `Dog` by using the `class` statement and the name of the class. It is a convention in Python to begin class names with an uppercase letter, and module and function names with a lowercase letter. This is not a requirement, but if you follow this naming convention it will be appreciated by others who are to use your codes."
   ]
  },
  {
   "cell_type": "code",
   "execution_count": 1,
   "metadata": {},
   "outputs": [],
   "source": [
    "# Create a new class called Dog\n",
    "class Dog:\n",
    "    \"\"\"Class object for a dog.\"\"\"\n",
    "    pass"
   ]
  },
  {
   "cell_type": "code",
   "execution_count": 2,
   "metadata": {},
   "outputs": [],
   "source": [
    "# Create an instance object of the class Dog named 'sam'\n",
    "sam = Dog()"
   ]
  },
  {
   "cell_type": "code",
   "execution_count": 3,
   "metadata": {},
   "outputs": [
    {
     "name": "stdout",
     "output_type": "stream",
     "text": [
      "<class '__main__.Dog'>\n"
     ]
    }
   ],
   "source": [
    "print(type(sam))"
   ]
  },
  {
   "cell_type": "markdown",
   "metadata": {},
   "source": [
    "In the above code, inside the class definition we currently have just the `pass` command, which is only a placeholder for the code that we intend to write afterwards and means \"do nothing for now\".\n",
    "\n",
    "Classes can be thought of as blueprints for creating objects. When we defined the class `Dog` using the line `class Dog:`, we didn't actually create an object. \n",
    "\n",
    "To create an object of the class `Dog`, we called the class by its name and a pair of parentheses (and optionally we can pass arguments in the parentheses as we did with functions in Python). That is, we **instantiated** the Dog class, and `sam` is now the reference to our new instance of the Dog class. Or, the action of creating instances (objects) from an existing class is known as **instantiation**.\n",
    "\n",
    "The name `sam` is referred to as a **class instance**, or **instance object**, or **class object**, or just an **instance**. We will use these terms interchangeably. \n",
    "\n",
    "We can create many instances of the same class by calling the class `Dog()`. For example, below we created two Dog instances `sam` and `frank`. Note that although they are both instances of the class Dog, they represent two distinct objects, since the equality code results in `False`."
   ]
  },
  {
   "cell_type": "code",
   "execution_count": 4,
   "metadata": {},
   "outputs": [
    {
     "data": {
      "text/plain": [
       "False"
      ]
     },
     "execution_count": 4,
     "metadata": {},
     "output_type": "execute_result"
    }
   ],
   "source": [
    "sam = Dog()\n",
    "frank = Dog()\n",
    "\n",
    "sam == frank"
   ]
  },
  {
   "cell_type": "markdown",
   "metadata": {},
   "source": [
    "Also note below that the two instances `sam` and `frank` have different memory addresses, shown after `at` in the cell outputs. The addresses for these two instances in your computer's memory will be different than those shown here."
   ]
  },
  {
   "cell_type": "code",
   "execution_count": 5,
   "metadata": {},
   "outputs": [
    {
     "data": {
      "text/plain": [
       "<__main__.Dog at 0x166d9602d10>"
      ]
     },
     "execution_count": 5,
     "metadata": {},
     "output_type": "execute_result"
    }
   ],
   "source": [
    "sam"
   ]
  },
  {
   "cell_type": "code",
   "execution_count": 6,
   "metadata": {},
   "outputs": [
    {
     "data": {
      "text/plain": [
       "<__main__.Dog at 0x166d966f450>"
      ]
     },
     "execution_count": 6,
     "metadata": {},
     "output_type": "execute_result"
    }
   ],
   "source": [
    "frank"
   ]
  },
  {
   "cell_type": "markdown",
   "metadata": {},
   "source": [
    "In summary:\n",
    "\n",
    "> **Classes** serve as instance factories. They provide attributes and methods that are inherited by all the instances created from them.\n",
    "\n",
    "> **Instances** represent the concrete objects of a class. Their attributes consist of information that varies for specific objects. Their methods describe behavior that is different for specific objects."
   ]
  },
  {
   "cell_type": "markdown",
   "metadata": {},
   "source": [
    "Class objects can have *attributes* and *methods*.\n",
    "\n",
    "> An **attribute** is an individual characteristic of an instance of the class. Or, attributes are variables that hold class data.\n",
    "\n",
    "> A **method** is an operation that is performed with the instances of the class. Or, methods are functions that provide behavior to class objects.\n"
   ]
  },
  {
   "cell_type": "markdown",
   "metadata": {},
   "source": [
    "### 5.1.2 Attributes <a id=\"5.1.2-attributes\"/>"
   ]
  },
  {
   "cell_type": "markdown",
   "metadata": {},
   "source": [
    "As we explained, attributes allow us to attach data to class objects. Python classes can have two types of attributes: instance attributes and class attributes."
   ]
  },
  {
   "cell_type": "markdown",
   "metadata": {},
   "source": [
    "#### Instance Attributes\n",
    "\n",
    "In Python, **instance attributes** are defined by using the `__init__()` constructor method. The term *init* is abbreviated from *initialize*, since it is used to initialize the attributes of class instances. \n",
    "\n",
    "In the parentheses of the `__init__()` method first `self` is listed, and afterwards the attributes are listed.\n",
    "\n",
    "The syntax for creating attributes is:\n",
    "    \n",
    "    def __init__(self, attribute1, attribute2, ...):\n",
    "         self.attribute1 = attribute1\n",
    "         self.attribute2 = attribute2\n",
    "\n",
    "For example:"
   ]
  },
  {
   "cell_type": "code",
   "execution_count": 7,
   "metadata": {},
   "outputs": [],
   "source": [
    "class Dog:\n",
    "    def __init__(self, breed, name):\n",
    "        self.breed = breed\n",
    "        self.name = name"
   ]
  },
  {
   "cell_type": "code",
   "execution_count": 8,
   "metadata": {},
   "outputs": [],
   "source": [
    "# Create an instance from the 'Dog' class by passing breed and name, assign it to the name 'sam'\n",
    "sam = Dog(breed='Labrador', name='Sam')\n",
    "# Create another instance from the 'Dog' class by passing breed and name, assign it to the name 'frank'\n",
    "frank = Dog(breed='Huskie', name='Frank')\n",
    "# Create another instance from the 'Dog' class by passing breed and name, assign it to the name 'my_dog'\n",
    "my_dog = Dog(breed='Terrier', name='Scooby')"
   ]
  },
  {
   "cell_type": "markdown",
   "metadata": {},
   "source": [
    "The `__init__()` method is present in almost every class, and it is used to initialize newly created class instances by passing attributes. In the above example, the attributes *breed* and *name* are the arguments to the special method `__init__()`. Each attribute in a class definition begins with a reference to the class instance, which by convention is named `self`, such as in `self.breed = breed`.\n",
    "\n",
    "When we created the instances of the class Dog, `__init__()` initialized these objects by passing the assigned values for *breed* and *name* to the instances *sam*, *frank*, and *my_dog*. In the `__init__()` method, the word `self` is the newly created instance. Therefore, for the instance *sam*, the line `self.breed = breed` is equivalent to stating `sam.breed = 'Labrador'`. Similarly, `self.name = name` is equivalent to stating `sam.name = 'Sam'`. Similarly, for the instance *frank*, `self.breed = breed` is equivalent to stating `frank.breed = 'Huskie'` and `self` refers to the instance *frank*. \n",
    "\n",
    "Notice again that `sam`, `frank`, and `my_dog` are three separate instances of the `Dog` class, and they have their own attributes, i.e., different breed and name."
   ]
  },
  {
   "cell_type": "markdown",
   "metadata": {},
   "source": [
    "##### Accessing Instance Attributes\n",
    "\n",
    "The syntax for accessing an attribute of a class instance uses the **dot operator**.\n",
    "\n",
    "         instance.attribute\n",
    "         \n",
    "We can therefore access the attributes `breed` and `name` as in the next examples."
   ]
  },
  {
   "cell_type": "code",
   "execution_count": 9,
   "metadata": {},
   "outputs": [
    {
     "data": {
      "text/plain": [
       "'Labrador'"
      ]
     },
     "execution_count": 9,
     "metadata": {},
     "output_type": "execute_result"
    }
   ],
   "source": [
    "# Access the 'breed' attribute of the class instance 'sam'\n",
    "sam.breed"
   ]
  },
  {
   "cell_type": "code",
   "execution_count": 10,
   "metadata": {},
   "outputs": [
    {
     "data": {
      "text/plain": [
       "'Huskie'"
      ]
     },
     "execution_count": 10,
     "metadata": {},
     "output_type": "execute_result"
    }
   ],
   "source": [
    "# Access the 'breed' attribute of the class instance 'frank'\n",
    "frank.breed"
   ]
  },
  {
   "cell_type": "code",
   "execution_count": 11,
   "metadata": {},
   "outputs": [
    {
     "data": {
      "text/plain": [
       "'Scooby'"
      ]
     },
     "execution_count": 11,
     "metadata": {},
     "output_type": "execute_result"
    }
   ],
   "source": [
    "# Access the 'name' attribute of the class instance 'my_dog'\n",
    "my_dog.name"
   ]
  },
  {
   "cell_type": "markdown",
   "metadata": {},
   "source": [
    "Note that we cannot access the instance attributes through the class, as in `class.attribute`, since they are specific to concrete instances of the class. If we try to do that, we will get an Attribute Error."
   ]
  },
  {
   "cell_type": "code",
   "execution_count": 12,
   "metadata": {},
   "outputs": [
    {
     "ename": "AttributeError",
     "evalue": "type object 'Dog' has no attribute 'name'",
     "output_type": "error",
     "traceback": [
      "\u001b[1;31m---------------------------------------------------------------------------\u001b[0m",
      "\u001b[1;31mAttributeError\u001b[0m                            Traceback (most recent call last)",
      "Cell \u001b[1;32mIn[12], line 1\u001b[0m\n\u001b[1;32m----> 1\u001b[0m Dog\u001b[38;5;241m.\u001b[39mname\n",
      "\u001b[1;31mAttributeError\u001b[0m: type object 'Dog' has no attribute 'name'"
     ]
    }
   ],
   "source": [
    "Dog.name"
   ]
  },
  {
   "cell_type": "markdown",
   "metadata": {},
   "source": [
    "In general, it is possible to create new classes without the `__init__()` construction method. This is shown below, where we used a `def` statement to introduce a method called `enterinfo` to the class `Dog`."
   ]
  },
  {
   "cell_type": "code",
   "execution_count": 13,
   "metadata": {},
   "outputs": [],
   "source": [
    "class Dog:\n",
    "    def enterinfo(self, breed): \n",
    "        self.breed = breed"
   ]
  },
  {
   "cell_type": "code",
   "execution_count": 14,
   "metadata": {},
   "outputs": [],
   "source": [
    "sam = Dog()\n",
    "sam.enterinfo(breed='Labrador')"
   ]
  },
  {
   "cell_type": "code",
   "execution_count": 15,
   "metadata": {},
   "outputs": [
    {
     "data": {
      "text/plain": [
       "'Labrador'"
      ]
     },
     "execution_count": 15,
     "metadata": {},
     "output_type": "execute_result"
    }
   ],
   "source": [
    "sam.breed"
   ]
  },
  {
   "cell_type": "markdown",
   "metadata": {},
   "source": [
    "However, in this case, we need to first create a new class instance `sam` as shown above, and afterward assign the `breed` attribute using the `enterinfo()` method. \n",
    "\n",
    "On the other hand, by using the `__init__()` method, we can initialize the instance attributes at the same time when the new instance is created. Therefore, using `__init__()` is preferred and always recommended. Without `__init__()`, an empty instance is created, and we need to initialize it afterwards."
   ]
  },
  {
   "cell_type": "markdown",
   "metadata": {},
   "source": [
    "In addition, we can dynamically attach new instance attributes to existing class objects that we have already created. In the next cell, the new attribute `age` is attached to the instance `sam`. However, it is preferred to define instance attributes inside the class definition, since it makes the code more organized and makes it easier for others to understand or debug our code."
   ]
  },
  {
   "cell_type": "code",
   "execution_count": 16,
   "metadata": {},
   "outputs": [
    {
     "name": "stdout",
     "output_type": "stream",
     "text": [
      "3\n"
     ]
    }
   ],
   "source": [
    "sam.age = 3\n",
    "print(sam.age)"
   ]
  },
  {
   "cell_type": "markdown",
   "metadata": {},
   "source": [
    "##### Modifying Instance Attributes"
   ]
  },
  {
   "cell_type": "markdown",
   "metadata": {},
   "source": [
    "We can modify the attributes of an instance by using the dot `.` notation and an assignment statement, as in:\n",
    "\n",
    "    instance.attribute = new_value"
   ]
  },
  {
   "cell_type": "code",
   "execution_count": 17,
   "metadata": {},
   "outputs": [
    {
     "data": {
      "text/plain": [
       "'Frank'"
      ]
     },
     "execution_count": 17,
     "metadata": {},
     "output_type": "execute_result"
    }
   ],
   "source": [
    "frank.name"
   ]
  },
  {
   "cell_type": "code",
   "execution_count": 18,
   "metadata": {},
   "outputs": [
    {
     "data": {
      "text/plain": [
       "'Franki'"
      ]
     },
     "execution_count": 18,
     "metadata": {},
     "output_type": "execute_result"
    }
   ],
   "source": [
    "# Modify attribute\n",
    "frank.name = 'Franki'\n",
    "frank.name"
   ]
  },
  {
   "cell_type": "markdown",
   "metadata": {},
   "source": [
    "To delete any instance attribute, use the `del` keyword. If we try to access a deleted attribute, we will get an error message."
   ]
  },
  {
   "cell_type": "code",
   "execution_count": 19,
   "metadata": {},
   "outputs": [],
   "source": [
    "del frank.name"
   ]
  },
  {
   "cell_type": "code",
   "execution_count": 20,
   "metadata": {},
   "outputs": [
    {
     "ename": "AttributeError",
     "evalue": "'Dog' object has no attribute 'name'",
     "output_type": "error",
     "traceback": [
      "\u001b[1;31m---------------------------------------------------------------------------\u001b[0m",
      "\u001b[1;31mAttributeError\u001b[0m                            Traceback (most recent call last)",
      "Cell \u001b[1;32mIn[20], line 2\u001b[0m\n\u001b[0;32m      1\u001b[0m \u001b[38;5;66;03m# Error, the name attribute does not exist for 'frank'\u001b[39;00m\n\u001b[1;32m----> 2\u001b[0m \u001b[38;5;28mprint\u001b[39m(frank\u001b[38;5;241m.\u001b[39mname, frank\u001b[38;5;241m.\u001b[39mbreed)\n",
      "\u001b[1;31mAttributeError\u001b[0m: 'Dog' object has no attribute 'name'"
     ]
    }
   ],
   "source": [
    "# Error, the name attribute does not exist for 'frank'\n",
    "print(frank.name, frank.breed)"
   ]
  },
  {
   "cell_type": "markdown",
   "metadata": {},
   "source": [
    "Note also that the above code does not delete the attribute `name` for the other class instances."
   ]
  },
  {
   "cell_type": "code",
   "execution_count": 21,
   "metadata": {},
   "outputs": [
    {
     "data": {
      "text/plain": [
       "'Scooby'"
      ]
     },
     "execution_count": 21,
     "metadata": {},
     "output_type": "execute_result"
    }
   ],
   "source": [
    "# The name attribute still exists for 'my_dog'\n",
    "my_dog.name"
   ]
  },
  {
   "cell_type": "markdown",
   "metadata": {},
   "source": [
    "#### Class Attributes\n",
    "\n",
    "**Class attributes** in Python are also referred to as *class object attributes*. The class attributes are the same for all instances of the class. \n",
    "\n",
    "For example, we could create the attribute *species* for the Dog class, as shown in the next cell. Regardless of their breed, name, or other attributes, all dog instances will have the same attribute `species = 'mammal'`. The instances of the class Dog in the next cell also have the *instance attributes* `breed` and `name` which can be unique for each class instance. \n",
    "\n",
    "We apply this logic in the following manner."
   ]
  },
  {
   "cell_type": "code",
   "execution_count": 22,
   "metadata": {},
   "outputs": [],
   "source": [
    "class Dog:\n",
    "    \n",
    "    # Class attribute\n",
    "    species = 'mammal'\n",
    "    \n",
    "    # Instance attributes\n",
    "    def __init__(self, breed, name):\n",
    "        self.breed = breed\n",
    "        self.name = name"
   ]
  },
  {
   "cell_type": "code",
   "execution_count": 23,
   "metadata": {},
   "outputs": [],
   "source": [
    "# Create an instance from the 'Dog' class by passing breed and name\n",
    "sam = Dog('Labrador','Sam')"
   ]
  },
  {
   "cell_type": "markdown",
   "metadata": {},
   "source": [
    "Accessing class attributes is the same as accessing instance attributes. "
   ]
  },
  {
   "cell_type": "code",
   "execution_count": 24,
   "metadata": {},
   "outputs": [
    {
     "data": {
      "text/plain": [
       "'mammal'"
      ]
     },
     "execution_count": 24,
     "metadata": {},
     "output_type": "execute_result"
    }
   ],
   "source": [
    "# Access class attributes\n",
    "sam.species"
   ]
  },
  {
   "cell_type": "code",
   "execution_count": 25,
   "metadata": {},
   "outputs": [
    {
     "data": {
      "text/plain": [
       "'Sam'"
      ]
     },
     "execution_count": 25,
     "metadata": {},
     "output_type": "execute_result"
    }
   ],
   "source": [
    "# Access instance attributes\n",
    "sam.name"
   ]
  },
  {
   "cell_type": "markdown",
   "metadata": {},
   "source": [
    "Note that the class attribute `species` is defined directly in the body of the `class` definition, outside of any methods in the class. Also by convention, the class attributes are placed before the `__init__()` method."
   ]
  },
  {
   "cell_type": "markdown",
   "metadata": {},
   "source": [
    "Also, we can access class attributes through the class via `class.attribute`, as in the next example. "
   ]
  },
  {
   "cell_type": "code",
   "execution_count": 26,
   "metadata": {},
   "outputs": [
    {
     "data": {
      "text/plain": [
       "'mammal'"
      ]
     },
     "execution_count": 26,
     "metadata": {},
     "output_type": "execute_result"
    }
   ],
   "source": [
    "Dog.species"
   ]
  },
  {
   "cell_type": "markdown",
   "metadata": {},
   "source": [
    "##### Modifying Class Attributes"
   ]
  },
  {
   "cell_type": "markdown",
   "metadata": {},
   "source": [
    "We cannot modify class attributes via assignment to class instances. In the next example, we first create an instance `frank` and afterward we use an assignment statement `frank.species = 'bird'` to modify the attribute `species` of the class instance `frank` to `bird`. "
   ]
  },
  {
   "cell_type": "code",
   "execution_count": 27,
   "metadata": {},
   "outputs": [],
   "source": [
    "frank = Dog(breed='Huskie', name='Frank')"
   ]
  },
  {
   "cell_type": "code",
   "execution_count": 28,
   "metadata": {},
   "outputs": [
    {
     "data": {
      "text/plain": [
       "'mammal'"
      ]
     },
     "execution_count": 28,
     "metadata": {},
     "output_type": "execute_result"
    }
   ],
   "source": [
    "frank.species"
   ]
  },
  {
   "cell_type": "code",
   "execution_count": 29,
   "metadata": {},
   "outputs": [],
   "source": [
    "# Reassing the attribute 'species' to 'bird'\n",
    "frank.species = 'bird'"
   ]
  },
  {
   "cell_type": "markdown",
   "metadata": {},
   "source": [
    "This didn't change the class attribute for the newly created class instance `my_dog`, as shown below. Instead, the reassignment `frank.species = 'bird'` created a new instance attribute `species` for the class instance `frank` that has the same name as the class attribute `species`. "
   ]
  },
  {
   "cell_type": "code",
   "execution_count": 30,
   "metadata": {},
   "outputs": [],
   "source": [
    "my_dog = Dog(breed='Terrier', name='Scooby')"
   ]
  },
  {
   "cell_type": "code",
   "execution_count": 31,
   "metadata": {},
   "outputs": [
    {
     "data": {
      "text/plain": [
       "'mammal'"
      ]
     },
     "execution_count": 31,
     "metadata": {},
     "output_type": "execute_result"
    }
   ],
   "source": [
    "# The class attribute of the new instance is still 'mammal'\n",
    "my_dog.species"
   ]
  },
  {
   "cell_type": "markdown",
   "metadata": {},
   "source": [
    "We can change the class attribute via assignment when using the class name, as shown in the next example."
   ]
  },
  {
   "cell_type": "code",
   "execution_count": 32,
   "metadata": {},
   "outputs": [],
   "source": [
    "Dog.species = 'animal'"
   ]
  },
  {
   "cell_type": "code",
   "execution_count": 33,
   "metadata": {},
   "outputs": [],
   "source": [
    "sam = Dog('Labrador','Sam')"
   ]
  },
  {
   "cell_type": "code",
   "execution_count": 34,
   "metadata": {},
   "outputs": [
    {
     "data": {
      "text/plain": [
       "'animal'"
      ]
     },
     "execution_count": 34,
     "metadata": {},
     "output_type": "execute_result"
    }
   ],
   "source": [
    "sam.species"
   ]
  },
  {
   "cell_type": "markdown",
   "metadata": {},
   "source": [
    "In summary:\n",
    "\n",
    "- Class attributes are defined in the body of the `class` definition directly. Class attributes are common to the class. Their data is the same for all instances of the class.\n",
    "- Instance attributes are defined inside the `__init__()` method within the `class` definition. Instance attributes belong to a concrete instance of the class. Their data is specific to that concrete instance of the class."
   ]
  },
  {
   "cell_type": "markdown",
   "metadata": {},
   "source": [
    "##### The `__dict__` Attribute\n",
    "\n",
    "Both classes and instances in Python have a special attribute called `__dict__`. This attribute is a dictionary, with the keys being the attribute names and the values are the attached attribute values. For a class instance `__dict__` holds the instance attributes, and for a class `__dict__` holds class attributes and methods."
   ]
  },
  {
   "cell_type": "code",
   "execution_count": 35,
   "metadata": {},
   "outputs": [
    {
     "data": {
      "text/plain": [
       "{'breed': 'Terrier', 'name': 'Scooby'}"
      ]
     },
     "execution_count": 35,
     "metadata": {},
     "output_type": "execute_result"
    }
   ],
   "source": [
    "my_dog.__dict__"
   ]
  },
  {
   "cell_type": "code",
   "execution_count": 36,
   "metadata": {},
   "outputs": [
    {
     "data": {
      "text/plain": [
       "{'breed': 'Huskie', 'name': 'Frank', 'species': 'bird'}"
      ]
     },
     "execution_count": 36,
     "metadata": {},
     "output_type": "execute_result"
    }
   ],
   "source": [
    "frank.__dict__"
   ]
  },
  {
   "cell_type": "code",
   "execution_count": 37,
   "metadata": {},
   "outputs": [
    {
     "data": {
      "text/plain": [
       "mappingproxy({'__module__': '__main__',\n",
       "              'species': 'animal',\n",
       "              '__init__': <function __main__.Dog.__init__(self, breed, name)>,\n",
       "              '__dict__': <attribute '__dict__' of 'Dog' objects>,\n",
       "              '__weakref__': <attribute '__weakref__' of 'Dog' objects>,\n",
       "              '__doc__': None})"
      ]
     },
     "execution_count": 37,
     "metadata": {},
     "output_type": "execute_result"
    }
   ],
   "source": [
    "Dog.__dict__"
   ]
  },
  {
   "cell_type": "markdown",
   "metadata": {},
   "source": [
    "Python also allows to change the value of existing instance attributes through `__dict__`, or even to add new attributes through `__dict__`."
   ]
  },
  {
   "cell_type": "markdown",
   "metadata": {},
   "source": [
    "### 5.1.3 Methods <a id=\"5.1.3-methods\"/>\n",
    "\n",
    "**Methods** are functions defined inside the body of a class. By defining it inside the class, we establish a relationship between the method and the class. Because methods are functions, they can take arguments and return values. \n",
    "\n",
    "In a Python class, we can define three different types of methods:\n",
    "\n",
    "- Instance methods, which take the current instance `self` as their first argument.\n",
    "- Class methods, which take the current class `cls` as their first argument.\n",
    "- Static methods, which take neither the class nor the instance.\n",
    "\n",
    "This section describes instance methods, as the most common type of methods in classes. Class methods and static methods are described in the Appendix section. "
   ]
  },
  {
   "cell_type": "markdown",
   "metadata": {},
   "source": [
    "#### Instance Methods\n",
    "\n",
    "**Instance methods** are functions defined inside the body of a class, designed to perform operations on the class objects. \n",
    "\n",
    "Methods have access to all attributes for an instance of the class. They can access and modify the attributes through the argument `self`. \n",
    "\n",
    "We can basically think of methods as regular functions, with one major difference that the first argument of the method is always the instance object referenced through `self`. \n",
    "\n",
    "Technically, even the word `self` is a convention, and any other term can be used instead of `self`. However, if you use another word, that would be very unusual for other coders using your code.\n",
    "\n",
    "Let's see an example of creating a class named `Circle` shown below. The objects of this class have three methods: `getArea` which calculates the area of the circle, `getCircumference` which calculates the circumference, and `SetRadius` which allows to change the attribute `radius`. "
   ]
  },
  {
   "cell_type": "code",
   "execution_count": 38,
   "metadata": {},
   "outputs": [],
   "source": [
    "class Circle:\n",
    "    pi = 3.14\n",
    "\n",
    "    # Circle gets instantiated with a radius (default is 1)\n",
    "    def __init__(self, radius=1):\n",
    "        self.radius = radius \n",
    "\n",
    "    # Method for getting Area\n",
    "    def getArea(self):\n",
    "        return self.radius * self.radius * self.pi\n",
    "\n",
    "    # Method for getting Circumference\n",
    "    def getCircumference(self):\n",
    "        return self.radius * self.pi * 2\n",
    "\n",
    "    # Method for resetting Radius\n",
    "    def setRadius(self, new_radius):\n",
    "        self.radius = new_radius"
   ]
  },
  {
   "cell_type": "markdown",
   "metadata": {},
   "source": [
    "Notice that within the methods `getArea` and `getCircumference` we used the notation `self.radius` to reference the instance attribute `radius` which we defined with the `__init__` method inside the body of the class. \n",
    "\n",
    "Similarly, we defined the class attribute `pi = 3.14` inside the body of the class, and since we can access it as an attribute of new instances, we used the notation `self.pi` to reference it within the methods `getArea` and `getCircumference`. As we explained in the previous section, we can also access class attributes through the class name, that is, we could have used the notation `Circle.pi` within the methods `getArea` and `getCircumference` to get access to the class attribute `pi`.\n",
    "\n",
    "The two methods `getArea` and `getCircumference` don't take any other arguments except `self`. The method `setRadius` takes another argument `new_radius`, and it allows to change the value of the current attribute `radius`."
   ]
  },
  {
   "cell_type": "markdown",
   "metadata": {},
   "source": [
    "The methods are accessed by using the dot notation, similar to accessing the attributes of class instances.\n",
    "\n",
    "    instance.method()\n",
    "    "
   ]
  },
  {
   "cell_type": "code",
   "execution_count": 39,
   "metadata": {},
   "outputs": [
    {
     "name": "stdout",
     "output_type": "stream",
     "text": [
      "Radius is:  1\n",
      "Area is:  3.14\n",
      "Circumference is:  6.28\n"
     ]
    }
   ],
   "source": [
    "# Let's call it\n",
    "c = Circle()\n",
    "\n",
    "print('Radius is: ', c.radius)\n",
    "print('Area is: ', c.getArea())\n",
    "print('Circumference is: ', c.getCircumference())"
   ]
  },
  {
   "cell_type": "markdown",
   "metadata": {},
   "source": [
    "Now let's change the radius with the method `setRadius` and see how that affects the `Circle` object:"
   ]
  },
  {
   "cell_type": "code",
   "execution_count": 40,
   "metadata": {},
   "outputs": [
    {
     "name": "stdout",
     "output_type": "stream",
     "text": [
      "Radius is:  3\n",
      "Area is:  28.26\n",
      "Circumference is:  18.84\n"
     ]
    }
   ],
   "source": [
    "c.setRadius(3)\n",
    "\n",
    "print('Radius is: ', c.radius)\n",
    "print('Area is: ', c.getArea())\n",
    "print('Circumference is: ', c.getCircumference())"
   ]
  },
  {
   "cell_type": "markdown",
   "metadata": {},
   "source": [
    "Notice again in the above cell that when we call `getArea` and `getCircumference` methods, we don't need to provide a value for the `self` argument. Python takes care of that step, and it automatically passes the class instance to `self`.\n",
    "\n",
    "However, if we wish, we can manually provide the desired class instance when calling these methods. To do this though, we need to call the method on the class, as shown next."
   ]
  },
  {
   "cell_type": "code",
   "execution_count": 41,
   "metadata": {},
   "outputs": [
    {
     "data": {
      "text/plain": [
       "18.84"
      ]
     },
     "execution_count": 41,
     "metadata": {},
     "output_type": "execute_result"
    }
   ],
   "source": [
    "Circle.getCircumference(c)"
   ]
  },
  {
   "cell_type": "markdown",
   "metadata": {},
   "source": [
    "If we try to call the methods on the instance `c`, that will raise an exception."
   ]
  },
  {
   "cell_type": "code",
   "execution_count": 42,
   "metadata": {},
   "outputs": [
    {
     "ename": "TypeError",
     "evalue": "Circle.getCircumference() takes 1 positional argument but 2 were given",
     "output_type": "error",
     "traceback": [
      "\u001b[1;31m---------------------------------------------------------------------------\u001b[0m",
      "\u001b[1;31mTypeError\u001b[0m                                 Traceback (most recent call last)",
      "Cell \u001b[1;32mIn[42], line 1\u001b[0m\n\u001b[1;32m----> 1\u001b[0m c\u001b[38;5;241m.\u001b[39mgetCircumference(c)\n",
      "\u001b[1;31mTypeError\u001b[0m: Circle.getCircumference() takes 1 positional argument but 2 were given"
     ]
    }
   ],
   "source": [
    "c.getCircumference(c)"
   ]
  },
  {
   "cell_type": "markdown",
   "metadata": {},
   "source": [
    "Shown next is one more example of a class `Customer` with attributes `name` and `balance`, and methods `withdraw` and `deposit`. "
   ]
  },
  {
   "cell_type": "code",
   "execution_count": 43,
   "metadata": {},
   "outputs": [],
   "source": [
    "class Customer():\n",
    "    \"\"\"A customer of ABC Bank with a checking account. Customers have the\n",
    "    following properties:\n",
    "\n",
    "    Attributes:\n",
    "        name: A string representing the customer's name.\n",
    "        balance: A float tracking the current balance of the customer's account.\n",
    "    \"\"\"\n",
    "\n",
    "    def __init__(self, name, balance=0.0):\n",
    "        \"\"\"Return a Customer object whose name is *name* and starting\n",
    "        balance is *balance*.\"\"\"\n",
    "        self.name = name\n",
    "        self.balance = balance\n",
    "\n",
    "    def withdraw(self, amount):\n",
    "        \"\"\"Return the balance remaining after withdrawing *amount*\n",
    "        dollars.\"\"\"\n",
    "        if amount > self.balance:\n",
    "            raise RuntimeError('Amount greater than available balance.')\n",
    "        self.balance -= amount\n",
    "        return self.balance\n",
    "\n",
    "    def deposit(self, amount):\n",
    "        \"\"\"Return the balance remaining after depositing *amount*\n",
    "        dollars.\"\"\"\n",
    "        self.balance += amount\n",
    "        return self.balance"
   ]
  },
  {
   "cell_type": "code",
   "execution_count": 44,
   "metadata": {},
   "outputs": [],
   "source": [
    "# Create a new instance\n",
    "bob = Customer('Bob Smith', 1000)"
   ]
  },
  {
   "cell_type": "code",
   "execution_count": 45,
   "metadata": {},
   "outputs": [
    {
     "data": {
      "text/plain": [
       "900"
      ]
     },
     "execution_count": 45,
     "metadata": {},
     "output_type": "execute_result"
    }
   ],
   "source": [
    "bob.withdraw(100)"
   ]
  },
  {
   "cell_type": "code",
   "execution_count": 46,
   "metadata": {},
   "outputs": [
    {
     "data": {
      "text/plain": [
       "1300"
      ]
     },
     "execution_count": 46,
     "metadata": {},
     "output_type": "execute_result"
    }
   ],
   "source": [
    "bob.deposit(400)"
   ]
  },
  {
   "cell_type": "code",
   "execution_count": 47,
   "metadata": {},
   "outputs": [
    {
     "ename": "RuntimeError",
     "evalue": "Amount greater than available balance.",
     "output_type": "error",
     "traceback": [
      "\u001b[1;31m---------------------------------------------------------------------------\u001b[0m",
      "\u001b[1;31mRuntimeError\u001b[0m                              Traceback (most recent call last)",
      "Cell \u001b[1;32mIn[47], line 2\u001b[0m\n\u001b[0;32m      1\u001b[0m \u001b[38;5;66;03m# Based on the exception in the 'withdraw' method\u001b[39;00m\n\u001b[1;32m----> 2\u001b[0m bob\u001b[38;5;241m.\u001b[39mwithdraw(\u001b[38;5;241m1600\u001b[39m)\n",
      "Cell \u001b[1;32mIn[43], line 20\u001b[0m, in \u001b[0;36mCustomer.withdraw\u001b[1;34m(self, amount)\u001b[0m\n\u001b[0;32m     17\u001b[0m \u001b[38;5;250m\u001b[39m\u001b[38;5;124;03m\"\"\"Return the balance remaining after withdrawing *amount*\u001b[39;00m\n\u001b[0;32m     18\u001b[0m \u001b[38;5;124;03mdollars.\"\"\"\u001b[39;00m\n\u001b[0;32m     19\u001b[0m \u001b[38;5;28;01mif\u001b[39;00m amount \u001b[38;5;241m>\u001b[39m \u001b[38;5;28mself\u001b[39m\u001b[38;5;241m.\u001b[39mbalance:\n\u001b[1;32m---> 20\u001b[0m     \u001b[38;5;28;01mraise\u001b[39;00m \u001b[38;5;167;01mRuntimeError\u001b[39;00m(\u001b[38;5;124m'\u001b[39m\u001b[38;5;124mAmount greater than available balance.\u001b[39m\u001b[38;5;124m'\u001b[39m)\n\u001b[0;32m     21\u001b[0m \u001b[38;5;28mself\u001b[39m\u001b[38;5;241m.\u001b[39mbalance \u001b[38;5;241m-\u001b[39m\u001b[38;5;241m=\u001b[39m amount\n\u001b[0;32m     22\u001b[0m \u001b[38;5;28;01mreturn\u001b[39;00m \u001b[38;5;28mself\u001b[39m\u001b[38;5;241m.\u001b[39mbalance\n",
      "\u001b[1;31mRuntimeError\u001b[0m: Amount greater than available balance."
     ]
    }
   ],
   "source": [
    "# Based on the exception in the 'withdraw' method\n",
    "bob.withdraw(1600)"
   ]
  },
  {
   "cell_type": "markdown",
   "metadata": {},
   "source": [
    "#### Polymorphism in Classes\n",
    "\n",
    "We learned about polymorphism in functions, and we saw that when functions take in different arguments, the actions depend on the type of objects. \n",
    "Similarly, in Python **polymorphism** exists with classes, where different classes can share the same method name, and these methods can perform different actions based on the object they act upon. \n",
    "\n",
    "Let's see an example."
   ]
  },
  {
   "cell_type": "code",
   "execution_count": 48,
   "metadata": {},
   "outputs": [
    {
     "name": "stdout",
     "output_type": "stream",
     "text": [
      "Niko says Woof!\n",
      "Felix says Meow!\n"
     ]
    }
   ],
   "source": [
    "class Dog:\n",
    "    def __init__(self, name):\n",
    "        self.name = name\n",
    "\n",
    "    def speak(self):\n",
    "        return self.name+' says Woof!'\n",
    "    \n",
    "class Cat:\n",
    "    def __init__(self, name):\n",
    "        self.name = name\n",
    "\n",
    "    def speak(self):\n",
    "        return self.name+' says Meow!' \n",
    "    \n",
    "niko = Dog('Niko')\n",
    "felix = Cat('Felix')\n",
    "\n",
    "print(niko.speak())\n",
    "print(felix.speak())"
   ]
  },
  {
   "cell_type": "markdown",
   "metadata": {},
   "source": [
    "Here we have a `Dog` class and a `Cat` class, and each has a `speak()` method. When called, each object's `speak()` method returns a result that is unique to the class of the instance. This demonstrates polymorphism, because we passed in different object types to the `speak()` method, and we obtained different object-specific results from the same method."
   ]
  },
  {
   "cell_type": "markdown",
   "metadata": {},
   "source": [
    "#### Naming Conventions in Classes"
   ]
  },
  {
   "cell_type": "markdown",
   "metadata": {},
   "source": [
    "The recommended naming convention for Python classes is to use capitalized names, and for longer names each word is capitalized and connected without underscores. For example, examples of classes in the machine learning library `Keras` include `Conv2DTranspose`, `CheckpointCallback`, `BatchNormalization`, etc.\n",
    "\n",
    "Another naming convention is to include a leading underscore in the names of attributes and methods (e.g., `_radius`, `_calculate_area()` in the class `Circle`) to communicate them as **non-public** attributes and methods. All regular names (such as `radius` and `calculate_area()`) are **public** attributes and methods. \n",
    "\n",
    "Public attributes and methods are intended to be part of the official interface or API of the classes, while non-public attributes and methods are not intended to be part of the API. This naming convention indicates that the non-public members should not be used outside their defining class. However, the naming convention does not prevent direct access. Non-public members exist only to support the internal implementation of a given class and may be removed at any time, so we should not rely on them. "
   ]
  },
  {
   "cell_type": "markdown",
   "metadata": {},
   "source": [
    "### 5.1.4 Inheritance  <a id=\"5.1.4-inheritance\"/>\n",
    "\n",
    "**Inheritance** is the process of creating a new class by reusing the attributes and methods from an existing class. This way, we can edit only what we need to modify in the new class, and this will override the behavior of the old class.\n",
    "\n",
    "The newly formed inheriting class is known as a **subclass** or **child class** or **derived class**, and the class it inherits from is known as a **superclass** or **parent class** or **base class**.\n",
    "\n",
    "Important benefits of inheritance are code reuse and reduction of complexity of a program, because the child classes override or extend the functionality of parent classes.\n",
    "\n",
    "Let's see an example by incorporating inheritance. In this example, we have four classes: `Animal`, `Dog`, `Cat`, and `Fish`. `Animal` is the parent class (superclass), and `Dog`, `Cat`, and `Fish` are the child classes (subclasses).\n",
    "\n",
    "Note that when defining the child classes `Dog`, `Cat`, and `Fish`, the parent class `Animal` is listed in parentheses in the class header, i.e., `class Dog(Animal)`."
   ]
  },
  {
   "cell_type": "code",
   "execution_count": 49,
   "metadata": {},
   "outputs": [],
   "source": [
    "class Animal:\n",
    "    def __init__(self):\n",
    "        print(\"Animal created\")\n",
    "\n",
    "    def whoAmI(self):\n",
    "        print(\"Animal\")\n",
    "\n",
    "    def eat(self):\n",
    "        print(\"Eating\")\n",
    "\n",
    "        \n",
    "class Dog(Animal): # The class Dog inherits the functionalities of the class Animal\n",
    "    def __init__(self):\n",
    "        Animal.__init__(self)   # This can also be replaced with: super().__init__()\n",
    "        print(\"Dog created\")\n",
    "\n",
    "    def whoAmI(self): \n",
    "        print(\"Dog\")\n",
    "\n",
    "    def bark(self):\n",
    "        print(\"Woof!\")\n",
    "        \n",
    "\n",
    "class Cat(Animal): # The class Cat inherits the functionalities of the class Animal\n",
    "    def __init__(self):\n",
    "        # The line Animal.__init__(self) is missing in the Cat class\n",
    "        print(\"Cat created\")\n",
    "\n",
    "    def whoAmI(self): \n",
    "        print(\"Cat\")\n",
    "\n",
    "        \n",
    "class Fish(Animal): # The class Fish inherits the functionalities of the class Animal\n",
    "    # attributes are not specified\n",
    "    \n",
    "    def whoAmI(self): \n",
    "        print(\"Fish\")"
   ]
  },
  {
   "cell_type": "markdown",
   "metadata": {},
   "source": [
    "Let's create instances of the child classes."
   ]
  },
  {
   "cell_type": "code",
   "execution_count": 50,
   "metadata": {},
   "outputs": [
    {
     "name": "stdout",
     "output_type": "stream",
     "text": [
      "Animal created\n",
      "Dog created\n"
     ]
    }
   ],
   "source": [
    "d = Dog()"
   ]
  },
  {
   "cell_type": "code",
   "execution_count": 51,
   "metadata": {},
   "outputs": [
    {
     "name": "stdout",
     "output_type": "stream",
     "text": [
      "Cat created\n"
     ]
    }
   ],
   "source": [
    "# Note the difference in the attributes in comparison to Dog\n",
    "c = Cat()"
   ]
  },
  {
   "cell_type": "code",
   "execution_count": 52,
   "metadata": {},
   "outputs": [
    {
     "name": "stdout",
     "output_type": "stream",
     "text": [
      "Animal created\n"
     ]
    }
   ],
   "source": [
    "# Note the difference in the attributes in comparison to Cat\n",
    "f = Fish()"
   ]
  },
  {
   "cell_type": "markdown",
   "metadata": {},
   "source": [
    "Parent classes typically provide generic and common functionality that we can reuse throughout multiple child classes. In this sense, the `Animal` class provides properties that are common for most other animals. \n",
    "\n",
    "Child classes **inherit attributes and methods** from the parent class. For instance, notice that if we call the `eat()` method with the class instances of `Dog` and `Fish`, the word `Eating` is printed. Although the method `eat()` is not defined in the classes `Dog` and `Fish`, the instances inherit the method from the parent class `Animal`."
   ]
  },
  {
   "cell_type": "code",
   "execution_count": 53,
   "metadata": {},
   "outputs": [
    {
     "name": "stdout",
     "output_type": "stream",
     "text": [
      "Eating\n"
     ]
    }
   ],
   "source": [
    "d.eat()"
   ]
  },
  {
   "cell_type": "code",
   "execution_count": 54,
   "metadata": {},
   "outputs": [
    {
     "name": "stdout",
     "output_type": "stream",
     "text": [
      "Eating\n"
     ]
    }
   ],
   "source": [
    "f.eat()"
   ]
  },
  {
   "cell_type": "markdown",
   "metadata": {},
   "source": [
    "The child classes not only inherit attributes and methods from the parent class, but they can also **modify attributes and methods** existing in the parent class. This is shown by the method `whoAmI()`. When this method is called, Python searches for the name first in the child class, and if it is not found, afterwards it searches in the parent class. In this case, `whoAmI()` method is found in the child classes `Dog`, `Cat`, and `Fish`."
   ]
  },
  {
   "cell_type": "code",
   "execution_count": 55,
   "metadata": {},
   "outputs": [
    {
     "name": "stdout",
     "output_type": "stream",
     "text": [
      "Dog\n"
     ]
    }
   ],
   "source": [
    "d.whoAmI()"
   ]
  },
  {
   "cell_type": "code",
   "execution_count": 56,
   "metadata": {},
   "outputs": [
    {
     "name": "stdout",
     "output_type": "stream",
     "text": [
      "Cat\n"
     ]
    }
   ],
   "source": [
    "c.whoAmI()"
   ]
  },
  {
   "cell_type": "markdown",
   "metadata": {},
   "source": [
    "Finally, the child class `Dog` **extends the functionality of the parent class** by defining a new `bark()` method that does not exist in the `Animal` class."
   ]
  },
  {
   "cell_type": "code",
   "execution_count": 57,
   "metadata": {},
   "outputs": [
    {
     "name": "stdout",
     "output_type": "stream",
     "text": [
      "Woof!\n"
     ]
    }
   ],
   "source": [
    "d.bark()"
   ]
  },
  {
   "cell_type": "markdown",
   "metadata": {},
   "source": [
    "Similar to inheritance in nature, only child classes inherit from the parent class, and the parent class does not inherit attributes and methods from the child classes.\n",
    "\n",
    "One more example follows, where `Person` is a parent class, and `Manager` is a child class of `Person` and inherits attributes and methods."
   ]
  },
  {
   "cell_type": "code",
   "execution_count": 58,
   "metadata": {},
   "outputs": [],
   "source": [
    "class Person:\n",
    "    def __init__(self, name, job=None, pay=0):\n",
    "        self.name = name\n",
    "        self.job = job\n",
    "        self.pay = pay\n",
    "    \n",
    "    def giveRaise(self, percent):\n",
    "        self.pay = int(self.pay * (1 + percent)) \n",
    "        \n",
    "class Manager(Person):\n",
    "    def giveRaise(self, percent, bonus=.10):\n",
    "        self.pay = int(self.pay * (1 + percent + bonus))       "
   ]
  },
  {
   "cell_type": "code",
   "execution_count": 59,
   "metadata": {},
   "outputs": [
    {
     "data": {
      "text/plain": [
       "55000"
      ]
     },
     "execution_count": 59,
     "metadata": {},
     "output_type": "execute_result"
    }
   ],
   "source": [
    "# Create a new instance of Person\n",
    "bob = Person('Bob Smith', pay=50000)\n",
    "bob.giveRaise(percent=0.1)  # 50000 * (1+ 0.1) = 50000 * 1.1 = 55000\n",
    "bob.pay"
   ]
  },
  {
   "cell_type": "code",
   "execution_count": 60,
   "metadata": {},
   "outputs": [
    {
     "name": "stdout",
     "output_type": "stream",
     "text": [
      "Tom Jones mgr 50000\n"
     ]
    }
   ],
   "source": [
    "# Create a new instance of Manager\n",
    "tom = Manager('Tom Jones', 'mgr', 50000)\n",
    "print(tom.name, tom.job, tom.pay)"
   ]
  },
  {
   "cell_type": "code",
   "execution_count": 61,
   "metadata": {},
   "outputs": [
    {
     "data": {
      "text/plain": [
       "60000"
      ]
     },
     "execution_count": 61,
     "metadata": {},
     "output_type": "execute_result"
    }
   ],
   "source": [
    "# On a salary of 50,000, giveRaise for Person applied 10% raise, and giveRaise for Manager applied 10% bonus\n",
    "tom.giveRaise(percent=0.1, bonus=0.1)   # 50000 * (1+ 0.1 + 0.1) = 50000 * 1.2 = 60000\n",
    "tom.pay"
   ]
  },
  {
   "cell_type": "markdown",
   "metadata": {},
   "source": [
    "Another way to define the method `giveRaise` for the `Manager` child class is by using the syntax below `superclass.method(self, arguments)`, as in `Person.giveRaise(self, percent + bonus)` shown below. Note that this is different from the syntax above `self.method(arguments)` as in `self.pay = int(self.pay * (1 + percent + bonus)) `. However, this coding approach using `self.method(arguments)` does not rely on the superclass `Person`, and if `Person` is changed, the code will not work as expected. Therefore, it is preferred to use the syntax `superclass.method(self, arguments)`."
   ]
  },
  {
   "cell_type": "code",
   "execution_count": 62,
   "metadata": {},
   "outputs": [],
   "source": [
    "class Manager(Person):\n",
    "    def giveRaise(self, percent, bonus=.10):\n",
    "        Person.giveRaise(self, percent + bonus) "
   ]
  },
  {
   "cell_type": "code",
   "execution_count": 63,
   "metadata": {},
   "outputs": [
    {
     "data": {
      "text/plain": [
       "60000"
      ]
     },
     "execution_count": 63,
     "metadata": {},
     "output_type": "execute_result"
    }
   ],
   "source": [
    "tom = Manager('Tom Jones', 'mgr', 50000)\n",
    "# On a salary of 50,000, giveRaise for Person applied 10% raise, and giveRaise for Manager applied 10% bonus\n",
    "tom.giveRaise(percent=0.1, bonus=0.1)   # Person.giveRaise(.10+0.10) = Person.giveRaise(0.20)   # 50000 * 1.2 = 60000\n",
    "tom.pay"
   ]
  },
  {
   "cell_type": "markdown",
   "metadata": {},
   "source": [
    "#### The `super()` function"
   ]
  },
  {
   "cell_type": "markdown",
   "metadata": {},
   "source": [
    "The `super()` function in Python returns a temporary object of the parent class that allows to call methods from the parent class in child classes. This allows to define new methods in the child class with minimal code changes.\n",
    "\n",
    "For instance, in the example below, a parent class `Rectangle` is defined, and a child class `Cube` is created that inherits from `Rectangle`. To calculate the volume of a Cube, the child class `Cube` inherited the method `area()` from the class `Rectangle` via `super().area()`. Since the method `volume()` for a cube relies on calculating the area of a single face, rather than reimplementing the area calculation, we use the function `super()` to extend the area calculation. The function `super()` returns an object of the superclass, and allows to call the method `volume()` directly through `super().area()`."
   ]
  },
  {
   "cell_type": "code",
   "execution_count": 64,
   "metadata": {},
   "outputs": [],
   "source": [
    "class Rectangle:\n",
    "    def __init__(self, length, width):\n",
    "        self.length = length\n",
    "        self.width = width\n",
    "\n",
    "    def area(self):\n",
    "        return self.length * self.width\n",
    "\n",
    "    def perimeter(self):\n",
    "        return 2 * self.length + 2 * self.width\n",
    "\n",
    "class Cube(Rectangle):\n",
    "    def __init__(self, length, width, height):\n",
    "        self.length = length\n",
    "        self.width = width\n",
    "        self.height = height\n",
    "    \n",
    "    def volume(self):\n",
    "        face_area = super().area()\n",
    "        return face_area * self.height    "
   ]
  },
  {
   "cell_type": "code",
   "execution_count": 65,
   "metadata": {},
   "outputs": [
    {
     "data": {
      "text/plain": [
       "32"
      ]
     },
     "execution_count": 65,
     "metadata": {},
     "output_type": "execute_result"
    }
   ],
   "source": [
    "cube1 = Cube(4, 4, 2)\n",
    "cube1.volume()"
   ]
  },
  {
   "cell_type": "markdown",
   "metadata": {},
   "source": [
    "One more example is provided next, with a parent class `Person` and child class `Student`. Note that in the definition of the `Student` class, we called the `__init__()` function from the superclass to initialize the attributes `student_name`, `student_age`, and `student_residence`. The call to the parent class `super().__init__(student_name, student_age, student_residence)` is equivalent to calling the function as `Person.__init__(self, student_name, student_age, student_residence)`."
   ]
  },
  {
   "cell_type": "code",
   "execution_count": 66,
   "metadata": {},
   "outputs": [],
   "source": [
    "class Person:\n",
    "\n",
    "    def __init__(self, name, age, residence):\n",
    "        self.name = name\n",
    "        self.age = age\n",
    "        self.residence = residence\n",
    "\n",
    "    def show_name(self):\n",
    "        print(self.name)\n",
    "\n",
    "    def show_age(self):\n",
    "        print(self.age)\n",
    "\n",
    "class Student(Person):\n",
    "\n",
    "    def __init__(self, student_name, student_age, student_residence, student_id):\n",
    "        super().__init__(student_name, student_age, student_residence)\n",
    "        self.studentId = student_id\n",
    "\n",
    "    def show_id(self):\n",
    "        print(self.studentId)  "
   ]
  },
  {
   "cell_type": "code",
   "execution_count": 67,
   "metadata": {},
   "outputs": [
    {
     "name": "stdout",
     "output_type": "stream",
     "text": [
      "Max\n"
     ]
    }
   ],
   "source": [
    "# Create an object of the child class\n",
    "student1 = Student(\"Max\", 22, \"Moscow\", \"100022\")\n",
    "student1.show_name()"
   ]
  },
  {
   "cell_type": "code",
   "execution_count": 68,
   "metadata": {},
   "outputs": [
    {
     "name": "stdout",
     "output_type": "stream",
     "text": [
      "100022\n"
     ]
    }
   ],
   "source": [
    "student1.show_id()"
   ]
  },
  {
   "cell_type": "markdown",
   "metadata": {},
   "source": [
    "#### Class Hierarchies"
   ]
  },
  {
   "cell_type": "markdown",
   "metadata": {},
   "source": [
    "Using inheritance, we can build class hierarchies, also known as inheritance trees. A **class hierarchy** is a set of closely related classes that are connected through inheritance and arranged in a tree-like structure. The class or classes at the top of the hierarchy are the parent classes, while the classes below are derived classes or child classes. \n",
    "\n",
    "Therefore, classes at the top of the hierarchy are generic classes with common functionality, while classes down the hierarchy are more specialized and they inherit attributes and methods from their parent classes and also have their own attributes and methods.\n",
    "\n",
    "Let's revisit again the example with the animals, where the following tree hierarchy will be created."
   ]
  },
  {
   "cell_type": "markdown",
   "metadata": {},
   "source": [
    "<img src=\"images/tree_hierarchy.png\" width=\"620\">\n",
    "<em>Figure source: Reference [3].</em>"
   ]
  },
  {
   "cell_type": "markdown",
   "metadata": {},
   "source": [
    "In this hierarchy, a parent class `Animal` is at the top. Below this class, we have subclasses like `Mammal`, `Bird`, and `Fish`, which inherit the attributes and methods from the superclass `Animal`. At the bottom level, we can have classes like `Dog`, `Cat`, `Eagle`, `Penguin`, `Salmon`, and `Shark`. E.g., `Dog` and `Cat` are both mammals and animals, and they inherit from both of these superclasses and have their own attributes and methods. "
   ]
  },
  {
   "cell_type": "code",
   "execution_count": 69,
   "metadata": {},
   "outputs": [],
   "source": [
    "class Animal:\n",
    "    def __init__(self, name, sex, habitat):\n",
    "        self.name = name\n",
    "        self.sex = sex\n",
    "        self.habitat = habitat\n",
    "\n",
    "class Mammal(Animal):\n",
    "    unique_feature = \"Mammary glands\"\n",
    "\n",
    "class Bird(Animal):\n",
    "    unique_feature = \"Feathers\"\n",
    "\n",
    "class Fish(Animal):\n",
    "    unique_feature = \"Gills\"\n",
    "\n",
    "class Dog(Mammal):\n",
    "    def walk(self):\n",
    "        print(\"The dog is walking\")\n",
    "\n",
    "class Cat(Mammal):\n",
    "    def walk(self):\n",
    "        print(\"The cat is walking\")\n",
    "\n",
    "class Eagle(Bird):\n",
    "    def fly(self):\n",
    "        print(\"The eagle is flying\")\n",
    "\n",
    "class Penguin(Bird):\n",
    "    def swim(self):\n",
    "        print(\"The penguin is swimming\")\n",
    "\n",
    "class Salmon(Fish):\n",
    "    def swim(self):\n",
    "        print(\"The salmon is swimming\")\n",
    "\n",
    "class Shark(Fish):\n",
    "    def swim(self):\n",
    "        print(\"The shark is swimming\")"
   ]
  },
  {
   "cell_type": "code",
   "execution_count": 70,
   "metadata": {},
   "outputs": [],
   "source": [
    "d = Dog('Fido', 'M', 'Europe')"
   ]
  },
  {
   "cell_type": "code",
   "execution_count": 71,
   "metadata": {},
   "outputs": [
    {
     "data": {
      "text/plain": [
       "'Mammary glands'"
      ]
     },
     "execution_count": 71,
     "metadata": {},
     "output_type": "execute_result"
    }
   ],
   "source": [
    "d.unique_feature"
   ]
  },
  {
   "cell_type": "code",
   "execution_count": 72,
   "metadata": {},
   "outputs": [
    {
     "name": "stdout",
     "output_type": "stream",
     "text": [
      "The dog is walking\n"
     ]
    }
   ],
   "source": [
    "d.walk()"
   ]
  },
  {
   "cell_type": "markdown",
   "metadata": {},
   "source": [
    "### 5.1.5 Special Methods <a id=\"5.1.5-special-methods\"/>"
   ]
  },
  {
   "cell_type": "markdown",
   "metadata": {},
   "source": [
    "Python has many built-in methods which can be used with user-defined classes. These methods are also known as **special methods** or **magic methods**. Similar to the `__init__()` method, all special methods have leading and trailing double underscores (also called *dunders*).\n",
    "\n",
    "For instance, special methods for mathematical operators in Python involve the following.\n",
    "```python\n",
    "a + b       a.__add__(b)\n",
    "a - b       a.__sub__(b)\n",
    "a * b       a.__mul__(b)\n",
    "a / b       a.__truediv__(b)\n",
    "a // b      a.__floordiv__(b)\n",
    "a % b       a.__mod__(b)\n",
    "a << b      a.__lshift__(b)\n",
    "a >> b      a.__rshift__(b)\n",
    "a & b       a.__and__(b)\n",
    "a | b       a.__or__(b)\n",
    "a ^ b       a.__xor__(b)\n",
    "a ** b      a.__pow__(b)\n",
    "-a          a.__neg__()\n",
    "~a          a.__invert__()\n",
    "abs(a)      a.__abs__()\n",
    "```\n",
    "Special methods for item access in sequences involve the following.\n",
    "\n",
    "```python\n",
    "len(x)      x.__len__()\n",
    "x[a]        x.__getitem__(a)\n",
    "x[a] = v    x.__setitem__(a,v)\n",
    "del x[a]    x.__delitem__(a)\n",
    "```\n",
    "\n",
    "Other type of special methods are used for access to object attributes. These include:\n",
    "\n",
    "```python\n",
    "x.a         x.__getattr__(a)\n",
    "x.a = v     x.__setattr__(a,v)\n",
    "del x.a     x.__delattr__(a)\n",
    "```\n",
    "\n",
    "And there are other types of special methods that are not listed above."
   ]
  },
  {
   "cell_type": "markdown",
   "metadata": {},
   "source": [
    "The use of special methods with user-defined classes is also called **operator overloading** in OOP, because these methods allow the new instances of our user-defined classes to exhibit the behaviors of the applied special methods. For example, the operator `+` is implemented using the special method `__add__()` and it can perform addition of numbers, concatenation of strings, etc. Operator overloading in Python is an example of *polymorphism* in Python. Note that the term polymorphism is more general, and it describes actions performed upon different objects in a different way based on the object, as we saw in the example from the previous section. \n",
    "\n",
    "By implementing special methods into our user-defined classes, our classes can behave like built-in Python types. "
   ]
  },
  {
   "cell_type": "markdown",
   "metadata": {},
   "source": [
    "#### Sequence Length with `__len__()`"
   ]
  },
  {
   "cell_type": "markdown",
   "metadata": {},
   "source": [
    "We can implement the special method `__len__()` in our custom classes, which will allow us to use `len()` with the instances of the class. \n",
    "\n",
    "In the example below, we used the method `__len__()` in the class `Employee`, which returns the length of the attribute `self.pay`."
   ]
  },
  {
   "cell_type": "code",
   "execution_count": 73,
   "metadata": {},
   "outputs": [],
   "source": [
    "class Employee: \n",
    "    \n",
    "    def __init__(self, name, pay): \n",
    "        self.name = name\n",
    "        self.pay = pay\n",
    "        \n",
    "    def __len__(self):\n",
    "        return len(self.pay)"
   ]
  },
  {
   "cell_type": "code",
   "execution_count": 74,
   "metadata": {},
   "outputs": [
    {
     "name": "stdout",
     "output_type": "stream",
     "text": [
      "Bob Smith [50000, 55000, 53000, 60000]\n"
     ]
    }
   ],
   "source": [
    "bob = Employee(name='Bob Smith', pay=[50000, 55000, 53000, 60000])\n",
    "print(bob.name, bob.pay)"
   ]
  },
  {
   "cell_type": "code",
   "execution_count": 75,
   "metadata": {},
   "outputs": [
    {
     "data": {
      "text/plain": [
       "4"
      ]
     },
     "execution_count": 75,
     "metadata": {},
     "output_type": "execute_result"
    }
   ],
   "source": [
    "# Length of the bob.pay object\n",
    "len(bob.pay)"
   ]
  },
  {
   "cell_type": "code",
   "execution_count": 76,
   "metadata": {},
   "outputs": [
    {
     "name": "stdout",
     "output_type": "stream",
     "text": [
      "Sue Jones [50000, 60000]\n"
     ]
    }
   ],
   "source": [
    "sue = Employee(name='Sue Jones', pay=[50000, 60000])\n",
    "print(sue.name, sue.pay)"
   ]
  },
  {
   "cell_type": "code",
   "execution_count": 77,
   "metadata": {},
   "outputs": [
    {
     "data": {
      "text/plain": [
       "2"
      ]
     },
     "execution_count": 77,
     "metadata": {},
     "output_type": "execute_result"
    }
   ],
   "source": [
    "len(sue.pay)"
   ]
  },
  {
   "cell_type": "markdown",
   "metadata": {},
   "source": [
    "See the Appendix for additional information about special methods for classes in Python. "
   ]
  },
  {
   "cell_type": "markdown",
   "metadata": {},
   "source": [
    "### 5.1.6 When to Use Classes <a id=\"5.1.6-when-to-use-classes\"/>"
   ]
  },
  {
   "cell_type": "markdown",
   "metadata": {},
   "source": [
    "Classes allow to leverage the power of Python while writing and organizing code. The benefits of using classes include:\n",
    "\n",
    "- Reuse code and avoid repetition: we can define hierarchies of related classes, where the parent classes at the top of a hierarchy provide common functionality that we can reuse later in the child classes down the hierarchy. This allows to reuse code and reduces code duplication.\n",
    "\n",
    "- Group related data and behaviors in a single entity: classes allow to group together related attributes and methods in a single entity. This helps you better organize code using modular entities that can be reused across multiple projects.\n",
    "\n",
    "- Abstract away the implementation details of concepts and objects: classes allow to abstract away the implementation details of core concepts and objects. This helps provide the users with intuitive interfaces to process complex data and behaviors.\n",
    "\n",
    "In conclusion, Python classes can help write more organized, structured, maintainable, reusable, flexible, and user-friendly code. "
   ]
  },
  {
   "cell_type": "markdown",
   "metadata": {},
   "source": [
    "On the other hand, we should not use classes for everything in Python, since in some situations, they can overcomplicate our solutions. Sometimes, writing a couple of functions are enough for solving a problem.\n",
    "\n",
    "For example, we don't need to use classes when we need to:\n",
    "\n",
    "- Store only data: if there are no methods inside the body of a class, we can use a dictionary or a named tuple instead.\n",
    "- Provide a single method: if a class has only one method, it would be better to use a function instead.\n",
    "- When a functionality is available through built-in types or third-party classes: in that case, we should avoid creating custom classes.\n",
    "\n",
    "Also, there are other situations where we may not need to use classes, such as: in short and simple programs with simple logic and data structures, in performance-critical programs where classes may slow down the performance, when working in a team with a coding style that doesn't rely on classes, etc. \n",
    "\n",
    "Therefore, although classes provide many benefits, they don't need to be used in every situation. Often, it is preferred to begin with a simple but working code, and if there is a need to use classes, then go for it."
   ]
  },
  {
   "cell_type": "markdown",
   "metadata": {},
   "source": [
    "## 5.2 Modules Coding Basics <a id=\"5.2-modules-coding-basics\"/>"
   ]
  },
  {
   "cell_type": "markdown",
   "metadata": {},
   "source": [
    "Every Python file with code is referred to as a **module**. To create modules, we don’t need to write special syntax to tell Python that we are making a module. We can simply use any text editor to type Python code into a text file, and save it with a `.py` extension; any such file is automatically considered a Python module. \n",
    "\n",
    "For example, I have created a simple file called `my_module.py` that is saved in the same directory as this Jupyter notebook. The module does not do anything useful, it just defines a few names and prints a few statements. The code inside `my_module.py` is shown below."
   ]
  },
  {
   "cell_type": "markdown",
   "metadata": {},
   "source": [
    "<img style=\"float: left; height:280px;\" src=\"images/pic1.jpg\">"
   ]
  },
  {
   "cell_type": "markdown",
   "metadata": {},
   "source": [
    "Similar to the rules for naming other variables in Python, module names should follow the same rules and can contain only letters, digits, and underscores. The module names cannot use Python-reserved keywords (e.g., such as a module file named `if.py`.)"
   ]
  },
  {
   "cell_type": "markdown",
   "metadata": {},
   "source": [
    "### 5.2.1 The `import` Statement <a id=\"5.2.1-the-import-statement\"/>\n",
    "\n",
    "Python programs can use the modules file we have created by running an `import` or `from` statement. These statements find, compile, and run a module file’s code. The main difference is that `import` fetches the module as a whole, while `from` fetches specific names out of the module."
   ]
  },
  {
   "cell_type": "markdown",
   "metadata": {},
   "source": [
    "Let's import `my_module`. Python executes the statements in the module file one after another, from the top of the file to the bottom. For this module, the two print statements at the top level of the file are executed. The print statements inside the two functions (`main_report` and `sub_report`) are not executed; they will be executed only when the functions `sub_report` and `main_report` are called."
   ]
  },
  {
   "cell_type": "code",
   "execution_count": 78,
   "metadata": {
    "tags": []
   },
   "outputs": [
    {
     "name": "stdout",
     "output_type": "stream",
     "text": [
      "I am inside my_module\n",
      "The value of the variable X is: 3\n"
     ]
    }
   ],
   "source": [
    "import my_module"
   ]
  },
  {
   "cell_type": "markdown",
   "metadata": {},
   "source": [
    "Note that we don't use the `.py` extension for the files with the `import` statement (i.e., `import my_module.py` will raise an exception).\n",
    "\n",
    "When the module is imported, a new **module object** is created. The module object is shown below, where Python mapped the module name to an external filename by adding a directory path from the module search path to the file, and a `.py` extension at the end. "
   ]
  },
  {
   "cell_type": "code",
   "execution_count": 79,
   "metadata": {
    "tags": []
   },
   "outputs": [
    {
     "data": {
      "text/plain": [
       "<module 'my_module' from 'C:\\\\Users\\\\vakanski\\\\Documents\\\\Codes\\\\2024 Codes\\\\Data Science Course\\\\Theme_1-Python_Programming\\\\Lecture_5-OOP,_Modules,_Packages\\\\Posted\\\\Lecture_5-OOP,_Modules,_Packages\\\\my_module.py'>"
      ]
     },
     "execution_count": 79,
     "metadata": {},
     "output_type": "execute_result"
    }
   ],
   "source": [
    "# The name my_module references to the loaded module object\n",
    "my_module"
   ]
  },
  {
   "cell_type": "markdown",
   "metadata": {},
   "source": [
    "Overall, the name `my_module` serves two different purposes: \n",
    "1. It identifies the external file `my_module.py` that needs to be loaded.\n",
    "2. After the module is loaded, it becomes a reference to the module object."
   ]
  },
  {
   "cell_type": "markdown",
   "metadata": {},
   "source": [
    "During importing, all the names assigned at the top level of the module become attributes of the module object. In this example, the variables `X` and `Y` and the functions `sub-report` and `main_report` become attributes of the module, and we can call them by using the `object.attribute` syntax (a.k.a. *qualification*). "
   ]
  },
  {
   "cell_type": "code",
   "execution_count": 80,
   "metadata": {
    "tags": []
   },
   "outputs": [
    {
     "data": {
      "text/plain": [
       "3"
      ]
     },
     "execution_count": 80,
     "metadata": {},
     "output_type": "execute_result"
    }
   ],
   "source": [
    "my_module.X"
   ]
  },
  {
   "cell_type": "code",
   "execution_count": 81,
   "metadata": {
    "tags": []
   },
   "outputs": [
    {
     "data": {
      "text/plain": [
       "5"
      ]
     },
     "execution_count": 81,
     "metadata": {},
     "output_type": "execute_result"
    }
   ],
   "source": [
    "my_module.Y"
   ]
  },
  {
   "cell_type": "code",
   "execution_count": 82,
   "metadata": {
    "tags": []
   },
   "outputs": [
    {
     "name": "stdout",
     "output_type": "stream",
     "text": [
      "The value of the variable Z is: 8\n",
      "I am a function named sub_report\n"
     ]
    }
   ],
   "source": [
    "my_module.sub_report()"
   ]
  },
  {
   "cell_type": "markdown",
   "metadata": {},
   "source": [
    "### 5.2.2 The `from` Statement <a id=\"5.2.2-the-from-statement\"/>\n",
    "\n",
    "The `from` statement fetches specific names from the module, and allows to use the names directly (without the need for `module_object.attribute`). This way, we can call the names in the module with less typing."
   ]
  },
  {
   "cell_type": "code",
   "execution_count": 83,
   "metadata": {
    "tags": []
   },
   "outputs": [
    {
     "data": {
      "text/plain": [
       "3"
      ]
     },
     "execution_count": 83,
     "metadata": {},
     "output_type": "execute_result"
    }
   ],
   "source": [
    "from my_module import X\n",
    "X"
   ]
  },
  {
   "cell_type": "markdown",
   "metadata": {},
   "source": [
    "The `from` statement in effect copies the names out of the module into another scope; in this case, in the scope of this Jupyter notebook, where the `from` statement appears.\n",
    "\n",
    "When we run a `from` statement, internally Python first imports the entire module file as usual, then copies the specific names out of the module file, and finally, it deletes the module file. The line `from my_module import X` is similar to the following code:\n",
    "\n",
    "```python\n",
    "import my_module \n",
    "X = module.X \n",
    "del my_module\n",
    "```"
   ]
  },
  {
   "cell_type": "markdown",
   "metadata": {},
   "source": [
    "With `from`, we can also import several names at the same time, separated by commas."
   ]
  },
  {
   "cell_type": "code",
   "execution_count": 84,
   "metadata": {
    "tags": []
   },
   "outputs": [],
   "source": [
    "from my_module import X, Y, sub_report"
   ]
  },
  {
   "cell_type": "code",
   "execution_count": 85,
   "metadata": {
    "tags": []
   },
   "outputs": [
    {
     "name": "stdout",
     "output_type": "stream",
     "text": [
      "The value of the variable Z is: 8\n",
      "I am a function named sub_report\n"
     ]
    }
   ],
   "source": [
    "sub_report()"
   ]
  },
  {
   "cell_type": "markdown",
   "metadata": {},
   "source": [
    "Another alternative is to use a `*` instead of specific names, which fetches all names assigned at the top level of the referenced module. The following code fetches all four names in our module: `X`, `Y`, `sub_report`, and `main_report`. Note again that the names `Z` and `U` are not defined at the top level in the module, but are enclosed in the functions, and therefore, they can not be fetched with the `import` statement."
   ]
  },
  {
   "cell_type": "code",
   "execution_count": 86,
   "metadata": {
    "tags": []
   },
   "outputs": [
    {
     "name": "stdout",
     "output_type": "stream",
     "text": [
      "The value of the variable U is: 10\n",
      "I am a function named main_report\n"
     ]
    }
   ],
   "source": [
    "from my_module import *\n",
    "main_report()"
   ]
  },
  {
   "cell_type": "code",
   "execution_count": 87,
   "metadata": {
    "tags": []
   },
   "outputs": [
    {
     "ename": "NameError",
     "evalue": "name 'U' is not defined",
     "output_type": "error",
     "traceback": [
      "\u001b[1;31m---------------------------------------------------------------------------\u001b[0m",
      "\u001b[1;31mNameError\u001b[0m                                 Traceback (most recent call last)",
      "Cell \u001b[1;32mIn[87], line 1\u001b[0m\n\u001b[1;32m----> 1\u001b[0m U\n",
      "\u001b[1;31mNameError\u001b[0m: name 'U' is not defined"
     ]
    }
   ],
   "source": [
    "U"
   ]
  },
  {
   "cell_type": "markdown",
   "metadata": {},
   "source": [
    "One problem with using `from module import *` is that it can silently overwrite variables that have the same name as existing variables in our scope.\n",
    "\n",
    "In the following example, we have a variable `X = 15`, which was overwritten by the variable `X` with the same name in `my_module` which has the value 3. The way this variable was overwritten may not be obvious (e.g., in large modules with many variables we cannot remember and keep track of all variable names)."
   ]
  },
  {
   "cell_type": "code",
   "execution_count": 88,
   "metadata": {
    "tags": []
   },
   "outputs": [
    {
     "name": "stdout",
     "output_type": "stream",
     "text": [
      "3\n"
     ]
    }
   ],
   "source": [
    "X = 15\n",
    "from my_module import *\n",
    "print(X)"
   ]
  },
  {
   "cell_type": "markdown",
   "metadata": {},
   "source": [
    "On the other hand, if we use `import`, all names will be defined only within the scope of the module, and the names will not collide with other names in our programs."
   ]
  },
  {
   "cell_type": "code",
   "execution_count": 89,
   "metadata": {
    "tags": []
   },
   "outputs": [],
   "source": [
    "X = 15\n",
    "import my_module\n",
    "# The print statements this time were not displayed (the reason why it so is explained in the Appendix)"
   ]
  },
  {
   "cell_type": "code",
   "execution_count": 90,
   "metadata": {
    "tags": []
   },
   "outputs": [
    {
     "name": "stdout",
     "output_type": "stream",
     "text": [
      "15\n",
      "3\n"
     ]
    }
   ],
   "source": [
    "print(X)\n",
    "print(my_module.X)"
   ]
  },
  {
   "cell_type": "markdown",
   "metadata": {},
   "source": [
    "Therefore, programmers need to be careful when using the `from` statement (especially with `*`), and the `import` only statement should be preferred. However, `from` provides convenience of less typing."
   ]
  },
  {
   "cell_type": "markdown",
   "metadata": {},
   "source": [
    "#### When Using `import` is Required\n",
    "\n",
    "When the same name of a variable or function is defined in two different modules, and we need to use both of the names at the same time, then we must use the `import` statement. \n",
    "\n",
    "For instance, let's assume that another module file named `module_no_2.py` also contains a variable `X` and a function `main_report`."
   ]
  },
  {
   "cell_type": "markdown",
   "metadata": {},
   "source": [
    "<img style=\"float: left; height:220px;\" src=\"images/pic2.png\">"
   ]
  },
  {
   "cell_type": "markdown",
   "metadata": {},
   "source": [
    "Using `import` we can load the two different variables `X`, because including the name of the enclosing module makes the two names unique."
   ]
  },
  {
   "cell_type": "code",
   "execution_count": 91,
   "metadata": {
    "tags": []
   },
   "outputs": [
    {
     "name": "stdout",
     "output_type": "stream",
     "text": [
      "I am inside module_no_2\n",
      "The value of the variable X is: 22\n"
     ]
    }
   ],
   "source": [
    "import my_module # when a module is imported the first time, it is executed\n",
    "import module_no_2 # when a module is imported afterward, it is not executed"
   ]
  },
  {
   "cell_type": "code",
   "execution_count": 92,
   "metadata": {
    "tags": []
   },
   "outputs": [
    {
     "name": "stdout",
     "output_type": "stream",
     "text": [
      "3\n",
      "22\n"
     ]
    }
   ],
   "source": [
    "print(my_module.X)\n",
    "print(module_no_2.X)"
   ]
  },
  {
   "cell_type": "markdown",
   "metadata": {},
   "source": [
    "The same holds for the function `main_report` which appears in both modules."
   ]
  },
  {
   "cell_type": "code",
   "execution_count": 93,
   "metadata": {
    "tags": []
   },
   "outputs": [
    {
     "name": "stdout",
     "output_type": "stream",
     "text": [
      "The value of the variable U is: 10\n",
      "I am a function named main_report\n",
      "The value of the variable Y is: 15\n",
      "I am a function named main_report\n"
     ]
    }
   ],
   "source": [
    "my_module.main_report()\n",
    "module_no_2.main_report()"
   ]
  },
  {
   "cell_type": "markdown",
   "metadata": {},
   "source": [
    "In this case, the `from` statement will fail because we can have only one assignment to the name `X` in the scope."
   ]
  },
  {
   "cell_type": "code",
   "execution_count": 94,
   "metadata": {
    "tags": []
   },
   "outputs": [
    {
     "name": "stdout",
     "output_type": "stream",
     "text": [
      "22\n"
     ]
    }
   ],
   "source": [
    "# Only one variable name X can exist at one time\n",
    "from my_module import X\n",
    "from module_no_2 import X\n",
    "print(X)"
   ]
  },
  {
   "cell_type": "markdown",
   "metadata": {},
   "source": [
    "Another way to resolve the name clashing problem is to use the `as` extension to `from/import` that allows to import a name under another name that will be used as a synonym."
   ]
  },
  {
   "cell_type": "code",
   "execution_count": 95,
   "metadata": {
    "tags": []
   },
   "outputs": [
    {
     "name": "stdout",
     "output_type": "stream",
     "text": [
      "3\n",
      "22\n"
     ]
    }
   ],
   "source": [
    "from my_module import X as X1\n",
    "from module_no_2 import X as X2\n",
    "print(X1)\n",
    "print(X2)"
   ]
  },
  {
   "cell_type": "markdown",
   "metadata": {},
   "source": [
    "#### Module Namespaces\n",
    "\n",
    "Modules can be understood as places where collections of names are defined that we want to make visible to the rest of our code. These collections of names live in the module's namespace and represent the attributes of the module object.\n",
    "\n",
    "To access the namespace of `my_module` object, we can use the built-in `dir` method. We can notice the names we assigned to the module file: `X`, `Y`, `main_report`, and `sub_report`. However, Python also adds some names in the module’s namespace for us; for instance, `__file__` gives the path to the file the module was loaded from, and `__name__` gives the module name."
   ]
  },
  {
   "cell_type": "code",
   "execution_count": 96,
   "metadata": {
    "tags": []
   },
   "outputs": [
    {
     "data": {
      "text/plain": [
       "['X',\n",
       " 'Y',\n",
       " '__builtins__',\n",
       " '__cached__',\n",
       " '__doc__',\n",
       " '__file__',\n",
       " '__loader__',\n",
       " '__name__',\n",
       " '__package__',\n",
       " '__spec__',\n",
       " 'main_report',\n",
       " 'sub_report']"
      ]
     },
     "execution_count": 96,
     "metadata": {},
     "output_type": "execute_result"
    }
   ],
   "source": [
    "dir(my_module)"
   ]
  },
  {
   "cell_type": "markdown",
   "metadata": {},
   "source": [
    "Internally, the module namespaces created by imports are stored  as dictionary objects. Module namespaces can also be accessed through the built-in `__dict__` attribute associated with module objects, where the names are dictionary keys."
   ]
  },
  {
   "cell_type": "code",
   "execution_count": 97,
   "metadata": {
    "tags": []
   },
   "outputs": [
    {
     "data": {
      "text/plain": [
       "dict_keys(['__name__', '__doc__', '__package__', '__loader__', '__spec__', '__file__', '__cached__', '__builtins__', 'X', 'Y', 'sub_report', 'main_report'])"
      ]
     },
     "execution_count": 97,
     "metadata": {},
     "output_type": "execute_result"
    }
   ],
   "source": [
    "my_module.__dict__.keys()"
   ]
  },
  {
   "cell_type": "code",
   "execution_count": 98,
   "metadata": {
    "tags": []
   },
   "outputs": [
    {
     "data": {
      "text/plain": [
       "'C:\\\\Users\\\\vakanski\\\\Documents\\\\Codes\\\\2024 Codes\\\\Data Science Course\\\\Theme_1-Python_Programming\\\\Lecture_5-OOP,_Modules,_Packages\\\\Posted\\\\Lecture_5-OOP,_Modules,_Packages\\\\my_module.py'"
      ]
     },
     "execution_count": 98,
     "metadata": {},
     "output_type": "execute_result"
    }
   ],
   "source": [
    "my_module.__dict__['__file__']"
   ]
  },
  {
   "cell_type": "code",
   "execution_count": 99,
   "metadata": {
    "tags": []
   },
   "outputs": [
    {
     "data": {
      "text/plain": [
       "'my_module'"
      ]
     },
     "execution_count": 99,
     "metadata": {},
     "output_type": "execute_result"
    }
   ],
   "source": [
    "my_module.__dict__['__name__']"
   ]
  },
  {
   "cell_type": "markdown",
   "metadata": {},
   "source": [
    "## 5.3 Packages Coding Basics<a id=\"5.3-packages-coding-basics\"/>"
   ]
  },
  {
   "cell_type": "markdown",
   "metadata": {},
   "source": [
    "When we create programs in Python, it is helpful to organize the individual module files related to an application into sub-directories. A directory of Python code is referred to as a **package** or **modules package**. Importing a directory is known as a package import.\n",
    "\n",
    "For example, consider the directory `MyMainPackage` which is located in the same directory as this Jupyter notebook.\n",
    "\n",
    "```\n",
    "MyMainPackage\n",
    "    ├── __init__.py\n",
    "    ├── main_script\n",
    "    ├── MySubPackage\n",
    "    │   ├── __init__.py\n",
    "    │   ├── sub_script.py\n",
    "```\n",
    "\n",
    "To import the module file `sub_script.py`  which is located inside the directory `MySubPackage`, we can use the dotted syntax shown in the following cell `MyMainPackage.MySubPackage.sub_script`. In effect, this turns the directory `MyMainPackage` into a Python namespace, which has attributes corresponding to the sub-directories and module files that the directory contains.\n",
    "\n",
    "<img style=\"float: left; height:180px;\" src=\"images/pic_1_1.jpg\">"
   ]
  },
  {
   "cell_type": "code",
   "execution_count": 100,
   "metadata": {
    "tags": []
   },
   "outputs": [
    {
     "name": "stdout",
     "output_type": "stream",
     "text": [
      "I am inside sub_script, which is located in MySubPackage\n",
      "The value of the variable X is: 23\n"
     ]
    }
   ],
   "source": [
    "import MyMainPackage.MySubPackage.sub_script"
   ]
  },
  {
   "cell_type": "markdown",
   "metadata": {},
   "source": [
    "As we learned previously, `import` fetches a module as a whole, and the names (variables and functions) that are defined in the module `sub_script.py` become attributes of the imported object. These include the variable `X` and the function `sub_report`."
   ]
  },
  {
   "cell_type": "code",
   "execution_count": 101,
   "metadata": {
    "tags": []
   },
   "outputs": [
    {
     "data": {
      "text/plain": [
       "23"
      ]
     },
     "execution_count": 101,
     "metadata": {},
     "output_type": "execute_result"
    }
   ],
   "source": [
    "MyMainPackage.MySubPackage.sub_script.X"
   ]
  },
  {
   "cell_type": "code",
   "execution_count": 102,
   "metadata": {
    "tags": []
   },
   "outputs": [
    {
     "name": "stdout",
     "output_type": "stream",
     "text": [
      "I am a function inside sub_script\n",
      "The value of the variable Y is: 5\n"
     ]
    }
   ],
   "source": [
    "MyMainPackage.MySubPackage.sub_script.sub_report()"
   ]
  },
  {
   "cell_type": "markdown",
   "metadata": {},
   "source": [
    "The dotted path in the cell corresponds to the path through the directory hierarchy that leads to the module file `sub_script.py`, i.e., `MyMainPackage\\MySubPackage\\sub_script.py`.\n",
    "\n",
    "On the other hand, note that syntax with backward slashes does not work with the `import` statement."
   ]
  },
  {
   "cell_type": "code",
   "execution_count": 103,
   "metadata": {
    "tags": []
   },
   "outputs": [
    {
     "ename": "SyntaxError",
     "evalue": "unexpected character after line continuation character (71817859.py, line 1)",
     "output_type": "error",
     "traceback": [
      "\u001b[1;36m  Cell \u001b[1;32mIn[103], line 1\u001b[1;36m\u001b[0m\n\u001b[1;33m    import MyMainPackage\\MySubPackage\\sub_script\u001b[0m\n\u001b[1;37m                         ^\u001b[0m\n\u001b[1;31mSyntaxError\u001b[0m\u001b[1;31m:\u001b[0m unexpected character after line continuation character\n"
     ]
    }
   ],
   "source": [
    "import MyMainPackage\\MySubPackage\\sub_script"
   ]
  },
  {
   "cell_type": "markdown",
   "metadata": {},
   "source": [
    "Similarly to `import` and `from` statements with modules, to fetch specific names from the `sub_script.py` module, we can use the `from` statement with packages as well."
   ]
  },
  {
   "cell_type": "code",
   "execution_count": 104,
   "metadata": {
    "tags": []
   },
   "outputs": [],
   "source": [
    "from MyMainPackage.MySubPackage.sub_script import X"
   ]
  },
  {
   "cell_type": "code",
   "execution_count": 105,
   "metadata": {
    "tags": []
   },
   "outputs": [
    {
     "data": {
      "text/plain": [
       "23"
      ]
     },
     "execution_count": 105,
     "metadata": {},
     "output_type": "execute_result"
    }
   ],
   "source": [
    "X"
   ]
  },
  {
   "cell_type": "code",
   "execution_count": 106,
   "metadata": {
    "tags": []
   },
   "outputs": [],
   "source": [
    "from MyMainPackage.MySubPackage.sub_script import sub_report"
   ]
  },
  {
   "cell_type": "code",
   "execution_count": 107,
   "metadata": {
    "tags": []
   },
   "outputs": [
    {
     "name": "stdout",
     "output_type": "stream",
     "text": [
      "I am a function inside sub_script\n",
      "The value of the variable Y is: 5\n"
     ]
    }
   ],
   "source": [
    "sub_report()"
   ]
  },
  {
   "cell_type": "markdown",
   "metadata": {},
   "source": [
    "### Package `__init__.py` Files"
   ]
  },
  {
   "cell_type": "markdown",
   "metadata": {},
   "source": [
    "When using package imports, there is one more constraint that we need to follow: each directory named within the path of a package import statement must contain a file named `__init__.py`. Otherwise, the package import will fail. \n",
    "\n",
    "In the example we have been using, note that both `MyMainPackage` and `MySubPacakge` directories contain a file called `__init__.py`. The `__init__.py` names are special, as they declare that a directory is a Python package.\n",
    "\n",
    "The `__init__.py` files are very often completely empty, and don't contain any code. But, they can also contain Python code, just like other module files. \n",
    "\n",
    "The `__init__.py`files are run automatically the first time a Python program imports a directory. Because of that, `__init__.py` files can be used to store code to initialize the state required by files in a package (e.g., to create required data files, open connections to databases, and so on).\n",
    "\n",
    "On a separate note, don’t confuse `__init__.py` files in module packages with the `__init__()` class constructor method that we used before for specifying attributes of class instances. Both have initialization roles, but they are otherwise very different."
   ]
  },
  {
   "cell_type": "markdown",
   "metadata": {},
   "source": [
    "### 5.3.1 Difference Between `from` and `import` with Packages<a id=\"5.3.1-difference-between-from-and-import-with-packages\"/>"
   ]
  },
  {
   "cell_type": "markdown",
   "metadata": {},
   "source": [
    "The `import` statement can be somewhat inconvenient to use with packages, because we may have to retype the paths to the files and sub-directories frequently in our program. In our example, we must retype and rerun the full path from `MyMainPackage` each time we want to reach the names in the `sub_script.py` file. Otherwise, we will get an error."
   ]
  },
  {
   "cell_type": "code",
   "execution_count": 108,
   "metadata": {
    "tags": []
   },
   "outputs": [
    {
     "ename": "NameError",
     "evalue": "name 'sub_script' is not defined",
     "output_type": "error",
     "traceback": [
      "\u001b[1;31m---------------------------------------------------------------------------\u001b[0m",
      "\u001b[1;31mNameError\u001b[0m                                 Traceback (most recent call last)",
      "Cell \u001b[1;32mIn[108], line 1\u001b[0m\n\u001b[1;32m----> 1\u001b[0m sub_script\u001b[38;5;241m.\u001b[39mX\n",
      "\u001b[1;31mNameError\u001b[0m: name 'sub_script' is not defined"
     ]
    }
   ],
   "source": [
    "sub_script.X"
   ]
  },
  {
   "cell_type": "code",
   "execution_count": 109,
   "metadata": {
    "tags": []
   },
   "outputs": [
    {
     "ename": "NameError",
     "evalue": "name 'MySubPackage' is not defined",
     "output_type": "error",
     "traceback": [
      "\u001b[1;31m---------------------------------------------------------------------------\u001b[0m",
      "\u001b[1;31mNameError\u001b[0m                                 Traceback (most recent call last)",
      "Cell \u001b[1;32mIn[109], line 1\u001b[0m\n\u001b[1;32m----> 1\u001b[0m MySubPackage\u001b[38;5;241m.\u001b[39msub_script\u001b[38;5;241m.\u001b[39mX\n",
      "\u001b[1;31mNameError\u001b[0m: name 'MySubPackage' is not defined"
     ]
    }
   ],
   "source": [
    "MySubPackage.sub_script.X"
   ]
  },
  {
   "cell_type": "code",
   "execution_count": 111,
   "metadata": {
    "tags": []
   },
   "outputs": [
    {
     "data": {
      "text/plain": [
       "23"
      ]
     },
     "execution_count": 111,
     "metadata": {},
     "output_type": "execute_result"
    }
   ],
   "source": [
    "MyMainPackage.MySubPackage.sub_script.X"
   ]
  },
  {
   "cell_type": "code",
   "execution_count": 112,
   "metadata": {
    "tags": []
   },
   "outputs": [
    {
     "name": "stdout",
     "output_type": "stream",
     "text": [
      "50\n",
      "1\n",
      "5.0\n"
     ]
    }
   ],
   "source": [
    "# Use X in our code\n",
    "print(MyMainPackage.MySubPackage.sub_script.X + 27)\n",
    "print(MyMainPackage.MySubPackage.sub_script.X % 2)\n",
    "print((MyMainPackage.MySubPackage.sub_script.X -13)/2)"
   ]
  },
  {
   "cell_type": "markdown",
   "metadata": {},
   "source": [
    "It is often more convenient to use the `from` statement with packages to avoid retyping the paths at each access. "
   ]
  },
  {
   "cell_type": "code",
   "execution_count": 113,
   "metadata": {
    "tags": []
   },
   "outputs": [
    {
     "data": {
      "text/plain": [
       "23"
      ]
     },
     "execution_count": 113,
     "metadata": {},
     "output_type": "execute_result"
    }
   ],
   "source": [
    "from MyMainPackage.MySubPackage.sub_script import X\n",
    "X"
   ]
  },
  {
   "cell_type": "code",
   "execution_count": 114,
   "metadata": {
    "tags": []
   },
   "outputs": [
    {
     "name": "stdout",
     "output_type": "stream",
     "text": [
      "50\n",
      "1\n",
      "5.0\n"
     ]
    }
   ],
   "source": [
    "print(X + 27)\n",
    "print(X % 2)\n",
    "print((X - 13)/2)"
   ]
  },
  {
   "cell_type": "markdown",
   "metadata": {},
   "source": [
    "In addition, if we ever restructure or rename the directory tree, the `from` statement requires just one path update in the code, whereas the `import` statement may require updates in many lines in the code. "
   ]
  },
  {
   "cell_type": "markdown",
   "metadata": {},
   "source": [
    "However, `import` can be advantageous if there are two modules with the same name that are located in different directories, and are used in the same program. With the `from` statement, we can reach only one of the two modules at a time.\n",
    "\n",
    "For example, in our `MyMainPackage`, there is a function `sub_report` in both the `main_script` and `sub_script`. If we use `from` statement, the name `sub_report` will change depending on whether it is imported from the `main_script` or the `sub_script`.\n",
    "\n",
    "<img style=\"float: left; height:180px;\" src=\"images/pic_1_1.jpg\">\n",
    "\n",
    "<img style=\"float: left; height:280px;\" src=\"images/pic_1_2.jpg\">"
   ]
  },
  {
   "cell_type": "code",
   "execution_count": 115,
   "metadata": {
    "tags": []
   },
   "outputs": [],
   "source": [
    "from MyMainPackage.MySubPackage.sub_script import sub_report"
   ]
  },
  {
   "cell_type": "code",
   "execution_count": 116,
   "metadata": {
    "tags": []
   },
   "outputs": [
    {
     "name": "stdout",
     "output_type": "stream",
     "text": [
      "I am a function inside sub_script\n",
      "The value of the variable Y is: 5\n"
     ]
    }
   ],
   "source": [
    "sub_report()"
   ]
  },
  {
   "cell_type": "code",
   "execution_count": 117,
   "metadata": {
    "tags": []
   },
   "outputs": [
    {
     "name": "stdout",
     "output_type": "stream",
     "text": [
      "I am inside main_script, which is located in MyMainPackage\n",
      "The value of the variable X is: 12\n"
     ]
    }
   ],
   "source": [
    "from MyMainPackage.main_script import sub_report"
   ]
  },
  {
   "cell_type": "code",
   "execution_count": 118,
   "metadata": {
    "tags": []
   },
   "outputs": [
    {
     "name": "stdout",
     "output_type": "stream",
     "text": [
      "I am a function inside main_script\n",
      "The value of the variable Z is: 6\n"
     ]
    }
   ],
   "source": [
    "# Name collision with the sub_report name used in the cell above\n",
    "sub_report()"
   ]
  },
  {
   "cell_type": "markdown",
   "metadata": {},
   "source": [
    "But, with the `import` statement, we can use either of the two functions `sub_report`, because their names will involve their full path, and this way, the names will not clash. The only inconvenience is that we need to type the full paths to the two functions."
   ]
  },
  {
   "cell_type": "code",
   "execution_count": 119,
   "metadata": {
    "tags": []
   },
   "outputs": [
    {
     "name": "stdout",
     "output_type": "stream",
     "text": [
      "I am a function inside sub_script\n",
      "The value of the variable Y is: 5\n"
     ]
    }
   ],
   "source": [
    "import MyMainPackage.MySubPackage.sub_script\n",
    "MyMainPackage.MySubPackage.sub_script.sub_report()"
   ]
  },
  {
   "cell_type": "code",
   "execution_count": 120,
   "metadata": {
    "tags": []
   },
   "outputs": [
    {
     "name": "stdout",
     "output_type": "stream",
     "text": [
      "I am a function inside main_script\n",
      "The value of the variable Z is: 6\n"
     ]
    }
   ],
   "source": [
    "import MyMainPackage.main_script\n",
    "MyMainPackage.main_script.sub_report()"
   ]
  },
  {
   "cell_type": "markdown",
   "metadata": {},
   "source": [
    "Another alternative is to use the `as` extension, which will create unique synonyms for the names of the two functions. As we mentioned before, this extension is commonly used to provide short synonyms for longer names, and to avoid name clashes when we are already using a name in a script that would otherwise be overwritten by a regular `import` statement."
   ]
  },
  {
   "cell_type": "code",
   "execution_count": 121,
   "metadata": {
    "tags": []
   },
   "outputs": [
    {
     "name": "stdout",
     "output_type": "stream",
     "text": [
      "I am a function inside sub_script\n",
      "The value of the variable Y is: 5\n"
     ]
    }
   ],
   "source": [
    "from MyMainPackage.MySubPackage.sub_script import sub_report as sub_sub_report\n",
    "sub_sub_report()"
   ]
  },
  {
   "cell_type": "code",
   "execution_count": 122,
   "metadata": {
    "tags": []
   },
   "outputs": [
    {
     "name": "stdout",
     "output_type": "stream",
     "text": [
      "I am a function inside main_script\n",
      "The value of the variable Z is: 6\n"
     ]
    }
   ],
   "source": [
    "from MyMainPackage.main_script import sub_report as main_sub_report\n",
    "main_sub_report()"
   ]
  },
  {
   "cell_type": "markdown",
   "metadata": {},
   "source": [
    "## Appendix 1: Additional OOP Info<a id=\"appendix-1:-additional-oop-info\"/>"
   ]
  },
  {
   "cell_type": "markdown",
   "metadata": {},
   "source": [
    "**The material in the Appendix is not required for quizzes and assignments.**"
   ]
  },
  {
   "cell_type": "markdown",
   "metadata": {},
   "source": [
    "### Static Methods and Class Methods"
   ]
  },
  {
   "cell_type": "markdown",
   "metadata": {},
   "source": [
    "In Section 5.1.3 above we studied **instance methods**, and we explained that they are applied to class instances through the use of the keyword `self`. \n",
    "\n",
    "In Python there are also **static methods** and **class methods**, that are defined inside a class and are not connected to a particular instance of that class. These methods are created with the built-in decorators `@staticmethod` and `@classmethod`."
   ]
  },
  {
   "cell_type": "markdown",
   "metadata": {},
   "source": [
    "The following code shows the difference in the syntax between instance method, `@classmethod` and `@staticmethod`. "
   ]
  },
  {
   "cell_type": "code",
   "execution_count": 123,
   "metadata": {},
   "outputs": [],
   "source": [
    "class MyClass:\n",
    "    def instance_method(self, arg1, arg2, argN):\n",
    "        return 'instance method called', self\n",
    "\n",
    "    @classmethod\n",
    "    def classmethod(cls, arg1, arg2, argN):\n",
    "        return 'class method called', cls\n",
    "\n",
    "    @staticmethod\n",
    "    def staticmethod(arg1, arg2, argN):\n",
    "        return 'static method called'"
   ]
  },
  {
   "cell_type": "markdown",
   "metadata": {},
   "source": [
    "#### Static Methods with `@staticmethod`\n",
    "\n",
    "In Python and other programming languages, a **static method** is a method that does not require the creation of an instance of a class. For Python, it means that the first argument of a static method is not `self`, but a regular positional or keyword argument. Also, a static method can have no arguments at all, as in the following example.\n",
    "\n",
    "In general, static methods are used to create helper functions that have a logical connection with the class but do not have access to the attributes or methods of the class, or to the class instances."
   ]
  },
  {
   "cell_type": "code",
   "execution_count": 124,
   "metadata": {},
   "outputs": [],
   "source": [
    "class Cellphone:\n",
    "    def __init__(self, brand, number):\n",
    "        self.brand = brand\n",
    "        self.number = number\n",
    "        \n",
    "    def get_number(self):\n",
    "        return self.number\n",
    "      \n",
    "    @staticmethod\n",
    "    def get_emergency_number():\n",
    "        return \"911\"    "
   ]
  },
  {
   "cell_type": "code",
   "execution_count": 125,
   "metadata": {},
   "outputs": [
    {
     "data": {
      "text/plain": [
       "'911'"
      ]
     },
     "execution_count": 125,
     "metadata": {},
     "output_type": "execute_result"
    }
   ],
   "source": [
    "Cellphone.get_emergency_number()"
   ]
  },
  {
   "cell_type": "markdown",
   "metadata": {},
   "source": [
    "In this example, `get_number()` is a regular instance method of the class and requires the creation of an instance. The method `get_emergency_number()` is a static method because it is decorated with the `@staticmethod` decorator. Also note that `get_emergency_number()` does not have `self` as the first argument, which means that it does not require the creation of an instance of the `Cellphone` class. \n",
    "\n",
    "Again, `get_emergency_number()` can just work as a standalone function, and it does not need to be defined as a static method. However, it makes sense and is intuitive to put it in the `Cellphone` class because a cellphone should be able to provide the emergency number."
   ]
  },
  {
   "cell_type": "markdown",
   "metadata": {},
   "source": [
    "Here is one more example of using a static method. The method `is_full_name()` just checks whether the entered name for a student consists of more than one string. "
   ]
  },
  {
   "cell_type": "code",
   "execution_count": 126,
   "metadata": {},
   "outputs": [],
   "source": [
    "class Student():\n",
    "\n",
    "    def __init__(self, first_name, last_name):\n",
    "        self.first_name = first_name\n",
    "        self.last_name = last_name\n",
    "\n",
    "    @staticmethod\n",
    "    def is_full_name(name_str):\n",
    "        names = name_str.split(' ')\n",
    "        return len(names) > 1"
   ]
  },
  {
   "cell_type": "code",
   "execution_count": 127,
   "metadata": {},
   "outputs": [],
   "source": [
    "scott = Student('Scott',  'Robinson')"
   ]
  },
  {
   "cell_type": "code",
   "execution_count": 128,
   "metadata": {},
   "outputs": [
    {
     "data": {
      "text/plain": [
       "True"
      ]
     },
     "execution_count": 128,
     "metadata": {},
     "output_type": "execute_result"
    }
   ],
   "source": [
    "# call the static method\n",
    "Student.is_full_name('Scott Robinson')"
   ]
  },
  {
   "cell_type": "code",
   "execution_count": 129,
   "metadata": {},
   "outputs": [
    {
     "data": {
      "text/plain": [
       "False"
      ]
     },
     "execution_count": 129,
     "metadata": {},
     "output_type": "execute_result"
    }
   ],
   "source": [
    "# call the static method\n",
    "Student.is_full_name('Scott')          "
   ]
  },
  {
   "cell_type": "markdown",
   "metadata": {},
   "source": [
    "And one more example of using `@staticmethod` follows. In order to convert the slash-dates to dash-dates, we used the function `toDashDate` within the `Dates` class. It is a static method because it doesn't need to access any properties of the class `Dates` through `self`. It is also possible to create a function `toDashDate()` outside the class, but since it works for dates, it is logical to keep it inside the `Dates` class."
   ]
  },
  {
   "cell_type": "code",
   "execution_count": 130,
   "metadata": {},
   "outputs": [],
   "source": [
    "class Dates:\n",
    "    def __init__(self, date):\n",
    "        self.date = date\n",
    "        \n",
    "    def getDate(self):\n",
    "        return self.date\n",
    "\n",
    "    @staticmethod\n",
    "    def toDashDate(slash_date):\n",
    "        return slash_date.replace(\"/\", \"-\")"
   ]
  },
  {
   "cell_type": "code",
   "execution_count": 131,
   "metadata": {},
   "outputs": [
    {
     "data": {
      "text/plain": [
       "'15/12/2016'"
      ]
     },
     "execution_count": 131,
     "metadata": {},
     "output_type": "execute_result"
    }
   ],
   "source": [
    "date1 = Dates(\"15/12/2016\")\n",
    "date1.getDate()"
   ]
  },
  {
   "cell_type": "code",
   "execution_count": 132,
   "metadata": {},
   "outputs": [
    {
     "data": {
      "text/plain": [
       "'15-12-2016'"
      ]
     },
     "execution_count": 132,
     "metadata": {},
     "output_type": "execute_result"
    }
   ],
   "source": [
    "date2 = Dates.toDashDate(\"15/12/2016\")\n",
    "date2"
   ]
  },
  {
   "cell_type": "markdown",
   "metadata": {},
   "source": [
    "In addition, static methods are used when we don't want subclasses of a superclass to change or override a specific implementation of a method. Because `@staticmethod` is ignorant of the class it is attached to, \n",
    "we can use it in subclasses just as it was defined in the superclass.\n",
    "\n",
    "In the following code, `DatesWithSlashes` is derived from the superclass `Dates`. We wouldn't want the subclass `DatesWithSlashes` to override the static method `toDashDate()` because it only has a single use, i.e., change slash-dates to dash-dates. Therefore, we will use the static method to our advantage by overriding `getDate()` method in the subclass so that it works well with the `DatesWithSlashes` class."
   ]
  },
  {
   "cell_type": "code",
   "execution_count": 133,
   "metadata": {},
   "outputs": [],
   "source": [
    "class Dates:\n",
    "    def __init__(self, date):\n",
    "        self.date = date\n",
    "        \n",
    "    def getDate(self):\n",
    "        return self.date\n",
    "\n",
    "    @staticmethod\n",
    "    def toDashDate(date):\n",
    "        return date.replace(\"/\", \"-\")\n",
    "\n",
    "class DatesWithSlashes(Dates):\n",
    "    def getDate(self):\n",
    "        return Dates.toDashDate(self.date)"
   ]
  },
  {
   "cell_type": "code",
   "execution_count": 134,
   "metadata": {},
   "outputs": [
    {
     "data": {
      "text/plain": [
       "'15/12/2016'"
      ]
     },
     "execution_count": 134,
     "metadata": {},
     "output_type": "execute_result"
    }
   ],
   "source": [
    "date1 = Dates(\"15/12/2016\")\n",
    "date1.getDate()"
   ]
  },
  {
   "cell_type": "code",
   "execution_count": 135,
   "metadata": {},
   "outputs": [
    {
     "data": {
      "text/plain": [
       "'15-12-2016'"
      ]
     },
     "execution_count": 135,
     "metadata": {},
     "output_type": "execute_result"
    }
   ],
   "source": [
    "date2 = DatesWithSlashes(\"15/12/2016\")\n",
    "date2.getDate()"
   ]
  },
  {
   "cell_type": "markdown",
   "metadata": {},
   "source": [
    "#### Class Methods with `@classmethod`\n",
    "\n",
    "In Python, a **class method** is created with the `@classmethod` decorator and requires the class itself as the first argument, which is written as `cls`. A class method returns an instance of the class with supplied arguments or adds other additional functionality. "
   ]
  },
  {
   "cell_type": "code",
   "execution_count": 136,
   "metadata": {},
   "outputs": [],
   "source": [
    "class Cellphone:\n",
    "    def __init__(self, brand, number):\n",
    "        self.brand = brand\n",
    "        self.number = number\n",
    "        \n",
    "    def get_number(self):\n",
    "        return self.number\n",
    "      \n",
    "    @staticmethod\n",
    "    def get_emergency_number():\n",
    "        return \"911\"\n",
    "      \n",
    "    @classmethod\n",
    "    def iphone(cls, number):\n",
    "        print(\"An iPhone is created.\")\n",
    "        return cls(\"Apple\", number)  "
   ]
  },
  {
   "cell_type": "code",
   "execution_count": 137,
   "metadata": {},
   "outputs": [
    {
     "name": "stdout",
     "output_type": "stream",
     "text": [
      "An iPhone is created.\n"
     ]
    }
   ],
   "source": [
    "# create an iPhone instance using the class method\n",
    "iphone = Cellphone.iphone(\"1112223333\")"
   ]
  },
  {
   "cell_type": "code",
   "execution_count": 138,
   "metadata": {},
   "outputs": [
    {
     "data": {
      "text/plain": [
       "'1112223333'"
      ]
     },
     "execution_count": 138,
     "metadata": {},
     "output_type": "execute_result"
    }
   ],
   "source": [
    "# call the instance method\n",
    "iphone.get_number()"
   ]
  },
  {
   "cell_type": "code",
   "execution_count": 139,
   "metadata": {},
   "outputs": [
    {
     "data": {
      "text/plain": [
       "'911'"
      ]
     },
     "execution_count": 139,
     "metadata": {},
     "output_type": "execute_result"
    }
   ],
   "source": [
    "# call the static method\n",
    "iphone.get_emergency_number()"
   ]
  },
  {
   "cell_type": "code",
   "execution_count": 140,
   "metadata": {},
   "outputs": [],
   "source": [
    "samsung1 = Cellphone('Samsung', '123456789')"
   ]
  },
  {
   "cell_type": "code",
   "execution_count": 141,
   "metadata": {},
   "outputs": [
    {
     "data": {
      "text/plain": [
       "'123456789'"
      ]
     },
     "execution_count": 141,
     "metadata": {},
     "output_type": "execute_result"
    }
   ],
   "source": [
    "samsung1.get_number()"
   ]
  },
  {
   "cell_type": "code",
   "execution_count": 142,
   "metadata": {},
   "outputs": [
    {
     "name": "stdout",
     "output_type": "stream",
     "text": [
      "An iPhone is created.\n"
     ]
    },
    {
     "data": {
      "text/plain": [
       "<__main__.Cellphone at 0x166da4ce1d0>"
      ]
     },
     "execution_count": 142,
     "metadata": {},
     "output_type": "execute_result"
    }
   ],
   "source": [
    "# the 'iphone' method cannot modify the instance 'samsung1'\n",
    "samsung1.iphone('222222222')"
   ]
  },
  {
   "cell_type": "code",
   "execution_count": 143,
   "metadata": {},
   "outputs": [
    {
     "data": {
      "text/plain": [
       "'Samsung'"
      ]
     },
     "execution_count": 143,
     "metadata": {},
     "output_type": "execute_result"
    }
   ],
   "source": [
    "# the brand attribute of the instance was not modified by the 'iphone' method\n",
    "# class method cannot modify specific instances\n",
    "samsung1.brand"
   ]
  },
  {
   "cell_type": "code",
   "execution_count": 144,
   "metadata": {},
   "outputs": [
    {
     "data": {
      "text/plain": [
       "'123456789'"
      ]
     },
     "execution_count": 144,
     "metadata": {},
     "output_type": "execute_result"
    }
   ],
   "source": [
    "# the number attribute of the instance was not modified by the 'iphone' method\n",
    "samsung1.number"
   ]
  },
  {
   "cell_type": "markdown",
   "metadata": {},
   "source": [
    "In this example, `iphone()` is a class method since it is decorated with the `@classmethod` decorator and has `cls` as the first argument. It returns an instance of the `Cellphone` class with the brand preset to `'Apple'`."
   ]
  },
  {
   "cell_type": "markdown",
   "metadata": {},
   "source": [
    "Class methods are often used as **alternative constructors** beside the `__init__()` constructor method, or as **factory methods** in order to create instances based on different use cases.\n",
    "\n",
    "This is shown in the following example. Here, the `__init__()` constructor method takes two parameters `name` and `age`. The class method `fromBirthYear()` takes class, name, and birthYear, and calculates the current age by subtracting it from the current year. That is, it allows to create instances based on the year of birth, instead of based on the age. The reason for it is because we don’t want the list of arguments in the `__init__()` method  to be lengthy and confusing. Instead, we can use class methods to return a new instance based on different arguments. \n",
    "\n",
    "Note again that the `fromBirthYear()` method takes `Person` class as the first parameter `cls `, and not an instance of the class Person via `self`. Also, this method returns `cls(name, date.today().year - birthYear)`, which is equivalent to `Person(name, date.today().year - birthYear)`. "
   ]
  },
  {
   "cell_type": "code",
   "execution_count": 145,
   "metadata": {},
   "outputs": [],
   "source": [
    "from datetime import date\n",
    "\n",
    "# random Person\n",
    "class Person:\n",
    "    def __init__(self, name, age):\n",
    "        self.name = name\n",
    "        self.age = age\n",
    "\n",
    "    @classmethod\n",
    "    def fromBirthYear(cls, name, birthYear):\n",
    "        return cls(name, date.today().year - birthYear)\n",
    "\n",
    "    def display(self):\n",
    "        print(self.name + \"'s age is: \" + str(self.age))"
   ]
  },
  {
   "cell_type": "code",
   "execution_count": 146,
   "metadata": {},
   "outputs": [
    {
     "name": "stdout",
     "output_type": "stream",
     "text": [
      "Adam's age is: 19\n"
     ]
    }
   ],
   "source": [
    "person1 = Person('Adam', 19)\n",
    "person1.display()"
   ]
  },
  {
   "cell_type": "code",
   "execution_count": 147,
   "metadata": {},
   "outputs": [
    {
     "name": "stdout",
     "output_type": "stream",
     "text": [
      "John's age is: 39\n"
     ]
    }
   ],
   "source": [
    "person2 = Person.fromBirthYear('John',  1985)\n",
    "person2.display()"
   ]
  },
  {
   "cell_type": "code",
   "execution_count": 148,
   "metadata": {},
   "outputs": [
    {
     "data": {
      "text/plain": [
       "<__main__.Person at 0x166da480c90>"
      ]
     },
     "execution_count": 148,
     "metadata": {},
     "output_type": "execute_result"
    }
   ],
   "source": [
    "# class method cannot modify specific instances\n",
    "person1.fromBirthYear('John', 1985)"
   ]
  },
  {
   "cell_type": "code",
   "execution_count": 149,
   "metadata": {},
   "outputs": [
    {
     "data": {
      "text/plain": [
       "'Adam'"
      ]
     },
     "execution_count": 149,
     "metadata": {},
     "output_type": "execute_result"
    }
   ],
   "source": [
    "person1.name"
   ]
  },
  {
   "cell_type": "markdown",
   "metadata": {},
   "source": [
    "The main difference between a static method and a class method is:\n",
    "\n",
    "- Static methods can neither modify the class nor class instances, and they just handle the attributes. They are used to create helper or utility functions. Static methods have a logical connection with the class but do not have access to class or instance states. \n",
    "- Class methods can modify the class since its parameter is always the class itself, but they cannot modify class instances. They can be used as factory methods to create new instances based on alternative information about a class."
   ]
  },
  {
   "cell_type": "markdown",
   "metadata": {
    "tags": []
   },
   "source": [
    "### Abstract Classes"
   ]
  },
  {
   "cell_type": "markdown",
   "metadata": {
    "slideshow": {
     "slide_type": "slide"
    }
   },
   "source": [
    "An **abstract class** is one that never expects to be instantiated. In the next example, we will never instantiate an Animal object, but only Dog and Cat objects will be derived from the class Animal.\n",
    "\n",
    "Abstract classes allow to create a set of methods that must be created within any subclasses built from the abstract class. An **abstract method** is a method that has a declaration but does not have an implementation. An example is the `speak` method in the Animal class. Abstract classes are helpful when designing large functional units and we want to provide a common interface for different implementations of a method. \n",
    "\n",
    "> An **abstract class** is one that is not expected to be instantiated, and contains one or more abstract methods.\n",
    "\n",
    "Python supports abstract classes through the `abc` module, which provides the infrastructure for defining abstract classes. Defining an abstract method is achieved by using the `@abstractmethod` decorator."
   ]
  },
  {
   "cell_type": "code",
   "execution_count": 150,
   "metadata": {},
   "outputs": [
    {
     "name": "stdout",
     "output_type": "stream",
     "text": [
      "Fido says Woof!\n",
      "Isis says Meow!\n"
     ]
    }
   ],
   "source": [
    "from abc import ABC, abstractmethod\n",
    "\n",
    "# Abstract class\n",
    "class Animal(ABC):\n",
    "    \n",
    "    def __init__(self, name):    \n",
    "        self.name = name\n",
    "   \n",
    "    @abstractmethod\n",
    "    def speak(self):              # Abstract method, it is not implemented\n",
    "        pass\n",
    "\n",
    "# Subclass of Animal\n",
    "class Dog(Animal):    \n",
    "    \n",
    "    def speak(self):\n",
    "        return self.name+' says Woof!'\n",
    "\n",
    "# Subclass of Animal    \n",
    "class Cat(Animal):   \n",
    "    \n",
    "    def speak(self):\n",
    "        return self.name+' says Meow!'\n",
    "\n",
    "# Create instances\n",
    "fido = Dog('Fido')\n",
    "isis = Cat('Isis')\n",
    "\n",
    "# The method 'speak' has different implementations for the subclasses Dog and Cat\n",
    "print(fido.speak())\n",
    "print(isis.speak())"
   ]
  },
  {
   "cell_type": "markdown",
   "metadata": {},
   "source": [
    "Note that the abstract class Animal cannot be instantiated, because it has only an abstract version of the `speak` method. "
   ]
  },
  {
   "cell_type": "code",
   "execution_count": 151,
   "metadata": {},
   "outputs": [
    {
     "ename": "TypeError",
     "evalue": "Can't instantiate abstract class Animal with abstract method speak",
     "output_type": "error",
     "traceback": [
      "\u001b[1;31m---------------------------------------------------------------------------\u001b[0m",
      "\u001b[1;31mTypeError\u001b[0m                                 Traceback (most recent call last)",
      "Cell \u001b[1;32mIn[151], line 1\u001b[0m\n\u001b[1;32m----> 1\u001b[0m a \u001b[38;5;241m=\u001b[39m Animal(\u001b[38;5;124m'\u001b[39m\u001b[38;5;124mfido\u001b[39m\u001b[38;5;124m'\u001b[39m)\n",
      "\u001b[1;31mTypeError\u001b[0m: Can't instantiate abstract class Animal with abstract method speak"
     ]
    }
   ],
   "source": [
    "a = Animal('fido')"
   ]
  },
  {
   "cell_type": "markdown",
   "metadata": {},
   "source": [
    "By defining an abstract class, one can define common methods for a set of subclasses. This capability is especially useful in situations where a third-party is going to provide implementations, or it can also help when working in a large team or with a large code-base where maintaining all classes is difficult or not possible. "
   ]
  },
  {
   "cell_type": "markdown",
   "metadata": {},
   "source": [
    "One more example is shown, where the abstract class `Employee` has an abstract method `get_salary`. The subclasses `FulltimeEmployee` and `HourlyEmployee` are derived, and they define different `get_salary` methods for each class. The class `Payroll` has methods to add an employee and print the name and salary information. "
   ]
  },
  {
   "cell_type": "code",
   "execution_count": 152,
   "metadata": {},
   "outputs": [],
   "source": [
    "from abc import ABC, abstractmethod\n",
    "\n",
    "# Abstract class Employee\n",
    "class Employee(ABC):\n",
    "    def __init__(self, first_name, last_name):\n",
    "        self.first_name = first_name\n",
    "        self.last_name = last_name\n",
    "\n",
    "    @abstractmethod\n",
    "    def get_salary(self):\n",
    "        pass\n",
    "    \n",
    "# Subclass \n",
    "class FulltimeEmployee(Employee):\n",
    "    def __init__(self, first_name, last_name, salary):\n",
    "        super().__init__(first_name, last_name)\n",
    "        self.salary = salary\n",
    "\n",
    "    def get_salary(self):\n",
    "        return self.salary\n",
    "    \n",
    "# Subclass \n",
    "class HourlyEmployee(Employee):\n",
    "    def __init__(self, first_name, last_name, worked_hours, rate):\n",
    "        super().__init__(first_name, last_name)\n",
    "        self.worked_hours = worked_hours\n",
    "        self.rate = rate\n",
    "\n",
    "    def get_salary(self):\n",
    "        return self.worked_hours * self.rate\n",
    "\n",
    "# A separate class Payroll\n",
    "class Payroll:\n",
    "    def __init__(self):\n",
    "        self.employee_list = []\n",
    "\n",
    "    def add(self, employee):\n",
    "        self.employee_list.append(employee)\n",
    "\n",
    "    def display(self):\n",
    "        for e in self.employee_list:\n",
    "            print(f'{e.first_name} {e.last_name} \\t ${e.get_salary()}')"
   ]
  },
  {
   "cell_type": "code",
   "execution_count": 153,
   "metadata": {},
   "outputs": [],
   "source": [
    "payroll = Payroll()\n",
    "\n",
    "payroll.add(FulltimeEmployee('John', 'Doe', 6000))\n",
    "payroll.add(FulltimeEmployee('Jane', 'Doe', 6500))\n",
    "payroll.add(HourlyEmployee('Jenifer', 'Smith', 200, 50))\n",
    "payroll.add(HourlyEmployee('David', 'Wilson', 150, 100))\n",
    "payroll.add(HourlyEmployee('Kevin', 'Miller', 100, 150))"
   ]
  },
  {
   "cell_type": "code",
   "execution_count": 154,
   "metadata": {},
   "outputs": [
    {
     "name": "stdout",
     "output_type": "stream",
     "text": [
      "John Doe \t $6000\n",
      "Jane Doe \t $6500\n",
      "Jenifer Smith \t $10000\n",
      "David Wilson \t $15000\n",
      "Kevin Miller \t $15000\n"
     ]
    }
   ],
   "source": [
    "payroll.display()"
   ]
  },
  {
   "cell_type": "markdown",
   "metadata": {},
   "source": [
    "### Additional Special Methods"
   ]
  },
  {
   "cell_type": "markdown",
   "metadata": {},
   "source": [
    "#### Indexing and Slicing with `__getitem__()` and `__setitem__()`"
   ]
  },
  {
   "cell_type": "markdown",
   "metadata": {},
   "source": [
    "Indexing in Python is implemented with the built-in method `__getitem__()`."
   ]
  },
  {
   "cell_type": "code",
   "execution_count": 155,
   "metadata": {},
   "outputs": [
    {
     "data": {
      "text/plain": [
       "1"
      ]
     },
     "execution_count": 155,
     "metadata": {},
     "output_type": "execute_result"
    }
   ],
   "source": [
    "list1 = [1, 2, 3]\n",
    "list1[0]"
   ]
  },
  {
   "cell_type": "code",
   "execution_count": 156,
   "metadata": {},
   "outputs": [
    {
     "data": {
      "text/plain": [
       "1"
      ]
     },
     "execution_count": 156,
     "metadata": {},
     "output_type": "execute_result"
    }
   ],
   "source": [
    "list1.__getitem__(0)"
   ]
  },
  {
   "cell_type": "markdown",
   "metadata": {},
   "source": [
    "We can implement the special method `__getitem__()` in our classes to provide built-in indexing behaviors of Python sequences to our class instances.\n",
    "\n",
    "In the following code, the `index` argument is used to specify the elements in `self.pay`."
   ]
  },
  {
   "cell_type": "code",
   "execution_count": 157,
   "metadata": {},
   "outputs": [],
   "source": [
    "class Employee: \n",
    "    \n",
    "    def __init__(self, name, pay): \n",
    "        self.name = name\n",
    "        self.pay = pay\n",
    "        \n",
    "    def __getitem__(self, index):\n",
    "        return self.pay[index]         "
   ]
  },
  {
   "cell_type": "code",
   "execution_count": 158,
   "metadata": {},
   "outputs": [
    {
     "name": "stdout",
     "output_type": "stream",
     "text": [
      "Bob Smith [50000, 55000, 53000, 60000]\n"
     ]
    }
   ],
   "source": [
    "bob = Employee(name='Bob Smith', pay=[50000, 55000, 53000, 60000])\n",
    "print(bob.name, bob.pay)"
   ]
  },
  {
   "cell_type": "code",
   "execution_count": 159,
   "metadata": {},
   "outputs": [
    {
     "data": {
      "text/plain": [
       "55000"
      ]
     },
     "execution_count": 159,
     "metadata": {},
     "output_type": "execute_result"
    }
   ],
   "source": [
    "bob[1]"
   ]
  },
  {
   "cell_type": "code",
   "execution_count": 160,
   "metadata": {},
   "outputs": [
    {
     "data": {
      "text/plain": [
       "60000"
      ]
     },
     "execution_count": 160,
     "metadata": {},
     "output_type": "execute_result"
    }
   ],
   "source": [
    "bob[-1]"
   ]
  },
  {
   "cell_type": "markdown",
   "metadata": {},
   "source": [
    "Interestingly, in addition to indexing, `__getitem__()` is also used for ***slicing expressions***, as shown below. The Python slice object is used for this purpose to define the starting and stopping index (and optional index step) for extracting the elements from a sequence."
   ]
  },
  {
   "cell_type": "code",
   "execution_count": 161,
   "metadata": {},
   "outputs": [],
   "source": [
    "list1 = [1, 2, 3, 4, 5]"
   ]
  },
  {
   "cell_type": "code",
   "execution_count": 162,
   "metadata": {},
   "outputs": [
    {
     "data": {
      "text/plain": [
       "[3, 4]"
      ]
     },
     "execution_count": 162,
     "metadata": {},
     "output_type": "execute_result"
    }
   ],
   "source": [
    "list1[slice(2, 4)]"
   ]
  },
  {
   "cell_type": "code",
   "execution_count": 163,
   "metadata": {},
   "outputs": [
    {
     "data": {
      "text/plain": [
       "[2, 3, 4]"
      ]
     },
     "execution_count": 163,
     "metadata": {},
     "output_type": "execute_result"
    }
   ],
   "source": [
    "list1[slice(1, -1)]"
   ]
  },
  {
   "cell_type": "code",
   "execution_count": 164,
   "metadata": {},
   "outputs": [
    {
     "data": {
      "text/plain": [
       "[4, 5]"
      ]
     },
     "execution_count": 164,
     "metadata": {},
     "output_type": "execute_result"
    }
   ],
   "source": [
    "list1[slice(3, None)]"
   ]
  },
  {
   "cell_type": "markdown",
   "metadata": {},
   "source": [
    "This means that we can use the `__getitem__()` method within our defined class to perform slicing, if we wanted to, and not only indexing."
   ]
  },
  {
   "cell_type": "code",
   "execution_count": 165,
   "metadata": {},
   "outputs": [
    {
     "name": "stdout",
     "output_type": "stream",
     "text": [
      "Bob Smith [50000, 55000, 53000, 60000]\n"
     ]
    }
   ],
   "source": [
    "print(bob.name, bob.pay)"
   ]
  },
  {
   "cell_type": "code",
   "execution_count": 166,
   "metadata": {},
   "outputs": [
    {
     "data": {
      "text/plain": [
       "[50000, 55000]"
      ]
     },
     "execution_count": 166,
     "metadata": {},
     "output_type": "execute_result"
    }
   ],
   "source": [
    "bob[0:2]"
   ]
  },
  {
   "cell_type": "code",
   "execution_count": 167,
   "metadata": {},
   "outputs": [
    {
     "data": {
      "text/plain": [
       "[55000, 53000, 60000]"
      ]
     },
     "execution_count": 167,
     "metadata": {},
     "output_type": "execute_result"
    }
   ],
   "source": [
    "bob[1:]"
   ]
  },
  {
   "cell_type": "markdown",
   "metadata": {},
   "source": [
    "On the other hand, if we want to change the value of `bob.pay` outside of the class, we won't be able to do that."
   ]
  },
  {
   "cell_type": "code",
   "execution_count": 168,
   "metadata": {},
   "outputs": [
    {
     "ename": "TypeError",
     "evalue": "'Employee' object does not support item assignment",
     "output_type": "error",
     "traceback": [
      "\u001b[1;31m---------------------------------------------------------------------------\u001b[0m",
      "\u001b[1;31mTypeError\u001b[0m                                 Traceback (most recent call last)",
      "Cell \u001b[1;32mIn[168], line 1\u001b[0m\n\u001b[1;32m----> 1\u001b[0m bob[\u001b[38;5;241m0\u001b[39m] \u001b[38;5;241m=\u001b[39m \u001b[38;5;241m25000\u001b[39m\n",
      "\u001b[1;31mTypeError\u001b[0m: 'Employee' object does not support item assignment"
     ]
    }
   ],
   "source": [
    "bob[0] = 25000"
   ]
  },
  {
   "cell_type": "markdown",
   "metadata": {},
   "source": [
    "The special method `__setitem__()` allows to assign values to sequence objects. In the example below, new value can be assigned to the elements of the instance `bob` with a user-entered index. "
   ]
  },
  {
   "cell_type": "code",
   "execution_count": 169,
   "metadata": {},
   "outputs": [],
   "source": [
    "class Employee: \n",
    "    \n",
    "    def __init__(self, name, pay): \n",
    "        self.name = name\n",
    "        self.pay = pay\n",
    "        \n",
    "    def __setitem__(self, index, value):\n",
    "        self.pay[index] = value        "
   ]
  },
  {
   "cell_type": "code",
   "execution_count": 170,
   "metadata": {},
   "outputs": [
    {
     "name": "stdout",
     "output_type": "stream",
     "text": [
      "Bob Smith [50000, 55000, 53000, 60000]\n"
     ]
    }
   ],
   "source": [
    "bob = Employee(name='Bob Smith', pay=[50000, 55000, 53000, 60000])\n",
    "print(bob.name, bob.pay)"
   ]
  },
  {
   "cell_type": "code",
   "execution_count": 171,
   "metadata": {},
   "outputs": [],
   "source": [
    "bob[0] = 45000"
   ]
  },
  {
   "cell_type": "code",
   "execution_count": 172,
   "metadata": {},
   "outputs": [
    {
     "name": "stdout",
     "output_type": "stream",
     "text": [
      "Bob Smith [45000, 55000, 53000, 60000]\n"
     ]
    }
   ],
   "source": [
    "print(bob.name, bob.pay)"
   ]
  },
  {
   "cell_type": "markdown",
   "metadata": {},
   "source": [
    "#### Printing using `__str__()` and `__repr__()`"
   ]
  },
  {
   "cell_type": "markdown",
   "metadata": {},
   "source": [
    "We know that `str()` is used to convert an object to a `str` object. Internally, it is implemented by the `__str__()` method. Moreover, Python uses `__str__()` when we call `print()` to display an object. "
   ]
  },
  {
   "cell_type": "markdown",
   "metadata": {},
   "source": [
    "Let's consider again the instance of the `Employee` class. If we call the instance `bob` which we created before or if we try to print it, we can see a general Python output that tells us that it is an object created by the `Employee` class and Python also provides its memory address."
   ]
  },
  {
   "cell_type": "code",
   "execution_count": 173,
   "metadata": {},
   "outputs": [
    {
     "data": {
      "text/plain": [
       "<__main__.Employee at 0x166d9603590>"
      ]
     },
     "execution_count": 173,
     "metadata": {},
     "output_type": "execute_result"
    }
   ],
   "source": [
    "bob"
   ]
  },
  {
   "cell_type": "code",
   "execution_count": 174,
   "metadata": {},
   "outputs": [
    {
     "name": "stdout",
     "output_type": "stream",
     "text": [
      "<__main__.Employee object at 0x00000166D9603590>\n"
     ]
    }
   ],
   "source": [
    "print(bob)"
   ]
  },
  {
   "cell_type": "markdown",
   "metadata": {},
   "source": [
    "We can implement the `__str__()` method, so that, when the class instance `self` is printed, we can customize the displayed output. The code below instructs the output to list the employee name and pay. Recall the string formatting methods, which we covered earlier: `%s` with `% (name)` formatting, `{}` with `.format(name)` formatting, and f strings `f` with `{name}` formatting."
   ]
  },
  {
   "cell_type": "code",
   "execution_count": 175,
   "metadata": {},
   "outputs": [],
   "source": [
    "class Employee: \n",
    "    def __init__(self, name, pay): \n",
    "        self.name = name\n",
    "        self.pay = pay\n",
    "    \n",
    "    def __str__(self): \n",
    "        return 'Employee name %s and pay %s' % (self.name, self.pay)\n",
    "        #  return 'Employee name {0} and pay {1}'.format(self.name, self.pay)\n",
    "        # return f'Employee name {self.name} and pay {self.pay}'"
   ]
  },
  {
   "cell_type": "code",
   "execution_count": 176,
   "metadata": {},
   "outputs": [
    {
     "name": "stdout",
     "output_type": "stream",
     "text": [
      "Bob Smith 50000\n"
     ]
    }
   ],
   "source": [
    "bob = Employee(name='Bob Smith', pay=50000)\n",
    "print(bob.name, bob.pay)"
   ]
  },
  {
   "cell_type": "code",
   "execution_count": 177,
   "metadata": {},
   "outputs": [
    {
     "name": "stdout",
     "output_type": "stream",
     "text": [
      "Employee name Bob Smith and pay 50000\n"
     ]
    }
   ],
   "source": [
    "print(bob)"
   ]
  },
  {
   "cell_type": "code",
   "execution_count": 178,
   "metadata": {},
   "outputs": [
    {
     "name": "stdout",
     "output_type": "stream",
     "text": [
      "Employee name Sue Jones and pay 60000\n"
     ]
    }
   ],
   "source": [
    "sue = Employee(name='Sue Jones', pay=60000)\n",
    "print(sue)"
   ]
  },
  {
   "cell_type": "markdown",
   "metadata": {},
   "source": [
    "If we enter only the instance name without `print`, we will still obtain the general Python output."
   ]
  },
  {
   "cell_type": "code",
   "execution_count": 179,
   "metadata": {},
   "outputs": [
    {
     "data": {
      "text/plain": [
       "<__main__.Employee at 0x166da4a8310>"
      ]
     },
     "execution_count": 179,
     "metadata": {},
     "output_type": "execute_result"
    }
   ],
   "source": [
    "sue"
   ]
  },
  {
   "cell_type": "markdown",
   "metadata": {},
   "source": [
    "Besides the `__str__()` method, another similar method is `__repr__()` which stands for *representation* and it is also used for overloading the `print` method in Python. It provides another way to customize the printed outputs, and returns what is known as *formal string representation*. Similarly, the `__str__()` method is known as *informal string representation*."
   ]
  },
  {
   "cell_type": "code",
   "execution_count": 180,
   "metadata": {},
   "outputs": [],
   "source": [
    "class Employee: \n",
    "    def __init__(self, name, pay): \n",
    "        self.name = name\n",
    "        self.pay = pay\n",
    "    \n",
    "    def __repr__(self): \n",
    "        return '<The name and pay for the employee are {} and {} dollars>'.format(self.name, self.pay)"
   ]
  },
  {
   "cell_type": "code",
   "execution_count": 181,
   "metadata": {},
   "outputs": [
    {
     "name": "stdout",
     "output_type": "stream",
     "text": [
      "<The name and pay for the employee are Sue Jones and 60000 dollars>\n"
     ]
    }
   ],
   "source": [
    "sue = Employee(name='Sue Jones', pay=60000)\n",
    "print(sue)"
   ]
  },
  {
   "cell_type": "markdown",
   "metadata": {},
   "source": [
    "Note also in the cell below that the displayed output for `sue` is the same as for `print(sue)`. I.e., Python uses `__repr__()` to display the object in the interactive prompt. "
   ]
  },
  {
   "cell_type": "code",
   "execution_count": 182,
   "metadata": {},
   "outputs": [
    {
     "data": {
      "text/plain": [
       "<The name and pay for the employee are Sue Jones and 60000 dollars>"
      ]
     },
     "execution_count": 182,
     "metadata": {},
     "output_type": "execute_result"
    }
   ],
   "source": [
    "sue"
   ]
  },
  {
   "cell_type": "markdown",
   "metadata": {},
   "source": [
    "The method `__repr__()` is more general than `_str__()` and it applies to nested appearances and a few other additional cases. The `__str__()` and `__repr__()` methods are very useful, because when other people are using our codes, they can get a good idea of what an object is by just printing it."
   ]
  },
  {
   "cell_type": "markdown",
   "metadata": {},
   "source": [
    "## Appendix 2: Modules and Packages Extras <a id=\"appendix-2:-modules-and-packages-extras\"/>"
   ]
  },
  {
   "cell_type": "markdown",
   "metadata": {},
   "source": [
    "### Modules Usage Modes: `__name__` and `__main__` "
   ]
  },
  {
   "cell_type": "markdown",
   "metadata": {},
   "source": [
    "We mentioned that each module has a built-in attribute called `__name__`, which\n",
    "Python assigns automatically to all module objects. The attribute is assigned as follows:\n",
    "\n",
    "- If the file is being imported by using the `import` statement, `__name__` is set to the module’s name.\n",
    "- If the file is being run as a top-level program file, `__name__` is set to the string `__main__`.\n",
    "\n",
    "Let's check it with an example. The module file `module_no_3` is shown below, and note that in the first line we will print the assigned attribute `__name__` to confirm that the above is correct. "
   ]
  },
  {
   "cell_type": "markdown",
   "metadata": {},
   "source": [
    "<img style=\"float: left; height:180px;\" src=\"images/pic3.jpg\">"
   ]
  },
  {
   "cell_type": "markdown",
   "metadata": {},
   "source": [
    "As expected, `__name__` is assigned to `module_no_3` when imported."
   ]
  },
  {
   "cell_type": "code",
   "execution_count": 183,
   "metadata": {
    "tags": []
   },
   "outputs": [
    {
     "name": "stdout",
     "output_type": "stream",
     "text": [
      "Print the built-in attribute name of the module: module_no_3\n",
      "The value of the variable X is: 1\n"
     ]
    }
   ],
   "source": [
    "# The module is imported\n",
    "import module_no_3"
   ]
  },
  {
   "cell_type": "markdown",
   "metadata": {},
   "source": [
    "When `module_no_3` is run directly, `__name__` is set to `__main__`."
   ]
  },
  {
   "cell_type": "code",
   "execution_count": 184,
   "metadata": {
    "tags": []
   },
   "outputs": [
    {
     "name": "stdout",
     "output_type": "stream",
     "text": [
      "Print the built-in attribute name of the module: __main__\n",
      "The value of the variable X is: 1\n"
     ]
    }
   ],
   "source": [
    "# The module is run by passing it as a command to the Python interpreter\n",
    "!python module_no_3.py"
   ]
  },
  {
   "cell_type": "markdown",
   "metadata": {},
   "source": [
    "Thus, the `__name__` attribute can be used in the following test:  `if __name__ == '__main__'` to determine whether it is being run or imported. \n",
    "\n",
    "Therefore, if the module is the main script in a package and represents an entry point to a package that is run by the end-users (`!python mainscript.py`), the code after `if __name__ == '__main__'` in the main script will be executed when the main script is run. On the other hand, all other modules in the package will be imported. Any code under the `if __name__ == '__main__'` test in other modules will not be executed. \n",
    "\n",
    "Another reason why using this is helpful is during code development for self-testing code that is written at the bottom of a file under the `__name__` test. For instance, the file `module_no_3a` is similar to the file `module_no_3`, only that it includes several lines of code at the bottom, which test whether the function `CelsiusToFahrenheit` outputs expected values. When run as a command in the cell, the `if __name__ == '__main__'` is True, and the lines that test the outputs of the `CelsiusToFahrenheit` are run. Conversely, when the module file is imported, the various variables and functions are imported, but the `if __name__ == '__main__'` is False, and the lines that test the outputs of the `CelsiusToFahrenheit` are not run. "
   ]
  },
  {
   "cell_type": "markdown",
   "metadata": {},
   "source": [
    "<img style=\"float: left; height:280px;\" src=\"images/pic4.jpg\">"
   ]
  },
  {
   "cell_type": "code",
   "execution_count": 185,
   "metadata": {
    "tags": []
   },
   "outputs": [
    {
     "name": "stdout",
     "output_type": "stream",
     "text": [
      "Print the built-in attribute name of the module: __main__\n",
      "The value of the variable X is: 1\n",
      "--------------------\n",
      "Self-testing\n",
      "100 degrees Fahrenheit is 37.77777777777778 degrees Celsius\n",
      "32 degrees Fahrenheit is 0.0 degrees Celsius\n",
      "0 degrees Fahrenheit is -17.77777777777778 degrees Celsius\n"
     ]
    }
   ],
   "source": [
    "!python module_no_3a.py"
   ]
  },
  {
   "cell_type": "code",
   "execution_count": 186,
   "metadata": {
    "tags": []
   },
   "outputs": [
    {
     "name": "stdout",
     "output_type": "stream",
     "text": [
      "Print the built-in attribute name of the module: module_no_3a\n",
      "The value of the variable X is: 1\n"
     ]
    }
   ],
   "source": [
    "import module_no_3a"
   ]
  },
  {
   "cell_type": "markdown",
   "metadata": {},
   "source": [
    "The above code allows to test the logic in our code without having to retype everything at the notebook cell or at the interactive command line each time we edit the file. Besides, the output of the self-test call will not\n",
    "appear every time this file is imported from another file. \n",
    "\n",
    "Functions defined in files with the `__name__` test can be run as standalone functions, and they can also be reused in other programs."
   ]
  },
  {
   "cell_type": "markdown",
   "metadata": {},
   "source": [
    "### Reloading Modules"
   ]
  },
  {
   "cell_type": "markdown",
   "metadata": {},
   "source": [
    "As we have seen, when we `import` a module, the code is executed only once when the module is imported the first time. Subsequent imports use the already loaded module object without reloading or rerunning the file’s code.\n",
    "\n",
    "To force a module’s code to be reloaded and rerun, you need to instruct Python to do so explicitly by calling the `reload` built-in function. The `reload` reruns a module file’s code and overwrites its existing namespace, rather than deleting the module object and re-creating it. Also, the `reload` function returns the module object at the output of the cell."
   ]
  },
  {
   "cell_type": "code",
   "execution_count": 187,
   "metadata": {
    "tags": []
   },
   "outputs": [],
   "source": [
    "import my_module"
   ]
  },
  {
   "cell_type": "code",
   "execution_count": 188,
   "metadata": {
    "tags": []
   },
   "outputs": [
    {
     "name": "stdout",
     "output_type": "stream",
     "text": [
      "I am inside my_module\n",
      "The value of the variable X is: 3\n"
     ]
    },
    {
     "name": "stderr",
     "output_type": "stream",
     "text": [
      "C:\\Users\\vakanski\\AppData\\Local\\Temp\\ipykernel_16700\\2249891335.py:1: DeprecationWarning: the imp module is deprecated in favour of importlib and slated for removal in Python 3.12; see the module's documentation for alternative uses\n",
      "  from imp import reload\n"
     ]
    },
    {
     "data": {
      "text/plain": [
       "<module 'my_module' from 'C:\\\\Users\\\\vakanski\\\\Documents\\\\Codes\\\\2024 Codes\\\\Data Science Course\\\\Theme_1-Python_Programming\\\\Lecture_5-OOP,_Modules,_Packages\\\\Posted\\\\Lecture_5-OOP,_Modules,_Packages\\\\my_module.py'>"
      ]
     },
     "execution_count": 188,
     "metadata": {},
     "output_type": "execute_result"
    }
   ],
   "source": [
    "from imp import reload\n",
    "reload(my_module)"
   ]
  },
  {
   "cell_type": "markdown",
   "metadata": {},
   "source": [
    "Reloading can help to examine a file, for instance, when we make changes to the file. In this case, since we use Jupyter notebooks, to `import` a file again after we have made some changes to the file we can just restart the kernel, which will allow us to import the file, without using `reload`."
   ]
  },
  {
   "cell_type": "markdown",
   "metadata": {},
   "source": [
    "### Module Packages Reloading"
   ]
  },
  {
   "cell_type": "markdown",
   "metadata": {},
   "source": [
    "Just like module files, an already imported directory needs to be passed to `reload` to force re-execution of the code. As shown, `reload` accepts a dotted path name to reload nested directories and files. Also, `reload` returns the module object in the displayed output of the cell."
   ]
  },
  {
   "cell_type": "code",
   "execution_count": 189,
   "metadata": {
    "tags": []
   },
   "outputs": [],
   "source": [
    "# Repeated import statements do not produce any output\n",
    "import MyMainPackage.MySubPackage.sub_script"
   ]
  },
  {
   "cell_type": "code",
   "execution_count": 190,
   "metadata": {
    "tags": []
   },
   "outputs": [
    {
     "name": "stdout",
     "output_type": "stream",
     "text": [
      "I am inside sub_script, which is located in MySubPackage\n",
      "The value of the variable X is: 23\n"
     ]
    },
    {
     "data": {
      "text/plain": [
       "<module 'MyMainPackage.MySubPackage.sub_script' from 'C:\\\\Users\\\\vakanski\\\\Documents\\\\Codes\\\\2024 Codes\\\\Data Science Course\\\\Theme_1-Python_Programming\\\\Lecture_5-OOP,_Modules,_Packages\\\\Posted\\\\Lecture_5-OOP,_Modules,_Packages\\\\MyMainPackage\\\\MySubPackage\\\\sub_script.py'>"
      ]
     },
     "execution_count": 190,
     "metadata": {},
     "output_type": "execute_result"
    }
   ],
   "source": [
    "from imp import reload\n",
    "reload(MyMainPackage.MySubPackage.sub_script)"
   ]
  },
  {
   "cell_type": "markdown",
   "metadata": {},
   "source": [
    "Once imported, `sub-script` becomes a module object nested in the object `MySubPackage`, which in turn is nested in the object `MyMainPackage`.\n",
    "\n",
    "Similarly, `MySubPackage` is a module object that is nested in the object `MyMainPackage`."
   ]
  },
  {
   "cell_type": "code",
   "execution_count": 191,
   "metadata": {
    "tags": []
   },
   "outputs": [
    {
     "data": {
      "text/plain": [
       "<module 'MyMainPackage.MySubPackage' from 'C:\\\\Users\\\\vakanski\\\\Documents\\\\Codes\\\\2024 Codes\\\\Data Science Course\\\\Theme_1-Python_Programming\\\\Lecture_5-OOP,_Modules,_Packages\\\\Posted\\\\Lecture_5-OOP,_Modules,_Packages\\\\MyMainPackage\\\\MySubPackage\\\\__init__.py'>"
      ]
     },
     "execution_count": 191,
     "metadata": {},
     "output_type": "execute_result"
    }
   ],
   "source": [
    "MyMainPackage.MySubPackage"
   ]
  },
  {
   "cell_type": "markdown",
   "metadata": {},
   "source": [
    "### Python Path"
   ]
  },
  {
   "cell_type": "markdown",
   "metadata": {},
   "source": [
    "If the directory `MyMainPackage` is not in the current working directory, then it may need to be added to the Python search path. To do that, either add the full path to the directory to the PYTHONPATH variable (by setting the Environment Variables on Windows systems), or the path to the directory can be added to a `.pth` file. Note that if the package is a standard library directory of a built-in function (e.g., `random`, `time`, `sys`, `os`), or if it is located in the site-packages directory (where third-party libraries are installed), it will be automatically found by Python, and it does not need to be added to the Python search path.\n",
    "\n",
    "Alternatively, the path to the directory can be manually added using `sys.path` (that is, the `path` attribute of the standard library module `sys`). For instance, I can examine the `sys.path` on my computer, as shown in the following cell. Since the `sys.path` is just a list of directories, we can manually add the path of the current working directory, by using the `append` to list method."
   ]
  },
  {
   "cell_type": "code",
   "execution_count": 192,
   "metadata": {
    "tags": []
   },
   "outputs": [
    {
     "data": {
      "text/plain": [
       "['C:\\\\Users\\\\vakanski\\\\Documents\\\\Codes\\\\2024 Codes\\\\Data Science Course\\\\Theme_1-Python_Programming\\\\Lecture_5-OOP,_Modules,_Packages\\\\Posted\\\\Lecture_5-OOP,_Modules,_Packages',\n",
       " 'C:\\\\Users\\\\vakanski\\\\anaconda3\\\\python311.zip',\n",
       " 'C:\\\\Users\\\\vakanski\\\\anaconda3\\\\DLLs',\n",
       " 'C:\\\\Users\\\\vakanski\\\\anaconda3\\\\Lib',\n",
       " 'C:\\\\Users\\\\vakanski\\\\anaconda3',\n",
       " '',\n",
       " 'C:\\\\Users\\\\vakanski\\\\anaconda3\\\\Lib\\\\site-packages',\n",
       " 'C:\\\\Users\\\\vakanski\\\\anaconda3\\\\Lib\\\\site-packages\\\\win32',\n",
       " 'C:\\\\Users\\\\vakanski\\\\anaconda3\\\\Lib\\\\site-packages\\\\win32\\\\lib',\n",
       " 'C:\\\\Users\\\\vakanski\\\\anaconda3\\\\Lib\\\\site-packages\\\\Pythonwin']"
      ]
     },
     "execution_count": 192,
     "metadata": {},
     "output_type": "execute_result"
    }
   ],
   "source": [
    "import sys\n",
    "sys.path"
   ]
  },
  {
   "cell_type": "code",
   "execution_count": 193,
   "metadata": {
    "tags": []
   },
   "outputs": [],
   "source": [
    "sys.path.append('C:\\\\Users\\\\vakanski\\\\Desktop\\\\Data_Science\\\\Lecture_5')"
   ]
  },
  {
   "cell_type": "code",
   "execution_count": 194,
   "metadata": {
    "tags": []
   },
   "outputs": [
    {
     "data": {
      "text/plain": [
       "['C:\\\\Users\\\\vakanski\\\\Documents\\\\Codes\\\\2024 Codes\\\\Data Science Course\\\\Theme_1-Python_Programming\\\\Lecture_5-OOP,_Modules,_Packages\\\\Posted\\\\Lecture_5-OOP,_Modules,_Packages',\n",
       " 'C:\\\\Users\\\\vakanski\\\\anaconda3\\\\python311.zip',\n",
       " 'C:\\\\Users\\\\vakanski\\\\anaconda3\\\\DLLs',\n",
       " 'C:\\\\Users\\\\vakanski\\\\anaconda3\\\\Lib',\n",
       " 'C:\\\\Users\\\\vakanski\\\\anaconda3',\n",
       " '',\n",
       " 'C:\\\\Users\\\\vakanski\\\\anaconda3\\\\Lib\\\\site-packages',\n",
       " 'C:\\\\Users\\\\vakanski\\\\anaconda3\\\\Lib\\\\site-packages\\\\win32',\n",
       " 'C:\\\\Users\\\\vakanski\\\\anaconda3\\\\Lib\\\\site-packages\\\\win32\\\\lib',\n",
       " 'C:\\\\Users\\\\vakanski\\\\anaconda3\\\\Lib\\\\site-packages\\\\Pythonwin',\n",
       " 'C:\\\\Users\\\\vakanski\\\\Desktop\\\\Data_Science\\\\Lecture_5']"
      ]
     },
     "execution_count": 194,
     "metadata": {},
     "output_type": "execute_result"
    }
   ],
   "source": [
    "sys.path\n",
    "# The appended path is listed last"
   ]
  },
  {
   "cell_type": "markdown",
   "metadata": {},
   "source": [
    "Notice now that the directory `MyMainPackage` is now listed in the `sys.path`. However, this modified `sys.path` is temporary and it is valid only for the duration of the current session; the path is refreshed every time Jupyter Notebook is restarted, or the notebook kernel is shut down. On the other hand, the path configuration in `PYTHONPATH`  is permanent, and it lives after the current session is terminated."
   ]
  },
  {
   "cell_type": "markdown",
   "metadata": {},
   "source": [
    "### Package Relative Imports"
   ]
  },
  {
   "cell_type": "markdown",
   "metadata": {},
   "source": [
    "To illustrate package relative imports in Python we will use the `MyRelativeImportPackage` which is similar to the `MyMainPackage` and contains several simple files.\n",
    "\n",
    "```\n",
    "MyRelativeImportPackage\n",
    "    ├── __init__.py\n",
    "    ├── relative_import_script_1\n",
    "    ├── relative_import_script_2\n",
    "    ├── relative_import_script_5\n",
    "    ├── relative_import_script_6\n",
    "    ├── script_1\n",
    "    ├── script_2\n",
    "    ├── script_3\n",
    "    ├── script_4\n",
    "    ├── MySubPackage\n",
    "    │   ├── __init__.py\n",
    "    │   ├── relative_import_script_3\n",
    "    │   ├── relative_import_script_4\n",
    "    │   ├── sub_script\n",
    "```\n",
    "\n",
    "When modules within a package need to import other names from other modules in the same package, it is still possible to use the full path syntax for importing, as we did in the above section. This is called an **absolute import**.\n",
    "\n",
    "For instance, the `relative_import_script_1.py` in the first line imports `script_1` by using the full name of the directory (i.e., `from MyRelativeImportPackage import script_1`)."
   ]
  },
  {
   "cell_type": "markdown",
   "metadata": {},
   "source": [
    "<img style=\"float: left; height:120px;\" src=\"images/pic_2_1.jpg\">\n",
    "\n",
    "<img style=\"float: left; height:120px;\" src=\"images/pic_2_7.jpg\">"
   ]
  },
  {
   "cell_type": "code",
   "execution_count": 195,
   "metadata": {
    "tags": []
   },
   "outputs": [
    {
     "name": "stdout",
     "output_type": "stream",
     "text": [
      "I am inside script_1, which is located in MyMainPackage\n",
      "--------------------\n",
      "I am inside the relative_import_scipt_1, which is located in MyMainPackage\n"
     ]
    }
   ],
   "source": [
    "import MyRelativeImportPackage.relative_import_script_1"
   ]
  },
  {
   "cell_type": "markdown",
   "metadata": {},
   "source": [
    "However, package files can also make use of a special syntax to simplify import statements within the same package. Instead of directly using the full path to the directory, Python allows to use a leading dot `.` to refer to the current directory in the package. \n",
    "\n",
    "Therefore, instead of using `from MyRelativeImportPackage import script_1`, we can use `from . import script_1`. This is implemented in the `relative_import_script_2.py` to import `script_2`.\n",
    "\n",
    "This syntax is referred to as a **relative import** because the path to the module to be imported is related to the current directory in which the module that imports is located.\n",
    "\n",
    "The convenience of using relative imports is that we don't need to write the name or the path of the current directory."
   ]
  },
  {
   "cell_type": "markdown",
   "metadata": {},
   "source": [
    "<img style=\"float: left; height:120px;\" src=\"images/pic_2_2.jpg\">\n",
    "\n",
    "<img style=\"float: left; height:120px;\" src=\"images/pic_2_8.jpg\">"
   ]
  },
  {
   "cell_type": "code",
   "execution_count": 196,
   "metadata": {
    "tags": []
   },
   "outputs": [
    {
     "name": "stdout",
     "output_type": "stream",
     "text": [
      "I am inside script_2, which is located in MyMainPackage\n",
      "--------------------\n",
      "I am inside the relative_import_scipt_2, which is located in MyMainPackage\n"
     ]
    }
   ],
   "source": [
    "import MyRelativeImportPackage.relative_import_script_2"
   ]
  },
  {
   "cell_type": "markdown",
   "metadata": {},
   "source": [
    "One more example is presented in the next cell, where the module `relative_import_script_3.py` is located in the directory `MySubPackage` and it imports the module `sub_script` which is located in the same directory by using the `.` syntax."
   ]
  },
  {
   "cell_type": "markdown",
   "metadata": {},
   "source": [
    "<img style=\"float: left; height:120px;\" src=\"images/pic_2_3.jpg\">\n",
    "\n",
    "<img style=\"float: left; height:120px;\" src=\"images/pic_2_10.jpg\">"
   ]
  },
  {
   "cell_type": "code",
   "execution_count": 197,
   "metadata": {
    "tags": []
   },
   "outputs": [
    {
     "name": "stdout",
     "output_type": "stream",
     "text": [
      "I am inside sub_script, which is located in MySubPackage\n",
      "--------------------\n",
      "I am inside the relative_import_scipt_3, which is located in MySubPackage\n"
     ]
    }
   ],
   "source": [
    "import MyRelativeImportPackage.MySubPackage.relative_import_script_3"
   ]
  },
  {
   "cell_type": "markdown",
   "metadata": {},
   "source": [
    "If we use two dots syntax as in `..`, then a module can import another module that is located in its parent directory of the current package (i.e., the directory above). For example, the `relative_import_script_4.py` is located in the `MySubPackage` directory, and it uses `from .. import script_3` to import the `script_3` module that is located in the parent directory of `MySubPackage`, that is, `MyMainPacakage`."
   ]
  },
  {
   "cell_type": "markdown",
   "metadata": {},
   "source": [
    "<img style=\"float: left; height:120px;\" src=\"images/pic_2_4.jpg\">\n",
    "\n",
    "<img style=\"float: left; height:120px;\" src=\"images/pic_2_9.jpg\">"
   ]
  },
  {
   "cell_type": "code",
   "execution_count": 198,
   "metadata": {
    "tags": []
   },
   "outputs": [
    {
     "name": "stdout",
     "output_type": "stream",
     "text": [
      "I am inside script_3, which is located in MyMainPackage\n",
      "--------------------\n",
      "I am inside the relative_import_scipt_4, which is located in MySubPackage\n"
     ]
    }
   ],
   "source": [
    "import MyRelativeImportPackage.MySubPackage.relative_import_script_4"
   ]
  },
  {
   "cell_type": "markdown",
   "metadata": {},
   "source": [
    "On the other hand, if we tried to use only `import script_3` instead of `from . import script_3`, this will fail. We must use the `from` dotted syntax to import modules located in the same package. This is illustrated in the example in the following cell."
   ]
  },
  {
   "cell_type": "markdown",
   "metadata": {},
   "source": [
    "<img style=\"float: left; height:120px;\" src=\"images/pic_2_5.jpg\">"
   ]
  },
  {
   "cell_type": "code",
   "execution_count": 199,
   "metadata": {
    "tags": []
   },
   "outputs": [
    {
     "ename": "ModuleNotFoundError",
     "evalue": "No module named 'script_3'",
     "output_type": "error",
     "traceback": [
      "\u001b[1;31m---------------------------------------------------------------------------\u001b[0m",
      "\u001b[1;31mModuleNotFoundError\u001b[0m                       Traceback (most recent call last)",
      "Cell \u001b[1;32mIn[199], line 1\u001b[0m\n\u001b[1;32m----> 1\u001b[0m \u001b[38;5;28;01mimport\u001b[39;00m \u001b[38;5;21;01mMyRelativeImportPackage\u001b[39;00m\u001b[38;5;21;01m.\u001b[39;00m\u001b[38;5;21;01mrelative_import_script_5\u001b[39;00m\n",
      "File \u001b[1;32m~\\Documents\\Codes\\2024 Codes\\Data Science Course\\Theme_1-Python_Programming\\Lecture_5-OOP,_Modules,_Packages\\Posted\\Lecture_5-OOP,_Modules,_Packages\\MyRelativeImportPackage\\relative_import_script_5.py:1\u001b[0m\n\u001b[1;32m----> 1\u001b[0m \u001b[38;5;28;01mimport\u001b[39;00m \u001b[38;5;21;01mscript_3\u001b[39;00m\n\u001b[0;32m      3\u001b[0m \u001b[38;5;28mprint\u001b[39m(\u001b[38;5;241m20\u001b[39m\u001b[38;5;241m*\u001b[39m\u001b[38;5;124m'\u001b[39m\u001b[38;5;124m-\u001b[39m\u001b[38;5;124m'\u001b[39m)\n\u001b[0;32m      4\u001b[0m \u001b[38;5;28mprint\u001b[39m(\u001b[38;5;124m'\u001b[39m\u001b[38;5;124mI am inside the relative_import_scipt_5, which is located in MyMainPackage\u001b[39m\u001b[38;5;124m'\u001b[39m)\n",
      "\u001b[1;31mModuleNotFoundError\u001b[0m: No module named 'script_3'"
     ]
    }
   ],
   "source": [
    "import MyRelativeImportPackage.relative_import_script_5"
   ]
  },
  {
   "cell_type": "markdown",
   "metadata": {},
   "source": [
    "Another way to use the relative imports is shown in the `relative_import_script_6.py` module, where the syntax `from .script_4 import X` is used to import the name `X` from the `script_4` module which is located in the same directory as the importer module. This way, we can import specific names from modules in the same package."
   ]
  },
  {
   "cell_type": "markdown",
   "metadata": {},
   "source": [
    "<img style=\"float: left; height:120px;\" src=\"images/pic_2_6.jpg\">\n",
    "\n",
    "<img style=\"float: left; height:120px;\" src=\"images/pic_2_11.jpg\">"
   ]
  },
  {
   "cell_type": "code",
   "execution_count": 200,
   "metadata": {
    "tags": []
   },
   "outputs": [
    {
     "name": "stdout",
     "output_type": "stream",
     "text": [
      "I am inside script_4, which is located in MyMainPackage\n",
      "--------------------\n",
      "I am inside the relative_import_scipt_6, which is located in MyMainPackage\n",
      "The value of the variable X is 5\n"
     ]
    }
   ],
   "source": [
    "import MyRelativeImportPackage.relative_import_script_6"
   ]
  },
  {
   "cell_type": "markdown",
   "metadata": {},
   "source": [
    "Absolute imports are often preferred because they are straightforward, and it is easy to tell exactly where the imported module or name is located, just by looking at the statement. But, they require more typing and writing full names and paths in the code. \n",
    "\n",
    "One clear advantage of relative imports is that they are quite succinct, and they can turn a very long import statement into a simple and short statement. Relative imports can be messy, particularly for projects where the organization of the directories is likely to change. Relative imports are also not as readable as absolute ones, and it is not easy to tell the location of the imported names."
   ]
  },
  {
   "cell_type": "markdown",
   "metadata": {},
   "source": [
    "## References <a id=\"references\"/>\n",
    "\n",
    "1. Mark Lutz, \"Learning Python,\" 5th edition, O-Reilly, 2013. ISBN: 978-1-449-35573-9.\n",
    "2. Pierian Data Inc., \"Complete Python 3 Bootcamp,\" codes available at: [link](https://github.com/Pierian-Data/Complete-Python-3-Bootcamp).\n",
    "3. Leodanis Pozo Ramos, Python Classes: The Power of Object-Oriented Programming, available at: [link](https://realpython.com/python-classes/#providing-behavior-with-methods)\n",
    "4. Python - Made with ML, Goku Mohandas, codes available at: [link](https://madewithml.com/).\n",
    "5. Jeff Knupp, Improve Your Python: Python Classes and Object Oriented Programming, available at [link](https://jeffknupp.com/blog/2014/06/18/improve-your-python-python-classes-and-object-oriented-programming/).\n",
    "6. Python Tutorial, Python Abstract Classes, available at [link](https://www.pythontutorial.net/python-oop/python-abstract-class/).\n",
    "7. Kyle Stratis, Supercharge Your Classes with Python super(), available at [link](https://realpython.com/python-super/#an-overview-of-pythons-super-function)."
   ]
  },
  {
   "cell_type": "markdown",
   "metadata": {},
   "source": [
    "[BACK TO TOP](#top)"
   ]
  }
 ],
 "metadata": {
  "kernelspec": {
   "display_name": "Python 3 (ipykernel)",
   "language": "python",
   "name": "python3"
  },
  "language_info": {
   "codemirror_mode": {
    "name": "ipython",
    "version": 3
   },
   "file_extension": ".py",
   "mimetype": "text/x-python",
   "name": "python",
   "nbconvert_exporter": "python",
   "pygments_lexer": "ipython3",
   "version": "3.9.18"
  }
 },
 "nbformat": 4,
 "nbformat_minor": 4
}

{
 "cells": [
  {
   "cell_type": "markdown",
   "metadata": {},
   "source": [
    "# Lecture 14 - Artificial Neural Networks with Keras-TensorFlow"
   ]
  },
  {
   "cell_type": "markdown",
   "metadata": {},
   "source": [
    "[![View notebook on Github](https://img.shields.io/static/v1.svg?logo=github&label=Repo&message=View%20On%20Github&color=lightgrey)](https://github.com/avakanski/Fall-2025-Applied-Data-Science-with-Python/blob/main/docs/Lectures/Theme_3-Model_Engineering/Lecture_14-ANNs/Lecture_14-ANNs.ipynb)\n",
    "[![Open In Collab](https://colab.research.google.com/assets/colab-badge.svg)](https://colab.research.google.com/github/avakanski/Fall-2025-Applied-Data-Science-with-Python/blob/main/docs/Lectures/Theme_3-Model_Engineering/Lecture_14-ANNs/Lecture_14-ANNs.ipynb) "
   ]
  },
  {
   "cell_type": "markdown",
   "metadata": {},
   "source": [
    "<a id='top'></a>"
   ]
  },
  {
   "cell_type": "markdown",
   "metadata": {},
   "source": [
    "- [14.1 Introduction to Artificial Neural Networks](#14.1-introduction-to-artificial-neural-networks)\n",
    "    - [14.1.1 Elements of ANNs](#14.1.1-elements-of-anns)\n",
    "    - [14.1.2 Common Activation Functions](#14.1.2-common-activation-functions)\n",
    "    - [14.1.3 Training ANNs](#14.1.3-training-anns)\n",
    "    - [14.1.4 Types of ANN Architectures](#14.1.4-types-of-ann-architectures)\n",
    "    - [14.1.5 Fully-connected NNs](#14.1.5-fully-connected-nns)\n",
    "- [14.2 Classification with ANNs](#14.2-classification-with-anns)\n",
    "    - [14.2.1 Binary Classification](#14.2.1-binary-classification)\n",
    "    - [14.2.2 Multiclass Classification](#14.2.2-multiclass-classification)\n",
    "- [14.3 Regression with ANNs](#14.3-regression-with-anns)\n",
    "- [14.4 Saving and Loading Models in Keras](#14.4-saving-and-loading-models-in-keras)\n",
    "- [Appendix](#appendix)\n",
    "- [References](#references)"
   ]
  },
  {
   "cell_type": "markdown",
   "metadata": {},
   "source": [
    "## 14.1 Introduction to Artificial Neural Networks <a id=\"14.1-introduction-to-artificial-neural-networks\"/>"
   ]
  },
  {
   "cell_type": "markdown",
   "metadata": {},
   "source": [
    "**Artificial Neural Networks (ANNs)** are a class of machine learning algorithms that employ a network of connected computational units for information processing. ANNs are organized in layers, where each layer is made up of multiple interconnected nodes. The concept of ANNs is motivated by biological neural networks, and the development of ANNs is the result of an attempt to replicate the workings of the human brain. Hence, the nodes (i.e., computational units) in ANNs are commonly referred to as **neurons**. "
   ]
  },
  {
   "cell_type": "markdown",
   "metadata": {
    "id": "710bd0e6"
   },
   "source": [
    "A simple ANN is depicted in the following figure. The main layers in the ANN are:\n",
    "\n",
    "* **Input layer**, takes the input data in numerical format, where inputs to ANNs can be tabular data, images, texts, audio, etc. \n",
    "* **Hidden layer**, connects the input and the output layers. The neurons in the hidden layer process the input data and extract relevant patterns in the data.\n",
    "* **Output layer**, is the output of the network, which can be a continuous numeric value as in regression problems, or discrete class values as in classification problems. "
   ]
  },
  {
   "cell_type": "markdown",
   "metadata": {
    "id": "a21b0198"
   },
   "source": [
    "<img src=\"images/Neuralnetwork.png\" width=\"350\">\n",
    "\n",
    "*Figure: Simple ANN with one hidden layer. Figure source: Wikipedia.*"
   ]
  },
  {
   "cell_type": "markdown",
   "metadata": {},
   "source": [
    "In general, ANNs can have multiple input layers, multiple hidden layers, and multiple output layers. \n",
    "\n",
    "ANNs having multiple hidden layers are commonly referred to as **Deep Neural Networks (DNNs)**. Applying DNNs for solving a learning task is referred to as **Deep Learning (DL)**.\n",
    "\n",
    "Most current ANNs that are implemented for solving real-world tasks have multiple hidden layers. The number of hidden layers depends on the specific task, and typically ranges from 10 to 100. For solving complex tasks, ANNs with hundreds of hidden layers are used. "
   ]
  },
  {
   "cell_type": "markdown",
   "metadata": {
    "tags": []
   },
   "source": [
    "### 14.1.1 Elements of ANNs <a id=\"14.1.1-elements-of-anns\"/>"
   ]
  },
  {
   "cell_type": "markdown",
   "metadata": {},
   "source": [
    "The values of the connections between the neurons in ANNs are learned during a training phase. By using a training dataset consisting of input features and target/output values (e.g., class labels in classification tasks), the values of the connections are updated with a goal of correctly predicting the outputs for given inputs. \n",
    "\n",
    "The following figure depicts the operation of a single neuron in an ANN. The neuron is connected to a set of inputs $x_1, x_2, ..., x_m$ and weights $w_1, w_2, ..., w_m$. Each neuron calculates the sum of the products of the inputs and the weights plus a bias value, i.e., $v = x_1 \\cdot w_1 + x_2 \\cdot w_2 + ... + x_m \\cdot w_m + b$. The obtained value $v$ is then passed through an activation function and the output $y = \\varphi(v)$ is transferred to the next layer in the network. \n",
    "\n",
    "The **weights** and **biases** in an ANN are called **network parameters**. And very often the term *weights* is used to refer to both weights and biases as network parameters.\n",
    "\n",
    "<img src=\"images/neuron.png\" width=\"450\">\n",
    "\n",
    "*Figure: Artificial Neuron.*"
   ]
  },
  {
   "cell_type": "markdown",
   "metadata": {
    "id": "a687f494"
   },
   "source": [
    "### 14.1.2 Common Activation Functions <a id=\"14.1.2-common-activation-functions\"/>"
   ]
  },
  {
   "cell_type": "markdown",
   "metadata": {
    "id": "d6dc2881"
   },
   "source": [
    "**Activation functions** are applied to each neuron in ANNs to introduce non-linearities into the outputs of the neurons. Without non-linear activation functions, ANNs will simply learn linear mappings between the inputs and outputs. Calculating non-linear mappings between inputs and outputs gives ANNs the capability to learn complex tasks. \n",
    "\n",
    "The most common activation functions in ANNs are:\n",
    "\n",
    "- **Sigmoid** activation function (also known as logistic activation function): For a real-valued input, it outputs a value between 0 and 1. Sigmoid activation is used in the output layer for binary classification problems. \n",
    "- **Tanh** activation function (tangent hyperbolic activation function): It is similar to the sigmoid activation function, but it outputs a value between -1 and 1. Tanh is rarely used in modern ANNs. \n",
    "- **Softmax** activation function: It is an extension of the sigmoid activation function for multiclass classification tasks, and it is used in the output layer for multiclass classification problems. \n",
    "- **ReLU (Rectified Linear Unit)** activation function: It outputs the input value if it is positive, and it outputs 0 if the input value is negative. In other words, this activation function just penalizes the negative inputs. ReLU is the most commonly used activation function in the hidden layers of modern ANNs. \n",
    "- **Leaky ReLU (Rectified Linear Unit)** activation function: It is a modification of ReLU, where instead of outputting 0 for negative values, Leaky ReLU has a small negative slope. Some networks use Leaky ReLU instead of ReLU.\n",
    "\n",
    "There are also several other modifications of ReLU activations, such as GeLU (Gaussian error Linear Unit) and SeLU (Scaled exponential Linear Unit). We will study those activation functions in subsequent lectures. Overall, ReLU is still the most common activation function. \n",
    "\n",
    "<img src=\"images/activation_functions.jpg\" width=\"750\">\n",
    "\n",
    "*Figure: Activation functions in ANNs.* \n",
    "*Figure source:* [link](https://www.ncbi.nlm.nih.gov/pmc/articles/PMC9841357/)"
   ]
  },
  {
   "cell_type": "markdown",
   "metadata": {
    "id": "GF5bogcC7mUa"
   },
   "source": [
    "### 14.1.3 Training ANNs <a id=\"14.1.3-training-anns\"/>"
   ]
  },
  {
   "cell_type": "markdown",
   "metadata": {
    "id": "DtN0q_bh7mUa"
   },
   "source": [
    "ANNs are trained by iteratively updating the network parameters (weights and biases) to minimize the difference between the network predictions and target values.\n",
    "\n",
    "Each iteration in the training phase includes the following 4 steps:\n",
    "\n",
    "1. Forward pass (forward propagation)\n",
    "2. Loss calculation \n",
    "3. Error backpropagation (backward pass)\n",
    "4. Model parameters update\n",
    "\n",
    "**Forward propagation** is also known as **forward pass**, because the input data is passed through all hidden layers of the neural network toward the output layer to obtain the network predictions. For instance, if the input is an image, the input data consist of the intensities of all image pixels; the data are fed to the network and are transformed through the layers of the network; for classification problems, the output is a vector of predicted class probabilities for that image. \n",
    "\n",
    "**Loss calculation** is the second step, i.e., the loss of the network is calculated as a difference between the network outputs (predictions of the image class) and the target labels (also referred to as ground-truth labels) for all images in the dataset. Common loss function for classification tasks is *crossentropy loss*, calculated as $-\\sum{y\\cdot log(\\hat{y})}$, where $y$ is the ground-truth label and $\\hat{y}$ is the network prediction. The sum sign $\\sum$ indicates that the loss is calculated as a summation for all images in the dataset. For regression tasks commonly used loss functions include *mean-squared error* (calculated as $\\sum{(y- \\hat{y})^2}$) and *mean-absolution error* (calculated as $\\sum{|y- \\hat{y}|}$) between the network predictions and target ground-truth values. \n",
    "\n",
    "**Error backpropagation** is also called **backward pass** or **backward propagation** (where the term backpropagation is short for backward propagation). In this step, the predicted outputs are traversed back through the network, from the last (output) layer backward toward the first (input) layer. During the backward step, the gradients of the loss with respect to the model parameters $\\nabla\\mathcal{L}(𝜃)$ are calculated. If you recall from calculus, **gradient** is the vector of partial derivatives of a function, or for a loss function $\\mathcal{L}$ and network parameters $𝜃$, the gradient is the vector $\\nabla\\mathcal{L} = [\\partial\\mathcal{L}/\\partial𝜃_i]$. The gradient vector quantifies the impact of changing the network parameters to the predicted outputs. Automatic calculation of the gradients (automatic differentiation) is available in all current deep learning libraries, which significantly simplifies the implementation of deep learning algorithms. \n",
    "\n",
    "**Model parameters update** (weight update in the figure below) is the last step in which new values for the model parameters are calculated and updated, using an optimization algorithm. Modern ANNs use variants of the **Gradient Descent** optimization algorithm for updating model parameters."
   ]
  },
  {
   "cell_type": "markdown",
   "metadata": {
    "id": "PJCris5Cb1_g"
   },
   "source": [
    "<img src=\"images/training_ANN.png\" width=\"650\">\n",
    "\n",
    "*Figure: Steps in training ANNs.*"
   ]
  },
  {
   "cell_type": "markdown",
   "metadata": {
    "id": "Zkylzalo7mUe"
   },
   "source": [
    "A simple depiction of the ***Gradient Descent*** algorithm is shown in the next figure. The blue curve is a loss function $\\mathcal{L}$, and the gradient of the loss function $\\nabla\\mathcal{L}$ gives the slope of the function. By updating the parameters in the opposite direction of the gradient of the loss $\\nabla\\mathcal{L}$, the algorithm finds parameters $𝜃$ for which the loss $\\mathcal{L}$ has a minimal value. A small loss value means there is a small difference between the model predictions and the ground-truth values.\n",
    "\n",
    "<img src=\"images/gradient_descent.png\" width=\"850\">\n",
    "\n",
    "*Figure: Steps in training ANNs.*"
   ]
  },
  {
   "cell_type": "markdown",
   "metadata": {
    "id": "_F3QAjRj7mUe"
   },
   "source": [
    "Almost all modern neural networks are trained by applying a modified version of the Gradient Descent algorithm. Examples of such advanced Gradient Descent algorithms include Adam, SGD (Stochastic Gradient Descent), RMSprop, Adagrad, Nadam, and others. Deep learning libraries typically refer to the used algorithms for minimizing the loss of the model as **optimizers**.\n",
    "\n",
    "Unlike the model training phase, predicting on the test dataset (also known as **inference**) requires only a forward pass through the model, where for a given input instance the model outputs the prediction. For instance, in the above figure the output is a vector of class probabilities. "
   ]
  },
  {
   "cell_type": "markdown",
   "metadata": {
    "id": "df16a232"
   },
   "source": [
    "### 14.1.4 Types of ANN Architectures <a id=\"14.1.4-types-of-ann-architectures\"/>"
   ]
  },
  {
   "cell_type": "markdown",
   "metadata": {
    "id": "sKCDRk-PWEyK"
   },
   "source": [
    "The main types of ANN architectures are:\n",
    "\n",
    "- **Fully-connected neural networks (FCNNs)** (a.k.a. densely-connected neural networks, or multi-layer perceptrons)\n",
    "- **Convolutional neural networks (CNNs)**\n",
    "- **Recurrent neural networks (RNNs)**\n",
    "- **Transformer neural networks (TNNs)**\n",
    "- **Graph neural networks (GNNs)**\n",
    "\n",
    "In this lecture we will study Fully-connected NNs, and in the following lectures we will explore the other ANN architectures."
   ]
  },
  {
   "cell_type": "markdown",
   "metadata": {
    "id": "XqAdxSlWWe9m"
   },
   "source": [
    "### 14.1.5 Fully-connected NNs <a id=\"14.1.5-fully-connected-nns\"/>"
   ]
  },
  {
   "cell_type": "markdown",
   "metadata": {
    "id": "WziQjYJWWJcT"
   },
   "source": [
    "**Fully-connected NNs** are made of layers in which the neurons of any layer are connected to all other neurons of the preceding and succeeding layers. They are also called **Densely-connected NNs**, as well they are often referred to as **Multi-Layer Perceptrons (MLPs)**. In some contexts, these networks are also called **Feed-forward NNs** or **Linear NNs**.\n",
    "\n",
    "<img src=\"images/fully_connected_NN.png\" width=\"550\">\n",
    "\n",
    "*Figure: Fully-connected NNs.*"
   ]
  },
  {
   "cell_type": "markdown",
   "metadata": {},
   "source": [
    "Fully-connected NNs are mostly used in simple tasks, such as for classification or regression tasks with tabular data. Their performance for tasks with images, text data, or other data formats is often inferior in comparison to CNNs, RNNs, TNNs, and GNNs. On the other hand, layers of fully-connected neurons are often integrated in other architectures, such as CNNs, RNNs, TNNs, and GNNs (we will learn more in the next lectures). "
   ]
  },
  {
   "cell_type": "markdown",
   "metadata": {
    "id": "AAqeb2v2jSWT"
   },
   "source": [
    "## 14.2 Classification with ANNs <a id=\"14.2-classification-with-anns\"/>"
   ]
  },
  {
   "cell_type": "markdown",
   "metadata": {
    "id": "hcDOlUdZxDGu"
   },
   "source": [
    "In classification tasks, the goal is to predict the category, i.e., class label, of the data samples.  \n",
    "\n",
    "Classification tasks can be divided into two main types: \n",
    "\n",
    "- **Binary classification** is classification with two classes. An example is to classify a tweet as positive or negative depending on its content. In the output layer, we need to use a single output neuron with a `sigmoid` activation function to output a value between 0 and 1. A threshold value (by default set to 0.5) can be used to differentiate between positive and negative classes. For example, if the value of the output neuron is 0.7, the tweet can be assigned as positive (since the value is greater than 0.5). The common loss function in binary classification is `binary crossentropy`. \n",
    "\n",
    "- **Multiclass classification** is classification with three or more classes. An example is to classify a tweet into several classes, such as news, tech, sports, or weather. In the output layer, we need to use a number of output neurons equal to the number of classes, with a `softmax` activation function. E.g., for the above tweet example, we will use 4 output neurons. Consequently, the output of the network will be a vector of class probabilities whose dimension is equivalent to the number of classes, such as [0.2, 0.5, 0.1, 0.2] for the tweet example. The category with the maximum value is assigned as a class label to the tweet. In this case, if the four categories were news, tech, sports, or weather, the tweet will be assigned the class tech, since the network output of 0.5 for this class is the greatest. The commonly used loss functions in multiclass classification are `categorical crossentropy` (when the target labels are in one-hot matrix encoding format) and `sparse categorical crossentropy` (when the target labels are in ordinal encoding format).  "
   ]
  },
  {
   "cell_type": "markdown",
   "metadata": {
    "id": "jG7bLsj03uxw"
   },
   "source": [
    "In both binary and multiclass classification problems, the hyperparameters of the ANN related to the number of input neurons, activation functions in the hidden layers, number of hidden layers, etc. depend on the specific problem we are solving. \n",
    "\n",
    "*Table: Typical values of hyperparameters in ANNs for classification*\n",
    "\n",
    "| **Hyperparameter** | **Binary classifier** | **Multiclass classifier**  |\n",
    "| --- | --- | --- |\n",
    "| **Neurons in input layer** | Number of input features | Number of input features |\n",
    "| **Number of hidden layer(s)** | Depends on the problem, typically from 1-10 | Depends on the problem, typically from 1-10 |\n",
    "| **Neurons per hidden layer** | Depends on the problem, typically 10-100| Depends on the problem, typically 10-100 |\n",
    "| **Neurons in output layer** | 1 | Neurons equivalent to number of classes |\n",
    "| **Activation in hidden layers**| Mostly ReLU| Mostly ReLU |\n",
    "| **Activation in output layer** | sigmoid | softmax |\n",
    "| **Loss function** | binary cross entropy| categorical crossentropy / sparse categorical crossentropy |\n",
    "| **Optimizer** | Mostly: Adam, SGD, RMSProp| Mostly: Adam, SGD, RMSProp |"
   ]
  },
  {
   "cell_type": "markdown",
   "metadata": {
    "id": "8H7r9hKeHAeM"
   },
   "source": [
    "ANNs have many hyperparameters, and selecting the best values of the hyperparameters can be challenging. In the next lectures we will explore best practices for hyperparameter finetuning in ANNs. "
   ]
  },
  {
   "cell_type": "markdown",
   "metadata": {
    "id": "9pEQ8VbkIRsO"
   },
   "source": [
    "### 14.2.1 Binary Classification  <a id=\"14.2.1-binary-classification\"/>"
   ]
  },
  {
   "cell_type": "markdown",
   "metadata": {
    "id": "5bcce621"
   },
   "source": [
    "We will first implement an ANN for binary classification.\n",
    "\n",
    "For this purpose, we will use again the Breast Cancer dataset which we also used in the previous lecture. Recall that the dataset has 569 samples, each having 30 features. The target labels are the benign or malignant class, hence it is a binary classification problem. "
   ]
  },
  {
   "cell_type": "code",
   "execution_count": 1,
   "metadata": {
    "tags": []
   },
   "outputs": [],
   "source": [
    "# Import libraries\n",
    "import numpy as np\n",
    "import pandas as pd\n",
    "import sklearn\n",
    "import seaborn as sns\n",
    "import matplotlib.pyplot as plt\n",
    "from sklearn.model_selection import train_test_split"
   ]
  },
  {
   "cell_type": "markdown",
   "metadata": {
    "id": "637e0e99"
   },
   "source": [
    "#### Loading the Dataset\n",
    "\n",
    "The Breast Cancer dataset can be directly loaded from scikit-learn datasets. Let's create a DataFrame `df` having the features and the target column as the last column to the right. "
   ]
  },
  {
   "cell_type": "code",
   "execution_count": 2,
   "metadata": {
    "tags": []
   },
   "outputs": [],
   "source": [
    "# Load the dataset\n",
    "from sklearn.datasets import load_breast_cancer\n",
    "\n",
    "bc = load_breast_cancer()\n",
    "df = pd.DataFrame(data=bc.data, columns=bc.feature_names)\n",
    "df[\"target\"] = bc.target"
   ]
  },
  {
   "cell_type": "code",
   "execution_count": 3,
   "metadata": {
    "tags": []
   },
   "outputs": [
    {
     "data": {
      "text/plain": [
       "(569, 31)"
      ]
     },
     "execution_count": 3,
     "metadata": {},
     "output_type": "execute_result"
    }
   ],
   "source": [
    "# Check the shape of the dataset\n",
    "df.shape"
   ]
  },
  {
   "cell_type": "code",
   "execution_count": 4,
   "metadata": {
    "tags": []
   },
   "outputs": [
    {
     "data": {
      "text/html": [
       "<div>\n",
       "<style scoped>\n",
       "    .dataframe tbody tr th:only-of-type {\n",
       "        vertical-align: middle;\n",
       "    }\n",
       "\n",
       "    .dataframe tbody tr th {\n",
       "        vertical-align: top;\n",
       "    }\n",
       "\n",
       "    .dataframe thead th {\n",
       "        text-align: right;\n",
       "    }\n",
       "</style>\n",
       "<table border=\"1\" class=\"dataframe\">\n",
       "  <thead>\n",
       "    <tr style=\"text-align: right;\">\n",
       "      <th></th>\n",
       "      <th>mean radius</th>\n",
       "      <th>mean texture</th>\n",
       "      <th>mean perimeter</th>\n",
       "      <th>mean area</th>\n",
       "      <th>mean smoothness</th>\n",
       "      <th>mean compactness</th>\n",
       "      <th>mean concavity</th>\n",
       "      <th>mean concave points</th>\n",
       "      <th>mean symmetry</th>\n",
       "      <th>mean fractal dimension</th>\n",
       "      <th>...</th>\n",
       "      <th>worst texture</th>\n",
       "      <th>worst perimeter</th>\n",
       "      <th>worst area</th>\n",
       "      <th>worst smoothness</th>\n",
       "      <th>worst compactness</th>\n",
       "      <th>worst concavity</th>\n",
       "      <th>worst concave points</th>\n",
       "      <th>worst symmetry</th>\n",
       "      <th>worst fractal dimension</th>\n",
       "      <th>target</th>\n",
       "    </tr>\n",
       "  </thead>\n",
       "  <tbody>\n",
       "    <tr>\n",
       "      <th>0</th>\n",
       "      <td>17.99</td>\n",
       "      <td>10.38</td>\n",
       "      <td>122.80</td>\n",
       "      <td>1001.0</td>\n",
       "      <td>0.11840</td>\n",
       "      <td>0.27760</td>\n",
       "      <td>0.3001</td>\n",
       "      <td>0.14710</td>\n",
       "      <td>0.2419</td>\n",
       "      <td>0.07871</td>\n",
       "      <td>...</td>\n",
       "      <td>17.33</td>\n",
       "      <td>184.60</td>\n",
       "      <td>2019.0</td>\n",
       "      <td>0.1622</td>\n",
       "      <td>0.6656</td>\n",
       "      <td>0.7119</td>\n",
       "      <td>0.2654</td>\n",
       "      <td>0.4601</td>\n",
       "      <td>0.11890</td>\n",
       "      <td>0</td>\n",
       "    </tr>\n",
       "    <tr>\n",
       "      <th>1</th>\n",
       "      <td>20.57</td>\n",
       "      <td>17.77</td>\n",
       "      <td>132.90</td>\n",
       "      <td>1326.0</td>\n",
       "      <td>0.08474</td>\n",
       "      <td>0.07864</td>\n",
       "      <td>0.0869</td>\n",
       "      <td>0.07017</td>\n",
       "      <td>0.1812</td>\n",
       "      <td>0.05667</td>\n",
       "      <td>...</td>\n",
       "      <td>23.41</td>\n",
       "      <td>158.80</td>\n",
       "      <td>1956.0</td>\n",
       "      <td>0.1238</td>\n",
       "      <td>0.1866</td>\n",
       "      <td>0.2416</td>\n",
       "      <td>0.1860</td>\n",
       "      <td>0.2750</td>\n",
       "      <td>0.08902</td>\n",
       "      <td>0</td>\n",
       "    </tr>\n",
       "    <tr>\n",
       "      <th>2</th>\n",
       "      <td>19.69</td>\n",
       "      <td>21.25</td>\n",
       "      <td>130.00</td>\n",
       "      <td>1203.0</td>\n",
       "      <td>0.10960</td>\n",
       "      <td>0.15990</td>\n",
       "      <td>0.1974</td>\n",
       "      <td>0.12790</td>\n",
       "      <td>0.2069</td>\n",
       "      <td>0.05999</td>\n",
       "      <td>...</td>\n",
       "      <td>25.53</td>\n",
       "      <td>152.50</td>\n",
       "      <td>1709.0</td>\n",
       "      <td>0.1444</td>\n",
       "      <td>0.4245</td>\n",
       "      <td>0.4504</td>\n",
       "      <td>0.2430</td>\n",
       "      <td>0.3613</td>\n",
       "      <td>0.08758</td>\n",
       "      <td>0</td>\n",
       "    </tr>\n",
       "    <tr>\n",
       "      <th>3</th>\n",
       "      <td>11.42</td>\n",
       "      <td>20.38</td>\n",
       "      <td>77.58</td>\n",
       "      <td>386.1</td>\n",
       "      <td>0.14250</td>\n",
       "      <td>0.28390</td>\n",
       "      <td>0.2414</td>\n",
       "      <td>0.10520</td>\n",
       "      <td>0.2597</td>\n",
       "      <td>0.09744</td>\n",
       "      <td>...</td>\n",
       "      <td>26.50</td>\n",
       "      <td>98.87</td>\n",
       "      <td>567.7</td>\n",
       "      <td>0.2098</td>\n",
       "      <td>0.8663</td>\n",
       "      <td>0.6869</td>\n",
       "      <td>0.2575</td>\n",
       "      <td>0.6638</td>\n",
       "      <td>0.17300</td>\n",
       "      <td>0</td>\n",
       "    </tr>\n",
       "    <tr>\n",
       "      <th>4</th>\n",
       "      <td>20.29</td>\n",
       "      <td>14.34</td>\n",
       "      <td>135.10</td>\n",
       "      <td>1297.0</td>\n",
       "      <td>0.10030</td>\n",
       "      <td>0.13280</td>\n",
       "      <td>0.1980</td>\n",
       "      <td>0.10430</td>\n",
       "      <td>0.1809</td>\n",
       "      <td>0.05883</td>\n",
       "      <td>...</td>\n",
       "      <td>16.67</td>\n",
       "      <td>152.20</td>\n",
       "      <td>1575.0</td>\n",
       "      <td>0.1374</td>\n",
       "      <td>0.2050</td>\n",
       "      <td>0.4000</td>\n",
       "      <td>0.1625</td>\n",
       "      <td>0.2364</td>\n",
       "      <td>0.07678</td>\n",
       "      <td>0</td>\n",
       "    </tr>\n",
       "  </tbody>\n",
       "</table>\n",
       "<p>5 rows × 31 columns</p>\n",
       "</div>"
      ],
      "text/plain": [
       "   mean radius  mean texture  mean perimeter  mean area  mean smoothness  \\\n",
       "0        17.99         10.38          122.80     1001.0          0.11840   \n",
       "1        20.57         17.77          132.90     1326.0          0.08474   \n",
       "2        19.69         21.25          130.00     1203.0          0.10960   \n",
       "3        11.42         20.38           77.58      386.1          0.14250   \n",
       "4        20.29         14.34          135.10     1297.0          0.10030   \n",
       "\n",
       "   mean compactness  mean concavity  mean concave points  mean symmetry  \\\n",
       "0           0.27760          0.3001              0.14710         0.2419   \n",
       "1           0.07864          0.0869              0.07017         0.1812   \n",
       "2           0.15990          0.1974              0.12790         0.2069   \n",
       "3           0.28390          0.2414              0.10520         0.2597   \n",
       "4           0.13280          0.1980              0.10430         0.1809   \n",
       "\n",
       "   mean fractal dimension  ...  worst texture  worst perimeter  worst area  \\\n",
       "0                 0.07871  ...          17.33           184.60      2019.0   \n",
       "1                 0.05667  ...          23.41           158.80      1956.0   \n",
       "2                 0.05999  ...          25.53           152.50      1709.0   \n",
       "3                 0.09744  ...          26.50            98.87       567.7   \n",
       "4                 0.05883  ...          16.67           152.20      1575.0   \n",
       "\n",
       "   worst smoothness  worst compactness  worst concavity  worst concave points  \\\n",
       "0            0.1622             0.6656           0.7119                0.2654   \n",
       "1            0.1238             0.1866           0.2416                0.1860   \n",
       "2            0.1444             0.4245           0.4504                0.2430   \n",
       "3            0.2098             0.8663           0.6869                0.2575   \n",
       "4            0.1374             0.2050           0.4000                0.1625   \n",
       "\n",
       "   worst symmetry  worst fractal dimension  target  \n",
       "0          0.4601                  0.11890       0  \n",
       "1          0.2750                  0.08902       0  \n",
       "2          0.3613                  0.08758       0  \n",
       "3          0.6638                  0.17300       0  \n",
       "4          0.2364                  0.07678       0  \n",
       "\n",
       "[5 rows x 31 columns]"
      ]
     },
     "execution_count": 4,
     "metadata": {},
     "output_type": "execute_result"
    }
   ],
   "source": [
    "# Show the first few rows\n",
    "df.head()"
   ]
  },
  {
   "cell_type": "markdown",
   "metadata": {},
   "source": [
    "Next, we will extract the features and the target labels, and we will split them into training and testing sets. "
   ]
  },
  {
   "cell_type": "code",
   "execution_count": 5,
   "metadata": {
    "id": "84be13ea",
    "tags": []
   },
   "outputs": [],
   "source": [
    "# Extract the data and the labels\n",
    "X = df.drop('target', axis=1)\n",
    "y = df['target']"
   ]
  },
  {
   "cell_type": "code",
   "execution_count": 6,
   "metadata": {
    "id": "7680f98f",
    "tags": []
   },
   "outputs": [],
   "source": [
    "from sklearn.model_selection import train_test_split\n",
    "\n",
    "train_data, test_data, train_labels, test_labels = train_test_split(X, y, test_size=0.2, random_state=42, stratify=y)"
   ]
  },
  {
   "cell_type": "code",
   "execution_count": 7,
   "metadata": {
    "colab": {
     "base_uri": "https://localhost:8080/"
    },
    "id": "e291944b",
    "outputId": "47818bad-6dfb-4d94-a436-720a1beaf95b",
    "tags": []
   },
   "outputs": [
    {
     "name": "stdout",
     "output_type": "stream",
     "text": [
      "Training data inputs (455, 30)\n",
      "Training labels (455,)\n",
      "Testing data inputs (114, 30)\n",
      "Testing labels (114,)\n"
     ]
    }
   ],
   "source": [
    "print('Training data inputs', train_data.shape)\n",
    "print('Training labels', train_labels.shape)\n",
    "print('Testing data inputs', test_data.shape)\n",
    "print('Testing labels', test_labels.shape)"
   ]
  },
  {
   "cell_type": "markdown",
   "metadata": {
    "id": "oWg6eykR6QOD"
   },
   "source": [
    "We will also scale the data with the `MinMaxScaler`. Recall again that we do not use `fit` for the scaler on the test dataset, but we only use `transform` for the test dataset."
   ]
  },
  {
   "cell_type": "code",
   "execution_count": 8,
   "metadata": {
    "id": "301cebe5",
    "tags": []
   },
   "outputs": [],
   "source": [
    "# Scaling the features to be between 0 and 1.\n",
    "from sklearn.preprocessing import MinMaxScaler\n",
    "\n",
    "scaler = MinMaxScaler()\n",
    "\n",
    "train_data = scaler.fit_transform(train_data)\n",
    "test_data = scaler.transform(test_data)"
   ]
  },
  {
   "cell_type": "markdown",
   "metadata": {
    "id": "giLJg2i4GkCU"
   },
   "source": [
    "#### Create the ANN "
   ]
  },
  {
   "cell_type": "markdown",
   "metadata": {
    "id": "i4EJITkbGzdZ"
   },
   "source": [
    "To create ANNs in this lecture we will use the Tensorflow-Keras library. Keras is part of TensorFlow, and notice in the next cell that Keras is imported from TensorFlow. "
   ]
  },
  {
   "cell_type": "code",
   "execution_count": 9,
   "metadata": {
    "tags": []
   },
   "outputs": [
    {
     "name": "stdout",
     "output_type": "stream",
     "text": [
      "TensorFlow version:2.14.0\n"
     ]
    }
   ],
   "source": [
    "import tensorflow as tf\n",
    "from tensorflow import keras\n",
    "\n",
    "# Print the version of tensorflow\n",
    "print(\"TensorFlow version:{}\".format(tf.__version__))"
   ]
  },
  {
   "cell_type": "markdown",
   "metadata": {},
   "source": [
    "To define the network architecture in Keras, we will use the data structures **layers** and **models**.\n",
    "\n",
    "In the cell below we imported the needed layers and model classes. Afterward we will create layers and model objects as instances of these classes. \n",
    "\n",
    "For the ANN for this case we will use `Input` and `Dense` layers, as explained below. `Model` is a general class in Keras that is used to create new ANN models. "
   ]
  },
  {
   "cell_type": "code",
   "execution_count": 10,
   "metadata": {
    "id": "e_YS-JqfkyiK",
    "tags": []
   },
   "outputs": [],
   "source": [
    "# Import the layers and the model\n",
    "from keras.layers import Input\n",
    "from keras.layers import Dense\n",
    "from keras.models import Model"
   ]
  },
  {
   "cell_type": "markdown",
   "metadata": {},
   "source": [
    "TensorFlow-Keras requires the first layer in an ANN to be an **Input** layer, which will provide the shape of the input data in the form of a tuple. For the Breast Cancer dataset, there are 30 input features for training the model, and therefore, we will set the shape of the input data to `(30,)`.\n",
    "\n",
    "Note also that to create and train an ANN, we don't need to provide information about the number of samples that are available for training or testing the model. \n",
    "\n",
    "Let's add two hidden layers. In Keras, `Dense` layers are fully-connected layers. Therefore, the layers `dense1` and `dense2` below are fully-connected layers, of which, the first layer has 30 units (or neurons), and the second layer has 15 neurons. The second argument in the Dense layers `activation` defines the activation function that is applied at each layer, and in this case we selected ReLU activations as the most common activation function. For each layer in Keras, we need to also define the previous layer to which it connects. In this case, for `dense1` the previous layer is the `inputs` layer, and `dense2` follows the `dense1` layer.\n",
    "\n",
    "Finally, we added an output layer which is also a Dense layer. As we mentioned, for binary classification problems, the output layer has 1 neuron and it uses a `sigmoid` activation function. Preceding layer to the `outputs` layer is `dense2` layer."
   ]
  },
  {
   "cell_type": "code",
   "execution_count": 11,
   "metadata": {
    "id": "gjqyblPbHmmc",
    "tags": []
   },
   "outputs": [],
   "source": [
    "# Define the layers in the network\n",
    "inputs = Input(shape=(30,))\n",
    "dense1 = Dense(units=30, activation='relu')(inputs)     \n",
    "dense2 = Dense(units=15, activation='relu')(dense1)\n",
    "outputs = Dense(units=1, activation='sigmoid')(dense2)"
   ]
  },
  {
   "cell_type": "markdown",
   "metadata": {},
   "source": [
    "After we define the layers, we will create a new model as an instance of the `Model` class. Let's name the new instance `model_1`. The arguments in `Model` are the input and output layers, which we named in the above cell `inputs` and `outputs`."
   ]
  },
  {
   "cell_type": "code",
   "execution_count": 12,
   "metadata": {
    "tags": []
   },
   "outputs": [],
   "source": [
    "# Define the model by providing the inputs and outputs\n",
    "model_1 = Model(inputs, outputs)"
   ]
  },
  {
   "cell_type": "markdown",
   "metadata": {
    "id": "2nL-Znyr1WKt"
   },
   "source": [
    "Now that we have created a model, we can inspect its architecture with the `.summary()` method. It provides a table with all layers in the network, the shape of the tensors that are output by each layer, and the number of parameters in each layer. \n",
    "\n",
    "We can see that the first layer in the model expects the passed data to be of shape `(None, 30)`. Here `None` is a placeholder, and specifies that the model can accept any number of samples that have 30 elements.\n",
    "\n",
    "The output of the model is of shape `(None, 1)`, meaning that it will output one single value for each data sample.\n",
    "\n",
    "Also, we can see in the information under the table that this model has 1,411 trainable parameters, of which 930 are in the first hidden layer, 465 are in the second hidden layer, and 16 are in the output layer. During the model training, we will try to find optimal values of the network parameters that minimize the misclassification of the samples in the training dataset. "
   ]
  },
  {
   "cell_type": "code",
   "execution_count": 13,
   "metadata": {
    "tags": []
   },
   "outputs": [
    {
     "name": "stdout",
     "output_type": "stream",
     "text": [
      "Model: \"model\"\n",
      "_________________________________________________________________\n",
      " Layer (type)                Output Shape              Param #   \n",
      "=================================================================\n",
      " input_1 (InputLayer)        [(None, 30)]              0         \n",
      "                                                                 \n",
      " dense (Dense)               (None, 30)                930       \n",
      "                                                                 \n",
      " dense_1 (Dense)             (None, 15)                465       \n",
      "                                                                 \n",
      " dense_2 (Dense)             (None, 1)                 16        \n",
      "                                                                 \n",
      "=================================================================\n",
      "Total params: 1411 (5.51 KB)\n",
      "Trainable params: 1411 (5.51 KB)\n",
      "Non-trainable params: 0 (0.00 Byte)\n",
      "_________________________________________________________________\n"
     ]
    }
   ],
   "source": [
    "# Model summary\n",
    "model_1.summary()"
   ]
  },
  {
   "cell_type": "markdown",
   "metadata": {
    "tags": []
   },
   "source": [
    "The graph of the network is also shown in the following figure. We can see the layers with all 1,411 connections in the network.\n",
    "\n",
    "<img src=\"images/model_1.png\" width=\"550\">\n",
    "\n",
    "*Figure: Graphical depiction of the network.*"
   ]
  },
  {
   "cell_type": "markdown",
   "metadata": {
    "id": "XDYdR1SG1zh4"
   },
   "source": [
    "#### Compile the ANN"
   ]
  },
  {
   "cell_type": "markdown",
   "metadata": {
    "id": "GrJHF5Qe2wwr"
   },
   "source": [
    "To be able to train the ANN model, first we need to compile it. During the compiling step, we will specify the loss function, optimizer, and metric. \n",
    "\n",
    "The **loss function** (also known as cost function) calculates the difference between the predicted class label by the model and the ground-truth target class label for each sample. If the difference is high, this means a higher loss.  \n",
    "\n",
    "In Keras and TensorFlow, there are three main crossentropy losses: \n",
    "\n",
    "- `binary_crosssentropy` used for binary classification with two classes.\n",
    "- `categorical_crossentropy` used for multiclass classification with three and more classes, and the target labels are encoded in one-hot matrix format.\n",
    "- `sparse_categorical_crossentropy` used for multiclass classification with three and more classes, and the target labels are encoded in ordinal format.\n",
    "\n",
    "The **optimizer** is the optimization algorithm that is used to reduce the loss function. As we explained earlier, several different optimization algorithms are used with ANNs. In this case we will use `Adam` optimizer (which stands for Adaptive Moment Estimation). It is one of the fastest and most commonly used optimizers at present.\n",
    "\n",
    "We will use accuracy as a **metric**, but we can also use AUC-ROC, or F1 score, or other metrics."
   ]
  },
  {
   "cell_type": "code",
   "execution_count": 14,
   "metadata": {
    "id": "OZuZ18XZ2zVV",
    "tags": []
   },
   "outputs": [],
   "source": [
    "model_1.compile(optimizer='adam',\n",
    "                  loss='binary_crossentropy',\n",
    "                  metrics=['accuracy'])"
   ]
  },
  {
   "cell_type": "markdown",
   "metadata": {
    "id": "f7Bqx-N03K1D"
   },
   "source": [
    "#### Train the ANN\n",
    "\n",
    "To train the model, Keras uses the `fit` method as in scikit-learn. Required arguments in `fit` include the training dataset and training labels, and additional arguments can include the number of epochs, batch size, verbose, and others.\n",
    "\n",
    "The **batch size** below means that the `fit` method will repeatedly randomly select a batch of 64 samples from the training dataset, and use the batch of samples to train the model and update the model parameters. Therefore, for the training dataset of 455 samples, the updates will be repeated 455/64 = 7.1 times (i.e., the model will be updated 8 times to process the entire dataset). When all 455 samples in the training dataset are used, that is considered one **epoch**. In this case, the training will continue for 100 epochs. Therefore, the parameters in the model will be updated 800 times in total (100 epoch x 8 steps per epoch = 800). Or, we can say that there are 800 training steps. \n",
    "\n",
    "The `verbose` argument is set to 0, and the results from the training will not be displayed after the cell. Setting `verbose` to 1 will display a progress bar, and the default value of 2 will display the training loss and accuracy for each epoch.\n",
    "\n",
    "Also, in the next cell we assign the output of the `fit` method to `history`, that is, we will save the training results in this variable, and later we will use it to plot the learning curves and analyze the model training. "
   ]
  },
  {
   "cell_type": "code",
   "execution_count": 15,
   "metadata": {
    "colab": {
     "base_uri": "https://localhost:8080/"
    },
    "id": "zmkoLSQJ39IZ",
    "outputId": "b6faa7cf-5d93-4381-c8a5-de9f5a2b4633",
    "tags": []
   },
   "outputs": [],
   "source": [
    "history = model_1.fit(train_data, train_labels, epochs=100, batch_size=64, verbose=0)"
   ]
  },
  {
   "cell_type": "markdown",
   "metadata": {
    "id": "dkO2ycHHrbgT"
   },
   "source": [
    "#### Evaluate the ANN on Test Data"
   ]
  },
  {
   "cell_type": "markdown",
   "metadata": {},
   "source": [
    "Keras has a method `evaluate` that we can use for calculating the accuracy of the model. The arguments are `test_data` and `test_labels`. Note that `evaluate()` returns two values: the loss and accuracy of the model. Therefore, to print the accuracy we used the element with index `1` in `evals_test`."
   ]
  },
  {
   "cell_type": "code",
   "execution_count": 16,
   "metadata": {
    "tags": []
   },
   "outputs": [
    {
     "name": "stdout",
     "output_type": "stream",
     "text": [
      "4/4 [==============================] - 0s 2ms/step - loss: 0.0709 - accuracy: 0.9737\n",
      "Classification Accuracy:  0.9736841917037964\n"
     ]
    }
   ],
   "source": [
    "# Evaluate on test dataset\n",
    "evals_test = model_1.evaluate(test_data, test_labels)\n",
    "print(\"Classification Accuracy: \", evals_test[1])"
   ]
  },
  {
   "cell_type": "code",
   "execution_count": 17,
   "metadata": {
    "tags": []
   },
   "outputs": [
    {
     "data": {
      "text/plain": [
       "[0.07086548209190369, 0.9736841917037964]"
      ]
     },
     "execution_count": 17,
     "metadata": {},
     "output_type": "execute_result"
    }
   ],
   "source": [
    "# evals_test contains the loss and accuracy of the model\n",
    "evals_test"
   ]
  },
  {
   "cell_type": "markdown",
   "metadata": {},
   "source": [
    "To obtain the predictions by the model on data samples, we will use the `predict` method in Keras, which works similarly to the `predict` method in scikit-learn."
   ]
  },
  {
   "cell_type": "code",
   "execution_count": 18,
   "metadata": {
    "tags": []
   },
   "outputs": [
    {
     "name": "stdout",
     "output_type": "stream",
     "text": [
      "4/4 [==============================] - 0s 2ms/step\n"
     ]
    }
   ],
   "source": [
    "predictions = model_1.predict(test_data)"
   ]
  },
  {
   "cell_type": "markdown",
   "metadata": {},
   "source": [
    "Let's check the shape of `predictions` to understand the output of the model, and compare it to the shape of `test_data` that we used in `predict()`. The test dataset has 114 samples, each with 30 features. Therefore, for each sample the model made a prediction and outputted one single value. "
   ]
  },
  {
   "cell_type": "code",
   "execution_count": 19,
   "metadata": {
    "tags": []
   },
   "outputs": [
    {
     "data": {
      "text/plain": [
       "(114, 1)"
      ]
     },
     "execution_count": 19,
     "metadata": {},
     "output_type": "execute_result"
    }
   ],
   "source": [
    "predictions.shape"
   ]
  },
  {
   "cell_type": "code",
   "execution_count": 20,
   "metadata": {
    "tags": []
   },
   "outputs": [
    {
     "data": {
      "text/plain": [
       "(114, 30)"
      ]
     },
     "execution_count": 20,
     "metadata": {},
     "output_type": "execute_result"
    }
   ],
   "source": [
    "# Compare to the shape of test_data\n",
    "test_data.shape"
   ]
  },
  {
   "cell_type": "markdown",
   "metadata": {},
   "source": [
    "Let's inspect the output for the first 6 samples in `test_data` in the next cell. The shown values are difficult to interpret because they are displayed in scientific notation, therefore, in the following cell the values are shown rounded to 3 decimal places."
   ]
  },
  {
   "cell_type": "code",
   "execution_count": 21,
   "metadata": {
    "tags": []
   },
   "outputs": [
    {
     "data": {
      "text/plain": [
       "array([[1.3780599e-05],\n",
       "       [9.9937958e-01],\n",
       "       [5.5300228e-02],\n",
       "       [5.8814484e-01],\n",
       "       [3.9140336e-06],\n",
       "       [9.6631348e-01]], dtype=float32)"
      ]
     },
     "execution_count": 21,
     "metadata": {},
     "output_type": "execute_result"
    }
   ],
   "source": [
    "predictions[:6]"
   ]
  },
  {
   "cell_type": "code",
   "execution_count": 22,
   "metadata": {
    "tags": []
   },
   "outputs": [
    {
     "data": {
      "text/plain": [
       "array([[0.   ],\n",
       "       [0.999],\n",
       "       [0.055],\n",
       "       [0.588],\n",
       "       [0.   ],\n",
       "       [0.966]], dtype=float32)"
      ]
     },
     "execution_count": 22,
     "metadata": {},
     "output_type": "execute_result"
    }
   ],
   "source": [
    "np.around(predictions[:6], 3)"
   ]
  },
  {
   "cell_type": "markdown",
   "metadata": {},
   "source": [
    "Now we can notice that the predictions by the model have values between 0 and 1, and they can be considered as the probability of each sample to be either benign (0) or malignant (1). \n",
    "\n",
    "This form of the outputs is expected, because we used a `sigmoid` activation function in the output layer, which restricts the outputs to be in the range between 0 and 1.\n",
    "\n",
    "To assign the class label 0 or 1 to the predicted values, we can round the predictions with `np.round()` or `tf.math.round()` to return the closest integer. For example, for the prediction of 0.055, the class label is 0. For the prediction of 0.588, the class label is 1. "
   ]
  },
  {
   "cell_type": "code",
   "execution_count": 23,
   "metadata": {
    "tags": []
   },
   "outputs": [
    {
     "data": {
      "text/plain": [
       "array([[0.],\n",
       "       [1.],\n",
       "       [0.],\n",
       "       [1.],\n",
       "       [0.],\n",
       "       [1.]], dtype=float32)"
      ]
     },
     "execution_count": 23,
     "metadata": {},
     "output_type": "execute_result"
    }
   ],
   "source": [
    "# Class labels for the first  predicted values\n",
    "np.round(predictions[:6])"
   ]
  },
  {
   "cell_type": "markdown",
   "metadata": {},
   "source": [
    "We can also calculate the accuracy in the same way as did with scikit-learn models, by using the `accuracy_score` function. As expected, the calculated value for the accuracy is the same as the one calculated in the Keras `evaluate` method."
   ]
  },
  {
   "cell_type": "code",
   "execution_count": 24,
   "metadata": {
    "colab": {
     "base_uri": "https://localhost:8080/"
    },
    "id": "K79im89prfzv",
    "outputId": "a06c7797-cfb5-46fd-b90e-0518f88897cb",
    "tags": []
   },
   "outputs": [
    {
     "name": "stdout",
     "output_type": "stream",
     "text": [
      "4/4 [==============================] - 0s 2ms/step\n",
      "The test accuracy is 97.3684 %\n"
     ]
    }
   ],
   "source": [
    "from sklearn.metrics import accuracy_score\n",
    "\n",
    "predictions = model_1.predict(test_data)\n",
    "\n",
    "accuracy = accuracy_score(test_labels, np.round(predictions))\n",
    "print('The test accuracy is {0:6.4f} %'.format(accuracy*100))"
   ]
  },
  {
   "cell_type": "markdown",
   "metadata": {
    "id": "VEA49XD3MIbv"
   },
   "source": [
    "To better understand the model performance, we can also display the confusion matrix."
   ]
  },
  {
   "cell_type": "code",
   "execution_count": 25,
   "metadata": {
    "colab": {
     "base_uri": "https://localhost:8080/",
     "height": 359
    },
    "id": "pDiAYiI5MakN",
    "outputId": "78971f50-5aae-43bf-e422-5896420af450",
    "tags": []
   },
   "outputs": [
    {
     "name": "stdout",
     "output_type": "stream",
     "text": [
      "[[71  1]\n",
      " [ 2 40]]\n"
     ]
    }
   ],
   "source": [
    "# Getting the confusion matrix\n",
    "from sklearn.metrics import confusion_matrix\n",
    "\n",
    "confmat = confusion_matrix(test_labels, np.round(predictions), labels=[1,0])\n",
    "print(confmat)"
   ]
  },
  {
   "cell_type": "markdown",
   "metadata": {},
   "source": [
    "As well as, we can use the function `classification_report` from scikit-learn, to display the precision, recall, F1-score, macro average accuracy, and weighted average accuracy per class. "
   ]
  },
  {
   "cell_type": "code",
   "execution_count": 26,
   "metadata": {
    "colab": {
     "base_uri": "https://localhost:8080/"
    },
    "id": "Q89i8ozyD_Ek",
    "outputId": "2b18d612-48c3-4b2b-9f31-dedd5f37de26",
    "tags": []
   },
   "outputs": [
    {
     "name": "stdout",
     "output_type": "stream",
     "text": [
      "              precision    recall  f1-score   support\n",
      "\n",
      "           0       0.98      0.95      0.96        42\n",
      "           1       0.97      0.99      0.98        72\n",
      "\n",
      "    accuracy                           0.97       114\n",
      "   macro avg       0.97      0.97      0.97       114\n",
      "weighted avg       0.97      0.97      0.97       114\n",
      "\n"
     ]
    }
   ],
   "source": [
    "# Classification report: F1 score, Recall, Precision\n",
    "from sklearn.metrics import classification_report\n",
    "\n",
    "print(classification_report(test_labels, np.round(predictions)))"
   ]
  },
  {
   "cell_type": "markdown",
   "metadata": {
    "id": "0fG35BZQyTDe"
   },
   "source": [
    "#### Visualize the Training Loss and Accuracy"
   ]
  },
  {
   "cell_type": "markdown",
   "metadata": {
    "id": "Xk4Xkr-77loE"
   },
   "source": [
    "The following figure visualizes the history of model training, and shows the training accuracy and loss of the model for each of the 100 training epochs. For this purpose, we used the `history` variable that we assigned to `fit` when training the model. It contains an attribute `history.history` which is a dictionary that stores the loss and accuracy of the model for each epoch. \n",
    "\n",
    "These plots are called **learning curves** and are important for understanding the model performance. It is a good practice to always create a plot after training a model and analyze the learning curves.\n",
    "\n",
    "For instance, we can notice that at the end of the 100th epoch, the training loss is still decreasing. Thus, we could have trained the model for longer than 100 epochs, and this could have resulted in higher accuracy. In the next lectures we will describe best practices for determining the number of epochs."
   ]
  },
  {
   "cell_type": "code",
   "execution_count": 27,
   "metadata": {
    "tags": []
   },
   "outputs": [
    {
     "data": {
      "image/png": "[encoded data removed]",
      "text/plain": [
       "<Figure size 1200x400 with 2 Axes>"
      ]
     },
     "metadata": {},
     "output_type": "display_data"
    }
   ],
   "source": [
    "# plot the accuracy and loss\n",
    "train_loss = history.history['loss']\n",
    "acc = history.history['accuracy'] \n",
    "\n",
    "epochsn = np.arange(1, len(train_loss)+1,1)\n",
    "plt.figure(figsize=(12, 4))\n",
    "\n",
    "plt.subplot(1,2,1)\n",
    "plt.plot(epochsn, acc, 'b')\n",
    "plt.grid(color='gray', linestyle='--')\n",
    "plt.title('TRAINING ACCURACY')\n",
    "plt.xlabel('Epochs')\n",
    "plt.ylabel('Accuracy')\n",
    "\n",
    "plt.subplot(1,2,2)\n",
    "plt.plot(epochsn,train_loss, 'b')\n",
    "plt.grid(color='gray', linestyle='--')\n",
    "plt.title('TRAINING LOSS')\n",
    "plt.xlabel('Epochs')\n",
    "plt.ylabel('Loss')\n",
    "plt.show() "
   ]
  },
  {
   "cell_type": "markdown",
   "metadata": {
    "id": "c3xIjz-3jHP8"
   },
   "source": [
    "### 14.2.2 Multiclass Classification <a id=\"14.2.2-multiclass-classification\"/>"
   ]
  },
  {
   "cell_type": "markdown",
   "metadata": {
    "id": "-JVxm-UWCF1W"
   },
   "source": [
    "In this section, we will consider a multiclass classification problem. Our goal will be to train an ANN model for classifying the images in the Fashion MNIST dataset into 10 classes."
   ]
  },
  {
   "cell_type": "markdown",
   "metadata": {
    "id": "ohFiSjasDQ8P"
   },
   "source": [
    "#### Loading the Dataset"
   ]
  },
  {
   "cell_type": "markdown",
   "metadata": {
    "id": "vWho02IHEx2x"
   },
   "source": [
    "Fashion MNIST dataset has 70,000 images, of which 60,000 are allocated for the training set and 10,000 for the test set. Examples of images in the dataset are shown in the next figure. Each is a grayscale image with 28 x 28 pixels. \n",
    "\n",
    "!['Fashion Dataset'](https://github.com/zalandoresearch/fashion-mnist/raw/master/doc/img/fashion-mnist-sprite.png)"
   ]
  },
  {
   "cell_type": "markdown",
   "metadata": {},
   "source": [
    "The images are classified into the following 10 categories: \n",
    "\n",
    "| Label | Description |\n",
    "| --- | --- |\n",
    "| 0 | T-shirt/top |\n",
    "| 1 | Trouser |\n",
    "| 2 | Pullover |\n",
    "| 3 | Dress |\n",
    "| 4 | Coat |\n",
    "| 5 | Sandal |\n",
    "| 6 | Shirt |\n",
    "| 7 | Sneaker |\n",
    "| 8 | Bag |\n",
    "| 9 | Ankle boot |"
   ]
  },
  {
   "cell_type": "markdown",
   "metadata": {
    "id": "TIq4NpVzIz2o"
   },
   "source": [
    "The dataset can be imported directly from Keras datasets."
   ]
  },
  {
   "cell_type": "code",
   "execution_count": 28,
   "metadata": {
    "id": "YONwWTmbI4Kq",
    "tags": []
   },
   "outputs": [],
   "source": [
    "# Load the Fashion MNIST dataset\n",
    "fashion_mnist = tf.keras.datasets.fashion_mnist\n",
    "\n",
    "(fashion_train, fashion_train_label), (fashion_test, fashion_test_label) = fashion_mnist.load_data()"
   ]
  },
  {
   "cell_type": "code",
   "execution_count": 29,
   "metadata": {
    "tags": []
   },
   "outputs": [
    {
     "name": "stdout",
     "output_type": "stream",
     "text": [
      "Training data inputs (60000, 28, 28)\n",
      "Training labels (60000,)\n",
      "Testing data inputs (10000, 28, 28)\n",
      "Testing labels (10000,)\n"
     ]
    }
   ],
   "source": [
    "print('Training data inputs', fashion_train.shape)\n",
    "print('Training labels', fashion_train_label.shape)\n",
    "print('Testing data inputs', fashion_test.shape)\n",
    "print('Testing labels', fashion_test_label.shape)"
   ]
  },
  {
   "cell_type": "markdown",
   "metadata": {},
   "source": [
    "Let's check the shape of the training data and the values in the first image. "
   ]
  },
  {
   "cell_type": "code",
   "execution_count": 30,
   "metadata": {
    "tags": []
   },
   "outputs": [
    {
     "data": {
      "text/plain": [
       "(28, 28)"
      ]
     },
     "execution_count": 30,
     "metadata": {},
     "output_type": "execute_result"
    }
   ],
   "source": [
    "# Shape of each sample\n",
    "fashion_train[0].shape"
   ]
  },
  {
   "cell_type": "code",
   "execution_count": 31,
   "metadata": {
    "tags": []
   },
   "outputs": [
    {
     "data": {
      "text/plain": [
       "array([[  0,   0,   0,   0,   0,   0,   0,   0,   0,   0,   0,   0,   0,\n",
       "          0,   0,   0,   0,   0,   0,   0,   0,   0,   0,   0,   0,   0,\n",
       "          0,   0],\n",
       "       [  0,   0,   0,   0,   0,   0,   0,   0,   0,   0,   0,   0,   0,\n",
       "          0,   0,   0,   0,   0,   0,   0,   0,   0,   0,   0,   0,   0,\n",
       "          0,   0],\n",
       "       [  0,   0,   0,   0,   0,   0,   0,   0,   0,   0,   0,   0,   0,\n",
       "          0,   0,   0,   0,   0,   0,   0,   0,   0,   0,   0,   0,   0,\n",
       "          0,   0],\n",
       "       [  0,   0,   0,   0,   0,   0,   0,   0,   0,   0,   0,   0,   1,\n",
       "          0,   0,  13,  73,   0,   0,   1,   4,   0,   0,   0,   0,   1,\n",
       "          1,   0],\n",
       "       [  0,   0,   0,   0,   0,   0,   0,   0,   0,   0,   0,   0,   3,\n",
       "          0,  36, 136, 127,  62,  54,   0,   0,   0,   1,   3,   4,   0,\n",
       "          0,   3],\n",
       "       [  0,   0,   0,   0,   0,   0,   0,   0,   0,   0,   0,   0,   6,\n",
       "          0, 102, 204, 176, 134, 144, 123,  23,   0,   0,   0,   0,  12,\n",
       "         10,   0],\n",
       "       [  0,   0,   0,   0,   0,   0,   0,   0,   0,   0,   0,   0,   0,\n",
       "          0, 155, 236, 207, 178, 107, 156, 161, 109,  64,  23,  77, 130,\n",
       "         72,  15],\n",
       "       [  0,   0,   0,   0,   0,   0,   0,   0,   0,   0,   0,   1,   0,\n",
       "         69, 207, 223, 218, 216, 216, 163, 127, 121, 122, 146, 141,  88,\n",
       "        172,  66],\n",
       "       [  0,   0,   0,   0,   0,   0,   0,   0,   0,   1,   1,   1,   0,\n",
       "        200, 232, 232, 233, 229, 223, 223, 215, 213, 164, 127, 123, 196,\n",
       "        229,   0],\n",
       "       [  0,   0,   0,   0,   0,   0,   0,   0,   0,   0,   0,   0,   0,\n",
       "        183, 225, 216, 223, 228, 235, 227, 224, 222, 224, 221, 223, 245,\n",
       "        173,   0],\n",
       "       [  0,   0,   0,   0,   0,   0,   0,   0,   0,   0,   0,   0,   0,\n",
       "        193, 228, 218, 213, 198, 180, 212, 210, 211, 213, 223, 220, 243,\n",
       "        202,   0],\n",
       "       [  0,   0,   0,   0,   0,   0,   0,   0,   0,   1,   3,   0,  12,\n",
       "        219, 220, 212, 218, 192, 169, 227, 208, 218, 224, 212, 226, 197,\n",
       "        209,  52],\n",
       "       [  0,   0,   0,   0,   0,   0,   0,   0,   0,   0,   6,   0,  99,\n",
       "        244, 222, 220, 218, 203, 198, 221, 215, 213, 222, 220, 245, 119,\n",
       "        167,  56],\n",
       "       [  0,   0,   0,   0,   0,   0,   0,   0,   0,   4,   0,   0,  55,\n",
       "        236, 228, 230, 228, 240, 232, 213, 218, 223, 234, 217, 217, 209,\n",
       "         92,   0],\n",
       "       [  0,   0,   1,   4,   6,   7,   2,   0,   0,   0,   0,   0, 237,\n",
       "        226, 217, 223, 222, 219, 222, 221, 216, 223, 229, 215, 218, 255,\n",
       "         77,   0],\n",
       "       [  0,   3,   0,   0,   0,   0,   0,   0,   0,  62, 145, 204, 228,\n",
       "        207, 213, 221, 218, 208, 211, 218, 224, 223, 219, 215, 224, 244,\n",
       "        159,   0],\n",
       "       [  0,   0,   0,   0,  18,  44,  82, 107, 189, 228, 220, 222, 217,\n",
       "        226, 200, 205, 211, 230, 224, 234, 176, 188, 250, 248, 233, 238,\n",
       "        215,   0],\n",
       "       [  0,  57, 187, 208, 224, 221, 224, 208, 204, 214, 208, 209, 200,\n",
       "        159, 245, 193, 206, 223, 255, 255, 221, 234, 221, 211, 220, 232,\n",
       "        246,   0],\n",
       "       [  3, 202, 228, 224, 221, 211, 211, 214, 205, 205, 205, 220, 240,\n",
       "         80, 150, 255, 229, 221, 188, 154, 191, 210, 204, 209, 222, 228,\n",
       "        225,   0],\n",
       "       [ 98, 233, 198, 210, 222, 229, 229, 234, 249, 220, 194, 215, 217,\n",
       "        241,  65,  73, 106, 117, 168, 219, 221, 215, 217, 223, 223, 224,\n",
       "        229,  29],\n",
       "       [ 75, 204, 212, 204, 193, 205, 211, 225, 216, 185, 197, 206, 198,\n",
       "        213, 240, 195, 227, 245, 239, 223, 218, 212, 209, 222, 220, 221,\n",
       "        230,  67],\n",
       "       [ 48, 203, 183, 194, 213, 197, 185, 190, 194, 192, 202, 214, 219,\n",
       "        221, 220, 236, 225, 216, 199, 206, 186, 181, 177, 172, 181, 205,\n",
       "        206, 115],\n",
       "       [  0, 122, 219, 193, 179, 171, 183, 196, 204, 210, 213, 207, 211,\n",
       "        210, 200, 196, 194, 191, 195, 191, 198, 192, 176, 156, 167, 177,\n",
       "        210,  92],\n",
       "       [  0,   0,  74, 189, 212, 191, 175, 172, 175, 181, 185, 188, 189,\n",
       "        188, 193, 198, 204, 209, 210, 210, 211, 188, 188, 194, 192, 216,\n",
       "        170,   0],\n",
       "       [  2,   0,   0,   0,  66, 200, 222, 237, 239, 242, 246, 243, 244,\n",
       "        221, 220, 193, 191, 179, 182, 182, 181, 176, 166, 168,  99,  58,\n",
       "          0,   0],\n",
       "       [  0,   0,   0,   0,   0,   0,   0,  40,  61,  44,  72,  41,  35,\n",
       "          0,   0,   0,   0,   0,   0,   0,   0,   0,   0,   0,   0,   0,\n",
       "          0,   0],\n",
       "       [  0,   0,   0,   0,   0,   0,   0,   0,   0,   0,   0,   0,   0,\n",
       "          0,   0,   0,   0,   0,   0,   0,   0,   0,   0,   0,   0,   0,\n",
       "          0,   0],\n",
       "       [  0,   0,   0,   0,   0,   0,   0,   0,   0,   0,   0,   0,   0,\n",
       "          0,   0,   0,   0,   0,   0,   0,   0,   0,   0,   0,   0,   0,\n",
       "          0,   0]], dtype=uint8)"
      ]
     },
     "execution_count": 31,
     "metadata": {},
     "output_type": "execute_result"
    }
   ],
   "source": [
    "# Pixels in the first train image\n",
    "fashion_train[0]"
   ]
  },
  {
   "cell_type": "code",
   "execution_count": 32,
   "metadata": {
    "id": "a93MnJ5LSeFN",
    "tags": []
   },
   "outputs": [],
   "source": [
    "# A list of label names\n",
    "class_names = ['T-shirt/top', 'Trouser', 'Pullover', 'Dress', 'Coat', \n",
    "               'Sandal', 'Shirt', 'Sneaker', 'Bag', 'Ankle boot']"
   ]
  },
  {
   "cell_type": "code",
   "execution_count": 33,
   "metadata": {
    "colab": {
     "base_uri": "https://localhost:8080/",
     "height": 282
    },
    "id": "nQBbX87MLfQ0",
    "outputId": "8aee400e-950a-4324-e1a0-8be8148a5d57",
    "tags": []
   },
   "outputs": [
    {
     "name": "stdout",
     "output_type": "stream",
     "text": [
      "This type of image is: Ankle boot(9)\n"
     ]
    },
    {
     "data": {
      "image/png": "[encoded data removed]",
      "text/plain": [
       "<Figure size 400x400 with 1 Axes>"
      ]
     },
     "metadata": {},
     "output_type": "display_data"
    }
   ],
   "source": [
    "# Show the first image\n",
    "index = 0\n",
    "plt.figure(figsize=(4,4))\n",
    "plt.imshow(fashion_train[index], cmap='gray')\n",
    "# Display the label\n",
    "image_label = fashion_train_label[index]\n",
    "print('This type of image is: {}({})'.format(class_names[image_label], image_label))"
   ]
  },
  {
   "cell_type": "markdown",
   "metadata": {
    "id": "AXLTvIzIR7f3"
   },
   "source": [
    "We can also visualize several random images, to ensure that the labels match the images."
   ]
  },
  {
   "cell_type": "code",
   "execution_count": 34,
   "metadata": {
    "colab": {
     "base_uri": "https://localhost:8080/",
     "height": 340
    },
    "id": "DMd5B7SiUQOg",
    "outputId": "56d1ac6d-1939-48df-e9bc-6605da6b0611",
    "tags": []
   },
   "outputs": [
    {
     "data": {
      "image/png": "[encoded data removed]",
      "text/plain": [
       "<Figure size 600x600 with 6 Axes>"
      ]
     },
     "metadata": {},
     "output_type": "display_data"
    }
   ],
   "source": [
    "import random\n",
    "\n",
    "plt.figure(figsize=(6,6))\n",
    "\n",
    "for index in range(6):\n",
    "    ax = plt.subplot(2, 3, index+1)\n",
    "    random_index = random.choice(range(len(fashion_train)))\n",
    "    plt.imshow(fashion_train[random_index], cmap='gray')\n",
    "    plt.title(class_names[fashion_train_label[random_index]])"
   ]
  },
  {
   "cell_type": "markdown",
   "metadata": {},
   "source": [
    "#### Data Preprocessing"
   ]
  },
  {
   "cell_type": "markdown",
   "metadata": {
    "id": "aGBUWgukW3kx"
   },
   "source": [
    "As expected, the pixel values in the images range from 0 to 255. To scale the values to the range from 0 to 1, we can just divide the training and test sets by `255.0`. "
   ]
  },
  {
   "cell_type": "code",
   "execution_count": 35,
   "metadata": {
    "id": "YsagpEZYWxp9",
    "tags": []
   },
   "outputs": [],
   "source": [
    "# Scaling the image pixels to be between 0 and 1\n",
    "fashion_train = fashion_train/255.0\n",
    "fashion_test = fashion_test/255.0"
   ]
  },
  {
   "cell_type": "markdown",
   "metadata": {},
   "source": [
    "In addition, to create an ANN with fully-connected layers, we will need to reshape the images into one-dimensional arrays. Since each image has 28 x 28 = 784 pixels, let's use `reshape` to flatten the images. \n",
    "\n",
    "In the next lecture we will study Convolutional Neural Networks which are particularly suitable for processing image data, and they can work with 2-dimensional images without the need to flatten the arrays. "
   ]
  },
  {
   "cell_type": "code",
   "execution_count": 36,
   "metadata": {
    "tags": []
   },
   "outputs": [],
   "source": [
    "fashion_train = fashion_train.reshape(-1, 784)"
   ]
  },
  {
   "cell_type": "code",
   "execution_count": 37,
   "metadata": {
    "tags": []
   },
   "outputs": [],
   "source": [
    "fashion_test = fashion_test.reshape(-1, 784)"
   ]
  },
  {
   "cell_type": "code",
   "execution_count": 38,
   "metadata": {
    "tags": []
   },
   "outputs": [
    {
     "data": {
      "text/plain": [
       "(60000, 784)"
      ]
     },
     "execution_count": 38,
     "metadata": {},
     "output_type": "execute_result"
    }
   ],
   "source": [
    "# Check the shape\n",
    "fashion_train.shape"
   ]
  },
  {
   "cell_type": "markdown",
   "metadata": {
    "id": "xj9ygbuUZQjz"
   },
   "source": [
    "#### Create the ANN "
   ]
  },
  {
   "cell_type": "markdown",
   "metadata": {
    "id": "xfUxY7d8Zl-t"
   },
   "source": [
    "In the next cell, we define the layers in the ANN. The architecture of the model is similar to the model we used in the previous example. Note that in the arguments for `Dense` layers we don't need to specify the `units` keyword, as the first positional argument is the number of units (neurons). \n",
    "\n",
    "Since this is a multiclass classification problem, notice that the number of neurons in the output layer is 10, as it needs to match the number of class labels in the dataset. Also, we need to use `softmax` activation in the output layer. "
   ]
  },
  {
   "cell_type": "code",
   "execution_count": 39,
   "metadata": {
    "tags": []
   },
   "outputs": [],
   "source": [
    "# Define the layers in the network\n",
    "inputs = Input(shape=(784,))\n",
    "dense1 = Dense(64, activation='relu')(inputs)\n",
    "dense2 = Dense(32, activation='relu')(dense1)\n",
    "outputs = Dense(10, activation='softmax')(dense2)"
   ]
  },
  {
   "cell_type": "code",
   "execution_count": 40,
   "metadata": {
    "tags": []
   },
   "outputs": [],
   "source": [
    "fashion_classifier = Model(inputs, outputs)"
   ]
  },
  {
   "cell_type": "markdown",
   "metadata": {},
   "source": [
    "#### Compile the ANN\n",
    "\n",
    "To compile the model, we used the loss `sparse_categorical_crossentropy` because the labels are integers in ordinal encoding format. If the labels were in one-hot encoding format, we would have used `categorical_crossentropy` loss. "
   ]
  },
  {
   "cell_type": "code",
   "execution_count": 41,
   "metadata": {
    "tags": []
   },
   "outputs": [],
   "source": [
    "# Compile the model\n",
    "fashion_classifier.compile(optimizer='adam',\n",
    "                           loss='sparse_categorical_crossentropy',\n",
    "                           metrics=['accuracy'])"
   ]
  },
  {
   "cell_type": "markdown",
   "metadata": {},
   "source": [
    "#### Train the ANN"
   ]
  },
  {
   "cell_type": "markdown",
   "metadata": {
    "id": "CPzwj8KNj-7T"
   },
   "source": [
    "To train the model, we pass the training data and labels. In this case, let's train the model for 10 epochs, and use a `batch_size` of 32 images. Also, we used the default verbose, and the training results are displayed at the end of each epoch. "
   ]
  },
  {
   "cell_type": "code",
   "execution_count": 42,
   "metadata": {
    "colab": {
     "base_uri": "https://localhost:8080/"
    },
    "id": "nbg2muwlmzaz",
    "outputId": "290c28dc-c430-4400-aa7b-bd5d6b19580f",
    "tags": []
   },
   "outputs": [
    {
     "name": "stdout",
     "output_type": "stream",
     "text": [
      "Epoch 1/10\n",
      "1875/1875 [==============================] - 5s 2ms/step - loss: 0.5282 - accuracy: 0.8148\n",
      "Epoch 2/10\n",
      "1875/1875 [==============================] - 3s 2ms/step - loss: 0.3886 - accuracy: 0.8597\n",
      "Epoch 3/10\n",
      "1875/1875 [==============================] - 4s 2ms/step - loss: 0.3520 - accuracy: 0.8717\n",
      "Epoch 4/10\n",
      "1875/1875 [==============================] - 4s 2ms/step - loss: 0.3276 - accuracy: 0.8804\n",
      "Epoch 5/10\n",
      "1875/1875 [==============================] - 3s 2ms/step - loss: 0.3119 - accuracy: 0.8868\n",
      "Epoch 6/10\n",
      "1875/1875 [==============================] - 4s 2ms/step - loss: 0.2982 - accuracy: 0.8909\n",
      "Epoch 7/10\n",
      "1875/1875 [==============================] - 4s 2ms/step - loss: 0.2878 - accuracy: 0.8939\n",
      "Epoch 8/10\n",
      "1875/1875 [==============================] - 4s 2ms/step - loss: 0.2780 - accuracy: 0.8988\n",
      "Epoch 9/10\n",
      "1875/1875 [==============================] - 4s 2ms/step - loss: 0.2706 - accuracy: 0.9001\n",
      "Epoch 10/10\n",
      "1875/1875 [==============================] - 3s 2ms/step - loss: 0.2615 - accuracy: 0.9029\n"
     ]
    }
   ],
   "source": [
    "history = fashion_classifier.fit(fashion_train, fashion_train_label, epochs=10, batch_size=32)"
   ]
  },
  {
   "cell_type": "markdown",
   "metadata": {
    "id": "71JCDJfZubbv"
   },
   "source": [
    "#### Evaluate the ANN on Test Dataset\n",
    "\n",
    "By using the `evaluate` method in Keras, we can see that the classification accuracy on test data is 88.4%."
   ]
  },
  {
   "cell_type": "code",
   "execution_count": 43,
   "metadata": {
    "colab": {
     "base_uri": "https://localhost:8080/"
    },
    "id": "O2XST14vufRB",
    "outputId": "d6fe60f0-3f36-48dc-a554-b837d33777ed",
    "tags": []
   },
   "outputs": [
    {
     "name": "stdout",
     "output_type": "stream",
     "text": [
      "313/313 [==============================] - 1s 1ms/step - loss: 0.3502 - accuracy: 0.8784\n",
      "Classification Accuracy:  0.8784000277519226\n"
     ]
    }
   ],
   "source": [
    "# Evaluate on test dataset\n",
    "evals_test = fashion_classifier.evaluate(fashion_test, fashion_test_label)\n",
    "print(\"Classification Accuracy: \", evals_test[1])"
   ]
  },
  {
   "cell_type": "markdown",
   "metadata": {},
   "source": [
    "We can also use `predict()` to obtain the model's predictions."
   ]
  },
  {
   "cell_type": "code",
   "execution_count": 44,
   "metadata": {
    "colab": {
     "base_uri": "https://localhost:8080/"
    },
    "id": "K79im89prfzv",
    "outputId": "a06c7797-cfb5-46fd-b90e-0518f88897cb",
    "tags": []
   },
   "outputs": [
    {
     "name": "stdout",
     "output_type": "stream",
     "text": [
      "313/313 [==============================] - 0s 1ms/step\n"
     ]
    }
   ],
   "source": [
    "predictions = fashion_classifier.predict(fashion_test)"
   ]
  },
  {
   "cell_type": "markdown",
   "metadata": {
    "id": "mYF9aQTj-GTa"
   },
   "source": [
    "In the next call, we checked the shape of the predicted outputs, and since there are 10,000 test images and 10 classes, the output is `(10000, 10)`. "
   ]
  },
  {
   "cell_type": "code",
   "execution_count": 45,
   "metadata": {
    "colab": {
     "base_uri": "https://localhost:8080/"
    },
    "id": "Ai46Kj1d7p1m",
    "outputId": "f85e905b-6a1a-4ec6-fc9b-c7a8226e34cb",
    "tags": []
   },
   "outputs": [
    {
     "data": {
      "text/plain": [
       "(10000, 10)"
      ]
     },
     "execution_count": 45,
     "metadata": {},
     "output_type": "execute_result"
    }
   ],
   "source": [
    "# check the shape of the predictions\n",
    "predictions.shape"
   ]
  },
  {
   "cell_type": "markdown",
   "metadata": {},
   "source": [
    "Also, we displayed the predictions for the first 5 test images in the next cell. For each image, the model outputs probabilities for each of the 10 classes. The probabilities sum to 1. For instance, for the first test image, the model assigned the highest probability to the class with index 9. "
   ]
  },
  {
   "cell_type": "code",
   "execution_count": 46,
   "metadata": {
    "colab": {
     "base_uri": "https://localhost:8080/"
    },
    "id": "Ph2r53Kt77Hg",
    "outputId": "83732785-130e-4c8b-dcde-850cc89b013c",
    "tags": []
   },
   "outputs": [
    {
     "data": {
      "text/plain": [
       "array([[0.   , 0.   , 0.   , 0.   , 0.   , 0.   , 0.   , 0.007, 0.   ,\n",
       "        0.992],\n",
       "       [0.   , 0.   , 0.97 , 0.   , 0.005, 0.   , 0.025, 0.   , 0.   ,\n",
       "        0.   ],\n",
       "       [0.   , 1.   , 0.   , 0.   , 0.   , 0.   , 0.   , 0.   , 0.   ,\n",
       "        0.   ],\n",
       "       [0.   , 1.   , 0.   , 0.   , 0.   , 0.   , 0.   , 0.   , 0.   ,\n",
       "        0.   ],\n",
       "       [0.049, 0.   , 0.001, 0.001, 0.001, 0.   , 0.948, 0.   , 0.   ,\n",
       "        0.   ]], dtype=float32)"
      ]
     },
     "execution_count": 46,
     "metadata": {},
     "output_type": "execute_result"
    }
   ],
   "source": [
    "# Display the predictions for the first 5 test images\n",
    "np.around(predictions[:5],3)"
   ]
  },
  {
   "cell_type": "markdown",
   "metadata": {
    "id": "bOG64FhY-zdH"
   },
   "source": [
    "To output the indices with the highest probability for each image we can use `np.argmax`. "
   ]
  },
  {
   "cell_type": "code",
   "execution_count": 47,
   "metadata": {
    "colab": {
     "base_uri": "https://localhost:8080/"
    },
    "id": "C7bmDQ2k8191",
    "outputId": "3c97e0df-778d-452e-8f49-027e49feda69",
    "tags": []
   },
   "outputs": [
    {
     "data": {
      "text/plain": [
       "array([9, 2, 1, 1, 6], dtype=int64)"
      ]
     },
     "execution_count": 47,
     "metadata": {},
     "output_type": "execute_result"
    }
   ],
   "source": [
    "# Display the index with the highest probability for the first 5 test images\n",
    "np.argmax(predictions[:5], axis=1)"
   ]
  },
  {
   "cell_type": "markdown",
   "metadata": {},
   "source": [
    "The ground-truth labels are also shown in the next cell, and they match correctly the predictions for the first 5 test images."
   ]
  },
  {
   "cell_type": "code",
   "execution_count": 48,
   "metadata": {
    "colab": {
     "base_uri": "https://localhost:8080/"
    },
    "id": "5r3luKAi9IJp",
    "outputId": "670aabec-a36f-4dd7-bf97-30bd21c94aa8",
    "tags": []
   },
   "outputs": [
    {
     "data": {
      "text/plain": [
       "array([9, 2, 1, 1, 6], dtype=uint8)"
      ]
     },
     "execution_count": 48,
     "metadata": {},
     "output_type": "execute_result"
    }
   ],
   "source": [
    "# print the ground-truth label for the first 5 test images\n",
    "fashion_test_label[:5]"
   ]
  },
  {
   "cell_type": "markdown",
   "metadata": {
    "id": "TY-5ODXpvMjN"
   },
   "source": [
    "#### Visualize the Training Loss and Accuracy\n",
    "\n",
    "The learning curves are shown in the figure below. It becomes obvious that if we train the model for longer than 10 epochs, we can improve the classification performance."
   ]
  },
  {
   "cell_type": "code",
   "execution_count": 49,
   "metadata": {
    "tags": []
   },
   "outputs": [
    {
     "data": {
      "image/png": "[encoded data removed]",
      "text/plain": [
       "<Figure size 1200x400 with 2 Axes>"
      ]
     },
     "metadata": {},
     "output_type": "display_data"
    }
   ],
   "source": [
    "# plot the accuracy and loss\n",
    "train_loss = history.history['loss']\n",
    "acc = history.history['accuracy'] \n",
    "\n",
    "epochsn = np.arange(1, len(train_loss)+1,1)\n",
    "plt.figure(figsize=(12, 4))\n",
    "\n",
    "plt.subplot(1,2,1)\n",
    "plt.plot(epochsn, acc, 'b')\n",
    "plt.grid(color='gray', linestyle='--')\n",
    "plt.title('TRAINING ACCURACY')\n",
    "plt.xlabel('Epochs')\n",
    "plt.ylabel('Accuracy')\n",
    "\n",
    "plt.subplot(1,2,2)\n",
    "plt.plot(epochsn,train_loss, 'b')\n",
    "plt.grid(color='gray', linestyle='--')\n",
    "plt.title('TRAINING LOSS')\n",
    "plt.xlabel('Epochs')\n",
    "plt.ylabel('Loss')\n",
    "plt.show() "
   ]
  },
  {
   "cell_type": "markdown",
   "metadata": {},
   "source": [
    "#### Re-train and Evaluate the ANN\n",
    "\n",
    "Note that if we re-train the same model on the same training data and evaluate it on the same testing data, in most cases we will obtain similar, but different values for the accuracy!!!\n",
    "\n",
    "The reason for this is because every time a model is trained, the values of the network parameters are randomly initialized to small values close to 0 (but not 0 though). Because of the random initialization, the model will converge to a different solution every time we train it.\n",
    "\n",
    "Consequently, ANNs have a stochastic nature, meaning that every time we train a model we obtain a different output. \n",
    "\n",
    "If the repeatability of the results is important, we can use a random seed to initialize the model parameters, and in that case, the accuracy will be the same if we re-train the model.  "
   ]
  },
  {
   "cell_type": "code",
   "execution_count": 50,
   "metadata": {
    "tags": []
   },
   "outputs": [
    {
     "name": "stdout",
     "output_type": "stream",
     "text": [
      "313/313 [==============================] - 1s 2ms/step - loss: 0.3710 - accuracy: 0.8771\n",
      "Classification Accuracy:  0.8770999908447266\n"
     ]
    }
   ],
   "source": [
    "fashion_classifier_2 = Model(inputs, outputs)\n",
    "\n",
    "# Compile the model\n",
    "fashion_classifier_2.compile(optimizer='adam',\n",
    "                  loss='sparse_categorical_crossentropy',\n",
    "                  metrics=['accuracy'])\n",
    "\n",
    "# Train the model\n",
    "fashion_classifier_2.fit(fashion_train, fashion_train_label, epochs=10, batch_size=32, verbose=0)\n",
    "\n",
    "# Evaluate on test dataset\n",
    "evals_test = fashion_classifier_2.evaluate(fashion_test, fashion_test_label)\n",
    "print(\"Classification Accuracy: \", evals_test[1])"
   ]
  },
  {
   "cell_type": "markdown",
   "metadata": {},
   "source": [
    "## 14.3 Regression with ANNs <a id=\"14.3-regression-with-anns\"/>"
   ]
  },
  {
   "cell_type": "markdown",
   "metadata": {
    "id": "jG7bLsj03uxw"
   },
   "source": [
    "In regression tasks, we are interested in predicting single or multiple continuous values. The ANN architectures for regression tasks are similar to the architectures for classification tasks. The listed recommendations for the input and hidden layers are the same as for classification tasks. The number of neurons in the output layer depends on the problem. If we are predicting a single value it will be 1, and if we are predicting multiple values, the number of output neurons will be set to the number of predicted values. \n",
    "\n",
    "The choice of activation functions depends on the problem, but in most cases, `ReLU` will work well in the hidden layers. Unlike ANNs for classification, ANNs for regression don't need to have an activation function in the output layer, since the ANN outputs are continuous value(s).\n",
    "\n",
    "We stated earlier that the loss function used in regression is usually `Mean Squared Error(MSE)`, or if the dataset contains outliers, `Mean Absolute Error (MAE)` loss may be preferred.\n",
    "\n",
    "A suitable choice for an optimizer is Adam. Other optimizers to try include SGD, RMSProp, Nadam, and others. \n",
    "\n",
    "*Table: Typical values of hyperparameters in ANNs for regression*\n",
    "\n",
    "| **Hyperparameter** | **Typical value** |\n",
    "| --- | --- |\n",
    "| Neurons in input layer | Same as the number of input features |\n",
    "| Number of hidden layer(s) | Depends on the problem, typically from 1 to 10 |\n",
    "| Neurons per hidden layer | Depends on the problem, typically from 10 to 100 |\n",
    "| Activation in hidden layers|  Mostly ReLU |\n",
    "| Activation in output layer |None in most cases|\n",
    "| Loss function | MSE or MAE |\n",
    "| Optimizer | Mostly Adam, SGD, RMSProp |"
   ]
  },
  {
   "cell_type": "markdown",
   "metadata": {
    "id": "Ce1AurnvUWUr"
   },
   "source": [
    "Next, we will present an example of regression with ANNs, and for this purpose, we will use the California Housing Dataset that is available in scikit-learn. "
   ]
  },
  {
   "cell_type": "markdown",
   "metadata": {
    "id": "_RplpeLNUYj0"
   },
   "source": [
    "#### Loading the Dataset"
   ]
  },
  {
   "cell_type": "markdown",
   "metadata": {
    "id": "YFVMmxtm6R_a"
   },
   "source": [
    "We will load the California Housing Dataset from scikit-learn as a pandas DataFrame named `housing`. The objective of the regression task is to predict the median house value, shown in the column to the right. "
   ]
  },
  {
   "cell_type": "code",
   "execution_count": 51,
   "metadata": {
    "tags": []
   },
   "outputs": [
    {
     "data": {
      "text/html": [
       "<div>\n",
       "<style scoped>\n",
       "    .dataframe tbody tr th:only-of-type {\n",
       "        vertical-align: middle;\n",
       "    }\n",
       "\n",
       "    .dataframe tbody tr th {\n",
       "        vertical-align: top;\n",
       "    }\n",
       "\n",
       "    .dataframe thead th {\n",
       "        text-align: right;\n",
       "    }\n",
       "</style>\n",
       "<table border=\"1\" class=\"dataframe\">\n",
       "  <thead>\n",
       "    <tr style=\"text-align: right;\">\n",
       "      <th></th>\n",
       "      <th>MedInc</th>\n",
       "      <th>HouseAge</th>\n",
       "      <th>AveRooms</th>\n",
       "      <th>AveBedrms</th>\n",
       "      <th>Population</th>\n",
       "      <th>AveOccup</th>\n",
       "      <th>Latitude</th>\n",
       "      <th>Longitude</th>\n",
       "      <th>MedHouseVal</th>\n",
       "    </tr>\n",
       "  </thead>\n",
       "  <tbody>\n",
       "    <tr>\n",
       "      <th>0</th>\n",
       "      <td>8.3252</td>\n",
       "      <td>41.0</td>\n",
       "      <td>6.984127</td>\n",
       "      <td>1.023810</td>\n",
       "      <td>322.0</td>\n",
       "      <td>2.555556</td>\n",
       "      <td>37.88</td>\n",
       "      <td>-122.23</td>\n",
       "      <td>4.526</td>\n",
       "    </tr>\n",
       "    <tr>\n",
       "      <th>1</th>\n",
       "      <td>8.3014</td>\n",
       "      <td>21.0</td>\n",
       "      <td>6.238137</td>\n",
       "      <td>0.971880</td>\n",
       "      <td>2401.0</td>\n",
       "      <td>2.109842</td>\n",
       "      <td>37.86</td>\n",
       "      <td>-122.22</td>\n",
       "      <td>3.585</td>\n",
       "    </tr>\n",
       "    <tr>\n",
       "      <th>2</th>\n",
       "      <td>7.2574</td>\n",
       "      <td>52.0</td>\n",
       "      <td>8.288136</td>\n",
       "      <td>1.073446</td>\n",
       "      <td>496.0</td>\n",
       "      <td>2.802260</td>\n",
       "      <td>37.85</td>\n",
       "      <td>-122.24</td>\n",
       "      <td>3.521</td>\n",
       "    </tr>\n",
       "    <tr>\n",
       "      <th>3</th>\n",
       "      <td>5.6431</td>\n",
       "      <td>52.0</td>\n",
       "      <td>5.817352</td>\n",
       "      <td>1.073059</td>\n",
       "      <td>558.0</td>\n",
       "      <td>2.547945</td>\n",
       "      <td>37.85</td>\n",
       "      <td>-122.25</td>\n",
       "      <td>3.413</td>\n",
       "    </tr>\n",
       "    <tr>\n",
       "      <th>4</th>\n",
       "      <td>3.8462</td>\n",
       "      <td>52.0</td>\n",
       "      <td>6.281853</td>\n",
       "      <td>1.081081</td>\n",
       "      <td>565.0</td>\n",
       "      <td>2.181467</td>\n",
       "      <td>37.85</td>\n",
       "      <td>-122.25</td>\n",
       "      <td>3.422</td>\n",
       "    </tr>\n",
       "  </tbody>\n",
       "</table>\n",
       "</div>"
      ],
      "text/plain": [
       "   MedInc  HouseAge  AveRooms  AveBedrms  Population  AveOccup  Latitude  \\\n",
       "0  8.3252      41.0  6.984127   1.023810       322.0  2.555556     37.88   \n",
       "1  8.3014      21.0  6.238137   0.971880      2401.0  2.109842     37.86   \n",
       "2  7.2574      52.0  8.288136   1.073446       496.0  2.802260     37.85   \n",
       "3  5.6431      52.0  5.817352   1.073059       558.0  2.547945     37.85   \n",
       "4  3.8462      52.0  6.281853   1.081081       565.0  2.181467     37.85   \n",
       "\n",
       "   Longitude  MedHouseVal  \n",
       "0    -122.23        4.526  \n",
       "1    -122.22        3.585  \n",
       "2    -122.24        3.521  \n",
       "3    -122.25        3.413  \n",
       "4    -122.25        3.422  "
      ]
     },
     "execution_count": 51,
     "metadata": {},
     "output_type": "execute_result"
    }
   ],
   "source": [
    "from sklearn.datasets import fetch_california_housing\n",
    "\n",
    "housing = fetch_california_housing(as_frame=True).frame\n",
    "housing.head()"
   ]
  },
  {
   "cell_type": "code",
   "execution_count": 52,
   "metadata": {
    "tags": []
   },
   "outputs": [
    {
     "data": {
      "text/plain": [
       "(20640, 9)"
      ]
     },
     "execution_count": 52,
     "metadata": {},
     "output_type": "execute_result"
    }
   ],
   "source": [
    "# Check the shape of the dataset\n",
    "housing.shape"
   ]
  },
  {
   "cell_type": "markdown",
   "metadata": {},
   "source": [
    "We can check if there are missing values, and visualize the histograms of the features."
   ]
  },
  {
   "cell_type": "code",
   "execution_count": 53,
   "metadata": {
    "tags": []
   },
   "outputs": [
    {
     "data": {
      "text/plain": [
       "MedInc         0\n",
       "HouseAge       0\n",
       "AveRooms       0\n",
       "AveBedrms      0\n",
       "Population     0\n",
       "AveOccup       0\n",
       "Latitude       0\n",
       "Longitude      0\n",
       "MedHouseVal    0\n",
       "dtype: int64"
      ]
     },
     "execution_count": 53,
     "metadata": {},
     "output_type": "execute_result"
    }
   ],
   "source": [
    "housing.isnull().sum()"
   ]
  },
  {
   "cell_type": "code",
   "execution_count": 54,
   "metadata": {
    "tags": []
   },
   "outputs": [
    {
     "data": {
      "image/png": "[encoded data removed]",
      "text/plain": [
       "<Figure size 800x600 with 9 Axes>"
      ]
     },
     "metadata": {},
     "output_type": "display_data"
    }
   ],
   "source": [
    "housing.hist(bins=20, figsize=(8,6))\n",
    "plt.show()"
   ]
  },
  {
   "cell_type": "markdown",
   "metadata": {},
   "source": [
    "In the next cell we will check if there are correlated features. We can notice high correlation between the house value and the number of bedrooms, which is expected. We can also notice high negative correlation between the price and longitude and latitude. In the following cell we plotted the house value versus longitude and latitude. The plot looks like the map of California, and we can see that houses that are closer to the coast are more expensive."
   ]
  },
  {
   "cell_type": "code",
   "execution_count": 55,
   "metadata": {
    "tags": []
   },
   "outputs": [
    {
     "data": {
      "image/png": "[encoded data removed]",
      "text/plain": [
       "<Figure size 640x480 with 2 Axes>"
      ]
     },
     "metadata": {},
     "output_type": "display_data"
    }
   ],
   "source": [
    "correlation = housing.corr()\n",
    "sns.heatmap(correlation, annot=True);\n",
    "# plt.show()"
   ]
  },
  {
   "cell_type": "code",
   "execution_count": 56,
   "metadata": {
    "tags": []
   },
   "outputs": [
    {
     "data": {
      "image/png": "[encoded data removed]",
      "text/plain": [
       "<Figure size 600x600 with 2 Axes>"
      ]
     },
     "metadata": {},
     "output_type": "display_data"
    }
   ],
   "source": [
    "housing.plot(kind=\"scatter\", x=\"Longitude\", y=\"Latitude\", c=\"MedHouseVal\", cmap=\"jet\", colorbar=True, legend=True, sharex=False, figsize=(6,6),)\n",
    "plt.show()"
   ]
  },
  {
   "cell_type": "markdown",
   "metadata": {},
   "source": [
    "And, if we check the median house value column, we can see that the values are in the range from 0 to 5."
   ]
  },
  {
   "cell_type": "code",
   "execution_count": 57,
   "metadata": {
    "tags": []
   },
   "outputs": [
    {
     "data": {
      "image/png": "[encoded data removed]",
      "text/plain": [
       "<Figure size 640x480 with 1 Axes>"
      ]
     },
     "metadata": {},
     "output_type": "display_data"
    }
   ],
   "source": [
    "plt.plot(housing['MedHouseVal'], 'bo')\n",
    "plt.show()"
   ]
  },
  {
   "cell_type": "markdown",
   "metadata": {},
   "source": [
    "Let's get the features and the target values, and create training and testing datasets."
   ]
  },
  {
   "cell_type": "code",
   "execution_count": 58,
   "metadata": {
    "tags": []
   },
   "outputs": [],
   "source": [
    "X = housing.drop('MedHouseVal', axis=1)\n",
    "y = housing['MedHouseVal']"
   ]
  },
  {
   "cell_type": "code",
   "execution_count": 59,
   "metadata": {
    "tags": []
   },
   "outputs": [],
   "source": [
    "X_train, X_test, y_train, y_test = train_test_split(X, y, test_size=0.2, random_state=42)"
   ]
  },
  {
   "cell_type": "code",
   "execution_count": 60,
   "metadata": {
    "tags": []
   },
   "outputs": [
    {
     "name": "stdout",
     "output_type": "stream",
     "text": [
      "Training data inputs (16512, 8)\n",
      "Training labels (16512,)\n",
      "Testing data inputs (4128, 8)\n",
      "Testing labels (4128,)\n"
     ]
    }
   ],
   "source": [
    "print('Training data inputs', X_train.shape)\n",
    "print('Training labels', y_train.shape)\n",
    "print('Testing data inputs', X_test.shape)\n",
    "print('Testing labels', y_test.shape)"
   ]
  },
  {
   "cell_type": "code",
   "execution_count": 61,
   "metadata": {
    "tags": []
   },
   "outputs": [],
   "source": [
    "# Scaling the features to be between 0 and 1\n",
    "scaler = MinMaxScaler()\n",
    "\n",
    "X_train_scaled = scaler.fit_transform(X_train)\n",
    "X_test_scaled = scaler.transform(X_test)"
   ]
  },
  {
   "cell_type": "markdown",
   "metadata": {},
   "source": [
    "#### Create the ANN\n",
    "\n",
    "Let's use a similar ANN architecture as in the classification tasks, with two Dense layers with ReLU activations, having 32 neurons each. \n",
    "\n",
    "Since we would like to predict a single value, we will use 1 neuron in the output layer, without activation function."
   ]
  },
  {
   "cell_type": "code",
   "execution_count": 62,
   "metadata": {
    "tags": []
   },
   "outputs": [],
   "source": [
    "# Define the layers in the network\n",
    "inputs = Input(shape=(8,))\n",
    "dense1 = Dense(32, activation='relu')(inputs)\n",
    "dense2 = Dense(32, activation='relu')(dense1)\n",
    "outputs = Dense(1)(dense2)"
   ]
  },
  {
   "cell_type": "code",
   "execution_count": 63,
   "metadata": {
    "tags": []
   },
   "outputs": [],
   "source": [
    "# Define the model by providing the inputs and outputs\n",
    "model_2 = Model(inputs, outputs)"
   ]
  },
  {
   "cell_type": "markdown",
   "metadata": {
    "tags": []
   },
   "source": [
    "We can inspect the architecture of the ANN with the `summary()` method. "
   ]
  },
  {
   "cell_type": "code",
   "execution_count": 64,
   "metadata": {
    "tags": []
   },
   "outputs": [
    {
     "name": "stdout",
     "output_type": "stream",
     "text": [
      "Model: \"model_3\"\n",
      "_________________________________________________________________\n",
      " Layer (type)                Output Shape              Param #   \n",
      "=================================================================\n",
      " input_3 (InputLayer)        [(None, 8)]               0         \n",
      "                                                                 \n",
      " dense_6 (Dense)             (None, 32)                288       \n",
      "                                                                 \n",
      " dense_7 (Dense)             (None, 32)                1056      \n",
      "                                                                 \n",
      " dense_8 (Dense)             (None, 1)                 33        \n",
      "                                                                 \n",
      "=================================================================\n",
      "Total params: 1377 (5.38 KB)\n",
      "Trainable params: 1377 (5.38 KB)\n",
      "Non-trainable params: 0 (0.00 Byte)\n",
      "_________________________________________________________________\n"
     ]
    }
   ],
   "source": [
    "model_2.summary()"
   ]
  },
  {
   "cell_type": "markdown",
   "metadata": {},
   "source": [
    "#### Compile the ANN\n",
    "\n",
    "In this case, we will use `mean_squared_error` loss function. During training, the loss function will calculate the squared difference between the target value $y$ and the predicted value $\\hat{y}$, calculated as $\\sum{(y - \\hat{y})^2}$.  \n",
    "\n",
    "We can use the Adam optimizer for regression tasks as well. Note that we cannot measure accuracy as in classification tasks, therefore we don't need to specify a performance metric. Alternatively, we can use mean-squared error, mean-absolute error, or R2 score as metrics. "
   ]
  },
  {
   "cell_type": "code",
   "execution_count": 65,
   "metadata": {
    "tags": []
   },
   "outputs": [],
   "source": [
    "# Compile the model\n",
    "model_2.compile(loss='mean_squared_error', optimizer='adam')"
   ]
  },
  {
   "cell_type": "markdown",
   "metadata": {},
   "source": [
    "#### Train the ANN\n",
    "\n",
    "Similarly to classification tasks, to fit the model we will provide the training data and the target values. Let's fit the model for 200 epochs. "
   ]
  },
  {
   "cell_type": "code",
   "execution_count": 66,
   "metadata": {
    "tags": []
   },
   "outputs": [],
   "source": [
    "history = model_2.fit(X_train_scaled, y_train, epochs=200, verbose=0)"
   ]
  },
  {
   "cell_type": "code",
   "execution_count": 67,
   "metadata": {
    "tags": []
   },
   "outputs": [
    {
     "data": {
      "image/png": "[encoded data removed]",
      "text/plain": [
       "<Figure size 400x300 with 1 Axes>"
      ]
     },
     "metadata": {},
     "output_type": "display_data"
    }
   ],
   "source": [
    "# plot the loss\n",
    "train_loss = history.history['loss']\n",
    "\n",
    "epochsn = np.arange(1, len(train_loss)+1,1)\n",
    "plt.figure(figsize=(4, 3))\n",
    "\n",
    "plt.plot(epochsn,train_loss, 'b')\n",
    "plt.grid(color='gray', linestyle='--')\n",
    "plt.title('TRAINING LOSS')\n",
    "plt.xlabel('Epochs')\n",
    "plt.ylabel('Loss')\n",
    "plt.show() "
   ]
  },
  {
   "cell_type": "markdown",
   "metadata": {},
   "source": [
    "#### Evaluate the ANN\n",
    "\n",
    "We will again use `predict` to obtain the outputs of the model. Let's check the predicted values for the first 10 test samples. "
   ]
  },
  {
   "cell_type": "code",
   "execution_count": 68,
   "metadata": {
    "tags": []
   },
   "outputs": [
    {
     "name": "stdout",
     "output_type": "stream",
     "text": [
      "1/1 [==============================] - 0s 63ms/step\n"
     ]
    },
    {
     "data": {
      "text/plain": [
       "array([[0.5601754],\n",
       "       [1.0535405],\n",
       "       [4.1935463],\n",
       "       [2.8048782],\n",
       "       [2.8342881],\n",
       "       [1.7369726],\n",
       "       [2.502098 ],\n",
       "       [1.688604 ],\n",
       "       [2.5543702],\n",
       "       [4.6797976]], dtype=float32)"
      ]
     },
     "execution_count": 68,
     "metadata": {},
     "output_type": "execute_result"
    }
   ],
   "source": [
    "predictions = model_2.predict(X_test_scaled[:10])\n",
    "predictions"
   ]
  },
  {
   "cell_type": "markdown",
   "metadata": {},
   "source": [
    "And we can compare the predicted values by the model to the target ground-truth values. It would be easier to create a plot of the predicted and target values, as in the following cell. We can see that for most values, the model predictions are close to the target values. "
   ]
  },
  {
   "cell_type": "code",
   "execution_count": 69,
   "metadata": {
    "tags": []
   },
   "outputs": [
    {
     "data": {
      "text/plain": [
       "array([0.477  , 0.458  , 5.00001, 2.186  , 2.78   , 1.587  , 1.982  ,\n",
       "       1.575  , 3.4    , 4.466  ])"
      ]
     },
     "execution_count": 69,
     "metadata": {},
     "output_type": "execute_result"
    }
   ],
   "source": [
    "# Ground-truth values\n",
    "np.array(y_test[:10])"
   ]
  },
  {
   "cell_type": "code",
   "execution_count": 70,
   "metadata": {
    "tags": []
   },
   "outputs": [
    {
     "data": {
      "image/png": "[encoded data removed]",
      "text/plain": [
       "<Figure size 800x400 with 1 Axes>"
      ]
     },
     "metadata": {},
     "output_type": "display_data"
    }
   ],
   "source": [
    "plt. figure(figsize=(8, 4))\n",
    "plt.plot(predictions, 'rx', label='Predicted values')\n",
    "plt.plot(np.array(y_test[:10]), 'go', label='Target values')\n",
    "plt.legend()\n",
    "plt.xlabel('Index')\n",
    "plt.ylabel('Median House Value')\n",
    "plt.show()"
   ]
  },
  {
   "cell_type": "markdown",
   "metadata": {},
   "source": [
    "As we mentioned, metrics that we can use to evaluate the performance of regression models include mean-squared error (MSE), mean-absolute error (MAE),  or R-squared score. R-squared score (or $R^2$) is also called coefficient of determination, and evaluates the goodness of fit of regression models, by measuring the proportion of the variation in the target variable that is contained in the predicted variable.\n",
    "\n",
    "In the next cell we imported these metrics from scikit-learn and calculated their values. Note that for MSE and MAE lower values indicate better performance, and for R2 score greater values indicate better performance. "
   ]
  },
  {
   "cell_type": "code",
   "execution_count": 71,
   "metadata": {
    "tags": []
   },
   "outputs": [
    {
     "name": "stdout",
     "output_type": "stream",
     "text": [
      "129/129 [==============================] - 0s 1ms/step\n",
      "MSE:  0.2897\n",
      "MAE:  0.3699\n",
      "R2 score:  0.7789\n"
     ]
    }
   ],
   "source": [
    "from sklearn.metrics import mean_squared_error, mean_absolute_error, r2_score\n",
    "\n",
    "all_preds = model_2.predict(X_test_scaled)\n",
    "\n",
    "print(f'MSE: {mean_squared_error(y_test, all_preds):7.4f}')\n",
    "print(f'MAE: {mean_absolute_error(y_test, all_preds):7.4f}')\n",
    "print(f'R2 score: {r2_score(y_test, all_preds):7.4f}')"
   ]
  },
  {
   "cell_type": "markdown",
   "metadata": {},
   "source": [
    "## 14.4 Saving and Loading Models in Keras <a id=\"14.4-saving-and-loading-models-in-keras\"/>"
   ]
  },
  {
   "cell_type": "markdown",
   "metadata": {
    "id": "0pNOtvAgTboI"
   },
   "source": [
    "To save a model in Keras, we simply use the `save()` method, and provide the path to the directory. \n",
    "\n",
    "The saved model contains the architecture with the layers, the weights for all layers in the model, and other information related to the used optimizer, loss, and metrics. \n",
    "\n",
    "There are two possible formats to save the models into: **HDF5** and **Keras-TensorFlow SavedModel**. If we provide the `.h5` extension, then the saved model format is HDF5. If we provide the `.keras` extension, or if we don't provide any extension, the model will be saved into Keras-TensorFlow SavedModel format. \n",
    "\n",
    "Keras-TensorFlow SavedModel is the default, and it is recommended, since it is a newer format, and it saves additional information that is not included in the `h5` file, such as losses and metrics (e.g., they can be useful if we wish to resume training).\n",
    "\n",
    "Let's use the Keras-TensorFlow SavedModel format to save the first classification model `model_1` from Section 14.2.1 in the current working directory under the name `classification_model`."
   ]
  },
  {
   "cell_type": "code",
   "execution_count": 72,
   "metadata": {
    "id": "-I1ZmeLCSJXW",
    "tags": []
   },
   "outputs": [],
   "source": [
    "# Saving a model\n",
    "model_1.save('classification_model.keras')"
   ]
  },
  {
   "cell_type": "markdown",
   "metadata": {
    "id": "ZBx6J5qVXd5Q"
   },
   "source": [
    "To load a saved model we will use the `load_model` method. It returns the architecture and weights of the saved model. \n",
    "\n",
    "Let's load the save model as `model_3`."
   ]
  },
  {
   "cell_type": "code",
   "execution_count": 73,
   "metadata": {
    "id": "HV_-3wAcSn-Y",
    "tags": []
   },
   "outputs": [],
   "source": [
    "# Loading a saved model\n",
    "from keras.models import load_model\n",
    "\n",
    "model_3 = load_model('classification_model.keras')"
   ]
  },
  {
   "cell_type": "markdown",
   "metadata": {},
   "source": [
    "Afterward, we can use the loaded model as we would use any other model.\n",
    "\n",
    "Let's evaluate the model on the test dataset, just to check whether the returned value would be as expected."
   ]
  },
  {
   "cell_type": "code",
   "execution_count": 74,
   "metadata": {
    "colab": {
     "base_uri": "https://localhost:8080/"
    },
    "id": "w8bW12rbX9Wk",
    "outputId": "85177afb-6e02-4372-878e-25db0580ade2",
    "tags": []
   },
   "outputs": [
    {
     "name": "stdout",
     "output_type": "stream",
     "text": [
      "4/4 [==============================] - 0s 2ms/step - loss: 0.0709 - accuracy: 0.9737\n",
      "Classification Accuracy:  0.9736841917037964\n"
     ]
    }
   ],
   "source": [
    "# Evaluate on test dataset\n",
    "evals_test = model_3.evaluate(test_data, test_labels)\n",
    "print(\"Classification Accuracy: \", evals_test[1])"
   ]
  },
  {
   "cell_type": "markdown",
   "metadata": {},
   "source": [
    "The summary of the model is displayed below."
   ]
  },
  {
   "cell_type": "code",
   "execution_count": 75,
   "metadata": {
    "colab": {
     "base_uri": "https://localhost:8080/"
    },
    "id": "fbTIrz5ES8hG",
    "outputId": "f40ce904-77f2-47aa-bf11-e954b0c3b40e",
    "tags": []
   },
   "outputs": [
    {
     "name": "stdout",
     "output_type": "stream",
     "text": [
      "Model: \"model\"\n",
      "_________________________________________________________________\n",
      " Layer (type)                Output Shape              Param #   \n",
      "=================================================================\n",
      " input_1 (InputLayer)        [(None, 30)]              0         \n",
      "                                                                 \n",
      " dense (Dense)               (None, 30)                930       \n",
      "                                                                 \n",
      " dense_1 (Dense)             (None, 15)                465       \n",
      "                                                                 \n",
      " dense_2 (Dense)             (None, 1)                 16        \n",
      "                                                                 \n",
      "=================================================================\n",
      "Total params: 1411 (5.51 KB)\n",
      "Trainable params: 1411 (5.51 KB)\n",
      "Non-trainable params: 0 (0.00 Byte)\n",
      "_________________________________________________________________\n"
     ]
    }
   ],
   "source": [
    "model_3.summary()"
   ]
  },
  {
   "cell_type": "markdown",
   "metadata": {},
   "source": [
    "## Appendix <a id=\"appendix\"/>"
   ]
  },
  {
   "cell_type": "markdown",
   "metadata": {},
   "source": [
    "**The material in the Appendix is not required for quizzes and assignments.**"
   ]
  },
  {
   "cell_type": "markdown",
   "metadata": {},
   "source": [
    "### Keras-TensorFlow Model APIs\n",
    "\n",
    "In Keras-TensorFlow, there are three ways to build ANNs:\n",
    "\n",
    "- Functional API\n",
    "- Sequential API\n",
    "- Subclassing API"
   ]
  },
  {
   "cell_type": "markdown",
   "metadata": {},
   "source": [
    "#### Functional API in Keras\n",
    "\n",
    "In the above examples, we used Functional API to build our models. Repeated again in the next cell is the first model example for classification which we used in Section 14.2.1."
   ]
  },
  {
   "cell_type": "code",
   "execution_count": 76,
   "metadata": {
    "tags": []
   },
   "outputs": [],
   "source": [
    "# Define the layers in the network\n",
    "inputs = Input(shape=(30,))\n",
    "dense1 = Dense(units=30, activation='relu')(inputs)     \n",
    "dense2 = Dense(units=15, activation='relu')(dense1)\n",
    "outputs = Dense(units=1, activation='sigmoid')(dense2)\n",
    "\n",
    "# Define the model by providing the inputs and outputs\n",
    "model_1 = Model(inputs, outputs)"
   ]
  },
  {
   "cell_type": "markdown",
   "metadata": {},
   "source": [
    "Functional API is the recommended API, because it is a more recent and advanced API in comparison to Sequential API, but it is simpler than the Subclassing API.\n",
    "\n",
    "Functional API allows to build models with multiple inputs and outputs, or with custom connections between the hidden layers (examples are residual or skip connections, which we will study in the following lectures). Because of these characteristics, Functional API is well suited for creating networks for advanced tasks, such as object detection, segmentation, and others."
   ]
  },
  {
   "cell_type": "markdown",
   "metadata": {},
   "source": [
    "#### Sequential API in Keras\n",
    "\n",
    "Sequential API is the initial option in Keras for model building, as well as it is the simplest. \n",
    "\n",
    "The corresponding sequential model to the above `model_1` is shown in the next cell. To create the model, we just add the layers in a sequence, one after another. "
   ]
  },
  {
   "cell_type": "code",
   "execution_count": 77,
   "metadata": {
    "tags": []
   },
   "outputs": [],
   "source": [
    "from keras.models import Sequential\n",
    "\n",
    "# Define the model and the layers in the network\n",
    "model_1_seq = Sequential([\n",
    "        Dense(30, activation='relu'),\n",
    "        Dense(15, activation='relu'),\n",
    "        Dense(1, activation='sigmoid')])"
   ]
  },
  {
   "cell_type": "markdown",
   "metadata": {},
   "source": [
    "After the model is created, the steps of compiling, training, and evaluation are the same, as shown in the next cell. As we explained above, the reason that the accuracy of `model_1_seq` is different than the accuracy of `model_1` is not because of the API used, but because of the stochastic nature of ANNs. "
   ]
  },
  {
   "cell_type": "code",
   "execution_count": 78,
   "metadata": {
    "tags": []
   },
   "outputs": [
    {
     "name": "stdout",
     "output_type": "stream",
     "text": [
      "4/4 [==============================] - 0s 7ms/step - loss: 0.0661 - accuracy: 0.9912\n",
      "Classification Accuracy:  0.9912280440330505\n"
     ]
    }
   ],
   "source": [
    "# Compile the model\n",
    "model_1_seq.compile(optimizer='adam',\n",
    "                  loss='binary_crossentropy',\n",
    "                  metrics=['accuracy'])\n",
    "\n",
    "# Train the model\n",
    "model_1_seq.fit(train_data, train_labels, epochs=100, batch_size=64, verbose=0)\n",
    "\n",
    "# Evaluate on test dataset\n",
    "evals_test_seq = model_1_seq.evaluate(test_data, test_labels)\n",
    "print(\"Classification Accuracy: \", evals_test_seq[1])"
   ]
  },
  {
   "cell_type": "markdown",
   "metadata": {},
   "source": [
    "Sequential API is suitable for simple classification or regression tasks. However, this API is not suited for tasks with multiple inputs or outputs, or for networks with advanced architectures. "
   ]
  },
  {
   "cell_type": "markdown",
   "metadata": {},
   "source": [
    "### Subclassing API in Keras\n",
    "\n",
    "Subclassing API is designed for building custom models and having full control of every step in the model building and training. It is the most suitable for building models with complex or custom architectures. "
   ]
  },
  {
   "cell_type": "code",
   "execution_count": 79,
   "metadata": {
    "tags": []
   },
   "outputs": [],
   "source": [
    "# # Define the layers in the network\n",
    "class Model1Subclass(Model):\n",
    "\n",
    "    def __init__(self, **kwargs):\n",
    "        super().__init__()\n",
    "        self.dense_1 = Dense(30, activation='relu')\n",
    "        self.dense_2 = Dense(15, activation='relu')\n",
    "        self.dense_3 = Dense(1, activation='sigmoid')\n",
    "\n",
    "    def call(self, inputs):\n",
    "        x = self.dense_1(inputs)\n",
    "        x = self.dense_2(x)\n",
    "        x = self.dense_3(x)\n",
    "        return x\n",
    "\n",
    "# Instantiate the model\n",
    "model_1_subclass = Model1Subclass()"
   ]
  },
  {
   "cell_type": "code",
   "execution_count": 80,
   "metadata": {
    "tags": []
   },
   "outputs": [
    {
     "name": "stdout",
     "output_type": "stream",
     "text": [
      "4/4 [==============================] - 0s 3ms/step - loss: 0.0737 - accuracy: 0.9825\n",
      "Classification Accuracy:  0.9824561476707458\n"
     ]
    }
   ],
   "source": [
    "# Compile the model\n",
    "model_1_subclass.compile(optimizer='adam',\n",
    "                  loss='binary_crossentropy',\n",
    "                  metrics=['accuracy'])\n",
    "\n",
    "# Train the model\n",
    "model_1_subclass.fit(train_data, train_labels, epochs=100, batch_size=64, verbose=0)\n",
    "\n",
    "# Evaluate on test dataset\n",
    "evals_test_subclass = model_1_subclass.evaluate(test_data, test_labels)\n",
    "print(\"Classification Accuracy: \", evals_test_subclass[1])"
   ]
  },
  {
   "cell_type": "markdown",
   "metadata": {},
   "source": [
    "The Subclassing API in Keras is also similar to the model building in PyTorch. We will learn about PyTorch in an upcoming lecture."
   ]
  },
  {
   "cell_type": "markdown",
   "metadata": {},
   "source": [
    "## References <a id=\"references\"/>\n",
    "\n",
    "1. Complete Machine Learning Package, Jean de Dieu Nyandwi, available at: [https://github.com/Nyandwi/machine_learning_complete](https://github.com/Nyandwi/machine_learning_complete).\n",
    "2. Implementing Linear Regression on California Housing Dataset, Debarshi Raj Basumatary, available at: [https://medium.com/mlearning-ai/implementing-linear-regression-on-california-housing-dataset-378e14e421b7](https://medium.com/mlearning-ai/implementing-linear-regression-on-california-housing-dataset-378e14e421b7). "
   ]
  },
  {
   "cell_type": "markdown",
   "metadata": {},
   "source": [
    "[BACK TO TOP](#top)"
   ]
  }
 ],
 "metadata": {
  "kernelspec": {
   "display_name": "Python 3 (ipykernel)",
   "language": "python",
   "name": "python3"
  },
  "language_info": {
   "codemirror_mode": {
    "name": "ipython",
    "version": 3
   },
   "file_extension": ".py",
   "mimetype": "text/x-python",
   "name": "python",
   "nbconvert_exporter": "python",
   "pygments_lexer": "ipython3",
   "version": "3.13.5"
  }
 },
 "nbformat": 4,
 "nbformat_minor": 4
}

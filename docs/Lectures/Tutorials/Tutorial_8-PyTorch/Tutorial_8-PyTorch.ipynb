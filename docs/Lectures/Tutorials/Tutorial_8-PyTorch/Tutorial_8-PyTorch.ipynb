{
 "cells": [
  {
   "cell_type": "markdown",
   "metadata": {
    "id": "RvwFrkzSPbw7"
   },
   "source": [
    "# Tutorial 8 - PyTorch"
   ]
  },
  {
   "cell_type": "markdown",
   "metadata": {
    "id": "0aqN-ffaP4t1"
   },
   "source": [
    "[![View notebook on Github](https://img.shields.io/static/v1.svg?logo=github&label=Repo&message=View%20On%20Github&color=lightgrey)](https://github.com/avakanski/Fall-2025-Applied-Data-Science-with-Python/blob/main/docs/Lectures/Tutorials/Tutorial_8-PyTorch/Tutorial_8-PyTorch.ipynb)\n",
    "[![Open In Collab](https://colab.research.google.com/assets/colab-badge.svg)](https://colab.research.google.com/github/avakanski/Fall-2025-Applied-Data-Science-with-Python/blob/main/docs/Lectures/Tutorials/Tutorial_8-PyTorch/Tutorial_8-PyTorch.ipynb)"
   ]
  },
  {
   "cell_type": "markdown",
   "metadata": {
    "id": "LAEUx9S_Oo4F"
   },
   "source": [
    "<a id='top'></a>"
   ]
  },
  {
   "cell_type": "markdown",
   "metadata": {
    "id": "VQBlSt3bOo4G"
   },
   "source": [
    "**PyTorch** is an open-source machine learning library developed by Meta's AI research lab,  and launched in 2016. Designed to facilitate deep learning, PyTorch offers tools for building neural networks, performing automatic differentiation, and managing large-scale computations. It is based on Python and NumPy-like tensors, enabling seamless execution on both CPUs and GPUs for efficient processing.\n",
    "\n",
    "In addition to its research-oriented features, PyTorch also provides high-level APIs such as **TorchVision** for computer vision and **TorchText** for natural language processing. Over time, PyTorch has grown into a framework widely used in both research and production environments."
   ]
  },
  {
   "cell_type": "markdown",
   "metadata": {},
   "source": [
    "## Install PyTorch\n",
    "\n",
    "PyTorch can be installed with `pip` or `conda` if you are using Anaconda.\n",
    "\n",
    "`pip install torch torchvision`\n",
    "\n",
    "`conda install torch torchvision`\n",
    "\n",
    "Note that Google Colab comes with PyTorch preinstalled."
   ]
  },
  {
   "cell_type": "code",
   "execution_count": 1,
   "metadata": {
    "executionInfo": {
     "elapsed": 3729,
     "status": "ok",
     "timestamp": 1698411787096,
     "user": {
      "displayName": "Aleksandar Vakanski",
      "userId": "07675307153279708378"
     },
     "user_tz": 360
    },
    "id": "eLAkqoRKtyFD"
   },
   "outputs": [],
   "source": [
    "import numpy as np\n",
    "import torch"
   ]
  },
  {
   "cell_type": "code",
   "execution_count": 2,
   "metadata": {
    "colab": {
     "base_uri": "https://localhost:8080/"
    },
    "executionInfo": {
     "elapsed": 3,
     "status": "ok",
     "timestamp": 1698411791220,
     "user": {
      "displayName": "Aleksandar Vakanski",
      "userId": "07675307153279708378"
     },
     "user_tz": 360
    },
    "id": "1uLEnBgft22Y",
    "outputId": "3188902f-d9d3-46b5-8708-3229caa0c97f"
   },
   "outputs": [
    {
     "data": {
      "text/plain": [
       "<torch._C.Generator at 0x296c426a350>"
      ]
     },
     "execution_count": 2,
     "metadata": {},
     "output_type": "execute_result"
    }
   ],
   "source": [
    "# Set seed for reproducibility\n",
    "np.random.seed(seed=1234)\n",
    "torch.manual_seed(1234)"
   ]
  },
  {
   "cell_type": "markdown",
   "metadata": {
    "id": "08AUKP9xu8YQ"
   },
   "source": [
    "## Basics"
   ]
  },
  {
   "cell_type": "code",
   "execution_count": 3,
   "metadata": {
    "colab": {
     "base_uri": "https://localhost:8080/"
    },
    "executionInfo": {
     "elapsed": 279,
     "status": "ok",
     "timestamp": 1698411793957,
     "user": {
      "displayName": "Aleksandar Vakanski",
      "userId": "07675307153279708378"
     },
     "user_tz": 360
    },
    "id": "o3jBRfYZuNqF",
    "outputId": "045c5a0f-e4fc-4ae7-cc4a-461b221e2901"
   },
   "outputs": [
    {
     "name": "stdout",
     "output_type": "stream",
     "text": [
      "Type: torch.FloatTensor\n",
      "Size: torch.Size([2, 3])\n",
      "Values: \n",
      "tensor([[ 0.0461,  0.4024, -1.0115],\n",
      "        [ 0.2167, -0.6123,  0.5036]])\n"
     ]
    }
   ],
   "source": [
    "# Creating a random tensor\n",
    "x = torch.randn((2, 3))  # (rand(2,3) -> normal distribution)\n",
    "\n",
    "print(f\"Type: {x.type()}\")\n",
    "print(f\"Size: {x.shape}\")\n",
    "print(f\"Values: \\n{x}\")"
   ]
  },
  {
   "cell_type": "code",
   "execution_count": 4,
   "metadata": {
    "colab": {
     "base_uri": "https://localhost:8080/"
    },
    "executionInfo": {
     "elapsed": 223,
     "status": "ok",
     "timestamp": 1698411796614,
     "user": {
      "displayName": "Aleksandar Vakanski",
      "userId": "07675307153279708378"
     },
     "user_tz": 360
    },
    "id": "Pho5A7JluNvj",
    "outputId": "121c3621-dfbc-4e4e-f21f-35977411276d"
   },
   "outputs": [
    {
     "name": "stdout",
     "output_type": "stream",
     "text": [
      "tensor([[0., 0., 0.],\n",
      "        [0., 0., 0.]])\n",
      "tensor([[1., 1., 1.],\n",
      "        [1., 1., 1.]])\n"
     ]
    }
   ],
   "source": [
    "# Zeros and ones tensor\n",
    "x = torch.zeros(2, 3)\n",
    "print (x)\n",
    "\n",
    "x = torch.ones(2, 3)\n",
    "print (x)"
   ]
  },
  {
   "cell_type": "code",
   "execution_count": 5,
   "metadata": {
    "colab": {
     "base_uri": "https://localhost:8080/"
    },
    "executionInfo": {
     "elapsed": 186,
     "status": "ok",
     "timestamp": 1698411798775,
     "user": {
      "displayName": "Aleksandar Vakanski",
      "userId": "07675307153279708378"
     },
     "user_tz": 360
    },
    "id": "UTecl1RduNtL",
    "outputId": "269e9c12-9d89-4955-f307-ddf17d1c65ed"
   },
   "outputs": [
    {
     "name": "stdout",
     "output_type": "stream",
     "text": [
      "Size: torch.Size([2, 3])\n",
      "Values: \n",
      "tensor([[1., 2., 3.],\n",
      "        [4., 5., 6.]])\n"
     ]
    }
   ],
   "source": [
    "# List to Tensor\n",
    "x = torch.Tensor([[1, 2, 3],[4, 5, 6]])\n",
    "print(f\"Size: {x.shape}\")\n",
    "print(f\"Values: \\n{x}\")"
   ]
  },
  {
   "cell_type": "code",
   "execution_count": 6,
   "metadata": {
    "colab": {
     "base_uri": "https://localhost:8080/"
    },
    "executionInfo": {
     "elapsed": 205,
     "status": "ok",
     "timestamp": 1698411800842,
     "user": {
      "displayName": "Aleksandar Vakanski",
      "userId": "07675307153279708378"
     },
     "user_tz": 360
    },
    "id": "2OQTnxWOuNnY",
    "outputId": "fcfec703-68a3-46c2-ed36-03fbbd4c0a2a"
   },
   "outputs": [
    {
     "name": "stdout",
     "output_type": "stream",
     "text": [
      "Size: torch.Size([2, 3])\n",
      "Values: \n",
      "tensor([[0.1915, 0.6221, 0.4377],\n",
      "        [0.7854, 0.7800, 0.2726]])\n"
     ]
    }
   ],
   "source": [
    "# NumPy array to Tensor\n",
    "x = torch.Tensor(np.random.rand(2, 3))\n",
    "print(f\"Size: {x.shape}\")\n",
    "print(f\"Values: \\n{x}\")"
   ]
  },
  {
   "cell_type": "code",
   "execution_count": 7,
   "metadata": {
    "colab": {
     "base_uri": "https://localhost:8080/"
    },
    "executionInfo": {
     "elapsed": 254,
     "status": "ok",
     "timestamp": 1698411802726,
     "user": {
      "displayName": "Aleksandar Vakanski",
      "userId": "07675307153279708378"
     },
     "user_tz": 360
    },
    "id": "8K2kWrkZuilf",
    "outputId": "1eb63474-f027-4e3a-a6d5-911714ae4ccb"
   },
   "outputs": [
    {
     "name": "stdout",
     "output_type": "stream",
     "text": [
      "Type: torch.FloatTensor\n",
      "Type: torch.DoubleTensor\n",
      "Type: torch.IntTensor\n"
     ]
    }
   ],
   "source": [
    "# Changing tensor type\n",
    "x = torch.Tensor(3, 4)\n",
    "print(f\"Type: {x.type()}\")\n",
    "\n",
    "# Convert to double precision (float64)\n",
    "x_double = x.to(torch.float64)\n",
    "print(f\"Type: {x_double.type()}\")\n",
    "\n",
    "# Convert to int32\n",
    "x_int = x.to(torch.int32)\n",
    "print(f\"Type: {x_int.type()}\")"
   ]
  },
  {
   "cell_type": "markdown",
   "metadata": {
    "id": "6LxCmxqFu6sq"
   },
   "source": [
    "## Operations"
   ]
  },
  {
   "cell_type": "code",
   "execution_count": 8,
   "metadata": {
    "colab": {
     "base_uri": "https://localhost:8080/"
    },
    "executionInfo": {
     "elapsed": 194,
     "status": "ok",
     "timestamp": 1698411804631,
     "user": {
      "displayName": "Aleksandar Vakanski",
      "userId": "07675307153279708378"
     },
     "user_tz": 360
    },
    "id": "yfYLm_1Buixy",
    "outputId": "f4d974f4-2913-495f-a84c-352621d70395"
   },
   "outputs": [
    {
     "name": "stdout",
     "output_type": "stream",
     "text": [
      "Size: torch.Size([2, 3])\n",
      "Values: \n",
      "tensor([[5., 5., 5.],\n",
      "        [5., 5., 5.]])\n"
     ]
    }
   ],
   "source": [
    "# Addition\n",
    "x = torch.Tensor([[2, 2, 2], [2, 2, 2]])\n",
    "y = torch.Tensor([[3, 3, 3], [3, 3, 3]])\n",
    "z = x + y\n",
    "\n",
    "print(f\"Size: {z.shape}\")\n",
    "print(f\"Values: \\n{z}\")"
   ]
  },
  {
   "cell_type": "code",
   "execution_count": 9,
   "metadata": {
    "colab": {
     "base_uri": "https://localhost:8080/"
    },
    "executionInfo": {
     "elapsed": 190,
     "status": "ok",
     "timestamp": 1698411806458,
     "user": {
      "displayName": "Aleksandar Vakanski",
      "userId": "07675307153279708378"
     },
     "user_tz": 360
    },
    "id": "22abfI18uiuw",
    "outputId": "ab51d467-6d99-4b90-e306-468470593b84"
   },
   "outputs": [
    {
     "name": "stdout",
     "output_type": "stream",
     "text": [
      "Size: torch.Size([2, 2])\n",
      "Values: \n",
      "tensor([[18., 18.],\n",
      "        [18., 18.]])\n"
     ]
    }
   ],
   "source": [
    "# Matrix multiplication\n",
    "x = torch.Tensor([[2, 2, 2], [2, 2, 2]])\n",
    "y = torch.Tensor([[3, 3], [3, 3], [3, 3]])\n",
    "z = torch.mm(x, y)\n",
    "\n",
    "print(f\"Size: {z.shape}\")\n",
    "print(f\"Values: \\n{z}\")"
   ]
  },
  {
   "cell_type": "code",
   "execution_count": 10,
   "metadata": {
    "colab": {
     "base_uri": "https://localhost:8080/"
    },
    "executionInfo": {
     "elapsed": 197,
     "status": "ok",
     "timestamp": 1698411808071,
     "user": {
      "displayName": "Aleksandar Vakanski",
      "userId": "07675307153279708378"
     },
     "user_tz": 360
    },
    "id": "p1ztJNrruiqv",
    "outputId": "c9422e6f-335e-48f3-dcd6-77770ab45425"
   },
   "outputs": [
    {
     "name": "stdout",
     "output_type": "stream",
     "text": [
      "Size: torch.Size([2, 3])\n",
      "Values: \n",
      "tensor([[2., 2., 2.],\n",
      "        [2., 2., 2.]])\n",
      "Size: torch.Size([3, 2])\n",
      "Values: \n",
      "tensor([[2., 2.],\n",
      "        [2., 2.],\n",
      "        [2., 2.]])\n"
     ]
    }
   ],
   "source": [
    "# Transpose\n",
    "x = torch.Tensor([[2, 2, 2], [2, 2, 2]])\n",
    "print(f\"Size: {x.shape}\")\n",
    "print(f\"Values: \\n{x}\")\n",
    "y = torch.t(x)\n",
    "\n",
    "print(f\"Size: {y.shape}\")\n",
    "print(f\"Values: \\n{y}\")"
   ]
  },
  {
   "cell_type": "code",
   "execution_count": 11,
   "metadata": {
    "colab": {
     "base_uri": "https://localhost:8080/"
    },
    "executionInfo": {
     "elapsed": 254,
     "status": "ok",
     "timestamp": 1698411810083,
     "user": {
      "displayName": "Aleksandar Vakanski",
      "userId": "07675307153279708378"
     },
     "user_tz": 360
    },
    "id": "zoLDryFYuioF",
    "outputId": "a7258aee-212b-4249-ce58-565f08e2680c"
   },
   "outputs": [
    {
     "name": "stdout",
     "output_type": "stream",
     "text": [
      "Size: torch.Size([3, 2])\n",
      "Values: \n",
      "tensor([[2., 2.],\n",
      "        [2., 2.],\n",
      "        [2., 2.]])\n"
     ]
    }
   ],
   "source": [
    "# Reshape\n",
    "x = torch.Tensor([[2, 2, 2], [2, 2, 2]])\n",
    "z = x.view(3, 2)\n",
    "\n",
    "print(f\"Size: {z.shape}\")\n",
    "print(f\"Values: \\n{z}\")"
   ]
  },
  {
   "cell_type": "code",
   "execution_count": 12,
   "metadata": {
    "colab": {
     "base_uri": "https://localhost:8080/"
    },
    "executionInfo": {
     "elapsed": 6,
     "status": "ok",
     "timestamp": 1698411815354,
     "user": {
      "displayName": "Aleksandar Vakanski",
      "userId": "07675307153279708378"
     },
     "user_tz": 360
    },
    "id": "HcW6i9xJwU2Q",
    "outputId": "043ac321-331a-4fe1-a8f9-4629d95da000"
   },
   "outputs": [
    {
     "name": "stdout",
     "output_type": "stream",
     "text": [
      "Values: \n",
      "tensor([[2., 2., 2.],\n",
      "        [2., 2., 2.]])\n",
      "Values: \n",
      "tensor([4., 4., 4.])\n",
      "Values: \n",
      "tensor([6., 6.])\n"
     ]
    }
   ],
   "source": [
    "# Dimensional operations\n",
    "x = torch.Tensor([[2, 2, 2], [2, 2, 2]])\n",
    "print(f\"Values: \\n{x}\")\n",
    "\n",
    "y = torch.sum(x, dim=0) # sum over columns\n",
    "print(f\"Values: \\n{y}\")\n",
    "\n",
    "z = torch.sum(x, dim=1) # sum over rows\n",
    "print(f\"Values: \\n{z}\")"
   ]
  },
  {
   "cell_type": "markdown",
   "metadata": {
    "id": "kqxljkudzH0M"
   },
   "source": [
    "### Indexing, Slicing, and Joining"
   ]
  },
  {
   "cell_type": "code",
   "execution_count": 13,
   "metadata": {
    "colab": {
     "base_uri": "https://localhost:8080/"
    },
    "executionInfo": {
     "elapsed": 230,
     "status": "ok",
     "timestamp": 1698411817756,
     "user": {
      "displayName": "Aleksandar Vakanski",
      "userId": "07675307153279708378"
     },
     "user_tz": 360
    },
    "id": "Q8-w1Cb3wsj0",
    "outputId": "9a7866a6-cf1e-4498-d467-1b91801eeef9"
   },
   "outputs": [
    {
     "name": "stdout",
     "output_type": "stream",
     "text": [
      "x: \n",
      "tensor([[ 1.,  2.,  3.],\n",
      "        [ 4.,  5.,  6.],\n",
      "        [ 7.,  8., 10.],\n",
      "        [11., 12., 13.]])\n",
      "x[0]: tensor([1., 2., 3.])\n",
      "x[:2, 1:3]: \n",
      "tensor([[2., 3.],\n",
      "        [5., 6.]])\n"
     ]
    }
   ],
   "source": [
    "x = torch.Tensor([[1, 2, 3], [4, 5, 6], [7, 8, 10], [11, 12, 13]])\n",
    "print (f\"x: \\n{x}\")\n",
    "\n",
    "# first row\n",
    "print (f\"x[0]: {x[0]}\")\n",
    "\n",
    "# first and second row, second and third columns\n",
    "print (f\"x[:2, 1:3]: \\n{x[:2, 1:3]}\")"
   ]
  },
  {
   "cell_type": "code",
   "execution_count": 14,
   "metadata": {
    "colab": {
     "base_uri": "https://localhost:8080/"
    },
    "executionInfo": {
     "elapsed": 295,
     "status": "ok",
     "timestamp": 1698411821999,
     "user": {
      "displayName": "Aleksandar Vakanski",
      "userId": "07675307153279708378"
     },
     "user_tz": 360
    },
    "id": "UI_hboLNwsqQ",
    "outputId": "37dd8dda-fe5b-42a5-e816-5e6aaad25160"
   },
   "outputs": [
    {
     "name": "stdout",
     "output_type": "stream",
     "text": [
      "Values: \n",
      "tensor([[1., 2., 3.],\n",
      "        [4., 5., 6.]])\n",
      "Values: \n",
      "tensor([[1., 2., 3.],\n",
      "        [4., 5., 6.],\n",
      "        [1., 2., 3.],\n",
      "        [4., 5., 6.]])\n"
     ]
    }
   ],
   "source": [
    "# Concatenation\n",
    "x =  torch.Tensor([[1, 2, 3], [4, 5, 6]])\n",
    "print(f\"Values: \\n{x}\")\n",
    "\n",
    "y = torch.cat([x, x], dim=0) # stack by rows (dim=1 to stack by columns)\n",
    "print(f\"Values: \\n{y}\")"
   ]
  },
  {
   "cell_type": "markdown",
   "metadata": {
    "id": "lK1OQUYL1bE3"
   },
   "source": [
    "### Gradients"
   ]
  },
  {
   "cell_type": "markdown",
   "metadata": {
    "id": "VF5Q5kfs1rXZ"
   },
   "source": [
    "* $x = 3$\n",
    "* $y = x^2 + 2x + 2$\n",
    "* $\\frac{dy}{dx} = 2x + 2 = 2*3 + 2  = 8$"
   ]
  },
  {
   "cell_type": "code",
   "execution_count": 15,
   "metadata": {
    "colab": {
     "base_uri": "https://localhost:8080/"
    },
    "executionInfo": {
     "elapsed": 176,
     "status": "ok",
     "timestamp": 1698411824534,
     "user": {
      "displayName": "Aleksandar Vakanski",
      "userId": "07675307153279708378"
     },
     "user_tz": 360
    },
    "id": "9Ft6PAeW0WCe",
    "outputId": "8dd7614c-7767-4df4-b645-80537fd96922"
   },
   "outputs": [
    {
     "name": "stdout",
     "output_type": "stream",
     "text": [
      "x: tensor([3.], requires_grad=True)\n",
      "Gradient: tensor([8.])\n"
     ]
    }
   ],
   "source": [
    "# Create a single-element tensor with gradient tracking\n",
    "x = torch.tensor([3.0], requires_grad=True)\n",
    "\n",
    "# Define a simple quadratic function\n",
    "y = x**2 + 2*x + 1\n",
    "\n",
    "# sum() is required to make y a scalar \n",
    "y = y.sum()\n",
    "\n",
    "# Backpropagate to calculate dy/dx = 2x+2\n",
    "y.backward()\n",
    "\n",
    "# Evaluate the derivative dy/dx for x=3, i.e., dy/dx = 2*3+2 = 8\n",
    "dy_dx = x.grad\n",
    "\n",
    "print(f\"x: {x}\")\n",
    "print(f\"Gradient: {dy_dx}\")"
   ]
  },
  {
   "cell_type": "markdown",
   "metadata": {
    "id": "kseQSKj72H8S"
   },
   "source": [
    "## CUDA Tensors"
   ]
  },
  {
   "cell_type": "code",
   "execution_count": 16,
   "metadata": {
    "colab": {
     "base_uri": "https://localhost:8080/"
    },
    "executionInfo": {
     "elapsed": 2,
     "status": "ok",
     "timestamp": 1698411826936,
     "user": {
      "displayName": "Aleksandar Vakanski",
      "userId": "07675307153279708378"
     },
     "user_tz": 360
    },
    "id": "ZE-ZyECv0WOX",
    "outputId": "54ae0ea4-abb1-4d8f-ca06-75d98dd36540"
   },
   "outputs": [
    {
     "name": "stdout",
     "output_type": "stream",
     "text": [
      "False\n"
     ]
    }
   ],
   "source": [
    "# Is CUDA available?\n",
    "print (torch.cuda.is_available())"
   ]
  },
  {
   "cell_type": "markdown",
   "metadata": {
    "id": "n5sWo3Yv2MxO"
   },
   "source": [
    "If False, CUDA is not available. In Google Colab, we can change it by *Runtime* > *Change runtime type* > Change *Hardware accelerator* to *GPU*."
   ]
  },
  {
   "cell_type": "code",
   "execution_count": 17,
   "metadata": {
    "colab": {
     "base_uri": "https://localhost:8080/"
    },
    "executionInfo": {
     "elapsed": 239,
     "status": "ok",
     "timestamp": 1698411840780,
     "user": {
      "displayName": "Aleksandar Vakanski",
      "userId": "07675307153279708378"
     },
     "user_tz": 360
    },
    "id": "50ewrqUVCRHg",
    "outputId": "865205a2-99c5-4769-f005-966a98235ec3"
   },
   "outputs": [
    {
     "name": "stdout",
     "output_type": "stream",
     "text": [
      "cpu\n"
     ]
    }
   ],
   "source": [
    "# Set device\n",
    "device = torch.device(\"cuda\" if torch.cuda.is_available() else \"cpu\")\n",
    "print (device)"
   ]
  },
  {
   "cell_type": "code",
   "execution_count": 18,
   "metadata": {
    "colab": {
     "base_uri": "https://localhost:8080/"
    },
    "executionInfo": {
     "elapsed": 5393,
     "status": "ok",
     "timestamp": 1698411848812,
     "user": {
      "displayName": "Aleksandar Vakanski",
      "userId": "07675307153279708378"
     },
     "user_tz": 360
    },
    "id": "s12ivWJZCLq7",
    "outputId": "6bdc3c11-cee7-4c69-93c1-1dbaded97f46"
   },
   "outputs": [
    {
     "name": "stdout",
     "output_type": "stream",
     "text": [
      "False\n"
     ]
    }
   ],
   "source": [
    "# Tensor is stored on the device \n",
    "x = torch.rand(2,3).to(device) \n",
    "print (x.is_cuda)"
   ]
  },
  {
   "cell_type": "markdown",
   "metadata": {},
   "source": [
    "### References"
   ]
  },
  {
   "cell_type": "markdown",
   "metadata": {},
   "source": [
    "1. Made With ML, by Goku Mohandas, available at: [https://madewithml.com/](https://madewithml.com/)."
   ]
  },
  {
   "cell_type": "markdown",
   "metadata": {
    "id": "9Mov-FPyOo4O"
   },
   "source": [
    "[BACK TO TOP](#top)"
   ]
  }
 ],
 "metadata": {
  "accelerator": "GPU",
  "colab": {
   "provenance": [
    {
     "file_id": "https://github.com/GokuMohandas/Made-With-ML/blob/main/notebooks/05_PyTorch.ipynb",
     "timestamp": 1607980263943
    }
   ]
  },
  "kernelspec": {
   "display_name": "Python 3 (ipykernel)",
   "language": "python",
   "name": "python3"
  },
  "language_info": {
   "codemirror_mode": {
    "name": "ipython",
    "version": 3
   },
   "file_extension": ".py",
   "mimetype": "text/x-python",
   "name": "python",
   "nbconvert_exporter": "python",
   "pygments_lexer": "ipython3",
   "version": "3.13.5"
  }
 },
 "nbformat": 4,
 "nbformat_minor": 4
}

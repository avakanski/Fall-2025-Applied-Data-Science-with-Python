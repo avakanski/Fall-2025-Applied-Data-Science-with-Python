{
 "cells": [
  {
   "cell_type": "code",
   "execution_count": 1,
   "id": "454fb4cf-cc66-4804-8475-4340d8995f87",
   "metadata": {
    "panel-layout": {
     "height": 0,
     "visible": true,
     "width": 100
    }
   },
   "outputs": [
    {
     "name": "stdout",
     "output_type": "stream",
     "text": [
      "Hello\n"
     ]
    }
   ],
   "source": [
    "print(\"Hello\")"
   ]
  },
  {
   "cell_type": "code",
   "execution_count": null,
   "id": "6211ba87-ab2c-4050-a773-a445ad18e01f",
   "metadata": {},
   "outputs": [],
   "source": [
    "X=25"
   ]
  },
  {
   "cell_type": "code",
   "execution_count": null,
   "id": "49f62f79-ac59-45f0-87d9-330a15115cf7",
   "metadata": {
    "panel-layout": {
     "height": 27.137500762939453,
     "visible": true,
     "width": 100
    }
   },
   "outputs": [],
   "source": [
    "X"
   ]
  },
  {
   "cell_type": "code",
   "execution_count": null,
   "id": "af3d1e98-de14-45ef-aa67-84ce0ab10898",
   "metadata": {},
   "outputs": [],
   "source": [
    "X=34"
   ]
  },
  {
   "cell_type": "code",
   "execution_count": null,
   "id": "f515dc5b-137c-400e-874c-e37141b07775",
   "metadata": {
    "panel-layout": {
     "height": 27.137500762939453,
     "visible": true,
     "width": 100
    }
   },
   "outputs": [],
   "source": [
    "X"
   ]
  },
  {
   "cell_type": "markdown",
   "id": "01409d8a-8810-4675-9808-82c32cecd923",
   "metadata": {},
   "source": [
    "### Example Heading: This is Level 3 Heading\n",
    "This is some plain text that forms a paragraph.\n",
    "Add emphasis via **bold** and __bold__, *italic* and _italic_, or ***bold and italic*** and ___bold and italic___.\n",
    "Paragraphs must be separated by an empty line.\n",
    "- Sometimes we want to include lists.\n",
    "    - Which can be indented.      \n",
    "\n",
    "[It is possible to include hyperlinks](https://www.example.com).\n",
    "\n",
    "1. Lists can also be numbered.\n",
    "2. For ordered lists.\n",
    "\n",
    "We can add inline equations using LaTeX code, e.g., $c = \\sqrt{a^2 + b^2}$,\n",
    "and equations in a new line: $$c = \\sqrt{a^2 + b^2}$$\n",
    "\n",
    "Inline code uses single backticks: `foo()`, and code blocks use triple backticks or they can be indented by 4 spaces:\n",
    "\n",
    "    foo()\n",
    "    \n",
    "And finally, adding images is easy: ![Image title text](images/house.png)"
   ]
  },
  {
   "cell_type": "code",
   "execution_count": null,
   "id": "79cb5785-0568-43e6-bc0c-b653d0d08cdd",
   "metadata": {},
   "outputs": [],
   "source": []
  }
 ],
 "metadata": {
  "kernelspec": {
   "display_name": "Python 3 (ipykernel)",
   "language": "python",
   "name": "python3"
  },
  "language_info": {
   "codemirror_mode": {
    "name": "ipython",
    "version": 3
   },
   "file_extension": ".py",
   "mimetype": "text/x-python",
   "name": "python",
   "nbconvert_exporter": "python",
   "pygments_lexer": "ipython3",
   "version": "3.12.3"
  },
  "panel-cell-order": [
   "454fb4cf-cc66-4804-8475-4340d8995f87",
   "49f62f79-ac59-45f0-87d9-330a15115cf7",
   "f515dc5b-137c-400e-874c-e37141b07775"
  ]
 },
 "nbformat": 4,
 "nbformat_minor": 5
}

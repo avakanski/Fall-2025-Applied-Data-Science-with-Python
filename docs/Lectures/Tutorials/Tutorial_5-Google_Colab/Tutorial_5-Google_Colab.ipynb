{
 "cells": [
  {
   "cell_type": "markdown",
   "metadata": {
    "id": "oqwEKUGbIpXy"
   },
   "source": [
    "# Tutorial 5 - Google Colab"
   ]
  },
  {
   "cell_type": "markdown",
   "metadata": {
    "id": "NggnoFo3IpXz"
   },
   "source": [
    "[![View notebook on Github](https://img.shields.io/static/v1.svg?logo=github&label=Repo&message=View%20On%20Github&color=lightgrey)](https://github.com/avakanski/Fall-2025-Applied-Data-Science-with-Python/blob/main/docs/Lectures/Tutorials/Tutorial_5-Google_Colab/Tutorial_5-Google_Colab.ipynb)\n",
    "[![Open In Collab](https://colab.research.google.com/assets/colab-badge.svg)](https://colab.research.google.com/github/avakanski/Fall-2025-Applied-Data-Science-with-Python/blob/main/docs/Lectures/Tutorials/Tutorial_5-Google_Colab/Tutorial_5-Google_Colab.ipynb)"
   ]
  },
  {
   "cell_type": "markdown",
   "metadata": {
    "id": "NmwiIQcwIpX0"
   },
   "source": [
    "<a id='top'></a>"
   ]
  },
  {
   "cell_type": "markdown",
   "metadata": {
    "id": "V_2YeaCDIpX1"
   },
   "source": [
    "Google Colab (or Colaboratary) is a cloud-based platform created by Google that offers an environment for sharing, running, and writing Python code within Google Drive. Colab runs Jupyter notebook files, and it comes with pre-installed popular Data Science and Machine Learning libraries and frameworks, such as TensorFlow, PyTorch, NumPy, pandas, and others.\n",
    "\n",
    "Google Colab provides CPU, TPU, and GPU support. It enables real-time collaborative editing on a single notebook, much like the collaborative text editing functionality provided by Google Docs."
   ]
  },
  {
   "cell_type": "markdown",
   "metadata": {},
   "source": [
    "Colab has many Machine Learning and Data Science libraries preinstalled. Hence, we don't need to install common libraries like `scikit-learn`, `pandas`, `numpy`, `keras`, `pytorch`, etc. We can directly import these libraries. \n",
    "\n",
    "If we need to install additional libraries that are not part of Colab, we can use `!pip install` as in the following example.\n",
    "\n",
    "    !pip install -q matplotlib-venn"
   ]
  },
  {
   "cell_type": "markdown",
   "metadata": {},
   "source": [
    "We can also use `!` to run shell commands in Colab notebooks.\n",
    "\n",
    "    !ls"
   ]
  },
  {
   "cell_type": "markdown",
   "metadata": {
    "tags": []
   },
   "source": [
    "## Top Menus\n",
    "\n",
    "On the top menu section, Colab provides very similar features to the original Jupyter Notebook interface.\n",
    "\n",
    "- **File**: create new notebook, open/rename/save/download existing notebooks\n",
    "- **Edit**: copy/paste cells, notebook settings\n",
    "- **Insert**: code/text/section header cells, code snippets, add a form field\n",
    "- **Runtime**: run cells, interrupt runtime, restart runtime, **change runtime type (CPU, GPU, TPU)**\n",
    "- **Tools**: command palette, settings, keyboard shortcuts, etc."
   ]
  },
  {
   "cell_type": "markdown",
   "metadata": {
    "id": "nz2k09HfIpX2"
   },
   "source": [
    "## Upload Files and Mount the Google Drive\n",
    "\n",
    "If you need to process your own files in a notebook (e.g., to train a model on your dataset), you will need to first upload the local files to Google Drive, and mount the Google Drive.\n",
    "\n",
    "1) Login into Google Drive with your Gmail account ([Link](https://drive.google.com/)).\n",
    "2) Create a folder to store your data files, and upload the data files to the folder (e.g., drag and drop from the files from a local directory). \n",
    "\n",
    "<img width=\"250\" src=\"images/img2.jpg\">"
   ]
  },
  {
   "cell_type": "markdown",
   "metadata": {
    "id": "yRozuw2gIpX3"
   },
   "source": [
    "3) Use the following code to mount your Google Drive in the Jupyter notebook."
   ]
  },
  {
   "cell_type": "code",
   "execution_count": 6,
   "metadata": {
    "colab": {
     "base_uri": "https://localhost:8080/"
    },
    "id": "98pJMlVCIpX3",
    "outputId": "c61e2d08-372a-4f32-98c3-61b8f283b2b5"
   },
   "outputs": [
    {
     "name": "stdout",
     "output_type": "stream",
     "text": [
      "Mounted at /content/drive\n"
     ]
    }
   ],
   "source": [
    "from google.colab import drive\n",
    "drive.mount('/content/drive')"
   ]
  },
  {
   "cell_type": "markdown",
   "metadata": {
    "id": "WT__ZmotIpX5"
   },
   "source": [
    "4) Click `Connect to Google Drive` to permit the notebook to access Google Drive.\n",
    "\n",
    "<img width=\"400\" src=\"images/img4.jpg\">"
   ]
  },
  {
   "cell_type": "markdown",
   "metadata": {
    "id": "eIXX5ZJfIpX5"
   },
   "source": [
    "5) After you mount the Google Drive, you can load files from the drive. For example, load a csv file. Note that the path to the file needs to start with `drive/My Drive/...`."
   ]
  },
  {
   "cell_type": "code",
   "execution_count": 7,
   "metadata": {
    "colab": {
     "base_uri": "https://localhost:8080/",
     "height": 1000
    },
    "id": "Ym4ZprnSIpX6",
    "outputId": "a23d0228-5b1d-4fb2-f899-05455a341f4a"
   },
   "outputs": [
    {
     "data": {
      "text/html": [
       "\n",
       "  <div id=\"df-e45571f0-3b09-4903-be9e-cd25058c476b\" class=\"colab-df-container\">\n",
       "    <div>\n",
       "<style scoped>\n",
       "    .dataframe tbody tr th:only-of-type {\n",
       "        vertical-align: middle;\n",
       "    }\n",
       "\n",
       "    .dataframe tbody tr th {\n",
       "        vertical-align: top;\n",
       "    }\n",
       "\n",
       "    .dataframe thead th {\n",
       "        text-align: right;\n",
       "    }\n",
       "</style>\n",
       "<table border=\"1\" class=\"dataframe\">\n",
       "  <thead>\n",
       "    <tr style=\"text-align: right;\">\n",
       "      <th></th>\n",
       "      <th>Unnamed: 0</th>\n",
       "      <th>Movie Name</th>\n",
       "      <th>Year of Release</th>\n",
       "      <th>Watch Time</th>\n",
       "      <th>Movie Rating</th>\n",
       "      <th>Metascore of movie</th>\n",
       "      <th>Gross</th>\n",
       "      <th>Votes</th>\n",
       "      <th>Description</th>\n",
       "    </tr>\n",
       "  </thead>\n",
       "  <tbody>\n",
       "    <tr>\n",
       "      <th>0</th>\n",
       "      <td>0</td>\n",
       "      <td>The Shawshank Redemption</td>\n",
       "      <td>1994</td>\n",
       "      <td>142</td>\n",
       "      <td>9.3</td>\n",
       "      <td>82.0</td>\n",
       "      <td>28.34</td>\n",
       "      <td>27,77,378</td>\n",
       "      <td>Over the course of several years, two convicts...</td>\n",
       "    </tr>\n",
       "    <tr>\n",
       "      <th>1</th>\n",
       "      <td>1</td>\n",
       "      <td>The Godfather</td>\n",
       "      <td>1972</td>\n",
       "      <td>175</td>\n",
       "      <td>9.2</td>\n",
       "      <td>100.0</td>\n",
       "      <td>134.97</td>\n",
       "      <td>19,33,588</td>\n",
       "      <td>Don Vito Corleone, head of a mafia family, dec...</td>\n",
       "    </tr>\n",
       "    <tr>\n",
       "      <th>2</th>\n",
       "      <td>2</td>\n",
       "      <td>The Dark Knight</td>\n",
       "      <td>2008</td>\n",
       "      <td>152</td>\n",
       "      <td>9.0</td>\n",
       "      <td>84.0</td>\n",
       "      <td>534.86</td>\n",
       "      <td>27,54,087</td>\n",
       "      <td>When the menace known as the Joker wreaks havo...</td>\n",
       "    </tr>\n",
       "    <tr>\n",
       "      <th>3</th>\n",
       "      <td>3</td>\n",
       "      <td>Schindler's List</td>\n",
       "      <td>1993</td>\n",
       "      <td>195</td>\n",
       "      <td>9.0</td>\n",
       "      <td>95.0</td>\n",
       "      <td>96.9</td>\n",
       "      <td>13,97,886</td>\n",
       "      <td>In German-occupied Poland during World War II,...</td>\n",
       "    </tr>\n",
       "    <tr>\n",
       "      <th>4</th>\n",
       "      <td>4</td>\n",
       "      <td>12 Angry Men</td>\n",
       "      <td>1957</td>\n",
       "      <td>96</td>\n",
       "      <td>9.0</td>\n",
       "      <td>97.0</td>\n",
       "      <td>4.36</td>\n",
       "      <td>8,24,211</td>\n",
       "      <td>The jury in a New York City murder trial is fr...</td>\n",
       "    </tr>\n",
       "    <tr>\n",
       "      <th>...</th>\n",
       "      <td>...</td>\n",
       "      <td>...</td>\n",
       "      <td>...</td>\n",
       "      <td>...</td>\n",
       "      <td>...</td>\n",
       "      <td>...</td>\n",
       "      <td>...</td>\n",
       "      <td>...</td>\n",
       "      <td>...</td>\n",
       "    </tr>\n",
       "    <tr>\n",
       "      <th>995</th>\n",
       "      <td>995</td>\n",
       "      <td>Philomena</td>\n",
       "      <td>2013</td>\n",
       "      <td>98</td>\n",
       "      <td>7.6</td>\n",
       "      <td>77.0</td>\n",
       "      <td>37.71</td>\n",
       "      <td>1,02,336</td>\n",
       "      <td>A world-weary political journalist picks up th...</td>\n",
       "    </tr>\n",
       "    <tr>\n",
       "      <th>996</th>\n",
       "      <td>996</td>\n",
       "      <td>Un long dimanche de fiançailles</td>\n",
       "      <td>2004</td>\n",
       "      <td>133</td>\n",
       "      <td>7.6</td>\n",
       "      <td>76.0</td>\n",
       "      <td>6.17</td>\n",
       "      <td>75,004</td>\n",
       "      <td>Tells the story of a young woman's relentless ...</td>\n",
       "    </tr>\n",
       "    <tr>\n",
       "      <th>997</th>\n",
       "      <td>997</td>\n",
       "      <td>Shine</td>\n",
       "      <td>1996</td>\n",
       "      <td>105</td>\n",
       "      <td>7.6</td>\n",
       "      <td>87.0</td>\n",
       "      <td>35.81</td>\n",
       "      <td>55,589</td>\n",
       "      <td>Pianist David Helfgott, driven by his father a...</td>\n",
       "    </tr>\n",
       "    <tr>\n",
       "      <th>998</th>\n",
       "      <td>998</td>\n",
       "      <td>The Invisible Man</td>\n",
       "      <td>1933</td>\n",
       "      <td>71</td>\n",
       "      <td>7.6</td>\n",
       "      <td>87.0</td>\n",
       "      <td>NaN</td>\n",
       "      <td>37,822</td>\n",
       "      <td>A scientist finds a way of becoming invisible,...</td>\n",
       "    </tr>\n",
       "    <tr>\n",
       "      <th>999</th>\n",
       "      <td>999</td>\n",
       "      <td>Celda 211</td>\n",
       "      <td>2009</td>\n",
       "      <td>113</td>\n",
       "      <td>7.6</td>\n",
       "      <td>NaN</td>\n",
       "      <td>NaN</td>\n",
       "      <td>69,464</td>\n",
       "      <td>The story of two men on different sides of a p...</td>\n",
       "    </tr>\n",
       "  </tbody>\n",
       "</table>\n",
       "<p>1000 rows × 9 columns</p>\n",
       "</div>\n",
       "    <div class=\"colab-df-buttons\">\n",
       "\n",
       "  <div class=\"colab-df-container\">\n",
       "    <button class=\"colab-df-convert\" onclick=\"convertToInteractive('df-e45571f0-3b09-4903-be9e-cd25058c476b')\"\n",
       "            title=\"Convert this dataframe to an interactive table.\"\n",
       "            style=\"display:none;\">\n",
       "\n",
       "  <svg xmlns=\"http://www.w3.org/2000/svg\" height=\"24px\" viewBox=\"0 -960 960 960\">\n",
       "    <path d=\"M120-120v-720h720v720H120Zm60-500h600v-160H180v160Zm220 220h160v-160H400v160Zm0 220h160v-160H400v160ZM180-400h160v-160H180v160Zm440 0h160v-160H620v160ZM180-180h160v-160H180v160Zm440 0h160v-160H620v160Z\"/>\n",
       "  </svg>\n",
       "    </button>\n",
       "\n",
       "  <style>\n",
       "    .colab-df-container {\n",
       "      display:flex;\n",
       "      gap: 12px;\n",
       "    }\n",
       "\n",
       "    .colab-df-convert {\n",
       "      background-color: #E8F0FE;\n",
       "      border: none;\n",
       "      border-radius: 50%;\n",
       "      cursor: pointer;\n",
       "      display: none;\n",
       "      fill: #1967D2;\n",
       "      height: 32px;\n",
       "      padding: 0 0 0 0;\n",
       "      width: 32px;\n",
       "    }\n",
       "\n",
       "    .colab-df-convert:hover {\n",
       "      background-color: #E2EBFA;\n",
       "      box-shadow: 0px 1px 2px rgba(60, 64, 67, 0.3), 0px 1px 3px 1px rgba(60, 64, 67, 0.15);\n",
       "      fill: #174EA6;\n",
       "    }\n",
       "\n",
       "    .colab-df-buttons div {\n",
       "      margin-bottom: 4px;\n",
       "    }\n",
       "\n",
       "    [theme=dark] .colab-df-convert {\n",
       "      background-color: #3B4455;\n",
       "      fill: #D2E3FC;\n",
       "    }\n",
       "\n",
       "    [theme=dark] .colab-df-convert:hover {\n",
       "      background-color: #434B5C;\n",
       "      box-shadow: 0px 1px 3px 1px rgba(0, 0, 0, 0.15);\n",
       "      filter: drop-shadow(0px 1px 2px rgba(0, 0, 0, 0.3));\n",
       "      fill: #FFFFFF;\n",
       "    }\n",
       "  </style>\n",
       "\n",
       "    <script>\n",
       "      const buttonEl =\n",
       "        document.querySelector('#df-e45571f0-3b09-4903-be9e-cd25058c476b button.colab-df-convert');\n",
       "      buttonEl.style.display =\n",
       "        google.colab.kernel.accessAllowed ? 'block' : 'none';\n",
       "\n",
       "      async function convertToInteractive(key) {\n",
       "        const element = document.querySelector('#df-e45571f0-3b09-4903-be9e-cd25058c476b');\n",
       "        const dataTable =\n",
       "          await google.colab.kernel.invokeFunction('convertToInteractive',\n",
       "                                                    [key], {});\n",
       "        if (!dataTable) return;\n",
       "\n",
       "        const docLinkHtml = 'Like what you see? Visit the ' +\n",
       "          '<a target=\"_blank\" href=https://colab.research.google.com/notebooks/data_table.ipynb>data table notebook</a>'\n",
       "          + ' to learn more about interactive tables.';\n",
       "        element.innerHTML = '';\n",
       "        dataTable['output_type'] = 'display_data';\n",
       "        await google.colab.output.renderOutput(dataTable, element);\n",
       "        const docLink = document.createElement('div');\n",
       "        docLink.innerHTML = docLinkHtml;\n",
       "        element.appendChild(docLink);\n",
       "      }\n",
       "    </script>\n",
       "  </div>\n",
       "\n",
       "\n",
       "<div id=\"df-81a8b2e6-344c-4802-8c8f-6e8d414f7047\">\n",
       "  <button class=\"colab-df-quickchart\" onclick=\"quickchart('df-81a8b2e6-344c-4802-8c8f-6e8d414f7047')\"\n",
       "            title=\"Suggest charts.\"\n",
       "            style=\"display:none;\">\n",
       "\n",
       "<svg xmlns=\"http://www.w3.org/2000/svg\" height=\"24px\"viewBox=\"0 0 24 24\"\n",
       "     width=\"24px\">\n",
       "    <g>\n",
       "        <path d=\"M19 3H5c-1.1 0-2 .9-2 2v14c0 1.1.9 2 2 2h14c1.1 0 2-.9 2-2V5c0-1.1-.9-2-2-2zM9 17H7v-7h2v7zm4 0h-2V7h2v10zm4 0h-2v-4h2v4z\"/>\n",
       "    </g>\n",
       "</svg>\n",
       "  </button>\n",
       "\n",
       "<style>\n",
       "  .colab-df-quickchart {\n",
       "      --bg-color: #E8F0FE;\n",
       "      --fill-color: #1967D2;\n",
       "      --hover-bg-color: #E2EBFA;\n",
       "      --hover-fill-color: #174EA6;\n",
       "      --disabled-fill-color: #AAA;\n",
       "      --disabled-bg-color: #DDD;\n",
       "  }\n",
       "\n",
       "  [theme=dark] .colab-df-quickchart {\n",
       "      --bg-color: #3B4455;\n",
       "      --fill-color: #D2E3FC;\n",
       "      --hover-bg-color: #434B5C;\n",
       "      --hover-fill-color: #FFFFFF;\n",
       "      --disabled-bg-color: #3B4455;\n",
       "      --disabled-fill-color: #666;\n",
       "  }\n",
       "\n",
       "  .colab-df-quickchart {\n",
       "    background-color: var(--bg-color);\n",
       "    border: none;\n",
       "    border-radius: 50%;\n",
       "    cursor: pointer;\n",
       "    display: none;\n",
       "    fill: var(--fill-color);\n",
       "    height: 32px;\n",
       "    padding: 0;\n",
       "    width: 32px;\n",
       "  }\n",
       "\n",
       "  .colab-df-quickchart:hover {\n",
       "    background-color: var(--hover-bg-color);\n",
       "    box-shadow: 0 1px 2px rgba(60, 64, 67, 0.3), 0 1px 3px 1px rgba(60, 64, 67, 0.15);\n",
       "    fill: var(--button-hover-fill-color);\n",
       "  }\n",
       "\n",
       "  .colab-df-quickchart-complete:disabled,\n",
       "  .colab-df-quickchart-complete:disabled:hover {\n",
       "    background-color: var(--disabled-bg-color);\n",
       "    fill: var(--disabled-fill-color);\n",
       "    box-shadow: none;\n",
       "  }\n",
       "\n",
       "  .colab-df-spinner {\n",
       "    border: 2px solid var(--fill-color);\n",
       "    border-color: transparent;\n",
       "    border-bottom-color: var(--fill-color);\n",
       "    animation:\n",
       "      spin 1s steps(1) infinite;\n",
       "  }\n",
       "\n",
       "  @keyframes spin {\n",
       "    0% {\n",
       "      border-color: transparent;\n",
       "      border-bottom-color: var(--fill-color);\n",
       "      border-left-color: var(--fill-color);\n",
       "    }\n",
       "    20% {\n",
       "      border-color: transparent;\n",
       "      border-left-color: var(--fill-color);\n",
       "      border-top-color: var(--fill-color);\n",
       "    }\n",
       "    30% {\n",
       "      border-color: transparent;\n",
       "      border-left-color: var(--fill-color);\n",
       "      border-top-color: var(--fill-color);\n",
       "      border-right-color: var(--fill-color);\n",
       "    }\n",
       "    40% {\n",
       "      border-color: transparent;\n",
       "      border-right-color: var(--fill-color);\n",
       "      border-top-color: var(--fill-color);\n",
       "    }\n",
       "    60% {\n",
       "      border-color: transparent;\n",
       "      border-right-color: var(--fill-color);\n",
       "    }\n",
       "    80% {\n",
       "      border-color: transparent;\n",
       "      border-right-color: var(--fill-color);\n",
       "      border-bottom-color: var(--fill-color);\n",
       "    }\n",
       "    90% {\n",
       "      border-color: transparent;\n",
       "      border-bottom-color: var(--fill-color);\n",
       "    }\n",
       "  }\n",
       "</style>\n",
       "\n",
       "  <script>\n",
       "    async function quickchart(key) {\n",
       "      const quickchartButtonEl =\n",
       "        document.querySelector('#' + key + ' button');\n",
       "      quickchartButtonEl.disabled = true;  // To prevent multiple clicks.\n",
       "      quickchartButtonEl.classList.add('colab-df-spinner');\n",
       "      try {\n",
       "        const charts = await google.colab.kernel.invokeFunction(\n",
       "            'suggestCharts', [key], {});\n",
       "      } catch (error) {\n",
       "        console.error('Error during call to suggestCharts:', error);\n",
       "      }\n",
       "      quickchartButtonEl.classList.remove('colab-df-spinner');\n",
       "      quickchartButtonEl.classList.add('colab-df-quickchart-complete');\n",
       "    }\n",
       "    (() => {\n",
       "      let quickchartButtonEl =\n",
       "        document.querySelector('#df-81a8b2e6-344c-4802-8c8f-6e8d414f7047 button');\n",
       "      quickchartButtonEl.style.display =\n",
       "        google.colab.kernel.accessAllowed ? 'block' : 'none';\n",
       "    })();\n",
       "  </script>\n",
       "</div>\n",
       "    </div>\n",
       "  </div>\n"
      ],
      "text/plain": [
       "     Unnamed: 0                       Movie Name Year of Release  Watch Time  \\\n",
       "0             0         The Shawshank Redemption            1994         142   \n",
       "1             1                    The Godfather            1972         175   \n",
       "2             2                  The Dark Knight            2008         152   \n",
       "3             3                 Schindler's List            1993         195   \n",
       "4             4                     12 Angry Men            1957          96   \n",
       "..          ...                              ...             ...         ...   \n",
       "995         995                        Philomena            2013          98   \n",
       "996         996  Un long dimanche de fiançailles            2004         133   \n",
       "997         997                            Shine            1996         105   \n",
       "998         998                The Invisible Man            1933          71   \n",
       "999         999                        Celda 211            2009         113   \n",
       "\n",
       "     Movie Rating  Metascore of movie   Gross      Votes  \\\n",
       "0             9.3                82.0   28.34  27,77,378   \n",
       "1             9.2               100.0  134.97  19,33,588   \n",
       "2             9.0                84.0  534.86  27,54,087   \n",
       "3             9.0                95.0    96.9  13,97,886   \n",
       "4             9.0                97.0    4.36   8,24,211   \n",
       "..            ...                 ...     ...        ...   \n",
       "995           7.6                77.0   37.71   1,02,336   \n",
       "996           7.6                76.0    6.17     75,004   \n",
       "997           7.6                87.0   35.81     55,589   \n",
       "998           7.6                87.0     NaN     37,822   \n",
       "999           7.6                 NaN     NaN     69,464   \n",
       "\n",
       "                                           Description  \n",
       "0    Over the course of several years, two convicts...  \n",
       "1    Don Vito Corleone, head of a mafia family, dec...  \n",
       "2    When the menace known as the Joker wreaks havo...  \n",
       "3    In German-occupied Poland during World War II,...  \n",
       "4    The jury in a New York City murder trial is fr...  \n",
       "..                                                 ...  \n",
       "995  A world-weary political journalist picks up th...  \n",
       "996  Tells the story of a young woman's relentless ...  \n",
       "997  Pianist David Helfgott, driven by his father a...  \n",
       "998  A scientist finds a way of becoming invisible,...  \n",
       "999  The story of two men on different sides of a p...  \n",
       "\n",
       "[1000 rows x 9 columns]"
      ]
     },
     "execution_count": 7,
     "metadata": {},
     "output_type": "execute_result"
    }
   ],
   "source": [
    "import pandas as pd\n",
    "df_IMDb = pd.read_csv('drive/My Drive/data_file/IMDb_movies.csv')\n",
    "df_IMDb"
   ]
  },
  {
   "cell_type": "markdown",
   "metadata": {
    "id": "D807CVi4IpX7"
   },
   "source": [
    "## Enable GPU\n",
    "\n",
    "When you run a notebook, the panel in the upper right corner of the screen indicates whether the notebook is connected to a GPU or CPU. \n",
    "\n",
    "For instance, the notebook in the following figure is connected to a Tesla T4 GPU. \n",
    "\n",
    "<img width=\"800\" src=\"images/img12.png\">"
   ]
  },
  {
   "cell_type": "markdown",
   "metadata": {},
   "source": [
    "To change the runtime, click on the arrow in the upper right corner of your screen, as shown in the next figure, and from the menu select `Change runtime type`.\n",
    "\n",
    "<img width=\"400\" src=\"images/img13.png\">"
   ]
  },
  {
   "cell_type": "markdown",
   "metadata": {},
   "source": [
    "This will open the window shown in the following figure. \n",
    "\n",
    "The `Runtime type` arrow allows us to select between `Python3` and `R` programming languages. We can leave it at `Python3`.\n",
    "\n",
    "Importantly, the `Hardware accelerator` field allows to select the hardware for the runtime. The options include `CPU`, three `GPU` options, and `TPU`. Note that these options are based on my subscription to Colab Pro. If you are using the free Colab version, you may see only `T4 GPU` available.\n",
    "\n",
    "Also, for the  Colab Pro subscription, there is a `High-RAM` button, which allows users to allocate additional RAM memory to the notebook. This feature can be helpful when working with large datasets, that exceed the available RAM memory. The standard RAM memory allocation in Colab is 12 GB, and the High-RAM option allocates 25 GB.\n",
    "\n",
    "After you select the Hardware Accelerator, click `Save`.\n",
    "\n",
    "<img width=\"400\" src=\"images/img14.png\">"
   ]
  },
  {
   "cell_type": "markdown",
   "metadata": {
    "id": "4VGPZ89xIpX7"
   },
   "source": [
    "There are two other methods to change the runtime type in Colab.\n",
    "\n",
    "***Method 1:***\n",
    "\n",
    "- Click `Runtime → Change runtime type`.\n",
    "\n",
    "<img style=\"float: left; height:400px; width:auto\" src=\"images/img10.jpg\">"
   ]
  },
  {
   "cell_type": "markdown",
   "metadata": {
    "tags": []
   },
   "source": [
    "***Method 2:***\n",
    "\n",
    "- Click `Edit → Notebook Settings`.\n",
    "\n",
    "<img width=\"300\" src=\"images/img6.jpg\">"
   ]
  },
  {
   "cell_type": "markdown",
   "metadata": {
    "id": "hTwMwUMeIpX7"
   },
   "source": [
    "### Check GPU\n",
    "\n",
    "When connected to a GPU, use the following code to check the details about the GPU. \n",
    "\n",
    "    !nvidia-smi\n",
    "    \n",
    "<img width=\"600\" src=\"images/img15.png\">   "
   ]
  },
  {
   "cell_type": "markdown",
   "metadata": {},
   "source": [
    "Also, the following code can be used to print whether the notebook is connected to GPU. If connected, it will print out \"Found GPU at: /device:GPU:0\"."
   ]
  },
  {
   "cell_type": "code",
   "execution_count": 4,
   "metadata": {
    "id": "HwNrJoVEIpX8"
   },
   "outputs": [],
   "source": [
    "import tensorflow as tf\n",
    "device_name = tf.test.gpu_device_name()\n",
    "if device_name != '/device:GPU:0':\n",
    "    raise SystemError('GPU device not found')\n",
    "print('Found GPU at: {}'.format(device_name))"
   ]
  },
  {
   "cell_type": "markdown",
   "metadata": {
    "tags": []
   },
   "source": [
    "## Left Pane\n",
    "\n",
    "In the left pane, Colab provides several useful tools for managing the notebook environment.\n",
    "\n",
    "- **Table of contents**: display the outline of the notebook\n",
    "- **Find and replace**: search for text within the notebook\n",
    "- **Variables**: display all the variables that are currently defined in the notebook\n",
    "- **Secrets**: for saving and managing API keys and other sensitive information\n",
    "- **Files**: display files available in your Colab environment, including files in your Google Drive\n",
    "\n",
    "<img width=\"400\" src=\"images/img18.png\">"
   ]
  },
  {
   "cell_type": "markdown",
   "metadata": {
    "id": "csGuPN8HIpX8"
   },
   "source": [
    "## Colab Subscription Plans\n",
    "\n",
    "Paid Colab subsription plans provide better hardware, i.e., access to more powerful GPU, and more VRAM and RAM. They also have longer timeout sessions. For instance, Colab Pro+ allows you to run the script for up to 24 hours with the web browser closed.\n",
    "\n",
    "With the free version (Pay As You Go), only T4 GPU are available, but sometimes there would be no GPU available. The free version has at most 12 hours sessions before timeout. In practice, for the free version, your session could be timed out and your script could be interrupted at any time. If you reconnect within the next 1-2 minutes, the session can be resumed, and otherwise, you will have to re-run your script.\n",
    "\n",
    "For this course, it is recommended to subscribe to Colab Pro. Note that Colab Pro provides certain number of computational units, which allows to use more powerful GPUs (like A100) and High-RAM. For the purposes of this course, T4 GPUs are sufficient. Therefore, you don't need to purchase any additional computational units, just purchase the subscription of $9.99 per month and use T4 GPU with standard RAM. \n",
    "\n",
    "<img width=\"1000\" src=\"images/img9.jpg\">"
   ]
  },
  {
   "cell_type": "markdown",
   "metadata": {
    "id": "NFot1XTJIpX8"
   },
   "source": [
    "### Monitor Your Hardware Resources\n",
    "\n",
    "To monitor available and used resources, click on the arrow in the upper right corner of your screen, and select `View resources`. This will show resources stats, as in the following figure, including the current subsription, available computational units, used VRAM and RAM, and similar.\n",
    "\n",
    "<img width=\"400\" src=\"images/img16.png\">\n",
    "\n",
    "<img width=\"400\" src=\"images/img17.png\">"
   ]
  },
  {
   "cell_type": "markdown",
   "metadata": {
    "id": "j4Hc_TOSIpX1"
   },
   "source": [
    "## Welcome Page of Colab\n",
    "\n",
    "The [welcome page of Colab](https://research.google.com/colaboratory/) offers basic tutorials about working with Jupyter notebooks, data science, and machine learning. \n",
    "\n",
    "It includes:\n",
    "\n",
    "- Overview of Colab basic features, such as [Code Cells](https://colab.research.google.com/notebooks/basic_features_overview.ipynb) and [Markdown Cells](https://colab.research.google.com/notebooks/markdown_guide.ipynb)\n",
    "- Loading data: Drive, Sheets, and Google Cloud Storage [Link](https://colab.research.google.com/notebooks/io.ipynb)\n",
    "- Data Visualization [Link](https://colab.research.google.com/notebooks/charts.ipynb)\n",
    "- Machine Learning Introduction Course [Link](https://developers.google.com/machine-learning/crash-course/)\n",
    "\n",
    "<img width=\"600\" src=\"images/img1.jpg\">"
   ]
  },
  {
   "cell_type": "markdown",
   "metadata": {},
   "source": [
    "## References\n",
    "\n",
    "1. \"Colab 101: Your Ultimate Beginner's Guide!\" by Sam Witteveen, available at: [https://www.youtube.com/watch?v=Ii6gs9zADEA](https://www.youtube.com/watch?v=Ii6gs9zADEA)."
   ]
  },
  {
   "cell_type": "markdown",
   "metadata": {
    "id": "IMZOGznEIpX9"
   },
   "source": [
    "[BACK TO TOP](#top)"
   ]
  }
 ],
 "metadata": {
  "accelerator": "GPU",
  "colab": {
   "gpuType": "T4",
   "provenance": []
  },
  "kernelspec": {
   "display_name": "Python 3 (ipykernel)",
   "language": "python",
   "name": "python3"
  },
  "language_info": {
   "codemirror_mode": {
    "name": "ipython",
    "version": 3
   },
   "file_extension": ".py",
   "mimetype": "text/x-python",
   "name": "python",
   "nbconvert_exporter": "python",
   "pygments_lexer": "ipython3",
   "version": "3.12.3"
  }
 },
 "nbformat": 4,
 "nbformat_minor": 4
}

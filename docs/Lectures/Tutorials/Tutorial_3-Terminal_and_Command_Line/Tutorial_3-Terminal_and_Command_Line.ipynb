{
 "cells": [
  {
   "cell_type": "markdown",
   "metadata": {},
   "source": [
    "# Tutorial 3 - Terminal and Command Line"
   ]
  },
  {
   "cell_type": "markdown",
   "metadata": {},
   "source": [
    "[![View notebook on Github](https://img.shields.io/static/v1.svg?logo=github&label=Repo&message=View%20On%20Github&color=lightgrey)](https://github.com/avakanski/Fall-2024-Applied-Data-Science-with-Python/blob/main/docs/Lectures/Tutorials/Tutorial_2-Terminal_and_Command_Line/Tutorial_2-Terminal_and_Command_Line.ipynb)\n",
    "[![Open In Collab](https://colab.research.google.com/assets/colab-badge.svg)](https://colab.research.google.com/github/avakanski/Fall-2024-Applied-Data-Science-with-Python/blob/main/docs/Lectures/Tutorials/Tutorial_2-Terminal_and_Command_Line/Tutorial_2-Terminal_and_Command_Line.ipynb)  "
   ]
  },
  {
   "cell_type": "markdown",
   "metadata": {},
   "source": [
    "<a id='top'></a>"
   ]
  },
  {
   "cell_type": "markdown",
   "metadata": {},
   "source": [
    "## Introduction to Command Line Interface"
   ]
  },
  {
   "cell_type": "markdown",
   "metadata": {},
   "source": [
    "**Command Line Interface (CLI)** is a text-based interface that allows users to interact with a computer system by typing commands. \n",
    "\n",
    "Through the CLI, users can run programs, navigate the file system, automate tasks, and perform many other operations.\n",
    "\n",
    "**Why use CLI?**\n",
    "\n",
    "- CLI is more efficient for certain tasks, since we can execute a task with a single command instead of multiple clicks in different windows.  \n",
    "- Although Windows offers features like Windows Task Scheduler, the CLI is often more flexible and easier for automating tasks.\n",
    "- CLI provides access to advanced features not available in graphical interfaces.\n",
    "- For some tasks, such as running tasks on a remote server, CLI is the only way to interact with a computer."
   ]
  },
  {
   "cell_type": "markdown",
   "metadata": {},
   "source": [
    "### Basic CLI Definitions\n",
    "\n",
    "**Terminal:** A terminal is the program (window) that offers access to the CLI. It is the interface where \n",
    "the command line is displayed, and the users type command inputs and see the outputs. \n",
    "\n",
    "**Shell:** A shell is the command interpreter that executes the commands entered by users through the command line. It translates user commands into instructions comprehensible by the operating system for execution. The shell also manages tasks like input and output redirection, environment variables, scripting, and various other functionalities. \n",
    "\n",
    "Different operating systems deploy distinct shell programs. For example, Windows uses the Command Prompt and PowerShell, while Unix-like systems typically utilize shells such as Bash (default on most Linux distributions), Zsh, Fish, or Dash.\n",
    "\n",
    "In summary, the command line functions as a text-based instruction method, the terminal provides the visual interface for the command line, and the shell is the program responsible for interpreting and executing user commands through the command line."
   ]
  },
  {
   "cell_type": "markdown",
   "metadata": {},
   "source": [
    "### Access the Command Prompt in Windows\n",
    "\n",
    "The Command Prompt in Windows is the traditional command line. PowerShell in Windows is a modern shell with advanced scripting capabilities, which can run most commands from the traditional Command Prompt,but it can also run additional commands and it is object-oriented and not just text-based.\n",
    "\n",
    "To access the Command Prompt in Windows, enter `\"command prompt\"` in the Start menu's search bar to search for it. Alternatively, you can enter `\"cmd\"`, which is the abbreviated name of the executable responsible for running the Command Prompt.\n",
    "\n",
    "<img src=\"images/cmd1.png\" width=\"500\">\n",
    "\n",
    "Also, you can press `Win` + `R` to open the Run box, then enter `\"cmd\"` and press Enter. \n",
    "\n",
    "<img src=\"images/cmd2.png\" width=\"300\">\n",
    "\n",
    "To run Command Prompt as an admin, right-click on the Command Prompt to select `\"Run as administrator\"`, or you can also hold `Ctrl` + `Shift` before pressing Enter.\n",
    "\n",
    "<img src=\"images/cmd3.png\" width=\"400\">\n"
   ]
  },
  {
   "cell_type": "markdown",
   "metadata": {},
   "source": [
    "### Other Ways to Access CLI in Windows\n",
    "\n",
    "If you have installed **Jupyter Lab**, you can access the terminal through it. After opening Jupyter Lab, in the top menu select the **File** tab, then click **New**, and select **Terminal**.\n",
    "\n",
    "<img src=\"images/cmd6.png\" width=\"450\">\n",
    "\n",
    "Alternatively, if you have installed **Anaconda**, you can use the **Anaconda Prompt** in the Start menu to access the terminal. The difference between Anaconda Prompt and Command Prompt is that Anaconda Prompt offers some conda-specific features, such as conda environment management, package management, and pre-configured data science packages.\n",
    "\n",
    "<img src=\"images/cmd7.png\" width=\"450\">"
   ]
  },
  {
   "cell_type": "markdown",
   "metadata": {},
   "source": [
    "### Access the PowerShell in Windows\n",
    "\n",
    "To access PowerShell, press the `Win` and `R` keys, type `powershell` and press Enter.\n",
    "\n",
    "Or, open the Command Prompt, type `powershell` and press Enter.\n",
    "\n",
    "Note that the Command Prompt has black background, and the prompt shows `C:\\Users\\Username>`, whereas the PowerShell has blue background, and the prompt shows `PS C:\\Users\\Username>`.\n",
    "\n",
    "PowerShell is backward-compatible with most commands from Command Prompt, so we can use either interface for this tutorial."
   ]
  },
  {
   "cell_type": "markdown",
   "metadata": {},
   "source": [
    "## Command Prompt Basics\n",
    "\n",
    "After opening a Command Prompt window, the current directory `C:\\Users\\[Username]>` will be displayed as in the figure below, followed by the `>` symbol.\n",
    "\n",
    "<img src=\"images/cmd5.png\" width=\"500\">\n",
    "\n",
    "Only valid commands are accepted in the Command Prompt, otherwise a message like the one shown below will be displayed if an unknown or unrecognized command is entered.\n",
    "\n",
    "<img src=\"images/cmd8.png\" width=\"500\">\n",
    "\n",
    "\n",
    "**Help** command: typing `help` in the Command Prompt will display a list of commands and the associated descriptions.\n",
    "\n",
    "<img src=\"images/cmd9.png\" width=\"500\">\n",
    "\n",
    "For more information on a specific command, type `HELP command-name`, e.g. `HELP DIR`. As you may have noticed, the commands in Windows Command Prompt are not case-sensitive, and both `help dir` and `HELP DIR` work for this case.\n",
    "\n",
    "<img src=\"images/cmd10.png\" width=\"500\">"
   ]
  },
  {
   "cell_type": "markdown",
   "metadata": {},
   "source": [
    "### Listing and Changing Directories\n",
    "\n",
    "The command `DIR` is an abbreviation for directory, and it lists the contents of the directory (folder) that you are currently in. \n",
    "\n",
    "<img src=\"images/cmd11.png\" width=\"400\">\n",
    "\n",
    "To change the current directory, use `CD` followed by the name of the folder you want to access. \n",
    "\n",
    "<img src=\"images/cmd12.png\" width=\"400\">\n",
    "\n",
    "To go back to the parent directory, use `CD ..`. \n",
    "\n",
    "<img src=\"images/cmd13.png\" width=\"400\">\n",
    "\n",
    "Special path shortcuts in Windows inlcude:\n",
    "\n",
    "- `.`, current directory\n",
    "- `..`, parent directory\n",
    "- `~`, home directory (in some contexts).\n",
    "- `%USERPROFILE%`, user's home directory."
   ]
  },
  {
   "cell_type": "markdown",
   "metadata": {},
   "source": [
    "### Creating and Deleting Files/Folders in Command Prompt\n",
    "\n",
    "Use `mkdir` followed by `[new-folder-name]` to create a new directory/folder.\n",
    "\n",
    "E.g., the command to create a folder named \"test\" is `mkdir test`.\n",
    "\n",
    "<img src=\"images/cmd14.png\" width=\"450\">\n",
    "\n",
    "Use `rmdir` followed by `[folder-name]` to delete an existing directory/folder.\n",
    "\n",
    "<img src=\"images/cmd15.png\" width=\"450\">\n",
    "\n",
    "Use `echo` followed by `content-of-the-file` > `[file-name]` to write the content into a new or existing file. \n",
    "\n",
    "<img src=\"images/echo.png\" width=\"450\">\n",
    "\n",
    "Beside writing to files, the `echo` command is also used to display messages, show variable names, and control whether commands are shown while a file is running.\n",
    "\n",
    "Use `del` followed by `[file-name]` to delete a file.\n",
    "\n",
    "<img src=\"images/cmd16.png\" width=\"400\">"
   ]
  },
  {
   "cell_type": "markdown",
   "metadata": {},
   "source": [
    "### Copy and Move Files/Folders in Command Prompt\n",
    "\n",
    "Use `copy ` followed by `[source]` `[destination]` to make a copy of a file or folder from a source directory to a destination directory. E.g., in the figure below, copy the `\"test.txt\"` file to the `test_folder`.\n",
    "\n",
    "Similarly, use `move ` followed by `[source]` `[destination]` to move a file/folder between directories.\n",
    "\n",
    "<img src=\"images/copy_cmd.png\" width=\"550\">"
   ]
  },
  {
   "cell_type": "markdown",
   "metadata": {},
   "source": [
    "Other important commands in Windows Command Prompt include:\n",
    "\n",
    "- `type`, display file contents (equivalent to `cat` in Linux).\n",
    "- `where`, find location of executable files.\n",
    "- `tree`, display directory structure in tree format.\n",
    "- `attrib`, view/modify file attributes.\n",
    "- `findstr`, search for text within files.\n",
    "- `tasklist` and `taskkill`, view and terminate processes.\n",
    "- `ipconfig`, network configuration information."
   ]
  },
  {
   "cell_type": "markdown",
   "metadata": {},
   "source": [
    "### Redirection, Pipes, and Chaining\n",
    "\n",
    "Output redirection can be done with:\n",
    "\n",
    "- `command > file.txt`, redirect output to file (overwrite).\n",
    "- `command >> file.txt`, redirect output to file (append).\n",
    "- `command 2> error.txt`, redirect error output to file.\n",
    "\n",
    "Pipes (the output of the first command becomes the input of the second command):\n",
    "\n",
    "- `dir | findstr \".txt\"`, e.g., list files in the current directory that are `.txt` files.\n",
    "- `tasklist | findstr \"notepad\"`, list currently running notepad processes.\n",
    "\n",
    "Command chaining include:\n",
    "\n",
    "- `command1 && command2`, run command2 only if command1 succeeds.\n",
    "- `command1 || command2`, run command2 only if command1 fails.\n",
    "- `command1 & command2`, run both commands sequentially."
   ]
  },
  {
   "cell_type": "markdown",
   "metadata": {},
   "source": [
    "### Autocomplete\n",
    "\n",
    "When working with files and directories in Command Prompt, use the `Tab` key to autocomplete the names of files or directories. \n",
    "\n",
    " 1) The Command Prompt will complete the name based on the files and directories available in the current directory.\n",
    "\n",
    " 2) If there are multiple matches, pressing Tab repeatedly will cycle through all the possible completions."
   ]
  },
  {
   "cell_type": "markdown",
   "metadata": {},
   "source": [
    "### CLI Management\n",
    "\n",
    "Enter `cls` to clear the previous content of the Command Prompt and move the prompt back to the top of the window.\n",
    "\n",
    "Press `Ctrl` + `C` to interrupt or terminate a command or process that is running. \n",
    "\n",
    "Use the `Up` and `Down` keys to navigate to previous and next commands."
   ]
  },
  {
   "cell_type": "markdown",
   "metadata": {},
   "source": [
    "#### Wildcards and Pattern Matching\n",
    "\n",
    "Wildcard characters include:\n",
    "\n",
    "- `*`, matches any number of characters.\n",
    "- `?`, matches any single character.\n",
    "\n",
    "Examples:\n",
    "\n",
    "- `dir *.txt`, list all `.txt` files.\n",
    "- `del temp*.log`, delete all log files starting with `'temp'`.\n",
    "- `copy file?.txt backup\\`, copy files like `file1.txt`, `fileA.txt` to `backup\\`."
   ]
  },
  {
   "cell_type": "markdown",
   "metadata": {},
   "source": [
    "### Run Python Files in Command Prompt \n",
    "\n",
    "To execute a Python file, simply type **python** followed by the path to the file. Or, on some systems you might need to use **python3** followed by the path to the file. \n",
    "\n",
    "E.g., the path of the `test.py` file is `C:\\Users\\L\\Desktop\\TA\\test.py`. To run this file, use the command `python \"C:\\Users\\L\\Desktop\\TA\\test.py\"`.\n",
    "\n",
    "<img src=\"images/cmd19.png\" width=\"400\">"
   ]
  },
  {
   "cell_type": "markdown",
   "metadata": {},
   "source": [
    "For package management use:\n",
    "\n",
    "- `pip install package_name`, install Python package.\n",
    "- `pip list`, list installed packages.\n",
    "- `pip show package_name`, show package information.\n",
    "- `pip freeze > requirements.txt`, export package list."
   ]
  },
  {
   "cell_type": "markdown",
   "metadata": {},
   "source": [
    "## Terminal in Ubuntu (Linux) Basics\n",
    "\n",
    "To access the terminal, click on the Activities on the upper left of the screen, and type keywords like **\"shell\"**, or **\"terminal\"**, or **\"command\"**, **\"prompt\"**.\n",
    "\n",
    "<img src=\"images/terminal1.png\" width=\"500\">"
   ]
  },
  {
   "cell_type": "markdown",
   "metadata": {},
   "source": [
    "After opening a terminal window,\n",
    "**username@linux-desktop:~$** will be displayed. \n",
    "\n",
    "<img src=\"images/terminal2.png\" width=\"500\">"
   ]
  },
  {
   "cell_type": "markdown",
   "metadata": {},
   "source": [
    "### Basic Commands in Ubuntu (Linux)\n",
    "\n",
    "Note that commands in Linux are case-sensitive, but commands in Windows are NOT case-sensitive.\n",
    "\n",
    "The command `help` in Linux is the same command as in Windows, and it displays the available command names.\n",
    "\n",
    "<img src=\"images/help.png\" width=\"900\">\n",
    "\n",
    "Similarly, `help` followed by command name will show the specific information of that command.\n",
    "\n",
    "<img src=\"images/help_example.png\" width=\"500\">\n",
    "\n",
    "The command `pwd` stands for \"print working directory\" and it returns the current working directory, showing where you are in the file system.\n",
    "\n",
    "<img src=\"images/pwd.png\" width=\"500\">\n",
    "\n",
    "The `cd` command in Linux is the same as in Windows, and it is used to navigate between different directories in the file system. For example, `cd /` takes you to the root directory.\n",
    "\n",
    "In Linux, `ls` is used to list the files in a directory, instead of the command `dir` in Windows.\n",
    "\n",
    "<img src=\"images/ls.png\" width=\"500\">\n",
    "\n",
    "The `mkdir` command in Linux is used to create new directories within the file system, and it is the same as in Windows. \n",
    "\n",
    "The `touch` command allows you to create an empty file in the current directory.\n",
    "\n",
    "The `rm` command is used to delete a file in the current directory.\n",
    "\n",
    "<img src=\"images/mkdir.png\" width=\"300\">\n",
    "\n",
    "The `cp` command allows you to copy files or directories.\n",
    "\n",
    "<img src=\"images/cp.png\" width=\"300\">\n",
    "\n",
    "The `mv` command is used to move a file or directory from one place to another. \n",
    "\n",
    "<img src=\"images/mv.png\" width=\"300\">\n",
    "\n",
    "Pressing the keys `Ctrl+C` is used to interrupt or terminate a running command or process in the terminal. "
   ]
  },
  {
   "cell_type": "markdown",
   "metadata": {},
   "source": [
    "The `clear` command is used to clear the terminal screen, removing all the previous output and providing a clean slate for new commands. This command doesn't affect the running processes or the state of the system, and it simply clears the visual clutter from the terminal window.\n",
    "\n",
    "By pressing `Up` and `Down` keys you can navigate through the previous commands you entered.\n",
    "\n",
    "By hitting `tab` you will get autocompletion based on the text written so far. \n",
    "\n",
    "To run a Python file in the Linux terminal, type `python3` followed by the file name."
   ]
  },
  {
   "cell_type": "markdown",
   "metadata": {},
   "source": [
    "Other important commands in Linux terminal include:\n",
    "\n",
    "- `cat`, display file contents.\n",
    "- `grep`, search text patterns in files.\n",
    "- `find`, search for files and directories.\n",
    "- `chmod`, change file permissions.\n",
    "- `ps`, show running processes.\n",
    "- `kill`, terminate processes.\n",
    "- `sudo`, execute commands with elevated privileges.\n",
    "- `man`, manual pages (more comprehensive than help).\n",
    "- `which`, locate executable files.\n",
    "- `head` and `tail`, display first/last lines of files."
   ]
  },
  {
   "cell_type": "markdown",
   "metadata": {},
   "source": [
    "### References\n",
    "\n",
    "1. \"A Beginner's Guide to the Windows Command Prompt\" by Ben Stegner, available at: [https://www.makeuseof.com/tag/a-beginners-guide-to-the-windows-command-line/](https://www.makeuseof.com/tag/a-beginners-guide-to-the-windows-command-line/).\n",
    "2. \"Command Line for Beginners – How to Use the Terminal Like a Pro\" by German Cocca, available at: [https://www.freecodecamp.org/news/command-line-for-beginners/](https://www.freecodecamp.org/news/command-line-for-beginners/)."
   ]
  },
  {
   "cell_type": "markdown",
   "metadata": {
    "tags": []
   },
   "source": [
    "[BACK TO TOP](#top)"
   ]
  }
 ],
 "metadata": {
  "kernelspec": {
   "display_name": "Python 3 (ipykernel)",
   "language": "python",
   "name": "python3"
  },
  "language_info": {
   "codemirror_mode": {
    "name": "ipython",
    "version": 3
   },
   "file_extension": ".py",
   "mimetype": "text/x-python",
   "name": "python",
   "nbconvert_exporter": "python",
   "pygments_lexer": "ipython3",
   "version": "3.13.5"
  }
 },
 "nbformat": 4,
 "nbformat_minor": 4
}

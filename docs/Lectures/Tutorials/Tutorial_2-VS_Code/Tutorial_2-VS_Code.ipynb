{
 "cells": [
  {
   "cell_type": "markdown",
   "metadata": {},
   "source": [
    "# Tutorial 2 - Python IDEs, VS Code"
   ]
  },
  {
   "cell_type": "markdown",
   "metadata": {},
   "source": [
    "[![View notebook on Github](https://img.shields.io/static/v1.svg?logo=github&label=Repo&message=View%20On%20Github&color=lightgrey)](https://github.com/avakanski/Fall-2025-Applied-Data-Science-with-Python/blob/main/docs/Lectures/Tutorials/Tutorial_2-VS_Code/Tutorial_2-VS_Code.ipynb)\n",
    "[![Open In Collab](https://colab.research.google.com/assets/colab-badge.svg)](https://colab.research.google.com/github/avakanski/Fall-2025-Applied-Data-Science-with-Python/blob/main/docs/Lectures/Tutorials/Tutorial_2-VS_Code/Tutorial_2-VS_Code.ipynb)  "
   ]
  },
  {
   "cell_type": "markdown",
   "metadata": {},
   "source": [
    "<a id=\"top\"></a>"
   ]
  },
  {
   "cell_type": "markdown",
   "metadata": {},
   "source": [
    "\n",
    "This tutorial first presents several common environments and editors for Python code development, and afterward describes VS Code in more detail. "
   ]
  },
  {
   "cell_type": "markdown",
   "metadata": {},
   "source": [
    "## Python IDEs <a id=\"section1\"/>"
   ]
  },
  {
   "cell_type": "markdown",
   "metadata": {},
   "source": [
    "> An **IDE (or Integrated Development Environment)** is a program that integrates tools to facilitate software development, such as a code editor, tools for program execution and debugging, and source control.\n",
    "\n",
    "In other words, an IDE is a graphical user interface for program development, that allows end-users to edit, run, browse, and debug programs from a single interface. Using an IDE is especially convenient for beginners to start editing and running codes.\n",
    "\n",
    "Most IDEs support several different programming languages. There are some that are designed specifically for Python development (like the IDLE described below).\n",
    "\n",
    "Also, most IDEs offer a **code editor**, although the code editor can be an independent software application. A code editor can be a simple text editor, or it can also allow code execution and debugging. In comparison to IDEs, code editors are simpler, but they are also less resource-demanding."
   ]
  },
  {
   "cell_type": "markdown",
   "metadata": {},
   "source": [
    "In general, IDEs offer the following basic features:\n",
    "- Save and reload code files\n",
    "- Run code from within the environment\n",
    "- Debugging support\n",
    "- Syntax highlighting\n",
    "- Automatic code formatting\n",
    "\n",
    "The debugging support typically allows setting breakpoints in the code that stop the execution, showing variable values, and so on. For simpler debugging operations, most IDEs allow clicking on the text of an error message to quickly jump to the line of code where the error occurred, and after correcting the error, to quickly run the code.\n",
    "\n",
    "Syntax highlighting refers to displaying source code using different colors and fonts according to the category of the written text and commands. It facilitates code writing by providing visually distinct syntax, and it can help to identify mistakes in the code.\n",
    "\n",
    "Automatic code formatting can include features such as automated indentation, automated spacing around operators, auto-completion, etc.\n",
    "\n",
    "Other helpful features often include: advanced text and file search options, help links or pop-up windows when hovering with the mouse over an object, selection list for object attributes (e.g., after a `.` press the `Tab` key), links to definition of objects, and similar.\n",
    "\n",
    "Also note that Jupyter Notebook and Jupyter Lab, which we covered in Tutorial 1, are not traditional Python IDEs, as they were primarily designed for working with Jupyter notebooks to allow writing and running code in interactive cells. They still allow working with Python files, and can be considered code editors. "
   ]
  },
  {
   "cell_type": "markdown",
   "metadata": {},
   "source": [
    "### IDLE "
   ]
  },
  {
   "cell_type": "markdown",
   "metadata": {},
   "source": [
    "**IDLE** is the original and oldest IDE for Python development. It is available for Windows, Unix, and Mac OS platforms, and it comes preinstalled with the Python installation. IDLE is free, easy to use, and portable across platforms.\n",
    "\n",
    "The name is a variation of IDE, and it is named after one of the members of the Monty Python group - Eric Idle. \n",
    "\n",
    "To access IDLE, type in the Anaconda Prompt/Windows Command Prompt (depending of your Python installation): `python -m idlelib.idle`. The IDLE window is shown in the figure below. Notice the `>>>` prompt in IDLE, which allows interactive programming, i.e., we can type commands and run them immediately. Also note the syntax highlighting of the entered Python statements, and the menu bar on the top of the window that is similar to the Jupyter Notebook menu and to other MS Office apps (e.g., MS Word).\n",
    "\n",
    "IDLE is simple and easy to use, but on the other hand, it is somewhat limited compared to more recent IDEs."
   ]
  },
  {
   "cell_type": "markdown",
   "metadata": {},
   "source": [
    "<img src=\"images/pic17-1.jpg\" width=\"600\">"
   ]
  },
  {
   "cell_type": "markdown",
   "metadata": {},
   "source": [
    "### Spyder"
   ]
  },
  {
   "cell_type": "markdown",
   "metadata": {},
   "source": [
    "**Spyder** is a Python IDE ([https://github.com/spyder-ide/spyder](https://github.com/spyder-ide/spyder)) which is available with the Anaconda installation, so if you installed Anaconda you should have it installed on your computer. It can be accessed from the Start Program menu, as shown below. Spyder offers most of the common IDE features. An interesting feature that is not offered by many similar IDEs is the variable explorer, which displays the user data and variables in a table-based layout inside the IDE."
   ]
  },
  {
   "cell_type": "markdown",
   "metadata": {},
   "source": [
    "<img src=\"images/pic18a.jpg\" width=\"200\">"
   ]
  },
  {
   "cell_type": "markdown",
   "metadata": {},
   "source": [
    "<img src=\"images/pic18b.jpg\" width=\"600\">"
   ]
  },
  {
   "cell_type": "markdown",
   "metadata": {},
   "source": [
    "### Visual Studio"
   ]
  },
  {
   "cell_type": "markdown",
   "metadata": {},
   "source": [
    "**Visual Studio** is a general-purpose IDE ([https://visualstudio.microsoft.com/vs/](https://visualstudio.microsoft.com/vs/)) developed by Microsoft. It is available for Windows and Mac OS, both as free (Community) and paid (Professional and Enterprise) versions. Visual Studio provides support for program development in different programming languages. Python Tools for Visual Studio (PTVS) enables Python coding in Visual Studio. VS is a large download, but it provides excellent tools for different languages."
   ]
  },
  {
   "cell_type": "markdown",
   "metadata": {},
   "source": [
    "<img src=\"images/pic19.jpg\" width=\"600\">"
   ]
  },
  {
   "cell_type": "markdown",
   "metadata": {},
   "source": [
    "### Eclipse and PyDev"
   ]
  },
  {
   "cell_type": "markdown",
   "metadata": {},
   "source": [
    "**Eclipse and PyDev** is an IDE ([www.eclipse.org](http://www.eclipse.org)), originally developed as a Java IDE, but it supports Python development by installing the PyDev plug-in. It is a popular and powerful IDE for Python development. It is available for Windows, Linux, and Mac OS. However, it may not be the easiest IDE for beginner programmers. "
   ]
  },
  {
   "cell_type": "markdown",
   "metadata": {},
   "source": [
    "<img src=\"images/pic17.jpg\" width=\"600\">"
   ]
  },
  {
   "cell_type": "markdown",
   "metadata": {},
   "source": [
    "### PyCharm"
   ]
  },
  {
   "cell_type": "markdown",
   "metadata": {},
   "source": [
    "**PyCharm** is a fully dedicated IDE for Python ([https://www.jetbrains.com/pycharm/](https://www.jetbrains.com/pycharm/)). Available in both paid (Professional) and free open-source (Community) editions, PyCharm installs quickly and easily on Windows, Mac OS, and Linux platforms. Beside VS Code, PyCharm (especially the Professional version) is one of the most popular IDEs for Python among professional developers."
   ]
  },
  {
   "cell_type": "markdown",
   "metadata": {},
   "source": [
    "<img src=\"images/pic21.jpg\" width=\"600\">"
   ]
  },
  {
   "cell_type": "markdown",
   "metadata": {},
   "source": [
    "### Other IDEs"
   ]
  },
  {
   "cell_type": "markdown",
   "metadata": {},
   "source": [
    "Beside these, there are also other general-purpose IDEs and code editors, such as [Komodo](http://www.activestate.com), [Sublime Text](http://www.sublimetext.com), [Atom](https://atom.io/), [GNU Emacs](https://www.gnu.org/software/emacs/), and other IDEs dedicated to Python code development, such as [PythonWin](http://www.python.org/), [NetBeans](http://plugins.netbeans.org/plugin/61688/python),[Thonny](http://thonny.org/), and many others. "
   ]
  },
  {
   "cell_type": "markdown",
   "metadata": {},
   "source": [
    "## Introduction to VS Code"
   ]
  },
  {
   "cell_type": "markdown",
   "metadata": {},
   "source": [
    "**Visual Studio Code (VS Code)** is a code editor ([https://code.visualstudio.com/](https://code.visualstudio.com/)), available for Windows, Linux, and Mac OS. Differently from the Visual Studio IDE listed above that is a full IDE that is large and resource intensive, Visual Studio Code is a code editor that is small and lightweight, open-source, and extensible. However, although VS Code is a code editor, with extensions (such as Python, Jupyter, Git, Debugger, etc.), it provides most of the features of a full IDE. \n",
    "\n",
    "VS Code is free and versatile, and allows programming in JavaScript, C++, Java, R, Go, and other programming languages using the same editor. It runs on different OS platforms, and it supports full Git integration. Microsoft releases frequent updates, bug fixes, and new features for VS Code. Because of these features, VS Code is currently among the most popular editors for Python code development. "
   ]
  },
  {
   "cell_type": "markdown",
   "metadata": {},
   "source": [
    "### VS Code Download and Installation\n",
    "\n",
    "VS Code can be downloaded from: https://code.visualstudio.com/\n",
    "\n",
    "<img src=\"images/vs1.png\" width=\"600\">"
   ]
  },
  {
   "cell_type": "markdown",
   "metadata": {},
   "source": [
    "During the installation, choose all the default options.\n",
    "\n",
    "After the installation is completed, open the VS Code, and all initial settings can be selected as defaults.\n",
    "\n",
    "When you first open VS Code, the window will look similar to the following figure.\n",
    "\n",
    "<img src=\"images/vs3.png\" width=\"700\">"
   ]
  },
  {
   "cell_type": "markdown",
   "metadata": {},
   "source": [
    "### VS Code User Interface\n",
    "\n",
    "The layout of VS Code is shown in the figure below. It follows a common interface design, with a file explorer on the left for browsing available folders and files, and an editor on the right for viewing and editing the selected files.\n",
    "\n",
    "\n",
    "The user interface is organized into five main areas:\n",
    "\n",
    "- **Editor area**: The central workspace where you edit files. Multiple editors can be opened side by side, both vertically and horizontally.\n",
    "- **Side bar**: Provides various views such as file explorer, search, and other views to help manage your project.\n",
    "- **Activity bar**: Positioned on the left-hand side, it offers quick access to tools including Explorer, Search, Source Control (Git), Run and Debug, and Extensions. The selected tool is displayed in the Side Bar.\n",
    "- **Panels**: Docked below the editor, panels can display an integrated terminal, debug console, output logs, or problems (errors and warnings).\n",
    "- **Status bar**: Located at the bottom of the window, it displays information about the opened project, opened files, and active environment or branch.\n",
    "\n",
    "VS Code remembers your workspace, and when reopened, it restores the previously opened folder, files, and layout for an convenient continuation of your work."
   ]
  },
  {
   "cell_type": "markdown",
   "metadata": {},
   "source": [
    "<img src=\"images/vs22.png\" width=\"800\">"
   ]
  },
  {
   "cell_type": "markdown",
   "metadata": {},
   "source": [
    "**Activity Bar**\n",
    "\n",
    "The Activity Bar on the left lets you quickly switch between views in the Side Bar. \n",
    "\n",
    "This activity bar contains the following tabs:\n",
    "- **Explorer**: Displays current project's files and folders. You can open, create, delete, and browse files directly from here.\n",
    "- **Search**: Allows to search for a keyword across all files in your workspace.\n",
    "- **Source Control (Git)**: Supports Git integration, and enables to commit, push, pull, view diffs, and manage branches without leaving VS Code.\n",
    "- **Run and Debug**: Used to launch and debug applications. Lets you set breakpoints, step through code, inspect variables, etc.\n",
    "- **Extensions**: Opens the Extensions Marketplace, where you can install extensions such as Python, Jupyter, Docker, themes, and other libraries.  "
   ]
  },
  {
   "cell_type": "markdown",
   "metadata": {},
   "source": [
    "<img src=\"images/vs23.png\" width=\"700\">"
   ]
  },
  {
   "cell_type": "markdown",
   "metadata": {},
   "source": [
    "**Command Palette**\n",
    "\n",
    "The Command Palette is a quick-access tool in VS Code that lets you run commands without navigating through the menus in the top Menu Bar. You can open the Command Palette with **Ctrl+Shift+P**. It can also be accessed from the **View** tab. \n",
    "\n",
    "Once the Command Palette is open (shown in the figure below), you can start typing to search for any command, such as changing user settings, selecting a Python interpreter, running a build task, or installing an extension, which can all be done using the same interactive window."
   ]
  },
  {
   "cell_type": "markdown",
   "metadata": {},
   "source": [
    "<img src=\"images/vs24.png\" width=\"700\">"
   ]
  },
  {
   "cell_type": "markdown",
   "metadata": {},
   "source": [
    "**Color Themes**\n",
    "\n",
    "VS Code provides different color themes to suit your preference and work environment. To select a color theme, open the Command Palette (Ctrl+Shift+P) and type `Color Theme`. Select `Preferences: Color Theme` and from the list of themes, select the one that you prefer."
   ]
  },
  {
   "cell_type": "markdown",
   "metadata": {},
   "source": [
    "<img src=\"images/vs25.png\" width=\"700\">"
   ]
  },
  {
   "cell_type": "markdown",
   "metadata": {},
   "source": [
    "### Extensions Installation and VS Code Configuration\n",
    "\n",
    "To run Python in VS Code, we need to install the Python extension first. \n",
    "\n",
    "In the Activity Bar of the VS Code Window, select the `Extensions` tab, search for the Python extension, and install it.\n",
    "\n",
    "<img src=\"images/vs2.png\" width=\"250\">"
   ]
  },
  {
   "cell_type": "markdown",
   "metadata": {},
   "source": [
    "Similarly, to work with Jupyter notebooks, we need to install the Jupyter extension. Search for the extension and install it.\n",
    "\n",
    "<img src=\"images/vs4.png\" width=\"250\">"
   ]
  },
  {
   "cell_type": "markdown",
   "metadata": {},
   "source": [
    "### Working with Jupyter Notebooks in VS Code\n",
    "\n",
    "To open a folder in VS Code, we can just click on the `File` tab in the Menu Bar, and select `Open Folder`.\n",
    "\n",
    "<img src=\"images/vs7.png\" width=\"250\">"
   ]
  },
  {
   "attachments": {},
   "cell_type": "markdown",
   "metadata": {},
   "source": [
    "#### Workspace Trust\n",
    "\n",
    "When opening a folder for the first time, we want to make sure that it is a trusted workspace. The Workspace Trust feature in VS Code allows to indicate which folders and their contents should be trusted to be executed.\n",
    "\n",
    "If this is a folder that you have created or it is from a trusted source, then select \"Yes, I trust the authors.\"  If you selected untrusted mode, the files will be open in Restricted Mode, which allows to browse the files but it does not allow to execute code.\n",
    "\n",
    "<img src=\"images/vs26.png\" width=\"500\">"
   ]
  },
  {
   "cell_type": "markdown",
   "metadata": {},
   "source": [
    "#### Create a Jupyter Notebook File\n",
    "\n",
    "There are two ways to create a new Jupyter Notebook file inside a folder.\n",
    "  \n",
    "a) Click `File` in the top Menu Bar and then select `New File`, afterward choose the `Jupyter Notebook` option.\n",
    "\n",
    "b) Right-click in the blank area under your folder's name on the left side of the window, select `New File`, and type the file name with the `.ipynb` extension. \n",
    "\n",
    "\n",
    "<img src=\"images/vs9.png\" width=\"200\">"
   ]
  },
  {
   "cell_type": "markdown",
   "metadata": {},
   "source": [
    "#### Setting Up the Python Kernel\n",
    "\n",
    "To work with Python in Jupyter notebook files, the first time we run a Jupyter notebook file, we need to manually select the Python kernel. If you have installed Anaconda on your computer, you can select the Python kernel from Anaconda for running Jupyter Notebooks. Alternatively, if you didn't install Anaconda, you will need to select the Python environment in which you have installed the Jupyter package. \n",
    "   \n",
    "In the upper right corner of the screen, click `Select Kernel` to select the Python interpreter. Also, you can open the Command Palette, and type `Python: Select Interpreter`. The Python installation and environment from Anaconda should be listed (shown as \"Python 3.9.13 (base)\" in the figure below) and we can select it for working with Jupyter notebooks. \n",
    "\n",
    "<img src=\"images/vs11.png\" width=\"600\">\n",
    "\n",
    "<img src=\"images/vs5.png\" width=\"450\">\n",
    "\n",
    "<img src=\"images/vs6.png\" width=\"450\">"
   ]
  },
  {
   "cell_type": "markdown",
   "metadata": {},
   "source": [
    "### Running Cells\n",
    "\n",
    "To run a single cell in Jupyter notebooks, use the `Run Cell` icon to the left of the cell (shown below).\n",
    "\n",
    "<img src=\"images/vs27.png\" width=\"750\">"
   ]
  },
  {
   "cell_type": "markdown",
   "metadata": {},
   "source": [
    "To run multiple cells, we can use the double arrow in the top toolbar `Run All` to run all cells in the Jupyter notebook.\n",
    "\n",
    "<img src=\"images/vs28.png\" width=\"750\">"
   ]
  },
  {
   "cell_type": "markdown",
   "metadata": {},
   "source": [
    "Also, multiple cells can be run by selecting the floating menu on the right side in the current cell shown below, which contains the following icons, from left to right:\n",
    "\n",
    "- `Run by Line`, which runs the code in a cell line by line.\n",
    "- `Execute Above Cells`, which runs all the cells above the current cell.\n",
    "- `Execute Cell and Below Cells`, which runs the current and all the below cells.\n",
    "\n",
    "<img src=\"images/vs29.png\" width=\"650\">"
   ]
  },
  {
   "cell_type": "markdown",
   "metadata": {},
   "source": [
    "#### Add and Move Cells\n",
    "\n",
    "To add a new cell below the currently selected cell, use the plus icon in the top toolbar and select whether to add a Code cell or Markdown cell.\n",
    "\n",
    "<img src=\"images/vs30.png\" width=\"650\">"
   ]
  },
  {
   "cell_type": "markdown",
   "metadata": {},
   "source": [
    "To render Markdown cells, select the check mark in the cell toolbar, as shown below.\n",
    "\n",
    "<img src=\"images/vs31.png\" width=\"650\">"
   ]
  },
  {
   "cell_type": "markdown",
   "metadata": {},
   "source": [
    "To move cells, click and hold the blue bar in front of the cell, then move to any place you prefer.\n",
    "\n",
    "<img src=\"images/vs16.png\" width=\"350\">"
   ]
  },
  {
   "cell_type": "markdown",
   "metadata": {},
   "source": [
    "#### Variable Explorer and Data Viewer\n",
    "\n",
    "The tab `Variables` enables to view, inspect, sort, and filter the variables and data within your current Jupyter notebook. It provides a visual interface for investigating the present state of variables and their values.\n",
    "\n",
    "<img src=\"images/vs13.png\" width=\"550\">"
   ]
  },
  {
   "cell_type": "markdown",
   "metadata": {},
   "source": [
    "#### Debug Features\n",
    "\n",
    "To debug code in Jupyter notebooks, click the arrow next to the Run Cell button and select `Debug Cell`. This will allow to debug the code like you normally do in Python, allowing to run code by line, set breakpoints, etc.\n",
    "\n",
    "<img src=\"images/vs18.png\" width=\"550\">"
   ]
  },
  {
   "cell_type": "markdown",
   "metadata": {},
   "source": [
    "### IntelliSense Support in Jupyter Notebooks\n",
    "\n",
    "IntelliSense is a general term for code editing features related to code completion and intelligent code assistance. The built-in IntelliSense features in VS Code provide a set of tools that enhance the Python development experience in Jupyter notebooks by making coding faster, more accurate, and more intuitive.\n",
    "\n",
    "The functions provided by the built-in IntelliSense features in VS Code include:\n",
    "- Code completion and auto-suggestions: It predicts and auto-generates code as you type, reducing the need for manual input and the chances of typos and syntax errors. It offers context-aware recommendations for variable names, function names, and module imports. The feature also includes pre-defined code templates for common programming patterns such as for loops and function definitions.\n",
    "- Parameter information and error detection: When you call a function or method, IntelliSense displays information about the function's parameters, including their names, data types, default values, and descriptions. This makes it simpler to provide the correct arguments when calling functions. Additionally, IntelliSense provides real-time error highlighting for syntax errors, undefined variables, and type mismatches, allowing for immediate correction as you type.\n",
    "- Additional features: IntelliSense also provides hover information for quick access to documentation and type hints, navigation support to access function definitions, and enhanced support for popular Data Science libraries like NumPy, pandas, and matplotlib. \n",
    "\n",
    "<img src=\"images/vs12.png\" width=\"450\">"
   ]
  },
  {
   "cell_type": "markdown",
   "metadata": {},
   "source": [
    "## References <a id=\"references\"/>\n",
    "\n",
    "1. Jupyter Notebooks in VS Code, available at: [https://code.visualstudio.com/docs/datascience/jupyter-notebooks](https://code.visualstudio.com/docs/datascience/jupyter-notebooks).\n",
    "2. RIP Tutorial for Visual Studio Code - User Interface, available at: [https://riptutorial.com/visual-studio-code/learn/100006/user-interface](https://riptutorial.com/visual-studio-code/learn/100006/user-interface).\n",
    "3. SQLShackSkip, Getting started with Visual Studio Code (VS Code),  by Rajendra Gupta, available at: [https://www.sqlshack.com/getting-started-with-visual-studio-code-vs-code/](https://www.sqlshack.com/getting-started-with-visual-studio-code-vs-code/)"
   ]
  },
  {
   "cell_type": "markdown",
   "metadata": {},
   "source": [
    "[BACK TO TOP](#top)"
   ]
  }
 ],
 "metadata": {
  "kernelspec": {
   "display_name": "Python 3 (ipykernel)",
   "language": "python",
   "name": "python3"
  },
  "language_info": {
   "codemirror_mode": {
    "name": "ipython",
    "version": 3
   },
   "file_extension": ".py",
   "mimetype": "text/x-python",
   "name": "python",
   "nbconvert_exporter": "python",
   "pygments_lexer": "ipython3",
   "version": "3.13.5"
  }
 },
 "nbformat": 4,
 "nbformat_minor": 4
}

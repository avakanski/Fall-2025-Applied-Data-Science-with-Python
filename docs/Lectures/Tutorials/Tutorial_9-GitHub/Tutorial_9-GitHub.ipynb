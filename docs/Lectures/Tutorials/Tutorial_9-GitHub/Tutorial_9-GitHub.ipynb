{
 "cells": [
  {
   "cell_type": "markdown",
   "id": "78036cbb-46b6-46a3-a185-496ce5829fbc",
   "metadata": {
    "tags": []
   },
   "source": [
    "# Tutorial 9 - GitHub"
   ]
  },
  {
   "cell_type": "markdown",
   "id": "efbbff24-6f3d-410f-b106-396b9d52859e",
   "metadata": {},
   "source": [
    "[![View notebook on Github](https://img.shields.io/static/v1.svg?logo=github&label=Repo&message=View%20On%20Github&color=lightgrey)](https://github.com/avakanski/Fall-2025-Applied-Data-Science-with-Python/blob/main/docs/Lectures/Tutorials/Tutorial_9-GitHub/Tutorial_9-GitHub.ipynb)\n",
    "[![Open In Collab](https://colab.research.google.com/assets/colab-badge.svg)](https://colab.research.google.com/github/avakanski/Fall-2025-Applied-Data-Science-with-Python/blob/main/docs/Lectures/Tutorials/Tutorial_9-GitHub/Tutorial_9-GitHub.ipynb)"
   ]
  },
  {
   "cell_type": "markdown",
   "id": "50c579ee-0249-4622-86c0-fa05ccf16983",
   "metadata": {
    "tags": []
   },
   "source": [
    "<a id='top'></a>"
   ]
  },
  {
   "cell_type": "markdown",
   "id": "d7a91048",
   "metadata": {
    "tags": []
   },
   "source": [
    "## Overview \n",
    "\n",
    "**Git** is a distributed version control system (VCS) that allows developers to track changes in their code over time. It was created by Linus Torvalds in 2005 and is widely used for managing source code for software projects. Git enables multiple developers to work on a project simultaneously and independently, and it tracks changes made by each contributor. It provides features such as branching, merging, and history tracking.\n",
    "\n",
    "With Git, each developer has a local copy of the entire project history. Developers can work offline, commit changes locally, and then synchronize with a central repository later.\n",
    "\n",
    "Key features of Git include:\n",
    "\n",
    "- Manage projects with repositories\n",
    "- Clone a project to work on a local copy\n",
    "- Control and track changes with staging and committing\n",
    "- Branch and merge for working on different parts and versions of a project\n",
    "- Pull the latest version of the project to a local copy\n",
    "- Push local updates to the main project\n",
    "\n",
    "A **repository** is typically used to organize a single project. Repositories can contain folders and files, images, videos, spreadsheets, and data sets. Repositories typically include a README file that provides information about the project. README files are written in plain text Markdown language."
   ]
  },
  {
   "cell_type": "markdown",
   "id": "23ffd4fe-6c25-421c-b2ec-26fe209e6551",
   "metadata": {},
   "source": [
    "**GitHub** is a web-based platform that provides hosting for Git repositories. It offers a graphical interface for managing Git repositories, collaboration features, and additional tools for project management. GitHub allows multiple developers to collaborate on a project, track issues, and manage pull requests.\n",
    "\n",
    "Key features of GitHub are:\n",
    "\n",
    "- Repository hosting: GitHub provides a place to store and manage Git repositories.\n",
    "- Collaboration: Developers can collaborate on projects by forking repositories, making changes, and submitting pull requests.\n",
    "- Issue tracking: GitHub includes an issue-tracking system for managing bugs, feature requests, and other tasks.\n",
    "- Pull requests: Developers can propose changes to a project by submitting pull requests, which can be reviewed and merged by project maintainers.\n",
    "- Web-based interface: GitHub provides a user-friendly web interface for interacting with Git repositories.\n",
    "\n",
    "To summarize, Git serves as the version control system enabling developers to monitor code changes, whereas GitHub functions as a web-based platform offering hosting for Git repositories along with extra collaboration tools."
   ]
  },
  {
   "cell_type": "markdown",
   "id": "7eb74e4e",
   "metadata": {},
   "source": [
    "## Working with GitHub\n",
    "\n",
    "Sign up for a GitHub account using the following [link](https://github.com/)."
   ]
  },
  {
   "cell_type": "markdown",
   "id": "9ec0fbd7",
   "metadata": {},
   "source": [
    "To create a new repository on GitHub, click on the **\"New repository\"** button shown below in the upper right corner. Then, fill in the relevant details. You can set the repository as \"Public\" or \"Private\". You also have options to add a `README` file, or choose a license for your repository. Click the **\"Create Repository\"** button to finish the creation process."
   ]
  },
  {
   "cell_type": "markdown",
   "id": "b58a66b0",
   "metadata": {},
   "source": [
    "<img width=\"850\" src=\"images/img1.png\">"
   ]
  },
  {
   "cell_type": "markdown",
   "id": "30291a41",
   "metadata": {},
   "source": [
    "<img width=\"850\" src=\"images/img2.png\">"
   ]
  },
  {
   "cell_type": "markdown",
   "id": "674a3468-0b4c-45d0-a649-c61102aa1d35",
   "metadata": {},
   "source": [
    "### Making and Committing Changes\n",
    "\n",
    "We can make and save changes to the files in a GitHub repository via **commits**. Each commit has an associated commit message, which is a description explaining why a particular change was made. Commit messages capture the history of the changes, so that other contributors can understand what you have done and why.\n",
    "\n",
    "For instance, to edit the `README.md` file, we can follow these steps:\n",
    "\n",
    "1) Under the branch we created, click the `README.md` file.\n",
    "2) To edit the file, click on the **\"Edit file\" (pencil)** button located in the upper right corner.\n",
    "3) In the editor, write some text to describe the repository. \n",
    "4) Click **\"Commit changes...\"**.\n",
    "5) In the **\"Commit message\"** field, write a message title and a brief description of the changes.\n",
    "6) Click **\"Commit changes\"**."
   ]
  },
  {
   "cell_type": "markdown",
   "id": "68089fb7",
   "metadata": {},
   "source": [
    "### Creating a Branch\n",
    "\n",
    "By default, a repository comes with a primary branch called `main`, which serves as the authoritative branch. We have the option to establish additional branches stemming from the main branch within the repository. The creation of branches allows for the simultaneous existence of various versions of a project. This proves beneficial when incorporating new features into a project without altering the primary source code. Changes made in different branches remain isolated from the main branch until a later stage when merging is addressed. Branches provide a space for experimentation and editing before finalizing changes \n",
    "and committing them to the main branch.\n",
    "\n",
    "When branching off the main branch, we essentially create a duplicate or snapshot of the main branch as it existed at that specific moment. If someone else modifies the main branch while you are developing your branch, you have the option to incorporate those updates."
   ]
  },
  {
   "cell_type": "markdown",
   "id": "330cb641",
   "metadata": {},
   "source": [
    "To create a new **branch**:\n",
    "\n",
    "1) Click the dropdown menu beside the `main` branch.\n",
    "2) Type in a descriptive name in the field **\"Find or create a branch ...\"** shown below, for example called `test2`.\n",
    "3) Click on **\"Create branch **test2** from **main**\"**.\n",
    "\n",
    "Now there are two branches, `main` and `test2` that are exactly the same. \n",
    "\n",
    "<img width=\"650\" src=\"images/img4.png\">"
   ]
  },
  {
   "cell_type": "markdown",
   "id": "1143408e",
   "metadata": {},
   "source": [
    "### Opening a Pull Request\n",
    "\n",
    "An example of a flow diagram for making changes to a branch is depicted in the next figure, showing the `'main'` branch, a new branch called `'feature'`, and the path of the `'feature'` branch before it is merged into the `'main'` branch.\n",
    "\n",
    "<img width=\"850\" src=\"images/img3.webp\">\n",
    "\n",
    "**Pull requests** are the main form of collaboration on GitHub. When you open a pull request, you are proposing your changes to the repository, and requesting that someone review and pull in your contribution and merge them into their branch. \n",
    "\n",
    "You can open a pull request and start a discussion as soon as you make changes to your branch, even before the code is finished. By using GitHub's `@mention` feature in the pull request message, you can ask for feedback from specific people or teams, regardless of whether they are down the hall or 10 time zones away.\n",
    "\n",
    "Pull requests show the differences (short: diffs) in the content from both branches. The changes, additions, and subtractions between the branches are shown in different colors.\n",
    "\n",
    "To create a **pull request**:\n",
    "\n",
    "1) Click the **\"Pull requests\"** tab in the top menu of the repository.\n",
    "2) Click on the **\"New pull request\"** button.\n",
    "3) In the **\"Compare changes\"** box, select the new branch with changes that you made to compare with the main branch. For instance, select the base branch `main` and compare it with the `test2` branch. \n",
    "4) Look over your changes in the diffs on the **\"Comparing changes\"** page, and make sure they are what you want to submit.\n",
    "5) Click **\"Create pull request\"**.\n",
    "6) Give your pull request a title and write a brief description of your changes. Optionally, to the right click the button next to Reviewers, Assignees, Labels, Projects, or Milestone to add any of these options to your pull request. These options are optional, but they provide additional ways to organize and collaborate on pull requests. \n",
    "8) Click **\"Create pull request\"**.  \n"
   ]
  },
  {
   "cell_type": "markdown",
   "id": "aaf66b2e",
   "metadata": {},
   "source": [
    "### Merging a Pull Request\n",
    "\n",
    "When you merge your pull request, the changes on your branch will be incorporated into main.\n",
    "\n",
    "Sometimes, a pull request may introduce changes to code that conflict with the existing code on the `main` branch. If there are any conflicts, GitHub will alert you about the conflicting code and prevent merging until the conflicts are resolved. You can make a commit that resolves the conflicts or use comments in the pull request to discuss the conflicts with your team members.\n",
    "\n",
    "To merge your branch into the main branch:\n",
    "\n",
    "1) At the bottom of the pull request, click **\"Merge pull request\"** to merge the changes into main.\n",
    "2) Click **\"Confirm merge\"**. You will receive a message that the request was successfully merged and the request was closed.\n",
    "\n",
    "Now that your pull request is merged and your changes are on main, you can safely delete the branch with the edits by clicking on the **\"Delete branch\"** button in the merging pull request message. \n",
    "\n",
    "If you need to make further changes, simply create a new branch and repeat the same workflow."
   ]
  },
  {
   "cell_type": "markdown",
   "id": "04d3f4d0",
   "metadata": {},
   "source": [
    "## Working with a Local Git Repository\n",
    "\n",
    "This section explains how to use Git from the command line interface (CLI) to download a GitHub repository to our computer, make local changes, and then upload those changes back to GitHub.\n",
    "\n",
    "1) Download and install Git from [link](https://git-scm.com/downloads).\n",
    "\n",
    "2) After installation, open **Command Prompt**, **Terminal**, or **Git Bash**. The preferred shell is **Git Bash**, which comes installed with Git for Windows. It is a Unix-style shell that emulates a Linux terminal.\n",
    "\n",
    "3) Configure your Git identity by providing your GitHub username and email address. This is done only once when you begin using Git. \n",
    "```\n",
    "git config --global user.name \"username\"\n",
    "git config --global user.email \"youremailaddress@example.com\"\n",
    "```\n",
    "Verify your settings.\n",
    "```\n",
    "git config --list\n",
    "```"
   ]
  },
  {
   "cell_type": "markdown",
   "id": "568937ac-0cc9-41f6-b69f-6c40a35f0bec",
   "metadata": {},
   "source": [
    "4) Clone an existing repository from GitHub. Go to the repository’s GitHub page (e.g., Hello World repository that we created above), and copy the URL (`https://github.com/avakanski/hello-world`). Run the following command in Git Bash, to download the repository to your home directory. \n",
    "```\n",
    "git clone https://github.com/avakanski/hello-world.git\n",
    "```\n",
    "Then move into your local project folder.\n",
    "```\n",
    "cd hello-world\n",
    "```"
   ]
  },
  {
   "cell_type": "markdown",
   "id": "9abfdf5a-ad8e-4411-99d1-695056f1cd85",
   "metadata": {},
   "source": [
    "5) Make local changes to the files. For instance, we can edit the README file using VS Code, and save the file. \n",
    "\n",
    "6) Stage (prepare) the changes for commit. The `.` (dot) indicates to add files in the current directory. \n",
    "```\n",
    "git add .\n",
    "```\n",
    "Commit your changes and include a descriptive message.\n",
    "\n",
    "```\n",
    "git commit -m \"Changed the README file\"\n",
    "```\n",
    "7) Check repository status, to see which files have changed.\n",
    "```\n",
    "git status\n",
    "```"
   ]
  },
  {
   "cell_type": "markdown",
   "id": "838889d5-160c-48f6-9e19-628510ae2cab",
   "metadata": {},
   "source": [
    "8) Pull the latest changes from the remote branch on GitHub (recommended step), to make sure your local repository is up-to-date with GitHub. By default, Git assigns the name `origin` to the remote repository on GitHub, and the name `main` to the local changes.\n",
    "```\n",
    "git pull origin main \n",
    "```\n",
    "9) Push your changes to GitHub. This code uploads your local commits to the GitHub repository.\n",
    "```\n",
    "git push origin main\n",
    "```\n",
    "10) Verify your changes at the repository page on GitHub. Your updates should now appear online."
   ]
  },
  {
   "cell_type": "markdown",
   "id": "18bd2f40-994c-47fd-baae-9b3adb41b630",
   "metadata": {},
   "source": [
    "#### Working with a New Branch\n",
    "\n",
    "The following commands provide an example of making changes on a separate branch.\n",
    "\n",
    "To create a new branch called `test3`:\n",
    "```\n",
    "git checkout -b test3\n",
    "```\n",
    "\n",
    "Make changes to the local files, and afterward stage and commit them:\n",
    "```\n",
    "git add .\n",
    "git commit -m \"Add a new branch test3\"\n",
    "```\n",
    "\n",
    "Push the new branch to GitHub:\n",
    "```\n",
    "git push origin test3\n",
    "```\n",
    "\n",
    "Then open a **Pull Request** on GitHub to merge the new branch `test3` into `main`."
   ]
  },
  {
   "cell_type": "markdown",
   "id": "bbc4313f",
   "metadata": {},
   "source": [
    "### References\n",
    "\n",
    "1) Hello world. GitHub Docs. (n.d.). https://docs.github.com/en/get-started/quickstart/hello-world\n",
    "2) H. F., Campion. An intro to Git and GitHub for beginners (tutorial). HubSpot Careers. https://product.hubspot.com/blog/git-and-github-tutorial-for-beginners \n",
    "3) Ajibola.Segunemmanuel. (2022, September 27). How to use Git and GitHub – Introduction for Beginners. freeCodeCamp.org. https://www.freecodecamp.org/news/introduction-to-git-and-github/\n",
    "4) Git tutorial. (n.d.). https://www.w3schools.com/git/ "
   ]
  },
  {
   "cell_type": "markdown",
   "id": "c72dbe56-6788-4046-b073-cd68ad712bfb",
   "metadata": {},
   "source": [
    "[BACK TO TOP](#top)"
   ]
  }
 ],
 "metadata": {
  "kernelspec": {
   "display_name": "Python 3 (ipykernel)",
   "language": "python",
   "name": "python3"
  },
  "language_info": {
   "codemirror_mode": {
    "name": "ipython",
    "version": 3
   },
   "file_extension": ".py",
   "mimetype": "text/x-python",
   "name": "python",
   "nbconvert_exporter": "python",
   "pygments_lexer": "ipython3",
   "version": "3.11.13"
  }
 },
 "nbformat": 4,
 "nbformat_minor": 5
}

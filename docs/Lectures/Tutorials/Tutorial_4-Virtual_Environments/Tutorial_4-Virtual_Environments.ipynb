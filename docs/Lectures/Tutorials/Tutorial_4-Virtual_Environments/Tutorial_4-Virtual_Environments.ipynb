{
 "cells": [
  {
   "cell_type": "markdown",
   "id": "4af86da0-f38d-462f-beb4-e904c4a8ae8c",
   "metadata": {
    "tags": []
   },
   "source": [
    "# Tutorial 4 - Virtual Environments"
   ]
  },
  {
   "cell_type": "markdown",
   "id": "7e944bab-fa36-484f-be2a-624716cf5cd1",
   "metadata": {},
   "source": [
    "[![View notebook on Github](https://img.shields.io/static/v1.svg?logo=github&label=Repo&message=View%20On%20Github&color=lightgrey)](https://github.com/avakanski/Fall-2025-Applied-Data-Science-with-Python/blob/main/docs/Lectures/Tutorials/Tutorial_4-Virtual_Environments/Tutorial_4-Virtual_Environments.ipynb)\n",
    "[![Open In Collab](https://colab.research.google.com/assets/colab-badge.svg)](https://colab.research.google.com/github/avakanski/Fall-2025-Applied-Data-Science-with-Python/blob/main/docs/Lectures/Tutorials/Tutorial_4-Virtual_Environments/Tutorial_4-Virtual_Environments.ipynb)  "
   ]
  },
  {
   "cell_type": "markdown",
   "id": "3fe2d54d-463e-4ec7-8543-5b47d42e12c8",
   "metadata": {},
   "source": [
    "<a id='top'></a>"
   ]
  },
  {
   "cell_type": "markdown",
   "id": "182c44d2",
   "metadata": {},
   "source": [
    "A **virtual environment** is a tool that helps to keep dependencies required by different projects separate by creating isolated containers for each project. Within each environment, the Python interpreter, libraries, and scripts are independent and isolated from the libraries and packages that are installed in the main Python installation.\n",
    "\n",
    "Therefore, when we create and activate a virtual environment for a specific project, the project runs as an independent application with its own Python interpreter and its own `pip` for installing packages. This prevents conflicts between projects and protects the global Python installation from accidental changes.\n",
    "\n",
    "Using separate environments ensures that updates to a library in one project do not affect others, making it easier to reproduce results and collaborate on large projects. For example, one project can use TensorFlow 1.12 while another uses TensorFlow 2.5, without compatibility issues. This way, we won't worry whether an update to the TensorFlow library in the main system-installed Python would impact the code in all our projects.\n",
    "\n",
    "There are several tools for managing virtual environments, including Python's built-in `venv` module which has been available since Python 3.3, and also Anaconda offers a similar feature through its conda environments. Both allow to maintain separate package versions for different projects. Whenever you start a new project, you can simply create a new virtual environment to keep its dependencies isolated."
   ]
  },
  {
   "cell_type": "markdown",
   "id": "c33f19a0-0944-48a3-ae45-f51376ca9091",
   "metadata": {},
   "source": [
    "## Python `venv` Module"
   ]
  },
  {
   "cell_type": "markdown",
   "id": "cacf2b06",
   "metadata": {},
   "source": [
    "The module `venv` is typically included in the standard Python library, and does not require to be installed.\n",
    "\n",
    "If for some reason it is not available on Linux systems, you will need to install the python3-venv package using the following command :\n",
    "\n",
    "`sudo apt install python3-venv` (Ubuntu/Debian-based system)\n",
    "\n",
    "- The full official documentation for `venv` can be found [here](https://docs.python.org/3/library/venv.html)\n",
    "- The full official user guide for `venv` can be found [here](https://packaging.python.org/en/latest/guides/installing-using-pip-and-virtual-environments/#creating-a-virtual-environment)\n",
    "- The PEP proposal for `venv` can be found [here](https://peps.python.org/pep-0405/)\n",
    "\n",
    "If you are looking for practical examples, it is recommended to consult the user guide. However, if you are looking for more information about specific details of `venv`, consulting the full documentation is recommended."
   ]
  },
  {
   "cell_type": "markdown",
   "id": "be0ccb1b-bb7b-4af6-a91e-7642107ab73b",
   "metadata": {
    "tags": []
   },
   "source": [
    "### Creating a Virtual Environment with `venv`\n",
    "\n",
    "To create a virtual environment called `test_env`, run the following command:\n",
    "\n",
    "`python3 -m venv test_env` (in Unix/MacOS)\n",
    "\n",
    "`python -m venv test_env` (in Windows)\n",
    "\n",
    "<img src=\"images/venv_cmd.png\" width=\"350\">"
   ]
  },
  {
   "cell_type": "markdown",
   "id": "7ff1b21e-e344-480b-9bd1-536185549bcb",
   "metadata": {},
   "source": [
    "The above code creates a folder `test_env` with sub-folders `Scripts`, `Lib`, `Include`, and creates a copy of the current Python executable `python.exe` inside `Scipts`. It also creates a sub-folder `site-packages` inside `Lib` where the packages installed inside the virtual environment will be stored, keeping them isolated from the main Anaconda installation."
   ]
  },
  {
   "cell_type": "markdown",
   "id": "9521c82b",
   "metadata": {},
   "source": [
    "<img src=\"images/test_env.png\" width=\"400\">"
   ]
  },
  {
   "cell_type": "markdown",
   "id": "72c7a5c2-6f91-4926-a701-b804e34cfb5d",
   "metadata": {},
   "source": [
    "If we want to create a virtual environment in a different directory, we can specify the `path_to_new_virtual_environment`:\n",
    "\n",
    "`python3 -m venv path_to_new_virtual_environment/test_env` (in Unix/MacOS)\n",
    "\n",
    "`python -m venv path_to_new_virtual_environment\\test_env` (in Windows)"
   ]
  },
  {
   "cell_type": "markdown",
   "id": "04d09c54",
   "metadata": {},
   "source": [
    "### Activating a Virtual Environment\n",
    "\n",
    "Before we can start installing packages in the virtual environment, we must activate it. Doing so will put the virtual environment-specific Python and pip executables in your shell's `PATH`.\n",
    "\n",
    "To activate a virtual environment `test_env`, run the following command: \n",
    "\n",
    "`source test_env/bin/activate` (in Unix/MacOS)\n",
    "\n",
    "`test_env\\Scripts\\activate` (in Windows)\n",
    "\n",
    "Notice that the environment name `(test_env)` is listed now before the directory path, with the name enclosed in parentheses.\n",
    "\n",
    "<img src=\"images/activate_env.png\" width=\"350\">"
   ]
  },
  {
   "cell_type": "markdown",
   "id": "dcf0bf73",
   "metadata": {},
   "source": [
    "\n",
    "To confirm that the virtual environment has been activated you can check the location of your Python interpreter:\n",
    "\n",
    "`which python` or `whereis python` (in Unix/MacOS)\n",
    "\n",
    "`where python` (in Windows)\n",
    "\n",
    "As long as the environment is active, you'll be able to import packages installed in the environment.\n",
    "\n",
    "To leave the environment run:\n",
    "\n",
    "`deactivate`\n",
    "\n",
    "<img src=\"images/deactivate_env.png\" width=\"350\">"
   ]
  },
  {
   "cell_type": "markdown",
   "id": "17c004ef",
   "metadata": {},
   "source": [
    "### Installing and Managing Packages\n",
    "\n",
    "To install packages, first make sure that the environment is active. Installing packages is done simply with with `pip`, as you would normally install packages. For example, to install `requests` (a popular  library for making HTTP requests):\n",
    "\n",
    "`python3 -m pip install requests` (in Unix/MacOS)\n",
    "\n",
    "`pip install requests` (in Windows)\n",
    "\n",
    "To check the list of all packages installed in the newly created virtual environment, use:\n",
    "\n",
    "`pip list`\n",
    "\n",
    "To check the Python version in the newly created virtual environment, use:\n",
    "\n",
    "`python --version`\n",
    "\n",
    "Similarly, we can generate a text file listing all installed libraries in a virtual environment with:\n",
    "\n",
    "`pip freeze > requirements.txt`\n",
    "\n",
    "This can be convenient, because if other users would like to replicate your virtual environment, instead of installing all libraries one by one, they can just run:\n",
    "\n",
    "`pip install -r requirements.txt`"
   ]
  },
  {
   "cell_type": "markdown",
   "id": "6a40459a-913b-4858-a35d-598ce5662aa2",
   "metadata": {},
   "source": [
    "### Delete a Virtual Environment"
   ]
  },
  {
   "cell_type": "markdown",
   "id": "1e90f70a-9390-447c-a594-4e1b8feb6ec5",
   "metadata": {},
   "source": [
    "To delete a virtual environment, if the environment is currently active, first deactivate it with `deactivate`.\n",
    "\n",
    "Then, to completely remove a virtual environment, just delete the folder `test_env` either manually, or with:\n",
    "\n",
    "`rm -rf test_env` (in Unix/MacOS)\n",
    "\n",
    "`rmdir /s /q test_env` (in Windows)"
   ]
  },
  {
   "cell_type": "markdown",
   "id": "1de89109",
   "metadata": {},
   "source": [
    "## Conda Environment \n",
    "\n",
    "`Conda Env` is a self-contained and isolated workspace within the Conda package management system, similar to `venv`. It allows to create and manage specific environments for different projects or applications, each with its own set of packages and dependencies. \n",
    "\n",
    "The full official documentation for `Conda Env` can be found [here](https://conda.io/projects/conda/en/latest/user-guide/tasks/manage-environments.html#creating-an-environment-with-commands).\n",
    "\n",
    "`Conda Env` is pre-installed with Anaconda."
   ]
  },
  {
   "cell_type": "markdown",
   "id": "f9b2614f",
   "metadata": {},
   "source": [
    "### Creating a Conda Environment\n",
    "\n",
    "1) Open the terminal or an Anaconda Prompt. Note that the default environment in Anaconda is `(base)` environment. This environment is where `conda` itself is installed.\n",
    "2) To create a new environment, use: `conda create --name myenv`, where `myenv` is the name of the environment. \n",
    "3) Press `y` to proceed.\n",
    "\n",
    "<img src=\"images/conda_env.png\" width=\"450\">"
   ]
  },
  {
   "cell_type": "markdown",
   "id": "4c27479c-58c8-4fa9-88e2-6ab4c0c6db81",
   "metadata": {},
   "source": [
    "The above will create a new directory `myenv` in `anaconda3\\envs`, however without Python interpreter and without any packages. \n",
    "\n",
    "If we specify the Python version when creating a new environment, this will add `python`, `pip`, and several other packages. \n",
    "\n",
    "`conda create --name myenv python=3.13`\n",
    "\n",
    "Alternatively, we can first create an environment, and install Python and other packages afterwards.\n",
    "\n",
    "Or, we can also duplicate the `base` environment if we wish to, so that the new environment has all installed packages from the `base` environment, using:\n",
    "\n",
    "`conda create --name myenv --clone base`\n",
    "\n",
    "Afterward, the two environments are independent, and installing a new package in `myenv` will not affect the `base` environment."
   ]
  },
  {
   "cell_type": "markdown",
   "id": "b77ea692",
   "metadata": {},
   "source": [
    "### Activating a Conda Environment\n",
    "\n",
    "To activate a `Conda Env`, type:\n",
    "\n",
    "`conda activate myenv`\n",
    "\n",
    "Activating a conda environment modifies the path to point to the specific isolated container we created. The command prompt will change to indicate which conda environment we currently are in by prepending `(myenv)`.\n",
    "\n",
    "To list all installed conda environments, type: \n",
    "\n",
    "`conda env list`\n",
    "\n",
    "In the displayed list of environments, an asterisk `*` will indicate the currently activated environment. \n",
    "\n",
    "To deactivate the `Conda Env` you are in and end the session in the current environment, type:\n",
    "\n",
    "`conda deactivate`\n",
    "\n",
    "This will revert the active environment to `base` environment.\n",
    "\n",
    "<img src=\"images/conda_act.png\" width=\"350\">"
   ]
  },
  {
   "cell_type": "markdown",
   "id": "5f79c74d",
   "metadata": {},
   "source": [
    "### Manage Packages in a Conda Env\n",
    "\n",
    "To list all installed packages in a conda environment, type:\n",
    "\n",
    "`conda list`\n",
    "\n",
    "To install a package, for example `numpy`, type:\n",
    "\n",
    "`conda install numpy`\n",
    "\n",
    "Or, you can use `pip install` as in: \n",
    "\n",
    "`pip install numpy`\n",
    "\n",
    "The main difference between using `conda install` and `pip install` is in the dependency resolution approach.\n",
    "\n",
    "* `conda install`: conda has a more powerful dependency resolution mechanism. It ensures that all dependencies (both Python and non-Python) are compatible with each other.\n",
    "It often prevents conflicting versions by resolving the entire environment when installing or updating packages.\n",
    "* `pip install`: pip only handles Python dependencies and doesn’t handle system or non-Python libraries.\n",
    "Installing packages with pip can sometimes result in dependency conflicts, especially if different packages require incompatible versions of the same dependency."
   ]
  },
  {
   "cell_type": "markdown",
   "id": "4396f8ff-20c6-4953-81ec-74b876d8a52b",
   "metadata": {},
   "source": [
    "We can install multiple packages as in:\n",
    "\n",
    "`conda install numpy pandas matplotlib`\n",
    "\n",
    "To install a package from a specific source, like a URL addres, use:\n",
    "\n",
    "`conda install --channel url_address package_name`\n",
    "\n",
    "To install a package not available in Anaconda's library, use the following code:\n",
    "\n",
    "`conda install -c conda-forge package_name`\n",
    "\n",
    "It instructs to install a package from a specific channel called `conda-forge` instead of using only the default channels. Here, `-c` is short for `--channel` where a channel is a repository of pre-built conda packages. `conda-forge` is a large community-maintained channel with more and newer packages than the default `conda` channel, including many scientific data science tools.\n",
    "\n",
    "To remove a package, for example `numpy`, use:\n",
    "\n",
    "`conda remove numpy`\n",
    "\n",
    "To save package list inside a `requirements.txt` file (similar to `pip freeze`), use:\n",
    "\n",
    "`conda list --export > requirements.txt`\n",
    "\n",
    "Alternatively, save package list inside an `environment.yaml` file with:\n",
    "\n",
    "`conda env export > environment.yaml`\n",
    "\n",
    "The files `requirements.txt` or `environment.yaml` can afterward be used to create a new environment with installed packages, using: \n",
    "\n",
    "`conda create --name myenv --file requirements.txt`"
   ]
  },
  {
   "cell_type": "markdown",
   "id": "564e40bc-07c4-4eb9-beb1-889ea4b495d9",
   "metadata": {},
   "source": [
    "### Delete a Conda Environment"
   ]
  },
  {
   "cell_type": "markdown",
   "id": "10dbfc11-79c5-49e9-8992-32f61b9e5aea",
   "metadata": {},
   "source": [
    "To delete a conda environment, use:\n",
    "\n",
    "`conda remove --name myenv --all`"
   ]
  },
  {
   "cell_type": "markdown",
   "id": "f53041d5-b029-48c6-8759-085e68f74fbd",
   "metadata": {
    "tags": []
   },
   "source": [
    "[BACK TO TOP](#top)"
   ]
  }
 ],
 "metadata": {
  "kernelspec": {
   "display_name": "Python 3 (ipykernel)",
   "language": "python",
   "name": "python3"
  },
  "language_info": {
   "codemirror_mode": {
    "name": "ipython",
    "version": 3
   },
   "file_extension": ".py",
   "mimetype": "text/x-python",
   "name": "python",
   "nbconvert_exporter": "python",
   "pygments_lexer": "ipython3",
   "version": "3.13.5"
  }
 },
 "nbformat": 4,
 "nbformat_minor": 5
}
